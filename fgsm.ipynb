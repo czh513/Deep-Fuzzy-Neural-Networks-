{
  "nbformat": 4,
  "nbformat_minor": 0,
  "metadata": {
    "kernelspec": {
      "display_name": "conda-env-newlogic-py",
      "language": "python",
      "name": "conda-env-newlogic-py"
    },
    "language_info": {
      "codemirror_mode": {
        "name": "ipython",
        "version": 3
      },
      "file_extension": ".py",
      "mimetype": "text/x-python",
      "name": "python",
      "nbconvert_exporter": "python",
      "pygments_lexer": "ipython3",
      "version": "3.6.9"
    },
    "colab": {
      "name": "adversarial.ipynb",
      "provenance": []
    },
    "accelerator": "GPU"
  },
  "cells": [
    {
      "cell_type": "code",
      "metadata": {
        "id": "1moux5E_LJwM",
        "colab_type": "code",
        "colab": {
          "base_uri": "https://localhost:8080/",
          "height": 124
        },
        "outputId": "55d5737b-7c75-41ee-811d-ef35254bdb7f"
      },
      "source": [
        "from google.colab import drive\n",
        "drive.mount('/content/gdrive')"
      ],
      "execution_count": 1,
      "outputs": [
        {
          "output_type": "stream",
          "text": [
            "Go to this URL in a browser: https://accounts.google.com/o/oauth2/auth?client_id=947318989803-6bn6qk8qdgf4n4g3pfee6491hc0brc4i.apps.googleusercontent.com&redirect_uri=urn%3Aietf%3Awg%3Aoauth%3A2.0%3Aoob&scope=email%20https%3A%2F%2Fwww.googleapis.com%2Fauth%2Fdocs.test%20https%3A%2F%2Fwww.googleapis.com%2Fauth%2Fdrive%20https%3A%2F%2Fwww.googleapis.com%2Fauth%2Fdrive.photos.readonly%20https%3A%2F%2Fwww.googleapis.com%2Fauth%2Fpeopleapi.readonly&response_type=code\n",
            "\n",
            "Enter your authorization code:\n",
            "··········\n",
            "Mounted at /content/gdrive\n"
          ],
          "name": "stdout"
        }
      ]
    },
    {
      "cell_type": "code",
      "metadata": {
        "id": "A3tWqwP6LqNu",
        "colab_type": "code",
        "outputId": "ff09bd55-c610-4f60-eb0b-95ebf1924fdd",
        "colab": {
          "base_uri": "https://localhost:8080/",
          "height": 1000
        }
      },
      "source": [
        "!pip install cleverhans==3.0.1 tensorflow==1.8.0"
      ],
      "execution_count": 2,
      "outputs": [
        {
          "output_type": "stream",
          "text": [
            "Collecting cleverhans==3.0.1\n",
            "\u001b[?25l  Downloading https://files.pythonhosted.org/packages/ac/a0/f0b4386b719f343c4ed3e13cd7792a7a7a4674566ca9b2b34a09b7424220/cleverhans-3.0.1-py3-none-any.whl (198kB)\n",
            "\r\u001b[K     |█▋                              | 10kB 15.1MB/s eta 0:00:01\r\u001b[K     |███▎                            | 20kB 4.2MB/s eta 0:00:01\r\u001b[K     |█████                           | 30kB 6.0MB/s eta 0:00:01\r\u001b[K     |██████▋                         | 40kB 3.9MB/s eta 0:00:01\r\u001b[K     |████████▎                       | 51kB 4.8MB/s eta 0:00:01\r\u001b[K     |██████████                      | 61kB 5.6MB/s eta 0:00:01\r\u001b[K     |███████████▋                    | 71kB 6.4MB/s eta 0:00:01\r\u001b[K     |█████████████▎                  | 81kB 7.2MB/s eta 0:00:01\r\u001b[K     |██████████████▉                 | 92kB 7.9MB/s eta 0:00:01\r\u001b[K     |████████████████▌               | 102kB 6.3MB/s eta 0:00:01\r\u001b[K     |██████████████████▏             | 112kB 6.3MB/s eta 0:00:01\r\u001b[K     |███████████████████▉            | 122kB 6.3MB/s eta 0:00:01\r\u001b[K     |█████████████████████▌          | 133kB 6.3MB/s eta 0:00:01\r\u001b[K     |███████████████████████▏        | 143kB 6.3MB/s eta 0:00:01\r\u001b[K     |████████████████████████▉       | 153kB 6.3MB/s eta 0:00:01\r\u001b[K     |██████████████████████████▌     | 163kB 6.3MB/s eta 0:00:01\r\u001b[K     |████████████████████████████    | 174kB 6.3MB/s eta 0:00:01\r\u001b[K     |█████████████████████████████▊  | 184kB 6.3MB/s eta 0:00:01\r\u001b[K     |███████████████████████████████▍| 194kB 6.3MB/s eta 0:00:01\r\u001b[K     |████████████████████████████████| 204kB 6.3MB/s \n",
            "\u001b[?25hCollecting tensorflow==1.8.0\n",
            "\u001b[?25l  Downloading https://files.pythonhosted.org/packages/22/c6/d08f7c549330c2acc1b18b5c1f0f8d9d2af92f54d56861f331f372731671/tensorflow-1.8.0-cp36-cp36m-manylinux1_x86_64.whl (49.1MB)\n",
            "\u001b[K     |████████████████████████████████| 49.1MB 24.8MB/s \n",
            "\u001b[?25hCollecting nose (from cleverhans==3.0.1)\n",
            "\u001b[?25l  Downloading https://files.pythonhosted.org/packages/15/d8/dd071918c040f50fa1cf80da16423af51ff8ce4a0f2399b7bf8de45ac3d9/nose-1.3.7-py3-none-any.whl (154kB)\n",
            "\u001b[K     |████████████████████████████████| 163kB 38.1MB/s \n",
            "\u001b[?25hCollecting pycodestyle (from cleverhans==3.0.1)\n",
            "\u001b[?25l  Downloading https://files.pythonhosted.org/packages/0e/0c/04a353e104d2f324f8ee5f4b32012618c1c86dd79e52a433b64fceed511b/pycodestyle-2.5.0-py2.py3-none-any.whl (51kB)\n",
            "\u001b[K     |████████████████████████████████| 51kB 21.7MB/s \n",
            "\u001b[?25hRequirement already satisfied: tensorflow-probability in /usr/local/lib/python3.6/dist-packages (from cleverhans==3.0.1) (0.7.0)\n",
            "Requirement already satisfied: numpy in /usr/local/lib/python3.6/dist-packages (from cleverhans==3.0.1) (1.16.5)\n",
            "Collecting mnist~=0.2 (from cleverhans==3.0.1)\n",
            "  Downloading https://files.pythonhosted.org/packages/c6/c4/5db3bfe009f8d71f1d532bbadbd0ec203764bba3a469e4703a889db8e5e0/mnist-0.2.2-py2.py3-none-any.whl\n",
            "Requirement already satisfied: matplotlib in /usr/local/lib/python3.6/dist-packages (from cleverhans==3.0.1) (3.0.3)\n",
            "Requirement already satisfied: scipy in /usr/local/lib/python3.6/dist-packages (from cleverhans==3.0.1) (1.3.1)\n",
            "Requirement already satisfied: termcolor>=1.1.0 in /usr/local/lib/python3.6/dist-packages (from tensorflow==1.8.0) (1.1.0)\n",
            "Requirement already satisfied: gast>=0.2.0 in /usr/local/lib/python3.6/dist-packages (from tensorflow==1.8.0) (0.2.2)\n",
            "Requirement already satisfied: astor>=0.6.0 in /usr/local/lib/python3.6/dist-packages (from tensorflow==1.8.0) (0.8.0)\n",
            "Requirement already satisfied: grpcio>=1.8.6 in /usr/local/lib/python3.6/dist-packages (from tensorflow==1.8.0) (1.15.0)\n",
            "Requirement already satisfied: wheel>=0.26 in /usr/local/lib/python3.6/dist-packages (from tensorflow==1.8.0) (0.33.6)\n",
            "Requirement already satisfied: absl-py>=0.1.6 in /usr/local/lib/python3.6/dist-packages (from tensorflow==1.8.0) (0.8.0)\n",
            "Requirement already satisfied: protobuf>=3.4.0 in /usr/local/lib/python3.6/dist-packages (from tensorflow==1.8.0) (3.7.1)\n",
            "Collecting tensorboard<1.9.0,>=1.8.0 (from tensorflow==1.8.0)\n",
            "\u001b[?25l  Downloading https://files.pythonhosted.org/packages/59/a6/0ae6092b7542cfedba6b2a1c9b8dceaf278238c39484f3ba03b03f07803c/tensorboard-1.8.0-py3-none-any.whl (3.1MB)\n",
            "\u001b[K     |████████████████████████████████| 3.1MB 38.5MB/s \n",
            "\u001b[?25hRequirement already satisfied: six>=1.10.0 in /usr/local/lib/python3.6/dist-packages (from tensorflow==1.8.0) (1.12.0)\n",
            "Requirement already satisfied: decorator in /usr/local/lib/python3.6/dist-packages (from tensorflow-probability->cleverhans==3.0.1) (4.4.0)\n",
            "Requirement already satisfied: cloudpickle>=0.6.1 in /usr/local/lib/python3.6/dist-packages (from tensorflow-probability->cleverhans==3.0.1) (0.6.1)\n",
            "Requirement already satisfied: python-dateutil>=2.1 in /usr/local/lib/python3.6/dist-packages (from matplotlib->cleverhans==3.0.1) (2.5.3)\n",
            "Requirement already satisfied: cycler>=0.10 in /usr/local/lib/python3.6/dist-packages (from matplotlib->cleverhans==3.0.1) (0.10.0)\n",
            "Requirement already satisfied: kiwisolver>=1.0.1 in /usr/local/lib/python3.6/dist-packages (from matplotlib->cleverhans==3.0.1) (1.1.0)\n",
            "Requirement already satisfied: pyparsing!=2.0.4,!=2.1.2,!=2.1.6,>=2.0.1 in /usr/local/lib/python3.6/dist-packages (from matplotlib->cleverhans==3.0.1) (2.4.2)\n",
            "Requirement already satisfied: setuptools in /usr/local/lib/python3.6/dist-packages (from protobuf>=3.4.0->tensorflow==1.8.0) (41.2.0)\n",
            "Requirement already satisfied: markdown>=2.6.8 in /usr/local/lib/python3.6/dist-packages (from tensorboard<1.9.0,>=1.8.0->tensorflow==1.8.0) (3.1.1)\n",
            "Collecting html5lib==0.9999999 (from tensorboard<1.9.0,>=1.8.0->tensorflow==1.8.0)\n",
            "\u001b[?25l  Downloading https://files.pythonhosted.org/packages/ae/ae/bcb60402c60932b32dfaf19bb53870b29eda2cd17551ba5639219fb5ebf9/html5lib-0.9999999.tar.gz (889kB)\n",
            "\u001b[K     |████████████████████████████████| 890kB 42.5MB/s \n",
            "\u001b[?25hCollecting bleach==1.5.0 (from tensorboard<1.9.0,>=1.8.0->tensorflow==1.8.0)\n",
            "  Downloading https://files.pythonhosted.org/packages/33/70/86c5fec937ea4964184d4d6c4f0b9551564f821e1c3575907639036d9b90/bleach-1.5.0-py2.py3-none-any.whl\n",
            "Requirement already satisfied: werkzeug>=0.11.10 in /usr/local/lib/python3.6/dist-packages (from tensorboard<1.9.0,>=1.8.0->tensorflow==1.8.0) (0.16.0)\n",
            "Building wheels for collected packages: html5lib\n",
            "  Building wheel for html5lib (setup.py) ... \u001b[?25l\u001b[?25hdone\n",
            "  Created wheel for html5lib: filename=html5lib-0.9999999-cp36-none-any.whl size=107221 sha256=a04823efa73f6867faa44a80e9b9220d7d7986e87bcc81f073c219583e3ace6b\n",
            "  Stored in directory: /root/.cache/pip/wheels/50/ae/f9/d2b189788efcf61d1ee0e36045476735c838898eef1cad6e29\n",
            "Successfully built html5lib\n",
            "\u001b[31mERROR: magenta 0.3.19 has requirement tensorflow>=1.12.0, but you'll have tensorflow 1.8.0 which is incompatible.\u001b[0m\n",
            "Installing collected packages: nose, pycodestyle, mnist, cleverhans, html5lib, bleach, tensorboard, tensorflow\n",
            "  Found existing installation: html5lib 1.0.1\n",
            "    Uninstalling html5lib-1.0.1:\n",
            "      Successfully uninstalled html5lib-1.0.1\n",
            "  Found existing installation: bleach 3.1.0\n",
            "    Uninstalling bleach-3.1.0:\n",
            "      Successfully uninstalled bleach-3.1.0\n",
            "  Found existing installation: tensorboard 1.15.0\n",
            "    Uninstalling tensorboard-1.15.0:\n",
            "      Successfully uninstalled tensorboard-1.15.0\n",
            "  Found existing installation: tensorflow 1.15.0rc3\n",
            "    Uninstalling tensorflow-1.15.0rc3:\n",
            "      Successfully uninstalled tensorflow-1.15.0rc3\n",
            "Successfully installed bleach-1.5.0 cleverhans-3.0.1 html5lib-0.9999999 mnist-0.2.2 nose-1.3.7 pycodestyle-2.5.0 tensorboard-1.8.0 tensorflow-1.8.0\n"
          ],
          "name": "stdout"
        }
      ]
    },
    {
      "cell_type": "code",
      "metadata": {
        "id": "IWxFKKVpLmpT",
        "colab_type": "code",
        "colab": {}
      },
      "source": [
        "home_dir = '/content/gdrive/My Drive/Colab Notebooks/newlogic'\n",
        "import sys\n",
        "sys.path.append(home_dir)"
      ],
      "execution_count": 0,
      "outputs": []
    },
    {
      "cell_type": "code",
      "metadata": {
        "id": "szro2IayLIGD",
        "colab_type": "code",
        "colab": {}
      },
      "source": [
        "import tensorflow as tf\n",
        "import numpy as np\n",
        "from tqdm import tqdm"
      ],
      "execution_count": 0,
      "outputs": []
    },
    {
      "cell_type": "code",
      "metadata": {
        "id": "Ki1VwwcOLIGO",
        "colab_type": "code",
        "colab": {}
      },
      "source": [
        "from cleverhans.attacks import FastGradientMethod\n",
        "from cleverhans.model import CallableModelWrapper\n",
        "from cleverhans.utils import AccuracyReport\n",
        "from cleverhans.utils_pytorch import convert_pytorch_model_to_tf"
      ],
      "execution_count": 0,
      "outputs": []
    },
    {
      "cell_type": "code",
      "metadata": {
        "id": "QaQk8lCRLIGW",
        "colab_type": "code",
        "colab": {}
      },
      "source": [
        "import torch\n",
        "from torchvision import datasets, transforms"
      ],
      "execution_count": 0,
      "outputs": []
    },
    {
      "cell_type": "code",
      "metadata": {
        "id": "-CvDCtZeLIGe",
        "colab_type": "code",
        "colab": {}
      },
      "source": [
        "BATCH_SIZE = 128"
      ],
      "execution_count": 0,
      "outputs": []
    },
    {
      "cell_type": "code",
      "metadata": {
        "id": "YY4R_zTzLIGl",
        "colab_type": "code",
        "colab": {}
      },
      "source": [
        "def evaluate_model(path):\n",
        "    torch_model_orig = torch.load(path)\n",
        "    torch_model = lambda x: torch_model_orig(x)[0] # to standard format\n",
        "    with tf.Session() as sess:\n",
        "        x_op = tf.placeholder(tf.float32, shape=(None, 1, 28, 28,))    \n",
        "        tf_model_fn = convert_pytorch_model_to_tf(torch_model, out_dims=10)    \n",
        "        cleverhans_model = CallableModelWrapper(tf_model_fn, output_layer='logits')\n",
        "        # Create an FGSM attack\n",
        "        fgsm_op = FastGradientMethod(cleverhans_model, sess=sess)\n",
        "        fgsm_params = {'eps': 0.3, 'clip_min': 0., 'clip_max': 1.}\n",
        "        adv_x_op = fgsm_op.generate(x_op, **fgsm_params)\n",
        "        adv_preds_op = tf_model_fn(adv_x_op)\n",
        "        test_loader = torch.utils.data.DataLoader(\n",
        "          datasets.MNIST(home_dir + '/mnist', train=False, transform=transforms.ToTensor()),\n",
        "          batch_size=BATCH_SIZE)\n",
        "        # Run an evaluation of our model against fgsm\n",
        "        total = 0\n",
        "        correct = 0\n",
        "        for xs, ys in tqdm(test_loader):\n",
        "            adv_preds = sess.run(adv_preds_op, feed_dict={x_op: xs})\n",
        "            correct += (np.argmax(adv_preds, axis=1) == ys.cpu().detach().numpy()).sum()\n",
        "            total += test_loader.batch_size\n",
        "    acc = float(correct) / total\n",
        "    print('Adv accuracy: {:.3f}'.format(acc * 100))"
      ],
      "execution_count": 0,
      "outputs": []
    },
    {
      "cell_type": "code",
      "metadata": {
        "id": "qGKYiqL0LIG2",
        "colab_type": "code",
        "outputId": "296e3504-388d-440b-a52a-501d548a70a8",
        "colab": {
          "base_uri": "https://localhost:8080/",
          "height": 52
        }
      },
      "source": [
        "evaluate_model(home_dir + '/output/cnn-mnist-relu.pkl')"
      ],
      "execution_count": 13,
      "outputs": [
        {
          "output_type": "stream",
          "text": [
            "100%|██████████| 79/79 [00:02<00:00, 30.72it/s]"
          ],
          "name": "stderr"
        },
        {
          "output_type": "stream",
          "text": [
            "Adv accuracy: 9.108\n"
          ],
          "name": "stdout"
        },
        {
          "output_type": "stream",
          "text": [
            "\n"
          ],
          "name": "stderr"
        }
      ]
    },
    {
      "cell_type": "code",
      "metadata": {
        "id": "Te8IUTImLIHA",
        "colab_type": "code",
        "colab": {
          "base_uri": "https://localhost:8080/",
          "height": 52
        },
        "outputId": "2f9cf14f-ed36-4ff6-8023-c8f7d38702cf"
      },
      "source": [
        "evaluate_model(home_dir + '/output/cnn-mnist-relu-strictening_0.1.pkl')"
      ],
      "execution_count": 14,
      "outputs": [
        {
          "output_type": "stream",
          "text": [
            "100%|██████████| 79/79 [00:02<00:00, 33.17it/s]"
          ],
          "name": "stderr"
        },
        {
          "output_type": "stream",
          "text": [
            "Adv accuracy: 14.290\n"
          ],
          "name": "stdout"
        },
        {
          "output_type": "stream",
          "text": [
            "\n"
          ],
          "name": "stderr"
        }
      ]
    },
    {
      "cell_type": "code",
      "metadata": {
        "id": "fVn_J-dxLIHH",
        "colab_type": "code",
        "outputId": "b1dbba68-810d-4314-8be5-d03ce65a553b",
        "colab": {
          "base_uri": "https://localhost:8080/",
          "height": 52
        }
      },
      "source": [
        "evaluate_model(home_dir + '/output/cnn-mnist-relu-strictening_5.pkl')"
      ],
      "execution_count": 15,
      "outputs": [
        {
          "output_type": "stream",
          "text": [
            "100%|██████████| 79/79 [00:02<00:00, 33.05it/s]"
          ],
          "name": "stderr"
        },
        {
          "output_type": "stream",
          "text": [
            "Adv accuracy: 26.048\n"
          ],
          "name": "stdout"
        },
        {
          "output_type": "stream",
          "text": [
            "\n"
          ],
          "name": "stderr"
        }
      ]
    },
    {
      "cell_type": "code",
      "metadata": {
        "id": "Uigu_Q2dLIHh",
        "colab_type": "code",
        "outputId": "83abacb8-7713-4cb7-f7ae-c080f3bf5000",
        "colab": {
          "base_uri": "https://localhost:8080/",
          "height": 52
        }
      },
      "source": [
        "evaluate_model(home_dir + '/output/cnn-mnist-relog.pkl')"
      ],
      "execution_count": 16,
      "outputs": [
        {
          "output_type": "stream",
          "text": [
            "100%|██████████| 79/79 [00:02<00:00, 29.35it/s]"
          ],
          "name": "stderr"
        },
        {
          "output_type": "stream",
          "text": [
            "Adv accuracy: 49.318\n"
          ],
          "name": "stdout"
        },
        {
          "output_type": "stream",
          "text": [
            "\n"
          ],
          "name": "stderr"
        }
      ]
    },
    {
      "cell_type": "code",
      "metadata": {
        "id": "SooexXWZLIIP",
        "colab_type": "code",
        "outputId": "791c614f-8642-4d4e-8cc0-c1e5c49bd7b7",
        "colab": {
          "base_uri": "https://localhost:8080/",
          "height": 52
        }
      },
      "source": [
        "evaluate_model(home_dir + '/output/cnn-mnist-relog-more-neurons.pkl')"
      ],
      "execution_count": 17,
      "outputs": [
        {
          "output_type": "stream",
          "text": [
            "100%|██████████| 79/79 [00:04<00:00, 16.21it/s]"
          ],
          "name": "stderr"
        },
        {
          "output_type": "stream",
          "text": [
            "Adv accuracy: 51.839\n"
          ],
          "name": "stdout"
        },
        {
          "output_type": "stream",
          "text": [
            "\n"
          ],
          "name": "stderr"
        }
      ]
    },
    {
      "cell_type": "code",
      "metadata": {
        "id": "8QsYrUi2LIIo",
        "colab_type": "code",
        "outputId": "2a4a3fb6-c47a-4d06-9399-4aa0698a873d",
        "colab": {
          "base_uri": "https://localhost:8080/",
          "height": 52
        }
      },
      "source": [
        "evaluate_model(home_dir + '/output/cnn-mnist-relog-maxout.pkl')"
      ],
      "execution_count": 18,
      "outputs": [
        {
          "output_type": "stream",
          "text": [
            "100%|██████████| 79/79 [00:04<00:00, 19.49it/s]"
          ],
          "name": "stderr"
        },
        {
          "output_type": "stream",
          "text": [
            "Adv accuracy: 72.468\n"
          ],
          "name": "stdout"
        },
        {
          "output_type": "stream",
          "text": [
            "\n"
          ],
          "name": "stderr"
        }
      ]
    },
    {
      "cell_type": "code",
      "metadata": {
        "id": "2PpWIxQVLII2",
        "colab_type": "code",
        "outputId": "df9e06da-ecf8-4530-92de-06e8ca71654a",
        "colab": {
          "base_uri": "https://localhost:8080/",
          "height": 52
        }
      },
      "source": [
        "evaluate_model(home_dir + '/output/cnn-mnist-relog-maxout-sigmoid-out.pkl')"
      ],
      "execution_count": 19,
      "outputs": [
        {
          "output_type": "stream",
          "text": [
            "100%|██████████| 79/79 [00:03<00:00, 22.79it/s]"
          ],
          "name": "stderr"
        },
        {
          "output_type": "stream",
          "text": [
            "Adv accuracy: 78.550\n"
          ],
          "name": "stdout"
        },
        {
          "output_type": "stream",
          "text": [
            "\n"
          ],
          "name": "stderr"
        }
      ]
    },
    {
      "cell_type": "code",
      "metadata": {
        "id": "bz_OkCS5LII_",
        "colab_type": "code",
        "outputId": "b7a9c902-471e-4f78-ec47-0f1f60a818bd",
        "colab": {
          "base_uri": "https://localhost:8080/",
          "height": 52
        }
      },
      "source": [
        "evaluate_model(home_dir + '/output/cnn-mnist-relog-minmaxout_4_2-sigmoid-out.pkl')"
      ],
      "execution_count": 21,
      "outputs": [
        {
          "output_type": "stream",
          "text": [
            "100%|██████████| 79/79 [00:06<00:00, 12.97it/s]"
          ],
          "name": "stderr"
        },
        {
          "output_type": "stream",
          "text": [
            "Adv accuracy: 90.872\n"
          ],
          "name": "stdout"
        },
        {
          "output_type": "stream",
          "text": [
            "\n"
          ],
          "name": "stderr"
        }
      ]
    },
    {
      "cell_type": "code",
      "metadata": {
        "id": "Tjp27xyoLIJH",
        "colab_type": "code",
        "outputId": "557612d2-e832-4820-d5bc-f44eadf3ca9d",
        "colab": {
          "base_uri": "https://localhost:8080/",
          "height": 52
        }
      },
      "source": [
        "evaluate_model(home_dir + '/output/cnn-mnist-relog-minmaxout_4_2-sigmoid-out-strictening_1.pkl')"
      ],
      "execution_count": 22,
      "outputs": [
        {
          "output_type": "stream",
          "text": [
            "100%|██████████| 79/79 [00:06<00:00, 12.78it/s]"
          ],
          "name": "stderr"
        },
        {
          "output_type": "stream",
          "text": [
            "Adv accuracy: 58.169\n"
          ],
          "name": "stdout"
        },
        {
          "output_type": "stream",
          "text": [
            "\n"
          ],
          "name": "stderr"
        }
      ]
    },
    {
      "cell_type": "code",
      "metadata": {
        "id": "YaOKlQHdLIJP",
        "colab_type": "code",
        "colab": {
          "base_uri": "https://localhost:8080/",
          "height": 52
        },
        "outputId": "ac7a4798-aef5-42b3-86c9-9a2d441528d5"
      },
      "source": [
        "evaluate_model(home_dir + '/output/cnn-mnist-relog-minmaxout_4_2-sigmoid-out-strictening_0.1.pkl')"
      ],
      "execution_count": 23,
      "outputs": [
        {
          "output_type": "stream",
          "text": [
            "100%|██████████| 79/79 [00:06<00:00, 12.76it/s]"
          ],
          "name": "stderr"
        },
        {
          "output_type": "stream",
          "text": [
            "Adv accuracy: 82.842\n"
          ],
          "name": "stdout"
        },
        {
          "output_type": "stream",
          "text": [
            "\n"
          ],
          "name": "stderr"
        }
      ]
    },
    {
      "cell_type": "code",
      "metadata": {
        "id": "jiwt3tepLIJU",
        "colab_type": "code",
        "colab": {
          "base_uri": "https://localhost:8080/",
          "height": 52
        },
        "outputId": "8f71e8c5-9097-45be-a444-d49fafb4f73b"
      },
      "source": [
        "evaluate_model(home_dir + '/output/cnn-mnist-relog-minmaxout_4_2-sigmoid-out-strictening_0.01.pkl')"
      ],
      "execution_count": 25,
      "outputs": [
        {
          "output_type": "stream",
          "text": [
            "100%|██████████| 79/79 [00:06<00:00, 12.77it/s]"
          ],
          "name": "stderr"
        },
        {
          "output_type": "stream",
          "text": [
            "Adv accuracy: 88.172\n"
          ],
          "name": "stdout"
        },
        {
          "output_type": "stream",
          "text": [
            "\n"
          ],
          "name": "stderr"
        }
      ]
    },
    {
      "cell_type": "code",
      "metadata": {
        "id": "Etb-oC-duly9",
        "colab_type": "code",
        "colab": {
          "base_uri": "https://localhost:8080/",
          "height": 52
        },
        "outputId": "4f3cd41e-3c1b-4f92-d370-ddc6046d833e"
      },
      "source": [
        "evaluate_model(home_dir + '/output/cnn-mnist-relog-minmaxout_4_2-sigmoid-out-strictening_0.001.pkl')"
      ],
      "execution_count": 29,
      "outputs": [
        {
          "output_type": "stream",
          "text": [
            "100%|██████████| 79/79 [00:06<00:00, 12.72it/s]"
          ],
          "name": "stderr"
        },
        {
          "output_type": "stream",
          "text": [
            "Adv accuracy: 89.003\n"
          ],
          "name": "stdout"
        },
        {
          "output_type": "stream",
          "text": [
            "\n"
          ],
          "name": "stderr"
        }
      ]
    },
    {
      "cell_type": "code",
      "metadata": {
        "id": "6wIbPr1Uv9hW",
        "colab_type": "code",
        "colab": {}
      },
      "source": [
        ""
      ],
      "execution_count": 0,
      "outputs": []
    }
  ]
}