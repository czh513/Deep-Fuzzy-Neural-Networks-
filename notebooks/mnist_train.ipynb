{
  "nbformat": 4,
  "nbformat_minor": 0,
  "metadata": {
    "kernelspec": {
      "name": "python3",
      "display_name": "Python 3"
    },
    "colab": {
      "name": "mnist-train.ipynb",
      "provenance": [],
      "collapsed_sections": []
    },
    "accelerator": "GPU"
  },
  "cells": [
    {
      "cell_type": "code",
      "metadata": {
        "id": "WQ-JmrywljQE",
        "colab_type": "code",
        "outputId": "0e286ade-7d97-4c55-89b2-0f9f618e7e05",
        "colab": {
          "base_uri": "https://localhost:8080/",
          "height": 124
        }
      },
      "source": [
        "from google.colab import drive\n",
        "drive.mount('/content/gdrive')"
      ],
      "execution_count": 1,
      "outputs": [
        {
          "output_type": "stream",
          "text": [
            "Go to this URL in a browser: https://accounts.google.com/o/oauth2/auth?client_id=947318989803-6bn6qk8qdgf4n4g3pfee6491hc0brc4i.apps.googleusercontent.com&redirect_uri=urn%3Aietf%3Awg%3Aoauth%3A2.0%3Aoob&scope=email%20https%3A%2F%2Fwww.googleapis.com%2Fauth%2Fdocs.test%20https%3A%2F%2Fwww.googleapis.com%2Fauth%2Fdrive%20https%3A%2F%2Fwww.googleapis.com%2Fauth%2Fdrive.photos.readonly%20https%3A%2F%2Fwww.googleapis.com%2Fauth%2Fpeopleapi.readonly&response_type=code\n",
            "\n",
            "Enter your authorization code:\n",
            "··········\n",
            "Mounted at /content/gdrive\n"
          ],
          "name": "stdout"
        }
      ]
    },
    {
      "cell_type": "code",
      "metadata": {
        "id": "l9es4xVYli_W",
        "colab_type": "code",
        "colab": {}
      },
      "source": [
        "home_dir = '/content/gdrive/My Drive/Colab Notebooks/newlogic'\n",
        "import sys\n",
        "sys.path.append(home_dir)"
      ],
      "execution_count": 0,
      "outputs": []
    },
    {
      "cell_type": "code",
      "metadata": {
        "id": "WkJov5-flb6h",
        "colab_type": "code",
        "colab": {}
      },
      "source": [
        "import os"
      ],
      "execution_count": 0,
      "outputs": []
    },
    {
      "cell_type": "code",
      "metadata": {
        "id": "3kf-_Ts9GUGx",
        "colab_type": "code",
        "outputId": "42b3889c-24c6-4e67-b93a-d7c9d4f7a646",
        "colab": {
          "base_uri": "https://localhost:8080/",
          "height": 34
        }
      },
      "source": [
        "from train import TrainingService\n",
        "ts = TrainingService(home_dir)"
      ],
      "execution_count": 4,
      "outputs": [
        {
          "output_type": "stream",
          "text": [
            "Using device: cuda\n"
          ],
          "name": "stdout"
        }
      ]
    },
    {
      "cell_type": "code",
      "metadata": {
        "id": "M3vqkulhSScX",
        "colab_type": "code",
        "colab": {}
      },
      "source": [
        "models = [\n",
        "    {'name': 'cnn-mnist-relu'},\n",
        "    {'name': 'cnn-mnist-relu-kernel', 'use_quadratic_kernel': True},\n",
        "    {'name': 'cnn-mnist-relu-maxfit_l1_01_05', 'regularization': 'max-fit', \n",
        "     'l1': 0.1, 'bias_l1': 0.5},\n",
        "    {'name': 'cnn-mnist-relu-maxfit_l2_01_05', 'regularization': 'max-fit', \n",
        "     'l2': 0.1, 'bias_l2': 0.5},\n",
        "    {'name': 'cnn-mnist-relu-maxmargin_l1_01_05', 'regularization': 'max-margin', \n",
        "     'l1': 0.1},\n",
        "    {'name': 'cnn-mnist-relu-maxmargin_l2_01_05', 'regularization': 'max-margin', \n",
        "     'l2': 0.1},\n",
        "    {'name': 'cnn-mnist-relog', 'use_relog': True},\n",
        "    {'name': 'cnn-mnist-relog-more-neurons', 'use_relog': True, \n",
        "     'conv1_out_channels': 64, 'conv2_out_channels': 128},\n",
        "    {'name': 'cnn-mnist-relog-maxout_2', 'use_relog': True, 'use_maxout': 'max', \n",
        "     'max_folding_factor': 2},\n",
        "    {'name': 'cnn-mnist-relog-minmaxout_4_2', 'use_relog': True, 'use_maxout': 'minmax', \n",
        "     'max_folding_factor': 2, 'min_folding_factor': 4},\n",
        "    {'name': 'cnn-mnist-relog-minmaxout_4_2-sigmoid_out', 'use_relog': True, \n",
        "     'use_maxout': 'minmax', 'max_folding_factor': 2, 'min_folding_factor': 4, \n",
        "     'use_sigmoid_out': True},\n",
        "    {'name': 'cnn-mnist-relog-minmaxout_4_2-sigmoid_out-max_margin', 'use_relog': True, \n",
        "     'use_maxout': 'minmax', 'max_folding_factor': 2, 'min_folding_factor': 4, \n",
        "     'use_sigmoid_out': True, 'regularization': 'max-margin', 'l2': 0.1},\n",
        "    {'name': 'cnn-mnist-relog-kernel-minmaxout_4_2-sigmoid_out-max_margin', \n",
        "     'use_relog': True, 'use_quadratic_kernel': True,\n",
        "     'use_maxout': 'minmax', 'max_folding_factor': 2, 'min_folding_factor': 4, \n",
        "     'use_sigmoid_out': True, 'regularization': 'max-margin', 'l2': 0.1},\n",
        "]"
      ],
      "execution_count": 0,
      "outputs": []
    },
    {
      "cell_type": "code",
      "metadata": {
        "id": "WEpk7b3gaQWe",
        "colab_type": "code",
        "colab": {}
      },
      "source": [
        "import pandas as pd"
      ],
      "execution_count": 0,
      "outputs": []
    },
    {
      "cell_type": "code",
      "metadata": {
        "id": "Zz-A5yaNaQKI",
        "colab_type": "code",
        "colab": {}
      },
      "source": [
        "pd.DataFrame(models).to_csv(home_dir + '/mnist-models.csv', index=False)"
      ],
      "execution_count": 0,
      "outputs": []
    },
    {
      "cell_type": "code",
      "metadata": {
        "id": "9AT1HBXxaNkU",
        "colab_type": "code",
        "colab": {
          "base_uri": "https://localhost:8080/",
          "height": 1000
        },
        "outputId": "a71b4844-eb64-4551-b707-587346b1e374"
      },
      "source": [
        "%%time\n",
        "for model in models:\n",
        "    ts.build_and_train_cnn(**model)"
      ],
      "execution_count": 12,
      "outputs": [
        {
          "output_type": "stream",
          "text": [
            "CNN(\n",
            "  (conv1): Sequential(\n",
            "    (0): Conv2d(1, 16, kernel_size=(5, 5), stride=(1, 1), padding=(2, 2))\n",
            "    (1): ReLU(inplace=True)\n",
            "    (2): MaxPool2d(kernel_size=2, stride=2, padding=0, dilation=1, ceil_mode=False)\n",
            "  )\n",
            "  (conv2): Sequential(\n",
            "    (0): Conv2d(16, 32, kernel_size=(5, 5), stride=(1, 1), padding=(2, 2))\n",
            "    (1): ReLU(inplace=True)\n",
            "    (2): MaxPool2d(kernel_size=2, stride=2, padding=0, dilation=1, ceil_mode=False)\n",
            "  )\n",
            "  (out): Sequential(\n",
            "    (0): Linear(in_features=1568, out_features=10, bias=True)\n",
            "  )\n",
            ")\n",
            "Epoch:  0 | train loss: 0.4686 | test accuracy: 0.90\n",
            "Epoch:  0 | train loss: 0.3693 | test accuracy: 0.93\n",
            "Epoch:  0 | train loss: 0.2020 | test accuracy: 0.95\n",
            "Epoch:  0 | train loss: 0.1011 | test accuracy: 0.96\n",
            "Epoch:  0 | train loss: 0.1576 | test accuracy: 0.96\n",
            "Epoch:  1 | train loss: 0.4074 | test accuracy: 0.97\n",
            "Epoch:  1 | train loss: 0.1372 | test accuracy: 0.97\n",
            "Epoch:  1 | train loss: 0.1857 | test accuracy: 0.98\n",
            "Epoch:  1 | train loss: 0.1911 | test accuracy: 0.98\n",
            "Epoch:  1 | train loss: 0.2301 | test accuracy: 0.98\n"
          ],
          "name": "stdout"
        },
        {
          "output_type": "stream",
          "text": [
            "/usr/local/lib/python3.6/dist-packages/torch/serialization.py:292: UserWarning: Couldn't retrieve source code for container of type CNN. It won't be checked for correctness upon loading.\n",
            "  \"type \" + obj.__name__ + \". It won't be checked \"\n",
            "/usr/local/lib/python3.6/dist-packages/torch/serialization.py:292: UserWarning: Couldn't retrieve source code for container of type Sequential. It won't be checked for correctness upon loading.\n",
            "  \"type \" + obj.__name__ + \". It won't be checked \"\n",
            "/usr/local/lib/python3.6/dist-packages/torch/serialization.py:292: UserWarning: Couldn't retrieve source code for container of type Conv2d. It won't be checked for correctness upon loading.\n",
            "  \"type \" + obj.__name__ + \". It won't be checked \"\n",
            "/usr/local/lib/python3.6/dist-packages/torch/serialization.py:292: UserWarning: Couldn't retrieve source code for container of type ReLU. It won't be checked for correctness upon loading.\n",
            "  \"type \" + obj.__name__ + \". It won't be checked \"\n",
            "/usr/local/lib/python3.6/dist-packages/torch/serialization.py:292: UserWarning: Couldn't retrieve source code for container of type MaxPool2d. It won't be checked for correctness upon loading.\n",
            "  \"type \" + obj.__name__ + \". It won't be checked \"\n",
            "/usr/local/lib/python3.6/dist-packages/torch/serialization.py:292: UserWarning: Couldn't retrieve source code for container of type Linear. It won't be checked for correctness upon loading.\n",
            "  \"type \" + obj.__name__ + \". It won't be checked \"\n"
          ],
          "name": "stderr"
        },
        {
          "output_type": "stream",
          "text": [
            "Model saved to /content/gdrive/My Drive/Colab Notebooks/newlogic/output/cnn-mnist-relu.pkl\n",
            "CNN(\n",
            "  (conv1): Sequential(\n",
            "    (0): QuadraticKernel()\n",
            "    (1): Conv2d(2, 16, kernel_size=(5, 5), stride=(1, 1), padding=(2, 2))\n",
            "    (2): ReLU(inplace=True)\n",
            "    (3): MaxPool2d(kernel_size=2, stride=2, padding=0, dilation=1, ceil_mode=False)\n",
            "  )\n",
            "  (conv2): Sequential(\n",
            "    (0): QuadraticKernel()\n",
            "    (1): Conv2d(32, 32, kernel_size=(5, 5), stride=(1, 1), padding=(2, 2))\n",
            "    (2): ReLU(inplace=True)\n",
            "    (3): MaxPool2d(kernel_size=2, stride=2, padding=0, dilation=1, ceil_mode=False)\n",
            "  )\n",
            "  (out): Sequential(\n",
            "    (0): QuadraticKernel()\n",
            "    (1): Linear(in_features=3136, out_features=10, bias=True)\n",
            "  )\n",
            ")\n",
            "Epoch:  0 | train loss: 0.2742 | test accuracy: 0.94\n",
            "Epoch:  0 | train loss: 0.2119 | test accuracy: 0.95\n",
            "Epoch:  0 | train loss: 0.2681 | test accuracy: 0.97\n",
            "Epoch:  0 | train loss: 0.1495 | test accuracy: 0.97\n",
            "Epoch:  0 | train loss: 0.2148 | test accuracy: 0.99\n",
            "Epoch:  1 | train loss: 0.1035 | test accuracy: 0.98\n",
            "Epoch:  1 | train loss: 0.2571 | test accuracy: 0.98\n",
            "Epoch:  1 | train loss: 0.1253 | test accuracy: 0.98\n",
            "Epoch:  1 | train loss: 0.1680 | test accuracy: 0.98\n",
            "Epoch:  1 | train loss: 0.2527 | test accuracy: 0.98\n"
          ],
          "name": "stdout"
        },
        {
          "output_type": "stream",
          "text": [
            "/usr/local/lib/python3.6/dist-packages/torch/serialization.py:292: UserWarning: Couldn't retrieve source code for container of type QuadraticKernel. It won't be checked for correctness upon loading.\n",
            "  \"type \" + obj.__name__ + \". It won't be checked \"\n"
          ],
          "name": "stderr"
        },
        {
          "output_type": "stream",
          "text": [
            "Model saved to /content/gdrive/My Drive/Colab Notebooks/newlogic/output/cnn-mnist-relu-kernel.pkl\n",
            "CNN(\n",
            "  (conv1): Sequential(\n",
            "    (0): Conv2d(1, 16, kernel_size=(5, 5), stride=(1, 1), padding=(2, 2))\n",
            "    (1): ReLU(inplace=True)\n",
            "    (2): MaxPool2d(kernel_size=2, stride=2, padding=0, dilation=1, ceil_mode=False)\n",
            "  )\n",
            "  (conv2): Sequential(\n",
            "    (0): Conv2d(16, 32, kernel_size=(5, 5), stride=(1, 1), padding=(2, 2))\n",
            "    (1): ReLU(inplace=True)\n",
            "    (2): MaxPool2d(kernel_size=2, stride=2, padding=0, dilation=1, ceil_mode=False)\n",
            "  )\n",
            "  (out): Sequential(\n",
            "    (0): Linear(in_features=1568, out_features=10, bias=True)\n",
            "  )\n",
            ")\n",
            "Epoch:  0 | train loss: 0.5451 | test accuracy: 0.90\n",
            "Epoch:  0 | train loss: 0.1572 | test accuracy: 0.93\n",
            "Epoch:  0 | train loss: -0.0858 | test accuracy: 0.96\n",
            "Epoch:  0 | train loss: -0.3086 | test accuracy: 0.96\n",
            "Epoch:  0 | train loss: -0.4215 | test accuracy: 0.96\n",
            "Epoch:  1 | train loss: -0.3043 | test accuracy: 0.96\n",
            "Epoch:  1 | train loss: -0.6694 | test accuracy: 0.97\n",
            "Epoch:  1 | train loss: -0.7763 | test accuracy: 0.97\n",
            "Epoch:  1 | train loss: -0.8216 | test accuracy: 0.97\n",
            "Epoch:  1 | train loss: -1.0241 | test accuracy: 0.98\n",
            "Model saved to /content/gdrive/My Drive/Colab Notebooks/newlogic/output/cnn-mnist-relu-maxfit_l1_01_05.pkl\n",
            "CNN(\n",
            "  (conv1): Sequential(\n",
            "    (0): Conv2d(1, 16, kernel_size=(5, 5), stride=(1, 1), padding=(2, 2))\n",
            "    (1): ReLU(inplace=True)\n",
            "    (2): MaxPool2d(kernel_size=2, stride=2, padding=0, dilation=1, ceil_mode=False)\n",
            "  )\n",
            "  (conv2): Sequential(\n",
            "    (0): Conv2d(16, 32, kernel_size=(5, 5), stride=(1, 1), padding=(2, 2))\n",
            "    (1): ReLU(inplace=True)\n",
            "    (2): MaxPool2d(kernel_size=2, stride=2, padding=0, dilation=1, ceil_mode=False)\n",
            "  )\n",
            "  (out): Sequential(\n",
            "    (0): Linear(in_features=1568, out_features=10, bias=True)\n",
            "  )\n",
            ")\n",
            "Epoch:  0 | train loss: 0.5657 | test accuracy: 0.90\n",
            "Epoch:  0 | train loss: 0.4024 | test accuracy: 0.94\n",
            "Epoch:  0 | train loss: 0.1659 | test accuracy: 0.96\n",
            "Epoch:  0 | train loss: 0.1730 | test accuracy: 0.96\n",
            "Epoch:  0 | train loss: 0.1601 | test accuracy: 0.97\n",
            "Epoch:  1 | train loss: 0.1800 | test accuracy: 0.97\n",
            "Epoch:  1 | train loss: -0.0321 | test accuracy: 0.97\n",
            "Epoch:  1 | train loss: -0.0948 | test accuracy: 0.97\n",
            "Epoch:  1 | train loss: 0.0416 | test accuracy: 0.98\n",
            "Epoch:  1 | train loss: -0.3643 | test accuracy: 0.98\n",
            "Model saved to /content/gdrive/My Drive/Colab Notebooks/newlogic/output/cnn-mnist-relu-maxfit_l2_01_05.pkl\n",
            "CNN(\n",
            "  (conv1): Sequential(\n",
            "    (0): Conv2d(1, 16, kernel_size=(5, 5), stride=(1, 1), padding=(2, 2))\n",
            "    (1): ReLU(inplace=True)\n",
            "    (2): MaxPool2d(kernel_size=2, stride=2, padding=0, dilation=1, ceil_mode=False)\n",
            "  )\n",
            "  (conv2): Sequential(\n",
            "    (0): Conv2d(16, 32, kernel_size=(5, 5), stride=(1, 1), padding=(2, 2))\n",
            "    (1): ReLU(inplace=True)\n",
            "    (2): MaxPool2d(kernel_size=2, stride=2, padding=0, dilation=1, ceil_mode=False)\n",
            "  )\n",
            "  (out): Sequential(\n",
            "    (0): Linear(in_features=1568, out_features=10, bias=True)\n",
            "  )\n",
            ")\n",
            "Epoch:  0 | train loss: 0.5367 | test accuracy: 0.90\n",
            "Epoch:  0 | train loss: 0.3976 | test accuracy: 0.93\n",
            "Epoch:  0 | train loss: 0.3350 | test accuracy: 0.95\n",
            "Epoch:  0 | train loss: 0.1832 | test accuracy: 0.96\n",
            "Epoch:  0 | train loss: 0.3058 | test accuracy: 0.97\n",
            "Epoch:  1 | train loss: 0.3171 | test accuracy: 0.97\n",
            "Epoch:  1 | train loss: 0.1980 | test accuracy: 0.97\n",
            "Epoch:  1 | train loss: 0.2580 | test accuracy: 0.97\n",
            "Epoch:  1 | train loss: 0.1741 | test accuracy: 0.98\n",
            "Epoch:  1 | train loss: 0.1840 | test accuracy: 0.98\n",
            "Model saved to /content/gdrive/My Drive/Colab Notebooks/newlogic/output/cnn-mnist-relu-maxmargin_l1_01_05.pkl\n",
            "CNN(\n",
            "  (conv1): Sequential(\n",
            "    (0): Conv2d(1, 16, kernel_size=(5, 5), stride=(1, 1), padding=(2, 2))\n",
            "    (1): ReLU(inplace=True)\n",
            "    (2): MaxPool2d(kernel_size=2, stride=2, padding=0, dilation=1, ceil_mode=False)\n",
            "  )\n",
            "  (conv2): Sequential(\n",
            "    (0): Conv2d(16, 32, kernel_size=(5, 5), stride=(1, 1), padding=(2, 2))\n",
            "    (1): ReLU(inplace=True)\n",
            "    (2): MaxPool2d(kernel_size=2, stride=2, padding=0, dilation=1, ceil_mode=False)\n",
            "  )\n",
            "  (out): Sequential(\n",
            "    (0): Linear(in_features=1568, out_features=10, bias=True)\n",
            "  )\n",
            ")\n",
            "Epoch:  0 | train loss: 0.6594 | test accuracy: 0.90\n",
            "Epoch:  0 | train loss: 0.4096 | test accuracy: 0.93\n",
            "Epoch:  0 | train loss: 0.2582 | test accuracy: 0.96\n",
            "Epoch:  0 | train loss: 0.1368 | test accuracy: 0.96\n",
            "Epoch:  0 | train loss: 0.1493 | test accuracy: 0.97\n",
            "Epoch:  1 | train loss: 0.4071 | test accuracy: 0.96\n",
            "Epoch:  1 | train loss: 0.2293 | test accuracy: 0.97\n",
            "Epoch:  1 | train loss: 0.1365 | test accuracy: 0.97\n",
            "Epoch:  1 | train loss: 0.1119 | test accuracy: 0.98\n",
            "Epoch:  1 | train loss: 0.1733 | test accuracy: 0.98\n",
            "Model saved to /content/gdrive/My Drive/Colab Notebooks/newlogic/output/cnn-mnist-relu-maxmargin_l2_01_05.pkl\n",
            "CNN(\n",
            "  (conv1): Sequential(\n",
            "    (0): Conv2d(1, 16, kernel_size=(5, 5), stride=(1, 1), padding=(2, 2))\n",
            "    (1): ReLog(n=10.00)\n",
            "    (2): MaxPool2d(kernel_size=2, stride=2, padding=0, dilation=1, ceil_mode=False)\n",
            "  )\n",
            "  (conv2): Sequential(\n",
            "    (0): Conv2d(16, 32, kernel_size=(5, 5), stride=(1, 1), padding=(2, 2))\n",
            "    (1): ReLog(n=10.00)\n",
            "    (2): MaxPool2d(kernel_size=2, stride=2, padding=0, dilation=1, ceil_mode=False)\n",
            "  )\n",
            "  (out): Sequential(\n",
            "    (0): Linear(in_features=1568, out_features=10, bias=True)\n",
            "  )\n",
            ")\n",
            "Epoch:  0 | train loss: 0.6499 | test accuracy: 0.87\n",
            "Epoch:  0 | train loss: 0.4595 | test accuracy: 0.92\n",
            "Epoch:  0 | train loss: 0.3643 | test accuracy: 0.95\n",
            "Epoch:  0 | train loss: 0.2224 | test accuracy: 0.95\n",
            "Epoch:  0 | train loss: 0.2180 | test accuracy: 0.96\n",
            "Epoch:  1 | train loss: 0.2838 | test accuracy: 0.97\n",
            "Epoch:  1 | train loss: 0.1962 | test accuracy: 0.96\n",
            "Epoch:  1 | train loss: 0.2032 | test accuracy: 0.97\n",
            "Epoch:  1 | train loss: 0.2392 | test accuracy: 0.97\n",
            "Epoch:  1 | train loss: 0.1821 | test accuracy: 0.97\n"
          ],
          "name": "stdout"
        },
        {
          "output_type": "stream",
          "text": [
            "/usr/local/lib/python3.6/dist-packages/torch/serialization.py:292: UserWarning: Couldn't retrieve source code for container of type ReLog. It won't be checked for correctness upon loading.\n",
            "  \"type \" + obj.__name__ + \". It won't be checked \"\n"
          ],
          "name": "stderr"
        },
        {
          "output_type": "stream",
          "text": [
            "Model saved to /content/gdrive/My Drive/Colab Notebooks/newlogic/output/cnn-mnist-relog.pkl\n",
            "CNN(\n",
            "  (conv1): Sequential(\n",
            "    (0): Conv2d(1, 64, kernel_size=(5, 5), stride=(1, 1), padding=(2, 2))\n",
            "    (1): ReLog(n=10.00)\n",
            "    (2): MaxPool2d(kernel_size=2, stride=2, padding=0, dilation=1, ceil_mode=False)\n",
            "  )\n",
            "  (conv2): Sequential(\n",
            "    (0): Conv2d(64, 128, kernel_size=(5, 5), stride=(1, 1), padding=(2, 2))\n",
            "    (1): ReLog(n=10.00)\n",
            "    (2): MaxPool2d(kernel_size=2, stride=2, padding=0, dilation=1, ceil_mode=False)\n",
            "  )\n",
            "  (out): Sequential(\n",
            "    (0): Linear(in_features=6272, out_features=10, bias=True)\n",
            "  )\n",
            ")\n",
            "Epoch:  0 | train loss: 0.5321 | test accuracy: 0.88\n",
            "Epoch:  0 | train loss: 0.3584 | test accuracy: 0.93\n",
            "Epoch:  0 | train loss: 0.3061 | test accuracy: 0.94\n",
            "Epoch:  0 | train loss: 0.1854 | test accuracy: 0.97\n",
            "Epoch:  0 | train loss: 0.2667 | test accuracy: 0.96\n",
            "Epoch:  1 | train loss: 0.3119 | test accuracy: 0.97\n",
            "Epoch:  1 | train loss: 0.1298 | test accuracy: 0.97\n",
            "Epoch:  1 | train loss: 0.2134 | test accuracy: 0.97\n",
            "Epoch:  1 | train loss: 0.2543 | test accuracy: 0.97\n",
            "Epoch:  1 | train loss: 0.0955 | test accuracy: 0.97\n",
            "Model saved to /content/gdrive/My Drive/Colab Notebooks/newlogic/output/cnn-mnist-relog-more-neurons.pkl\n",
            "CNN(\n",
            "  (conv1): Sequential(\n",
            "    (0): Conv2d(1, 32, kernel_size=(5, 5), stride=(1, 1), padding=(2, 2))\n",
            "    (1): FoldingMaxout(use_min=False, k=2)\n",
            "    (2): ReLog(n=10.00)\n",
            "    (3): MaxPool2d(kernel_size=2, stride=2, padding=0, dilation=1, ceil_mode=False)\n",
            "  )\n",
            "  (conv2): Sequential(\n",
            "    (0): Conv2d(16, 64, kernel_size=(5, 5), stride=(1, 1), padding=(2, 2))\n",
            "    (1): FoldingMaxout(use_min=False, k=2)\n",
            "    (2): ReLog(n=10.00)\n",
            "    (3): MaxPool2d(kernel_size=2, stride=2, padding=0, dilation=1, ceil_mode=False)\n",
            "  )\n",
            "  (out): Sequential(\n",
            "    (0): Linear(in_features=1568, out_features=20, bias=True)\n",
            "    (1): FoldingMaxout(use_min=False, k=2)\n",
            "  )\n",
            ")\n",
            "Epoch:  0 | train loss: 0.8717 | test accuracy: 0.87\n",
            "Epoch:  0 | train loss: 0.6022 | test accuracy: 0.93\n",
            "Epoch:  0 | train loss: 0.2072 | test accuracy: 0.94\n",
            "Epoch:  0 | train loss: 0.4176 | test accuracy: 0.96\n",
            "Epoch:  0 | train loss: 0.1498 | test accuracy: 0.97\n",
            "Epoch:  1 | train loss: 0.2487 | test accuracy: 0.97\n",
            "Epoch:  1 | train loss: 0.2649 | test accuracy: 0.97\n",
            "Epoch:  1 | train loss: 0.1486 | test accuracy: 0.97\n",
            "Epoch:  1 | train loss: 0.0864 | test accuracy: 0.97\n",
            "Epoch:  1 | train loss: 0.1188 | test accuracy: 0.97\n"
          ],
          "name": "stdout"
        },
        {
          "output_type": "stream",
          "text": [
            "/usr/local/lib/python3.6/dist-packages/torch/serialization.py:292: UserWarning: Couldn't retrieve source code for container of type FoldingMaxout. It won't be checked for correctness upon loading.\n",
            "  \"type \" + obj.__name__ + \". It won't be checked \"\n"
          ],
          "name": "stderr"
        },
        {
          "output_type": "stream",
          "text": [
            "Model saved to /content/gdrive/My Drive/Colab Notebooks/newlogic/output/cnn-mnist-relog-maxout_2.pkl\n",
            "CNN(\n",
            "  (conv1): Sequential(\n",
            "    (0): Conv2d(1, 128, kernel_size=(5, 5), stride=(1, 1), padding=(2, 2))\n",
            "    (1): FoldingMaxout(use_min=True, k=4)\n",
            "    (2): FoldingMaxout(use_min=False, k=2)\n",
            "    (3): ReLog(n=10.00)\n",
            "    (4): MaxPool2d(kernel_size=2, stride=2, padding=0, dilation=1, ceil_mode=False)\n",
            "  )\n",
            "  (conv2): Sequential(\n",
            "    (0): Conv2d(16, 256, kernel_size=(5, 5), stride=(1, 1), padding=(2, 2))\n",
            "    (1): FoldingMaxout(use_min=True, k=4)\n",
            "    (2): FoldingMaxout(use_min=False, k=2)\n",
            "    (3): ReLog(n=10.00)\n",
            "    (4): MaxPool2d(kernel_size=2, stride=2, padding=0, dilation=1, ceil_mode=False)\n",
            "  )\n",
            "  (out): Sequential(\n",
            "    (0): Linear(in_features=1568, out_features=80, bias=True)\n",
            "    (1): FoldingMaxout(use_min=True, k=4)\n",
            "    (2): FoldingMaxout(use_min=False, k=2)\n",
            "  )\n",
            ")\n",
            "Epoch:  0 | train loss: 0.4646 | test accuracy: 0.92\n",
            "Epoch:  0 | train loss: 0.2838 | test accuracy: 0.96\n",
            "Epoch:  0 | train loss: 0.2379 | test accuracy: 0.96\n",
            "Epoch:  0 | train loss: 0.2268 | test accuracy: 0.96\n",
            "Epoch:  0 | train loss: 0.3036 | test accuracy: 0.97\n",
            "Epoch:  1 | train loss: 0.1866 | test accuracy: 0.98\n",
            "Epoch:  1 | train loss: 0.2210 | test accuracy: 0.98\n",
            "Epoch:  1 | train loss: 0.3279 | test accuracy: 0.98\n",
            "Epoch:  1 | train loss: 0.1025 | test accuracy: 0.97\n",
            "Epoch:  1 | train loss: 0.1778 | test accuracy: 0.98\n",
            "Model saved to /content/gdrive/My Drive/Colab Notebooks/newlogic/output/cnn-mnist-relog-minmaxout_4_2.pkl\n",
            "CNN(\n",
            "  (conv1): Sequential(\n",
            "    (0): Conv2d(1, 128, kernel_size=(5, 5), stride=(1, 1), padding=(2, 2))\n",
            "    (1): FoldingMaxout(use_min=True, k=4)\n",
            "    (2): FoldingMaxout(use_min=False, k=2)\n",
            "    (3): ReLog(n=10.00)\n",
            "    (4): MaxPool2d(kernel_size=2, stride=2, padding=0, dilation=1, ceil_mode=False)\n",
            "  )\n",
            "  (conv2): Sequential(\n",
            "    (0): Conv2d(16, 256, kernel_size=(5, 5), stride=(1, 1), padding=(2, 2))\n",
            "    (1): FoldingMaxout(use_min=True, k=4)\n",
            "    (2): FoldingMaxout(use_min=False, k=2)\n",
            "    (3): ReLog(n=10.00)\n",
            "    (4): MaxPool2d(kernel_size=2, stride=2, padding=0, dilation=1, ceil_mode=False)\n",
            "  )\n",
            "  (out): Sequential(\n",
            "    (0): Linear(in_features=1568, out_features=80, bias=True)\n",
            "    (1): FoldingMaxout(use_min=True, k=4)\n",
            "    (2): FoldingMaxout(use_min=False, k=2)\n",
            "    (3): Sigmoid()\n",
            "  )\n",
            ")\n",
            "Epoch:  0 | train loss: 0.0465 | test accuracy: 0.83\n",
            "Epoch:  0 | train loss: 0.0254 | test accuracy: 0.94\n",
            "Epoch:  0 | train loss: 0.0197 | test accuracy: 0.96\n",
            "Epoch:  0 | train loss: 0.0151 | test accuracy: 0.96\n",
            "Epoch:  0 | train loss: 0.0161 | test accuracy: 0.97\n",
            "Epoch:  1 | train loss: 0.0115 | test accuracy: 0.98\n",
            "Epoch:  1 | train loss: 0.0113 | test accuracy: 0.98\n",
            "Epoch:  1 | train loss: 0.0132 | test accuracy: 0.98\n",
            "Epoch:  1 | train loss: 0.0096 | test accuracy: 0.97\n",
            "Epoch:  1 | train loss: 0.0127 | test accuracy: 0.98\n"
          ],
          "name": "stdout"
        },
        {
          "output_type": "stream",
          "text": [
            "/usr/local/lib/python3.6/dist-packages/torch/serialization.py:292: UserWarning: Couldn't retrieve source code for container of type Sigmoid. It won't be checked for correctness upon loading.\n",
            "  \"type \" + obj.__name__ + \". It won't be checked \"\n"
          ],
          "name": "stderr"
        },
        {
          "output_type": "stream",
          "text": [
            "Model saved to /content/gdrive/My Drive/Colab Notebooks/newlogic/output/cnn-mnist-relog-minmaxout_4_2-sigmoid_out.pkl\n",
            "CNN(\n",
            "  (conv1): Sequential(\n",
            "    (0): Conv2d(1, 128, kernel_size=(5, 5), stride=(1, 1), padding=(2, 2))\n",
            "    (1): FoldingMaxout(use_min=True, k=4)\n",
            "    (2): FoldingMaxout(use_min=False, k=2)\n",
            "    (3): ReLog(n=10.00)\n",
            "    (4): MaxPool2d(kernel_size=2, stride=2, padding=0, dilation=1, ceil_mode=False)\n",
            "  )\n",
            "  (conv2): Sequential(\n",
            "    (0): Conv2d(16, 256, kernel_size=(5, 5), stride=(1, 1), padding=(2, 2))\n",
            "    (1): FoldingMaxout(use_min=True, k=4)\n",
            "    (2): FoldingMaxout(use_min=False, k=2)\n",
            "    (3): ReLog(n=10.00)\n",
            "    (4): MaxPool2d(kernel_size=2, stride=2, padding=0, dilation=1, ceil_mode=False)\n",
            "  )\n",
            "  (out): Sequential(\n",
            "    (0): Linear(in_features=1568, out_features=80, bias=True)\n",
            "    (1): FoldingMaxout(use_min=True, k=4)\n",
            "    (2): FoldingMaxout(use_min=False, k=2)\n",
            "    (3): Sigmoid()\n",
            "  )\n",
            ")\n",
            "Epoch:  0 | train loss: 0.0576 | test accuracy: 0.80\n",
            "Epoch:  0 | train loss: 0.0265 | test accuracy: 0.92\n",
            "Epoch:  0 | train loss: 0.0184 | test accuracy: 0.96\n",
            "Epoch:  0 | train loss: 0.0219 | test accuracy: 0.96\n",
            "Epoch:  0 | train loss: 0.0188 | test accuracy: 0.97\n",
            "Epoch:  1 | train loss: 0.0088 | test accuracy: 0.98\n",
            "Epoch:  1 | train loss: 0.0108 | test accuracy: 0.97\n",
            "Epoch:  1 | train loss: 0.0154 | test accuracy: 0.97\n",
            "Epoch:  1 | train loss: 0.0056 | test accuracy: 0.97\n",
            "Epoch:  1 | train loss: 0.0118 | test accuracy: 0.98\n",
            "Model saved to /content/gdrive/My Drive/Colab Notebooks/newlogic/output/cnn-mnist-relog-minmaxout_4_2-sigmoid_out.pkl\n"
          ],
          "name": "stdout"
        }
      ]
    },
    {
      "cell_type": "code",
      "metadata": {
        "id": "Rk-WtyaQiuju",
        "colab_type": "code",
        "colab": {
          "base_uri": "https://localhost:8080/",
          "height": 1000
        },
        "outputId": "4f8d59d3-e961-4916-d623-2cbec780b83a"
      },
      "source": [
        "%%time\n",
        "for model in models:\n",
        "    if not os.path.exists(home_dir + '/output/' + model['name'] + '.pkl'):\n",
        "        ts.build_and_train_cnn(**model)"
      ],
      "execution_count": 21,
      "outputs": [
        {
          "output_type": "stream",
          "text": [
            "CNN(\n",
            "  (conv1): Sequential(\n",
            "    (0): Conv2d(1, 128, kernel_size=(5, 5), stride=(1, 1), padding=(2, 2))\n",
            "    (1): FoldingMaxout(use_min=True, k=4)\n",
            "    (2): FoldingMaxout(use_min=False, k=2)\n",
            "    (3): ReLog(n=10.00)\n",
            "    (4): MaxPool2d(kernel_size=2, stride=2, padding=0, dilation=1, ceil_mode=False)\n",
            "  )\n",
            "  (conv2): Sequential(\n",
            "    (0): Conv2d(16, 256, kernel_size=(5, 5), stride=(1, 1), padding=(2, 2))\n",
            "    (1): FoldingMaxout(use_min=True, k=4)\n",
            "    (2): FoldingMaxout(use_min=False, k=2)\n",
            "    (3): ReLog(n=10.00)\n",
            "    (4): MaxPool2d(kernel_size=2, stride=2, padding=0, dilation=1, ceil_mode=False)\n",
            "  )\n",
            "  (out): Sequential(\n",
            "    (0): Linear(in_features=1568, out_features=80, bias=True)\n",
            "    (1): FoldingMaxout(use_min=True, k=4)\n",
            "    (2): FoldingMaxout(use_min=False, k=2)\n",
            "    (3): Sigmoid()\n",
            "  )\n",
            ")\n",
            "Epoch:  0 | train loss: 0.0491 | test accuracy: 0.74\n",
            "Epoch:  0 | train loss: 0.0280 | test accuracy: 0.91\n",
            "Epoch:  0 | train loss: 0.0174 | test accuracy: 0.95\n",
            "Epoch:  0 | train loss: 0.0183 | test accuracy: 0.93\n",
            "Epoch:  0 | train loss: 0.0229 | test accuracy: 0.95\n",
            "Epoch:  1 | train loss: 0.0094 | test accuracy: 0.88\n",
            "Epoch:  1 | train loss: 0.0139 | test accuracy: 0.91\n",
            "Epoch:  1 | train loss: 0.0145 | test accuracy: 0.93\n",
            "Epoch:  1 | train loss: 0.0069 | test accuracy: 0.93\n",
            "Epoch:  1 | train loss: 0.0088 | test accuracy: 0.96\n"
          ],
          "name": "stdout"
        },
        {
          "output_type": "stream",
          "text": [
            "/usr/local/lib/python3.6/dist-packages/torch/serialization.py:292: UserWarning: Couldn't retrieve source code for container of type CNN. It won't be checked for correctness upon loading.\n",
            "  \"type \" + obj.__name__ + \". It won't be checked \"\n",
            "/usr/local/lib/python3.6/dist-packages/torch/serialization.py:292: UserWarning: Couldn't retrieve source code for container of type Sequential. It won't be checked for correctness upon loading.\n",
            "  \"type \" + obj.__name__ + \". It won't be checked \"\n",
            "/usr/local/lib/python3.6/dist-packages/torch/serialization.py:292: UserWarning: Couldn't retrieve source code for container of type Conv2d. It won't be checked for correctness upon loading.\n",
            "  \"type \" + obj.__name__ + \". It won't be checked \"\n",
            "/usr/local/lib/python3.6/dist-packages/torch/serialization.py:292: UserWarning: Couldn't retrieve source code for container of type FoldingMaxout. It won't be checked for correctness upon loading.\n",
            "  \"type \" + obj.__name__ + \". It won't be checked \"\n",
            "/usr/local/lib/python3.6/dist-packages/torch/serialization.py:292: UserWarning: Couldn't retrieve source code for container of type ReLog. It won't be checked for correctness upon loading.\n",
            "  \"type \" + obj.__name__ + \". It won't be checked \"\n",
            "/usr/local/lib/python3.6/dist-packages/torch/serialization.py:292: UserWarning: Couldn't retrieve source code for container of type MaxPool2d. It won't be checked for correctness upon loading.\n",
            "  \"type \" + obj.__name__ + \". It won't be checked \"\n",
            "/usr/local/lib/python3.6/dist-packages/torch/serialization.py:292: UserWarning: Couldn't retrieve source code for container of type Linear. It won't be checked for correctness upon loading.\n",
            "  \"type \" + obj.__name__ + \". It won't be checked \"\n",
            "/usr/local/lib/python3.6/dist-packages/torch/serialization.py:292: UserWarning: Couldn't retrieve source code for container of type Sigmoid. It won't be checked for correctness upon loading.\n",
            "  \"type \" + obj.__name__ + \". It won't be checked \"\n"
          ],
          "name": "stderr"
        },
        {
          "output_type": "stream",
          "text": [
            "Model saved to /content/gdrive/My Drive/Colab Notebooks/newlogic/output/cnn-mnist-relog-minmaxout_4_2-sigmoid_out.pkl\n",
            "CNN(\n",
            "  (conv1): Sequential(\n",
            "    (0): Conv2d(1, 128, kernel_size=(5, 5), stride=(1, 1), padding=(2, 2))\n",
            "    (1): FoldingMaxout(use_min=True, k=4)\n",
            "    (2): FoldingMaxout(use_min=False, k=2)\n",
            "    (3): ReLog(n=10.00)\n",
            "    (4): MaxPool2d(kernel_size=2, stride=2, padding=0, dilation=1, ceil_mode=False)\n",
            "  )\n",
            "  (conv2): Sequential(\n",
            "    (0): Conv2d(16, 256, kernel_size=(5, 5), stride=(1, 1), padding=(2, 2))\n",
            "    (1): FoldingMaxout(use_min=True, k=4)\n",
            "    (2): FoldingMaxout(use_min=False, k=2)\n",
            "    (3): ReLog(n=10.00)\n",
            "    (4): MaxPool2d(kernel_size=2, stride=2, padding=0, dilation=1, ceil_mode=False)\n",
            "  )\n",
            "  (out): Sequential(\n",
            "    (0): Linear(in_features=1568, out_features=80, bias=True)\n",
            "    (1): FoldingMaxout(use_min=True, k=4)\n",
            "    (2): FoldingMaxout(use_min=False, k=2)\n",
            "    (3): Sigmoid()\n",
            "  )\n",
            ")\n",
            "Epoch:  0 | train loss: 0.0540 | test accuracy: 0.75\n",
            "Epoch:  0 | train loss: 0.0243 | test accuracy: 0.93\n",
            "Epoch:  0 | train loss: 0.0162 | test accuracy: 0.96\n",
            "Epoch:  0 | train loss: 0.0145 | test accuracy: 0.96\n",
            "Epoch:  0 | train loss: 0.0185 | test accuracy: 0.97\n",
            "Epoch:  1 | train loss: 0.0121 | test accuracy: 0.98\n",
            "Epoch:  1 | train loss: 0.0127 | test accuracy: 0.98\n",
            "Epoch:  1 | train loss: 0.0163 | test accuracy: 0.98\n",
            "Epoch:  1 | train loss: 0.0097 | test accuracy: 0.97\n",
            "Epoch:  1 | train loss: 0.0121 | test accuracy: 0.98\n",
            "Model saved to /content/gdrive/My Drive/Colab Notebooks/newlogic/output/cnn-mnist-relog-minmaxout_4_2-sigmoid_out-max_margin.pkl\n",
            "CPU times: user 1min 17s, sys: 10.2 s, total: 1min 27s\n",
            "Wall time: 1min 27s\n"
          ],
          "name": "stdout"
        }
      ]
    },
    {
      "cell_type": "code",
      "metadata": {
        "id": "UAmK7DThSt49",
        "colab_type": "code",
        "colab": {
          "base_uri": "https://localhost:8080/",
          "height": 1000
        },
        "outputId": "36351adf-0881-4f3f-d8ce-ae2f7289b69f"
      },
      "source": [
        "%%time\n",
        "for model in models:\n",
        "    if not os.path.exists(home_dir + '/output/' + model['name'] + '.pkl'):\n",
        "        ts.build_and_train_cnn(**model)"
      ],
      "execution_count": 8,
      "outputs": [
        {
          "output_type": "stream",
          "text": [
            "CNN(\n",
            "  (conv1): Sequential(\n",
            "    (0): QuadraticKernel()\n",
            "    (1): Conv2d(2, 128, kernel_size=(5, 5), stride=(1, 1), padding=(2, 2))\n",
            "    (2): FoldingMaxout(use_min=True, k=4)\n",
            "    (3): FoldingMaxout(use_min=False, k=2)\n",
            "    (4): ReLog(n=10.00)\n",
            "    (5): MaxPool2d(kernel_size=2, stride=2, padding=0, dilation=1, ceil_mode=False)\n",
            "  )\n",
            "  (conv2): Sequential(\n",
            "    (0): QuadraticKernel()\n",
            "    (1): Conv2d(32, 256, kernel_size=(5, 5), stride=(1, 1), padding=(2, 2))\n",
            "    (2): FoldingMaxout(use_min=True, k=4)\n",
            "    (3): FoldingMaxout(use_min=False, k=2)\n",
            "    (4): ReLog(n=10.00)\n",
            "    (5): MaxPool2d(kernel_size=2, stride=2, padding=0, dilation=1, ceil_mode=False)\n",
            "  )\n",
            "  (out): Sequential(\n",
            "    (0): QuadraticKernel()\n",
            "    (1): Linear(in_features=3136, out_features=80, bias=True)\n",
            "    (2): FoldingMaxout(use_min=True, k=4)\n",
            "    (3): FoldingMaxout(use_min=False, k=2)\n",
            "    (4): Sigmoid()\n",
            "  )\n",
            ")\n",
            "Epoch:  0 | train loss: 0.0950 | test accuracy: 0.19\n",
            "Epoch:  0 | train loss: 0.0398 | test accuracy: 0.81\n",
            "Epoch:  0 | train loss: 0.0109 | test accuracy: 0.97\n",
            "Epoch:  0 | train loss: 0.0131 | test accuracy: 0.98\n",
            "Epoch:  0 | train loss: 0.0136 | test accuracy: 0.98\n",
            "Epoch:  1 | train loss: 0.0045 | test accuracy: 0.98\n",
            "Epoch:  1 | train loss: 0.0150 | test accuracy: 0.98\n",
            "Epoch:  1 | train loss: 0.0160 | test accuracy: 0.98\n",
            "Epoch:  1 | train loss: 0.0102 | test accuracy: 0.98\n",
            "Epoch:  1 | train loss: 0.0038 | test accuracy: 0.98\n",
            "Model saved to /content/gdrive/My Drive/Colab Notebooks/newlogic/output/cnn-mnist-relog-kernel-minmaxout_4_2-sigmoid_out-max_margin.pkl\n",
            "CPU times: user 44.6 s, sys: 5.64 s, total: 50.2 s\n",
            "Wall time: 53.7 s\n"
          ],
          "name": "stdout"
        },
        {
          "output_type": "stream",
          "text": [
            "/usr/local/lib/python3.6/dist-packages/torch/serialization.py:292: UserWarning: Couldn't retrieve source code for container of type CNN. It won't be checked for correctness upon loading.\n",
            "  \"type \" + obj.__name__ + \". It won't be checked \"\n",
            "/usr/local/lib/python3.6/dist-packages/torch/serialization.py:292: UserWarning: Couldn't retrieve source code for container of type Sequential. It won't be checked for correctness upon loading.\n",
            "  \"type \" + obj.__name__ + \". It won't be checked \"\n",
            "/usr/local/lib/python3.6/dist-packages/torch/serialization.py:292: UserWarning: Couldn't retrieve source code for container of type QuadraticKernel. It won't be checked for correctness upon loading.\n",
            "  \"type \" + obj.__name__ + \". It won't be checked \"\n",
            "/usr/local/lib/python3.6/dist-packages/torch/serialization.py:292: UserWarning: Couldn't retrieve source code for container of type Conv2d. It won't be checked for correctness upon loading.\n",
            "  \"type \" + obj.__name__ + \". It won't be checked \"\n",
            "/usr/local/lib/python3.6/dist-packages/torch/serialization.py:292: UserWarning: Couldn't retrieve source code for container of type FoldingMaxout. It won't be checked for correctness upon loading.\n",
            "  \"type \" + obj.__name__ + \". It won't be checked \"\n",
            "/usr/local/lib/python3.6/dist-packages/torch/serialization.py:292: UserWarning: Couldn't retrieve source code for container of type ReLog. It won't be checked for correctness upon loading.\n",
            "  \"type \" + obj.__name__ + \". It won't be checked \"\n",
            "/usr/local/lib/python3.6/dist-packages/torch/serialization.py:292: UserWarning: Couldn't retrieve source code for container of type MaxPool2d. It won't be checked for correctness upon loading.\n",
            "  \"type \" + obj.__name__ + \". It won't be checked \"\n",
            "/usr/local/lib/python3.6/dist-packages/torch/serialization.py:292: UserWarning: Couldn't retrieve source code for container of type Linear. It won't be checked for correctness upon loading.\n",
            "  \"type \" + obj.__name__ + \". It won't be checked \"\n",
            "/usr/local/lib/python3.6/dist-packages/torch/serialization.py:292: UserWarning: Couldn't retrieve source code for container of type Sigmoid. It won't be checked for correctness upon loading.\n",
            "  \"type \" + obj.__name__ + \". It won't be checked \"\n"
          ],
          "name": "stderr"
        }
      ]
    },
    {
      "cell_type": "markdown",
      "metadata": {
        "id": "NZMXxXdVlb-u",
        "colab_type": "text"
      },
      "source": [
        "**Unused snipets**"
      ]
    },
    {
      "cell_type": "code",
      "metadata": {
        "id": "i_Nu5W0elb-w",
        "colab_type": "code",
        "colab": {}
      },
      "source": [
        "# # following function (plot_with_labels) is for visualization, can be ignored if not interested\n",
        "# from matplotlib import cm\n",
        "# try: from sklearn.manifold import TSNE; HAS_SK = True\n",
        "# except: HAS_SK = False; print('Please install sklearn for layer visualization')\n",
        "# def plot_with_labels(lowDWeights, labels):\n",
        "#     plt.cla()\n",
        "#     X, Y = lowDWeights[:, 0], lowDWeights[:, 1]\n",
        "#     for x, y, s in zip(X, Y, labels):\n",
        "#         c = cm.rainbow(int(255 * s / 9)); plt.text(x, y, s, backgroundcolor=c, fontsize=9)\n",
        "#     plt.xlim(X.min(), X.max()); plt.ylim(Y.min(), Y.max()); plt.title('Visualize last layer'); plt.show(); plt.pause(0.01)\n",
        "\n",
        "# plt.ion()\n",
        "\n",
        "# ...\n",
        "#             if HAS_SK:\n",
        "#                 # Visualization of trained flatten layer (T-SNE)\n",
        "#                 tsne = TSNE(perplexity=30, n_components=2, init='pca', n_iter=5000)\n",
        "#                 plot_only = 500\n",
        "#                 low_dim_embs = tsne.fit_transform(last_layer.data.numpy()[:plot_only, :])\n",
        "#                 labels = test_y.numpy()[:plot_only]\n",
        "#                 plot_with_labels(low_dim_embs, labels)\n",
        "# plt.ioff()"
      ],
      "execution_count": 0,
      "outputs": []
    },
    {
      "cell_type": "code",
      "metadata": {
        "id": "ZpejNB0Flb-9",
        "colab_type": "code",
        "colab": {}
      },
      "source": [
        "# # print 10 predictions from test data\n",
        "# test_output, _ = cnn(test_x[:10])\n",
        "# pred_y = torch.max(test_output, 1)[1].data.numpy()\n",
        "# print(pred_y, 'prediction number')\n",
        "# print(test_y[:10].numpy(), 'real number')"
      ],
      "execution_count": 0,
      "outputs": []
    },
    {
      "cell_type": "code",
      "metadata": {
        "id": "_mxPCjXClb_K",
        "colab_type": "code",
        "colab": {}
      },
      "source": [
        ""
      ],
      "execution_count": 0,
      "outputs": []
    }
  ]
}