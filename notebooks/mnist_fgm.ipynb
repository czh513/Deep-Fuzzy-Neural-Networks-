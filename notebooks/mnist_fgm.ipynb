{
  "nbformat": 4,
  "nbformat_minor": 0,
  "metadata": {
    "kernelspec": {
      "display_name": "conda-env-newlogic-py",
      "language": "python",
      "name": "conda-env-newlogic-py"
    },
    "language_info": {
      "codemirror_mode": {
        "name": "ipython",
        "version": 3
      },
      "file_extension": ".py",
      "mimetype": "text/x-python",
      "name": "python",
      "nbconvert_exporter": "python",
      "pygments_lexer": "ipython3",
      "version": "3.6.9"
    },
    "colab": {
      "name": "mnist-fgm.ipynb",
      "provenance": [],
      "collapsed_sections": []
    },
    "accelerator": "GPU"
  },
  "cells": [
    {
      "cell_type": "code",
      "metadata": {
        "id": "1moux5E_LJwM",
        "colab_type": "code",
        "outputId": "a20b4709-8816-48cf-ed6d-89a473a4611b",
        "colab": {
          "base_uri": "https://localhost:8080/",
          "height": 124
        }
      },
      "source": [
        "from google.colab import drive\n",
        "drive.mount('/content/gdrive')"
      ],
      "execution_count": 1,
      "outputs": [
        {
          "output_type": "stream",
          "text": [
            "Go to this URL in a browser: https://accounts.google.com/o/oauth2/auth?client_id=947318989803-6bn6qk8qdgf4n4g3pfee6491hc0brc4i.apps.googleusercontent.com&redirect_uri=urn%3Aietf%3Awg%3Aoauth%3A2.0%3Aoob&scope=email%20https%3A%2F%2Fwww.googleapis.com%2Fauth%2Fdocs.test%20https%3A%2F%2Fwww.googleapis.com%2Fauth%2Fdrive%20https%3A%2F%2Fwww.googleapis.com%2Fauth%2Fdrive.photos.readonly%20https%3A%2F%2Fwww.googleapis.com%2Fauth%2Fpeopleapi.readonly&response_type=code\n",
            "\n",
            "Enter your authorization code:\n",
            "··········\n",
            "Mounted at /content/gdrive\n"
          ],
          "name": "stdout"
        }
      ]
    },
    {
      "cell_type": "code",
      "metadata": {
        "id": "A3tWqwP6LqNu",
        "colab_type": "code",
        "outputId": "4352a75f-de7f-4473-d6c6-97891da05ff4",
        "colab": {
          "base_uri": "https://localhost:8080/",
          "height": 1000
        }
      },
      "source": [
        "!pip install cleverhans==3.0.1 tensorflow==1.8.0"
      ],
      "execution_count": 2,
      "outputs": [
        {
          "output_type": "stream",
          "text": [
            "Collecting cleverhans==3.0.1\n",
            "\u001b[?25l  Downloading https://files.pythonhosted.org/packages/ac/a0/f0b4386b719f343c4ed3e13cd7792a7a7a4674566ca9b2b34a09b7424220/cleverhans-3.0.1-py3-none-any.whl (198kB)\n",
            "\u001b[K     |████████████████████████████████| 204kB 2.8MB/s \n",
            "\u001b[?25hCollecting tensorflow==1.8.0\n",
            "\u001b[?25l  Downloading https://files.pythonhosted.org/packages/22/c6/d08f7c549330c2acc1b18b5c1f0f8d9d2af92f54d56861f331f372731671/tensorflow-1.8.0-cp36-cp36m-manylinux1_x86_64.whl (49.1MB)\n",
            "\u001b[K     |████████████████████████████████| 49.1MB 1.4MB/s \n",
            "\u001b[?25hCollecting mnist~=0.2 (from cleverhans==3.0.1)\n",
            "  Downloading https://files.pythonhosted.org/packages/c6/c4/5db3bfe009f8d71f1d532bbadbd0ec203764bba3a469e4703a889db8e5e0/mnist-0.2.2-py2.py3-none-any.whl\n",
            "Collecting pycodestyle (from cleverhans==3.0.1)\n",
            "\u001b[?25l  Downloading https://files.pythonhosted.org/packages/0e/0c/04a353e104d2f324f8ee5f4b32012618c1c86dd79e52a433b64fceed511b/pycodestyle-2.5.0-py2.py3-none-any.whl (51kB)\n",
            "\u001b[K     |████████████████████████████████| 51kB 23.4MB/s \n",
            "\u001b[?25hRequirement already satisfied: scipy in /usr/local/lib/python3.6/dist-packages (from cleverhans==3.0.1) (1.3.1)\n",
            "Requirement already satisfied: numpy in /usr/local/lib/python3.6/dist-packages (from cleverhans==3.0.1) (1.16.5)\n",
            "Requirement already satisfied: tensorflow-probability in /usr/local/lib/python3.6/dist-packages (from cleverhans==3.0.1) (0.7.0)\n",
            "Collecting nose (from cleverhans==3.0.1)\n",
            "\u001b[?25l  Downloading https://files.pythonhosted.org/packages/15/d8/dd071918c040f50fa1cf80da16423af51ff8ce4a0f2399b7bf8de45ac3d9/nose-1.3.7-py3-none-any.whl (154kB)\n",
            "\u001b[K     |████████████████████████████████| 163kB 39.1MB/s \n",
            "\u001b[?25hRequirement already satisfied: matplotlib in /usr/local/lib/python3.6/dist-packages (from cleverhans==3.0.1) (3.0.3)\n",
            "Requirement already satisfied: wheel>=0.26 in /usr/local/lib/python3.6/dist-packages (from tensorflow==1.8.0) (0.33.6)\n",
            "Collecting tensorboard<1.9.0,>=1.8.0 (from tensorflow==1.8.0)\n",
            "\u001b[?25l  Downloading https://files.pythonhosted.org/packages/59/a6/0ae6092b7542cfedba6b2a1c9b8dceaf278238c39484f3ba03b03f07803c/tensorboard-1.8.0-py3-none-any.whl (3.1MB)\n",
            "\u001b[K     |████████████████████████████████| 3.1MB 40.4MB/s \n",
            "\u001b[?25hRequirement already satisfied: termcolor>=1.1.0 in /usr/local/lib/python3.6/dist-packages (from tensorflow==1.8.0) (1.1.0)\n",
            "Requirement already satisfied: grpcio>=1.8.6 in /usr/local/lib/python3.6/dist-packages (from tensorflow==1.8.0) (1.15.0)\n",
            "Requirement already satisfied: six>=1.10.0 in /usr/local/lib/python3.6/dist-packages (from tensorflow==1.8.0) (1.12.0)\n",
            "Requirement already satisfied: absl-py>=0.1.6 in /usr/local/lib/python3.6/dist-packages (from tensorflow==1.8.0) (0.8.1)\n",
            "Requirement already satisfied: protobuf>=3.4.0 in /usr/local/lib/python3.6/dist-packages (from tensorflow==1.8.0) (3.10.0)\n",
            "Requirement already satisfied: astor>=0.6.0 in /usr/local/lib/python3.6/dist-packages (from tensorflow==1.8.0) (0.8.0)\n",
            "Requirement already satisfied: gast>=0.2.0 in /usr/local/lib/python3.6/dist-packages (from tensorflow==1.8.0) (0.2.2)\n",
            "Requirement already satisfied: cloudpickle>=0.6.1 in /usr/local/lib/python3.6/dist-packages (from tensorflow-probability->cleverhans==3.0.1) (0.6.1)\n",
            "Requirement already satisfied: decorator in /usr/local/lib/python3.6/dist-packages (from tensorflow-probability->cleverhans==3.0.1) (4.4.0)\n",
            "Requirement already satisfied: kiwisolver>=1.0.1 in /usr/local/lib/python3.6/dist-packages (from matplotlib->cleverhans==3.0.1) (1.1.0)\n",
            "Requirement already satisfied: cycler>=0.10 in /usr/local/lib/python3.6/dist-packages (from matplotlib->cleverhans==3.0.1) (0.10.0)\n",
            "Requirement already satisfied: python-dateutil>=2.1 in /usr/local/lib/python3.6/dist-packages (from matplotlib->cleverhans==3.0.1) (2.5.3)\n",
            "Requirement already satisfied: pyparsing!=2.0.4,!=2.1.2,!=2.1.6,>=2.0.1 in /usr/local/lib/python3.6/dist-packages (from matplotlib->cleverhans==3.0.1) (2.4.2)\n",
            "Collecting html5lib==0.9999999 (from tensorboard<1.9.0,>=1.8.0->tensorflow==1.8.0)\n",
            "\u001b[?25l  Downloading https://files.pythonhosted.org/packages/ae/ae/bcb60402c60932b32dfaf19bb53870b29eda2cd17551ba5639219fb5ebf9/html5lib-0.9999999.tar.gz (889kB)\n",
            "\u001b[K     |████████████████████████████████| 890kB 39.3MB/s \n",
            "\u001b[?25hRequirement already satisfied: markdown>=2.6.8 in /usr/local/lib/python3.6/dist-packages (from tensorboard<1.9.0,>=1.8.0->tensorflow==1.8.0) (3.1.1)\n",
            "Requirement already satisfied: werkzeug>=0.11.10 in /usr/local/lib/python3.6/dist-packages (from tensorboard<1.9.0,>=1.8.0->tensorflow==1.8.0) (0.16.0)\n",
            "Collecting bleach==1.5.0 (from tensorboard<1.9.0,>=1.8.0->tensorflow==1.8.0)\n",
            "  Downloading https://files.pythonhosted.org/packages/33/70/86c5fec937ea4964184d4d6c4f0b9551564f821e1c3575907639036d9b90/bleach-1.5.0-py2.py3-none-any.whl\n",
            "Requirement already satisfied: setuptools in /usr/local/lib/python3.6/dist-packages (from protobuf>=3.4.0->tensorflow==1.8.0) (41.2.0)\n",
            "Building wheels for collected packages: html5lib\n",
            "  Building wheel for html5lib (setup.py) ... \u001b[?25l\u001b[?25hdone\n",
            "  Created wheel for html5lib: filename=html5lib-0.9999999-cp36-none-any.whl size=107221 sha256=763705273af572306ffabb2781c41e837810f14fdb2e0221ca4fcaac37724fe9\n",
            "  Stored in directory: /root/.cache/pip/wheels/50/ae/f9/d2b189788efcf61d1ee0e36045476735c838898eef1cad6e29\n",
            "Successfully built html5lib\n",
            "\u001b[31mERROR: magenta 0.3.19 has requirement tensorflow>=1.12.0, but you'll have tensorflow 1.8.0 which is incompatible.\u001b[0m\n",
            "Installing collected packages: mnist, pycodestyle, nose, cleverhans, html5lib, bleach, tensorboard, tensorflow\n",
            "  Found existing installation: html5lib 1.0.1\n",
            "    Uninstalling html5lib-1.0.1:\n",
            "      Successfully uninstalled html5lib-1.0.1\n",
            "  Found existing installation: bleach 3.1.0\n",
            "    Uninstalling bleach-3.1.0:\n",
            "      Successfully uninstalled bleach-3.1.0\n",
            "  Found existing installation: tensorboard 1.15.0\n",
            "    Uninstalling tensorboard-1.15.0:\n",
            "      Successfully uninstalled tensorboard-1.15.0\n",
            "  Found existing installation: tensorflow 1.15.0rc3\n",
            "    Uninstalling tensorflow-1.15.0rc3:\n",
            "      Successfully uninstalled tensorflow-1.15.0rc3\n",
            "Successfully installed bleach-1.5.0 cleverhans-3.0.1 html5lib-0.9999999 mnist-0.2.2 nose-1.3.7 pycodestyle-2.5.0 tensorboard-1.8.0 tensorflow-1.8.0\n"
          ],
          "name": "stdout"
        }
      ]
    },
    {
      "cell_type": "code",
      "metadata": {
        "id": "IWxFKKVpLmpT",
        "colab_type": "code",
        "colab": {}
      },
      "source": [
        "home_dir = '/content/gdrive/My Drive/Colab Notebooks/newlogic'\n",
        "import sys\n",
        "sys.path.append(home_dir)"
      ],
      "execution_count": 0,
      "outputs": []
    },
    {
      "cell_type": "code",
      "metadata": {
        "id": "szro2IayLIGD",
        "colab_type": "code",
        "colab": {}
      },
      "source": [
        "import tensorflow as tf\n",
        "import numpy as np\n",
        "from tqdm import tqdm"
      ],
      "execution_count": 0,
      "outputs": []
    },
    {
      "cell_type": "code",
      "metadata": {
        "id": "Ki1VwwcOLIGO",
        "colab_type": "code",
        "colab": {}
      },
      "source": [
        "from cleverhans.attacks import FastGradientMethod\n",
        "from cleverhans.model import CallableModelWrapper\n",
        "from cleverhans.utils import AccuracyReport\n",
        "from cleverhans.utils_pytorch import convert_pytorch_model_to_tf"
      ],
      "execution_count": 0,
      "outputs": []
    },
    {
      "cell_type": "code",
      "metadata": {
        "id": "QaQk8lCRLIGW",
        "colab_type": "code",
        "colab": {}
      },
      "source": [
        "import torch\n",
        "from torchvision import datasets, transforms"
      ],
      "execution_count": 0,
      "outputs": []
    },
    {
      "cell_type": "code",
      "metadata": {
        "id": "ARqP_fr_axZp",
        "colab_type": "code",
        "colab": {}
      },
      "source": [
        "import pandas as pd"
      ],
      "execution_count": 0,
      "outputs": []
    },
    {
      "cell_type": "code",
      "metadata": {
        "id": "-CvDCtZeLIGe",
        "colab_type": "code",
        "colab": {}
      },
      "source": [
        "BATCH_SIZE = 128"
      ],
      "execution_count": 0,
      "outputs": []
    },
    {
      "cell_type": "code",
      "metadata": {
        "id": "YY4R_zTzLIGl",
        "colab_type": "code",
        "colab": {}
      },
      "source": [
        "def evaluate_model(path, ord=np.inf, epsilon=0.3):\n",
        "    print('Evaluating model ' + path)\n",
        "    torch_model_orig = torch.load(path)\n",
        "    torch_model = lambda x: torch_model_orig(x)[0] # to standard format\n",
        "    with tf.Session() as sess:\n",
        "        x_op = tf.placeholder(tf.float32, shape=(None, 1, 28, 28,))    \n",
        "        tf_model_fn = convert_pytorch_model_to_tf(torch_model, out_dims=10)    \n",
        "        cleverhans_model = CallableModelWrapper(tf_model_fn, output_layer='logits')\n",
        "        # Create an FGSM attack\n",
        "        fgsm_op = FastGradientMethod(cleverhans_model, sess=sess)\n",
        "        fgsm_params = {'ord': ord, 'eps': epsilon, 'clip_min': 0., 'clip_max': 1.}\n",
        "        adv_x_op = fgsm_op.generate(x_op, **fgsm_params)\n",
        "        adv_preds_op = tf_model_fn(adv_x_op)\n",
        "        test_loader = torch.utils.data.DataLoader(\n",
        "          datasets.MNIST(home_dir + '/mnist', train=False, transform=transforms.ToTensor()),\n",
        "          batch_size=BATCH_SIZE)\n",
        "        # Run an evaluation of our model against fgsm\n",
        "        total = 0\n",
        "        correct = 0\n",
        "        for xs, ys in tqdm(test_loader):\n",
        "            adv_preds = sess.run(adv_preds_op, feed_dict={x_op: xs})\n",
        "            correct += (np.argmax(adv_preds, axis=1) == ys.cpu().detach().numpy()).sum()\n",
        "            total += test_loader.batch_size\n",
        "    acc = float(correct) / total\n",
        "    print('Adv accuracy: {:.3f}'.format(acc * 100))\n",
        "    return acc"
      ],
      "execution_count": 0,
      "outputs": []
    },
    {
      "cell_type": "code",
      "metadata": {
        "id": "C3yI-9EnaxL0",
        "colab_type": "code",
        "colab": {}
      },
      "source": [
        "models = pd.read_csv(home_dir + '/mnist-models.csv')"
      ],
      "execution_count": 0,
      "outputs": []
    },
    {
      "cell_type": "code",
      "metadata": {
        "id": "v0cWT4grb9Y1",
        "colab_type": "code",
        "colab": {}
      },
      "source": [
        "attack_specs = [\n",
        "    {'ord': np.inf, 'epsilon': 0.1},\n",
        "    {'ord': np.inf, 'epsilon': 0.2},\n",
        "    {'ord': np.inf, 'epsilon': 0.3},\n",
        "    {'ord': 2, 'epsilon': 1.5},\n",
        "    {'ord': 1, 'epsilon': 12},\n",
        "]"
      ],
      "execution_count": 0,
      "outputs": []
    },
    {
      "cell_type": "code",
      "metadata": {
        "id": "n_COXg0wb-AL",
        "colab_type": "code",
        "colab": {
          "base_uri": "https://localhost:8080/",
          "height": 1000
        },
        "outputId": "5690aac0-8fa4-45ed-e624-0ec5c95692c0"
      },
      "source": [
        "results = []\n",
        "for attack_spec in attack_specs:\n",
        "    for model_name in models.name:\n",
        "        acc = evaluate_model(home_dir + '/output/' + model_name + '.pkl', **attack_spec)\n",
        "        results.append({\n",
        "            'model_name': model_name,\n",
        "            'accuracy': acc,\n",
        "            'attack_type': 'FGM',\n",
        "            **attack_spec\n",
        "        })"
      ],
      "execution_count": 0,
      "outputs": [
        {
          "output_type": "stream",
          "text": [
            "\r  0%|          | 0/79 [00:00<?, ?it/s]"
          ],
          "name": "stderr"
        },
        {
          "output_type": "stream",
          "text": [
            "Evaluating model /content/gdrive/My Drive/Colab Notebooks/newlogic/output/cnn-mnist-relu.pkl\n"
          ],
          "name": "stdout"
        },
        {
          "output_type": "stream",
          "text": [
            "100%|██████████| 79/79 [00:03<00:00, 32.46it/s]\n",
            "  0%|          | 0/79 [00:00<?, ?it/s]"
          ],
          "name": "stderr"
        },
        {
          "output_type": "stream",
          "text": [
            "Adv accuracy: 85.433\n",
            "Evaluating model /content/gdrive/My Drive/Colab Notebooks/newlogic/output/cnn-mnist-relu-kernel.pkl\n"
          ],
          "name": "stdout"
        },
        {
          "output_type": "stream",
          "text": [
            "100%|██████████| 79/79 [00:03<00:00, 25.85it/s]\n",
            "  0%|          | 0/79 [00:00<?, ?it/s]"
          ],
          "name": "stderr"
        },
        {
          "output_type": "stream",
          "text": [
            "Adv accuracy: 86.323\n",
            "Evaluating model /content/gdrive/My Drive/Colab Notebooks/newlogic/output/cnn-mnist-relu-maxfit_l1_01_05.pkl\n"
          ],
          "name": "stdout"
        },
        {
          "output_type": "stream",
          "text": [
            "100%|██████████| 79/79 [00:03<00:00, 25.94it/s]\n",
            "  0%|          | 0/79 [00:00<?, ?it/s]"
          ],
          "name": "stderr"
        },
        {
          "output_type": "stream",
          "text": [
            "Adv accuracy: 87.095\n",
            "Evaluating model /content/gdrive/My Drive/Colab Notebooks/newlogic/output/cnn-mnist-relu-maxfit_l2_01_05.pkl\n"
          ],
          "name": "stdout"
        },
        {
          "output_type": "stream",
          "text": [
            "100%|██████████| 79/79 [00:03<00:00, 25.94it/s]\n",
            "  0%|          | 0/79 [00:00<?, ?it/s]"
          ],
          "name": "stderr"
        },
        {
          "output_type": "stream",
          "text": [
            "Adv accuracy: 86.501\n",
            "Evaluating model /content/gdrive/My Drive/Colab Notebooks/newlogic/output/cnn-mnist-relu-maxmargin_l1_01_05.pkl\n"
          ],
          "name": "stdout"
        },
        {
          "output_type": "stream",
          "text": [
            "100%|██████████| 79/79 [00:03<00:00, 26.15it/s]\n",
            "  0%|          | 0/79 [00:00<?, ?it/s]"
          ],
          "name": "stderr"
        },
        {
          "output_type": "stream",
          "text": [
            "Adv accuracy: 84.543\n",
            "Evaluating model /content/gdrive/My Drive/Colab Notebooks/newlogic/output/cnn-mnist-relu-maxmargin_l2_01_05.pkl\n"
          ],
          "name": "stdout"
        },
        {
          "output_type": "stream",
          "text": [
            "100%|██████████| 79/79 [00:03<00:00, 25.75it/s]\n",
            "  0%|          | 0/79 [00:00<?, ?it/s]"
          ],
          "name": "stderr"
        },
        {
          "output_type": "stream",
          "text": [
            "Adv accuracy: 85.562\n",
            "Evaluating model /content/gdrive/My Drive/Colab Notebooks/newlogic/output/cnn-mnist-relog.pkl\n"
          ],
          "name": "stdout"
        },
        {
          "output_type": "stream",
          "text": [
            "100%|██████████| 79/79 [00:03<00:00, 23.38it/s]\n",
            "  0%|          | 0/79 [00:00<?, ?it/s]"
          ],
          "name": "stderr"
        },
        {
          "output_type": "stream",
          "text": [
            "Adv accuracy: 87.718\n",
            "Evaluating model /content/gdrive/My Drive/Colab Notebooks/newlogic/output/cnn-mnist-relog-more-neurons.pkl\n"
          ],
          "name": "stdout"
        },
        {
          "output_type": "stream",
          "text": [
            "100%|██████████| 79/79 [00:05<00:00, 14.37it/s]\n",
            "  0%|          | 0/79 [00:00<?, ?it/s]"
          ],
          "name": "stderr"
        },
        {
          "output_type": "stream",
          "text": [
            "Adv accuracy: 87.797\n",
            "Evaluating model /content/gdrive/My Drive/Colab Notebooks/newlogic/output/cnn-mnist-relog-maxout_2.pkl\n"
          ],
          "name": "stdout"
        },
        {
          "output_type": "stream",
          "text": [
            "100%|██████████| 79/79 [00:03<00:00, 22.43it/s]\n",
            "  0%|          | 0/79 [00:00<?, ?it/s]"
          ],
          "name": "stderr"
        },
        {
          "output_type": "stream",
          "text": [
            "Adv accuracy: 86.521\n",
            "Evaluating model /content/gdrive/My Drive/Colab Notebooks/newlogic/output/cnn-mnist-relog-minmaxout_4_2.pkl\n"
          ],
          "name": "stdout"
        },
        {
          "output_type": "stream",
          "text": [
            "100%|██████████| 79/79 [00:06<00:00, 14.08it/s]\n",
            "  0%|          | 0/79 [00:00<?, ?it/s]"
          ],
          "name": "stderr"
        },
        {
          "output_type": "stream",
          "text": [
            "Adv accuracy: 88.677\n",
            "Evaluating model /content/gdrive/My Drive/Colab Notebooks/newlogic/output/cnn-mnist-relog-minmaxout_4_2-sigmoid_out.pkl\n"
          ],
          "name": "stdout"
        },
        {
          "output_type": "stream",
          "text": [
            "100%|██████████| 79/79 [00:06<00:00, 13.99it/s]\n",
            "  0%|          | 0/79 [00:00<?, ?it/s]"
          ],
          "name": "stderr"
        },
        {
          "output_type": "stream",
          "text": [
            "Adv accuracy: 86.739\n",
            "Evaluating model /content/gdrive/My Drive/Colab Notebooks/newlogic/output/cnn-mnist-relog-minmaxout_4_2-sigmoid_out.pkl\n"
          ],
          "name": "stdout"
        },
        {
          "output_type": "stream",
          "text": [
            "100%|██████████| 79/79 [00:06<00:00, 11.77it/s]\n",
            "  0%|          | 0/79 [00:00<?, ?it/s]"
          ],
          "name": "stderr"
        },
        {
          "output_type": "stream",
          "text": [
            "Adv accuracy: 86.640\n",
            "Evaluating model /content/gdrive/My Drive/Colab Notebooks/newlogic/output/cnn-mnist-relu.pkl\n"
          ],
          "name": "stdout"
        },
        {
          "output_type": "stream",
          "text": [
            "100%|██████████| 79/79 [00:02<00:00, 28.01it/s]\n",
            "  0%|          | 0/79 [00:00<?, ?it/s]"
          ],
          "name": "stderr"
        },
        {
          "output_type": "stream",
          "text": [
            "Adv accuracy: 43.641\n",
            "Evaluating model /content/gdrive/My Drive/Colab Notebooks/newlogic/output/cnn-mnist-relu-kernel.pkl\n"
          ],
          "name": "stdout"
        },
        {
          "output_type": "stream",
          "text": [
            "100%|██████████| 79/79 [00:03<00:00, 21.94it/s]\n"
          ],
          "name": "stderr"
        },
        {
          "output_type": "stream",
          "text": [
            "Adv accuracy: 53.817\n",
            "Evaluating model /content/gdrive/My Drive/Colab Notebooks/newlogic/output/cnn-mnist-relu-maxfit_l1_01_05.pkl\n"
          ],
          "name": "stdout"
        },
        {
          "output_type": "stream",
          "text": [
            "100%|██████████| 79/79 [00:03<00:00, 25.74it/s]\n",
            "  0%|          | 0/79 [00:00<?, ?it/s]"
          ],
          "name": "stderr"
        },
        {
          "output_type": "stream",
          "text": [
            "Adv accuracy: 57.427\n",
            "Evaluating model /content/gdrive/My Drive/Colab Notebooks/newlogic/output/cnn-mnist-relu-maxfit_l2_01_05.pkl\n"
          ],
          "name": "stdout"
        },
        {
          "output_type": "stream",
          "text": [
            "100%|██████████| 79/79 [00:02<00:00, 31.90it/s]\n",
            "  0%|          | 0/79 [00:00<?, ?it/s]"
          ],
          "name": "stderr"
        },
        {
          "output_type": "stream",
          "text": [
            "Adv accuracy: 53.085\n",
            "Evaluating model /content/gdrive/My Drive/Colab Notebooks/newlogic/output/cnn-mnist-relu-maxmargin_l1_01_05.pkl\n"
          ],
          "name": "stdout"
        },
        {
          "output_type": "stream",
          "text": [
            "100%|██████████| 79/79 [00:03<00:00, 25.58it/s]\n",
            "  0%|          | 0/79 [00:00<?, ?it/s]"
          ],
          "name": "stderr"
        },
        {
          "output_type": "stream",
          "text": [
            "Adv accuracy: 45.461\n",
            "Evaluating model /content/gdrive/My Drive/Colab Notebooks/newlogic/output/cnn-mnist-relu-maxmargin_l2_01_05.pkl\n"
          ],
          "name": "stdout"
        },
        {
          "output_type": "stream",
          "text": [
            "100%|██████████| 79/79 [00:03<00:00, 26.20it/s]\n"
          ],
          "name": "stderr"
        },
        {
          "output_type": "stream",
          "text": [
            "Adv accuracy: 43.542\n",
            "Evaluating model /content/gdrive/My Drive/Colab Notebooks/newlogic/output/cnn-mnist-relog.pkl\n"
          ],
          "name": "stdout"
        },
        {
          "output_type": "stream",
          "text": [
            "100%|██████████| 79/79 [00:03<00:00, 23.74it/s]\n",
            "  0%|          | 0/79 [00:00<?, ?it/s]"
          ],
          "name": "stderr"
        },
        {
          "output_type": "stream",
          "text": [
            "Adv accuracy: 65.576\n",
            "Evaluating model /content/gdrive/My Drive/Colab Notebooks/newlogic/output/cnn-mnist-relog-more-neurons.pkl\n"
          ],
          "name": "stdout"
        },
        {
          "output_type": "stream",
          "text": [
            "100%|██████████| 79/79 [00:05<00:00, 14.39it/s]\n",
            "  0%|          | 0/79 [00:00<?, ?it/s]"
          ],
          "name": "stderr"
        },
        {
          "output_type": "stream",
          "text": [
            "Adv accuracy: 63.123\n",
            "Evaluating model /content/gdrive/My Drive/Colab Notebooks/newlogic/output/cnn-mnist-relog-maxout_2.pkl\n"
          ],
          "name": "stdout"
        },
        {
          "output_type": "stream",
          "text": [
            "100%|██████████| 79/79 [00:03<00:00, 22.45it/s]\n",
            "  0%|          | 0/79 [00:00<?, ?it/s]"
          ],
          "name": "stderr"
        },
        {
          "output_type": "stream",
          "text": [
            "Adv accuracy: 73.606\n",
            "Evaluating model /content/gdrive/My Drive/Colab Notebooks/newlogic/output/cnn-mnist-relog-minmaxout_4_2.pkl\n"
          ],
          "name": "stdout"
        },
        {
          "output_type": "stream",
          "text": [
            "100%|██████████| 79/79 [00:06<00:00, 11.79it/s]\n",
            "  0%|          | 0/79 [00:00<?, ?it/s]"
          ],
          "name": "stderr"
        },
        {
          "output_type": "stream",
          "text": [
            "Adv accuracy: 81.695\n",
            "Evaluating model /content/gdrive/My Drive/Colab Notebooks/newlogic/output/cnn-mnist-relog-minmaxout_4_2-sigmoid_out.pkl\n"
          ],
          "name": "stdout"
        },
        {
          "output_type": "stream",
          "text": [
            "100%|██████████| 79/79 [00:06<00:00, 11.69it/s]\n",
            "  0%|          | 0/79 [00:00<?, ?it/s]"
          ],
          "name": "stderr"
        },
        {
          "output_type": "stream",
          "text": [
            "Adv accuracy: 77.314\n",
            "Evaluating model /content/gdrive/My Drive/Colab Notebooks/newlogic/output/cnn-mnist-relog-minmaxout_4_2-sigmoid_out.pkl\n"
          ],
          "name": "stdout"
        },
        {
          "output_type": "stream",
          "text": [
            "100%|██████████| 79/79 [00:06<00:00, 11.73it/s]\n",
            "  0%|          | 0/79 [00:00<?, ?it/s]"
          ],
          "name": "stderr"
        },
        {
          "output_type": "stream",
          "text": [
            "Adv accuracy: 77.314\n",
            "Evaluating model /content/gdrive/My Drive/Colab Notebooks/newlogic/output/cnn-mnist-relu.pkl\n"
          ],
          "name": "stdout"
        },
        {
          "output_type": "stream",
          "text": [
            "100%|██████████| 79/79 [00:02<00:00, 32.98it/s]\n",
            "  0%|          | 0/79 [00:00<?, ?it/s]"
          ],
          "name": "stderr"
        },
        {
          "output_type": "stream",
          "text": [
            "Adv accuracy: 9.306\n",
            "Evaluating model /content/gdrive/My Drive/Colab Notebooks/newlogic/output/cnn-mnist-relu-kernel.pkl\n"
          ],
          "name": "stdout"
        },
        {
          "output_type": "stream",
          "text": [
            "100%|██████████| 79/79 [00:03<00:00, 21.99it/s]\n",
            "  0%|          | 0/79 [00:00<?, ?it/s]"
          ],
          "name": "stderr"
        },
        {
          "output_type": "stream",
          "text": [
            "Adv accuracy: 27.542\n",
            "Evaluating model /content/gdrive/My Drive/Colab Notebooks/newlogic/output/cnn-mnist-relu-maxfit_l1_01_05.pkl\n"
          ],
          "name": "stdout"
        },
        {
          "output_type": "stream",
          "text": [
            "100%|██████████| 79/79 [00:03<00:00, 25.69it/s]\n",
            "  0%|          | 0/79 [00:00<?, ?it/s]"
          ],
          "name": "stderr"
        },
        {
          "output_type": "stream",
          "text": [
            "Adv accuracy: 20.609\n",
            "Evaluating model /content/gdrive/My Drive/Colab Notebooks/newlogic/output/cnn-mnist-relu-maxfit_l2_01_05.pkl\n"
          ],
          "name": "stdout"
        },
        {
          "output_type": "stream",
          "text": [
            "100%|██████████| 79/79 [00:03<00:00, 25.81it/s]\n",
            "  0%|          | 0/79 [00:00<?, ?it/s]"
          ],
          "name": "stderr"
        },
        {
          "output_type": "stream",
          "text": [
            "Adv accuracy: 18.532\n",
            "Evaluating model /content/gdrive/My Drive/Colab Notebooks/newlogic/output/cnn-mnist-relu-maxmargin_l1_01_05.pkl\n"
          ],
          "name": "stdout"
        },
        {
          "output_type": "stream",
          "text": [
            "100%|██████████| 79/79 [00:03<00:00, 25.49it/s]\n",
            "  0%|          | 0/79 [00:00<?, ?it/s]"
          ],
          "name": "stderr"
        },
        {
          "output_type": "stream",
          "text": [
            "Adv accuracy: 11.729\n",
            "Evaluating model /content/gdrive/My Drive/Colab Notebooks/newlogic/output/cnn-mnist-relu-maxmargin_l2_01_05.pkl\n"
          ],
          "name": "stdout"
        },
        {
          "output_type": "stream",
          "text": [
            "100%|██████████| 79/79 [00:03<00:00, 25.99it/s]\n",
            "  0%|          | 0/79 [00:00<?, ?it/s]"
          ],
          "name": "stderr"
        },
        {
          "output_type": "stream",
          "text": [
            "Adv accuracy: 8.485\n",
            "Evaluating model /content/gdrive/My Drive/Colab Notebooks/newlogic/output/cnn-mnist-relog.pkl\n"
          ],
          "name": "stdout"
        },
        {
          "output_type": "stream",
          "text": [
            "100%|██████████| 79/79 [00:03<00:00, 23.60it/s]\n",
            "  0%|          | 0/79 [00:00<?, ?it/s]"
          ],
          "name": "stderr"
        },
        {
          "output_type": "stream",
          "text": [
            "Adv accuracy: 33.920\n",
            "Evaluating model /content/gdrive/My Drive/Colab Notebooks/newlogic/output/cnn-mnist-relog-more-neurons.pkl\n"
          ],
          "name": "stdout"
        },
        {
          "output_type": "stream",
          "text": [
            "100%|██████████| 79/79 [00:05<00:00, 14.25it/s]\n",
            "  0%|          | 0/79 [00:00<?, ?it/s]"
          ],
          "name": "stderr"
        },
        {
          "output_type": "stream",
          "text": [
            "Adv accuracy: 31.972\n",
            "Evaluating model /content/gdrive/My Drive/Colab Notebooks/newlogic/output/cnn-mnist-relog-maxout_2.pkl\n"
          ],
          "name": "stdout"
        },
        {
          "output_type": "stream",
          "text": [
            "100%|██████████| 79/79 [00:03<00:00, 22.60it/s]\n",
            "  0%|          | 0/79 [00:00<?, ?it/s]"
          ],
          "name": "stderr"
        },
        {
          "output_type": "stream",
          "text": [
            "Adv accuracy: 62.569\n",
            "Evaluating model /content/gdrive/My Drive/Colab Notebooks/newlogic/output/cnn-mnist-relog-minmaxout_4_2.pkl\n"
          ],
          "name": "stdout"
        },
        {
          "output_type": "stream",
          "text": [
            "100%|██████████| 79/79 [00:06<00:00, 11.79it/s]\n",
            "  0%|          | 0/79 [00:00<?, ?it/s]"
          ],
          "name": "stderr"
        },
        {
          "output_type": "stream",
          "text": [
            "Adv accuracy: 74.367\n",
            "Evaluating model /content/gdrive/My Drive/Colab Notebooks/newlogic/output/cnn-mnist-relog-minmaxout_4_2-sigmoid_out.pkl\n"
          ],
          "name": "stdout"
        },
        {
          "output_type": "stream",
          "text": [
            "100%|██████████| 79/79 [00:06<00:00, 11.64it/s]\n",
            "  0%|          | 0/79 [00:00<?, ?it/s]"
          ],
          "name": "stderr"
        },
        {
          "output_type": "stream",
          "text": [
            "Adv accuracy: 72.785\n",
            "Evaluating model /content/gdrive/My Drive/Colab Notebooks/newlogic/output/cnn-mnist-relog-minmaxout_4_2-sigmoid_out.pkl\n"
          ],
          "name": "stdout"
        },
        {
          "output_type": "stream",
          "text": [
            "100%|██████████| 79/79 [00:06<00:00, 11.66it/s]\n"
          ],
          "name": "stderr"
        },
        {
          "output_type": "stream",
          "text": [
            "Adv accuracy: 72.992\n",
            "Evaluating model /content/gdrive/My Drive/Colab Notebooks/newlogic/output/cnn-mnist-relu.pkl\n"
          ],
          "name": "stdout"
        },
        {
          "output_type": "stream",
          "text": [
            "100%|██████████| 79/79 [00:03<00:00, 24.93it/s]\n",
            "  0%|          | 0/79 [00:00<?, ?it/s]"
          ],
          "name": "stderr"
        },
        {
          "output_type": "stream",
          "text": [
            "Adv accuracy: 81.646\n",
            "Evaluating model /content/gdrive/My Drive/Colab Notebooks/newlogic/output/cnn-mnist-relu-kernel.pkl\n"
          ],
          "name": "stdout"
        },
        {
          "output_type": "stream",
          "text": [
            "100%|██████████| 79/79 [00:03<00:00, 24.62it/s]\n",
            "  0%|          | 0/79 [00:00<?, ?it/s]"
          ],
          "name": "stderr"
        },
        {
          "output_type": "stream",
          "text": [
            "Adv accuracy: 78.916\n",
            "Evaluating model /content/gdrive/My Drive/Colab Notebooks/newlogic/output/cnn-mnist-relu-maxfit_l1_01_05.pkl\n"
          ],
          "name": "stdout"
        },
        {
          "output_type": "stream",
          "text": [
            "100%|██████████| 79/79 [00:03<00:00, 23.58it/s]\n",
            "  0%|          | 0/79 [00:00<?, ?it/s]"
          ],
          "name": "stderr"
        },
        {
          "output_type": "stream",
          "text": [
            "Adv accuracy: 77.443\n",
            "Evaluating model /content/gdrive/My Drive/Colab Notebooks/newlogic/output/cnn-mnist-relu-maxfit_l2_01_05.pkl\n"
          ],
          "name": "stdout"
        },
        {
          "output_type": "stream",
          "text": [
            "100%|██████████| 79/79 [00:03<00:00, 23.36it/s]\n",
            "  0%|          | 0/79 [00:00<?, ?it/s]"
          ],
          "name": "stderr"
        },
        {
          "output_type": "stream",
          "text": [
            "Adv accuracy: 78.689\n",
            "Evaluating model /content/gdrive/My Drive/Colab Notebooks/newlogic/output/cnn-mnist-relu-maxmargin_l1_01_05.pkl\n"
          ],
          "name": "stdout"
        },
        {
          "output_type": "stream",
          "text": [
            "100%|██████████| 79/79 [00:03<00:00, 23.58it/s]\n"
          ],
          "name": "stderr"
        },
        {
          "output_type": "stream",
          "text": [
            "Adv accuracy: 80.637\n",
            "Evaluating model /content/gdrive/My Drive/Colab Notebooks/newlogic/output/cnn-mnist-relu-maxmargin_l2_01_05.pkl\n"
          ],
          "name": "stdout"
        },
        {
          "output_type": "stream",
          "text": [
            "100%|██████████| 79/79 [00:03<00:00, 23.29it/s]\n"
          ],
          "name": "stderr"
        },
        {
          "output_type": "stream",
          "text": [
            "Adv accuracy: 81.339\n",
            "Evaluating model /content/gdrive/My Drive/Colab Notebooks/newlogic/output/cnn-mnist-relog.pkl\n"
          ],
          "name": "stdout"
        },
        {
          "output_type": "stream",
          "text": [
            "100%|██████████| 79/79 [00:03<00:00, 21.63it/s]\n",
            "  0%|          | 0/79 [00:00<?, ?it/s]"
          ],
          "name": "stderr"
        },
        {
          "output_type": "stream",
          "text": [
            "Adv accuracy: 87.510\n",
            "Evaluating model /content/gdrive/My Drive/Colab Notebooks/newlogic/output/cnn-mnist-relog-more-neurons.pkl\n"
          ],
          "name": "stdout"
        },
        {
          "output_type": "stream",
          "text": [
            "100%|██████████| 79/79 [00:05<00:00, 13.51it/s]\n",
            "  0%|          | 0/79 [00:00<?, ?it/s]"
          ],
          "name": "stderr"
        },
        {
          "output_type": "stream",
          "text": [
            "Adv accuracy: 88.261\n",
            "Evaluating model /content/gdrive/My Drive/Colab Notebooks/newlogic/output/cnn-mnist-relog-maxout_2.pkl\n"
          ],
          "name": "stdout"
        },
        {
          "output_type": "stream",
          "text": [
            "100%|██████████| 79/79 [00:03<00:00, 25.06it/s]\n",
            "  0%|          | 0/79 [00:00<?, ?it/s]"
          ],
          "name": "stderr"
        },
        {
          "output_type": "stream",
          "text": [
            "Adv accuracy: 89.241\n",
            "Evaluating model /content/gdrive/My Drive/Colab Notebooks/newlogic/output/cnn-mnist-relog-minmaxout_4_2.pkl\n"
          ],
          "name": "stdout"
        },
        {
          "output_type": "stream",
          "text": [
            "100%|██████████| 79/79 [00:07<00:00, 13.61it/s]\n",
            "  0%|          | 0/79 [00:00<?, ?it/s]"
          ],
          "name": "stderr"
        },
        {
          "output_type": "stream",
          "text": [
            "Adv accuracy: 88.697\n",
            "Evaluating model /content/gdrive/My Drive/Colab Notebooks/newlogic/output/cnn-mnist-relog-minmaxout_4_2-sigmoid_out.pkl\n"
          ],
          "name": "stdout"
        },
        {
          "output_type": "stream",
          "text": [
            "100%|██████████| 79/79 [00:07<00:00, 13.61it/s]\n",
            "  0%|          | 0/79 [00:00<?, ?it/s]"
          ],
          "name": "stderr"
        },
        {
          "output_type": "stream",
          "text": [
            "Adv accuracy: 89.943\n",
            "Evaluating model /content/gdrive/My Drive/Colab Notebooks/newlogic/output/cnn-mnist-relog-minmaxout_4_2-sigmoid_out.pkl\n"
          ],
          "name": "stdout"
        },
        {
          "output_type": "stream",
          "text": [
            "100%|██████████| 79/79 [00:07<00:00, 13.52it/s]\n"
          ],
          "name": "stderr"
        },
        {
          "output_type": "stream",
          "text": [
            "Adv accuracy: 89.943\n",
            "Evaluating model /content/gdrive/My Drive/Colab Notebooks/newlogic/output/cnn-mnist-relu.pkl\n"
          ],
          "name": "stdout"
        },
        {
          "output_type": "stream",
          "text": [
            "100%|██████████| 79/79 [00:03<00:00, 21.75it/s]\n"
          ],
          "name": "stderr"
        },
        {
          "output_type": "stream",
          "text": [
            "Adv accuracy: 96.638\n",
            "Evaluating model /content/gdrive/My Drive/Colab Notebooks/newlogic/output/cnn-mnist-relu-kernel.pkl\n"
          ],
          "name": "stdout"
        },
        {
          "output_type": "stream",
          "text": [
            "100%|██████████| 79/79 [00:04<00:00, 22.12it/s]\n",
            "  0%|          | 0/79 [00:00<?, ?it/s]"
          ],
          "name": "stderr"
        },
        {
          "output_type": "stream",
          "text": [
            "Adv accuracy: 96.964\n",
            "Evaluating model /content/gdrive/My Drive/Colab Notebooks/newlogic/output/cnn-mnist-relu-maxfit_l1_01_05.pkl\n"
          ],
          "name": "stdout"
        },
        {
          "output_type": "stream",
          "text": [
            "100%|██████████| 79/79 [00:03<00:00, 20.67it/s]\n",
            "  0%|          | 0/79 [00:00<?, ?it/s]"
          ],
          "name": "stderr"
        },
        {
          "output_type": "stream",
          "text": [
            "Adv accuracy: 95.807\n",
            "Evaluating model /content/gdrive/My Drive/Colab Notebooks/newlogic/output/cnn-mnist-relu-maxfit_l2_01_05.pkl\n"
          ],
          "name": "stdout"
        },
        {
          "output_type": "stream",
          "text": [
            "100%|██████████| 79/79 [00:03<00:00, 20.64it/s]"
          ],
          "name": "stderr"
        }
      ]
    },
    {
      "cell_type": "code",
      "metadata": {
        "id": "ZAMmqMeob9U0",
        "colab_type": "code",
        "colab": {}
      },
      "source": [
        "pd.DataFrame(results).to_csv(home_dir + '/output/mnist-fgm-results.csv', index=False)"
      ],
      "execution_count": 0,
      "outputs": []
    },
    {
      "cell_type": "code",
      "metadata": {
        "id": "8SdDIDc5b9Px",
        "colab_type": "code",
        "colab": {
          "base_uri": "https://localhost:8080/",
          "height": 298
        },
        "outputId": "d2b9a0c5-266a-403b-a18c-1dcb853dc6ba"
      },
      "source": [
        "results = []\n",
        "for attack_spec in attack_specs:\n",
        "    for model_name in models.name.iloc[-1:]:\n",
        "        evaluate_model(home_dir + '/output/' + model_name + '.pkl', **attack_spec)"
      ],
      "execution_count": 14,
      "outputs": [
        {
          "output_type": "stream",
          "text": [
            "Evaluating model /content/gdrive/My Drive/Colab Notebooks/newlogic/output/cnn-mnist-relog-kernel-minmaxout_4_2-sigmoid_out-max_margin.pkl\n"
          ],
          "name": "stdout"
        },
        {
          "output_type": "stream",
          "text": [
            "100%|██████████| 79/79 [00:06<00:00, 12.52it/s]\n",
            "  0%|          | 0/79 [00:00<?, ?it/s]"
          ],
          "name": "stderr"
        },
        {
          "output_type": "stream",
          "text": [
            "Adv accuracy: 93.602\n",
            "Evaluating model /content/gdrive/My Drive/Colab Notebooks/newlogic/output/cnn-mnist-relog-kernel-minmaxout_4_2-sigmoid_out-max_margin.pkl\n"
          ],
          "name": "stdout"
        },
        {
          "output_type": "stream",
          "text": [
            "100%|██████████| 79/79 [00:05<00:00, 13.24it/s]\n",
            "  0%|          | 0/79 [00:00<?, ?it/s]"
          ],
          "name": "stderr"
        },
        {
          "output_type": "stream",
          "text": [
            "Adv accuracy: 82.516\n",
            "Evaluating model /content/gdrive/My Drive/Colab Notebooks/newlogic/output/cnn-mnist-relog-kernel-minmaxout_4_2-sigmoid_out-max_margin.pkl\n"
          ],
          "name": "stdout"
        },
        {
          "output_type": "stream",
          "text": [
            "100%|██████████| 79/79 [00:06<00:00, 13.15it/s]\n",
            "  0%|          | 0/79 [00:00<?, ?it/s]"
          ],
          "name": "stderr"
        },
        {
          "output_type": "stream",
          "text": [
            "Adv accuracy: 64.458\n",
            "Evaluating model /content/gdrive/My Drive/Colab Notebooks/newlogic/output/cnn-mnist-relog-kernel-minmaxout_4_2-sigmoid_out-max_margin.pkl\n"
          ],
          "name": "stdout"
        },
        {
          "output_type": "stream",
          "text": [
            "100%|██████████| 79/79 [00:06<00:00, 14.17it/s]\n",
            "  0%|          | 0/79 [00:00<?, ?it/s]"
          ],
          "name": "stderr"
        },
        {
          "output_type": "stream",
          "text": [
            "Adv accuracy: 88.726\n",
            "Evaluating model /content/gdrive/My Drive/Colab Notebooks/newlogic/output/cnn-mnist-relog-kernel-minmaxout_4_2-sigmoid_out-max_margin.pkl\n"
          ],
          "name": "stdout"
        },
        {
          "output_type": "stream",
          "text": [
            "100%|██████████| 79/79 [00:06<00:00, 13.31it/s]"
          ],
          "name": "stderr"
        },
        {
          "output_type": "stream",
          "text": [
            "Adv accuracy: 97.033\n"
          ],
          "name": "stdout"
        },
        {
          "output_type": "stream",
          "text": [
            "\n"
          ],
          "name": "stderr"
        }
      ]
    },
    {
      "cell_type": "code",
      "metadata": {
        "id": "6wIbPr1Uv9hW",
        "colab_type": "code",
        "colab": {}
      },
      "source": [
        ""
      ],
      "execution_count": 0,
      "outputs": []
    }
  ]
}