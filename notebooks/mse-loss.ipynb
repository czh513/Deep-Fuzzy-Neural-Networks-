{
 "cells": [
  {
   "cell_type": "code",
   "execution_count": 1,
   "metadata": {},
   "outputs": [],
   "source": [
    "import torch"
   ]
  },
  {
   "cell_type": "code",
   "execution_count": 2,
   "metadata": {},
   "outputs": [],
   "source": [
    "class WeightedMSELoss(object):\n",
    "\n",
    "    def __call__(self, preds, labels):\n",
    "        raw_loss = (preds-labels.float())**2\n",
    "        k = raw_loss.shape[1]-1\n",
    "        n = 1 / (k*2) # negative class weight\n",
    "        p = 1 / k # positive class weight\n",
    "        unit_weights = torch.ones_like(raw_loss)\n",
    "        weighted_loss = raw_loss * torch.where(labels == 1, unit_weights*p, unit_weights*n)\n",
    "        return weighted_loss.sum(dim=1).mean()"
   ]
  },
  {
   "cell_type": "code",
   "execution_count": 3,
   "metadata": {},
   "outputs": [],
   "source": [
    "loss = WeightedMSELoss()"
   ]
  },
  {
   "cell_type": "code",
   "execution_count": 7,
   "metadata": {},
   "outputs": [
    {
     "data": {
      "text/plain": [
       "tensor(0.0050)"
      ]
     },
     "execution_count": 7,
     "metadata": {},
     "output_type": "execute_result"
    }
   ],
   "source": [
    "preds = torch.tensor([\n",
    "    [0.9, 0, 0],\n",
    "])\n",
    "labels = torch.tensor([\n",
    "    [1, 0, 0],\n",
    "])\n",
    "loss(preds, labels)"
   ]
  },
  {
   "cell_type": "code",
   "execution_count": 11,
   "metadata": {},
   "outputs": [
    {
     "data": {
      "text/plain": [
       "tensor(0.7025)"
      ]
     },
     "execution_count": 11,
     "metadata": {},
     "output_type": "execute_result"
    }
   ],
   "source": [
    "preds = torch.tensor([\n",
    "    [0.9, 0, 0],\n",
    "])\n",
    "labels = torch.tensor([\n",
    "    [0, 1, 0],\n",
    "])\n",
    "loss(preds, labels)"
   ]
  },
  {
   "cell_type": "code",
   "execution_count": 8,
   "metadata": {},
   "outputs": [
    {
     "data": {
      "text/plain": [
       "tensor(0.1300)"
      ]
     },
     "execution_count": 8,
     "metadata": {},
     "output_type": "execute_result"
    }
   ],
   "source": [
    "preds = torch.tensor([\n",
    "    [0.9, 0.5, 0.5],\n",
    "])\n",
    "labels = torch.tensor([\n",
    "    [1, 0, 0],\n",
    "])\n",
    "loss(preds, labels)"
   ]
  },
  {
   "cell_type": "code",
   "execution_count": null,
   "metadata": {},
   "outputs": [],
   "source": [
    "preds = torch.tensor([\n",
    "    [0.9, 0, 0],\n",
    "])\n",
    "labels = torch.tensor([\n",
    "    [1, 0, 0],\n",
    "])\n",
    "loss(preds, labels)"
   ]
  },
  {
   "cell_type": "code",
   "execution_count": 10,
   "metadata": {},
   "outputs": [
    {
     "data": {
      "text/plain": [
       "tensor(0.0200)"
      ]
     },
     "execution_count": 10,
     "metadata": {},
     "output_type": "execute_result"
    }
   ],
   "source": [
    "preds = torch.tensor([\n",
    "    [1, 0.2, 0.2],\n",
    "])\n",
    "labels = torch.tensor([\n",
    "    [1, 0, 0],\n",
    "])\n",
    "loss(preds, labels)"
   ]
  },
  {
   "cell_type": "code",
   "execution_count": null,
   "metadata": {},
   "outputs": [],
   "source": []
  }
 ],
 "metadata": {
  "kernelspec": {
   "display_name": "conda-env-newlogic-py",
   "language": "python",
   "name": "conda-env-newlogic-py"
  },
  "language_info": {
   "codemirror_mode": {
    "name": "ipython",
    "version": 3
   },
   "file_extension": ".py",
   "mimetype": "text/x-python",
   "name": "python",
   "nbconvert_exporter": "python",
   "pygments_lexer": "ipython3",
   "version": "3.6.9"
  }
 },
 "nbformat": 4,
 "nbformat_minor": 4
}
