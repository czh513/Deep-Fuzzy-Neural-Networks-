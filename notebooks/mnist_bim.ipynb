{
  "nbformat": 4,
  "nbformat_minor": 0,
  "metadata": {
    "kernelspec": {
      "display_name": "conda-env-newlogic-py",
      "language": "python",
      "name": "conda-env-newlogic-py"
    },
    "language_info": {
      "codemirror_mode": {
        "name": "ipython",
        "version": 3
      },
      "file_extension": ".py",
      "mimetype": "text/x-python",
      "name": "python",
      "nbconvert_exporter": "python",
      "pygments_lexer": "ipython3",
      "version": "3.6.9"
    },
    "colab": {
      "name": "mnist-bim.ipynb",
      "provenance": [],
      "collapsed_sections": []
    },
    "accelerator": "GPU"
  },
  "cells": [
    {
      "cell_type": "code",
      "metadata": {
        "id": "1moux5E_LJwM",
        "colab_type": "code",
        "outputId": "7437c5ff-d77e-496c-a7f6-5cecbf81b210",
        "colab": {
          "base_uri": "https://localhost:8080/",
          "height": 54
        }
      },
      "source": [
        "from google.colab import drive\n",
        "drive.mount('/content/gdrive')"
      ],
      "execution_count": 1,
      "outputs": [
        {
          "output_type": "stream",
          "text": [
            "Drive already mounted at /content/gdrive; to attempt to forcibly remount, call drive.mount(\"/content/gdrive\", force_remount=True).\n"
          ],
          "name": "stdout"
        }
      ]
    },
    {
      "cell_type": "code",
      "metadata": {
        "id": "A3tWqwP6LqNu",
        "colab_type": "code",
        "outputId": "66267bea-5eca-4e01-b121-a72ccc445436",
        "colab": {
          "base_uri": "https://localhost:8080/",
          "height": 558
        }
      },
      "source": [
        "!pip install cleverhans==3.0.1 tensorflow==1.12.0"
      ],
      "execution_count": 2,
      "outputs": [
        {
          "output_type": "stream",
          "text": [
            "Requirement already satisfied: cleverhans==3.0.1 in /usr/local/lib/python3.6/dist-packages (3.0.1)\n",
            "Requirement already satisfied: tensorflow==1.12.0 in /usr/local/lib/python3.6/dist-packages (1.12.0)\n",
            "Requirement already satisfied: matplotlib in /usr/local/lib/python3.6/dist-packages (from cleverhans==3.0.1) (3.0.3)\n",
            "Requirement already satisfied: mnist~=0.2 in /usr/local/lib/python3.6/dist-packages (from cleverhans==3.0.1) (0.2.2)\n",
            "Requirement already satisfied: pycodestyle in /usr/local/lib/python3.6/dist-packages (from cleverhans==3.0.1) (2.5.0)\n",
            "Requirement already satisfied: numpy in /usr/local/lib/python3.6/dist-packages (from cleverhans==3.0.1) (1.16.5)\n",
            "Requirement already satisfied: tensorflow-probability in /usr/local/lib/python3.6/dist-packages (from cleverhans==3.0.1) (0.7.0)\n",
            "Requirement already satisfied: scipy in /usr/local/lib/python3.6/dist-packages (from cleverhans==3.0.1) (1.3.1)\n",
            "Requirement already satisfied: nose in /usr/local/lib/python3.6/dist-packages (from cleverhans==3.0.1) (1.3.7)\n",
            "Requirement already satisfied: tensorboard<1.13.0,>=1.12.0 in /usr/local/lib/python3.6/dist-packages (from tensorflow==1.12.0) (1.12.2)\n",
            "Requirement already satisfied: keras-applications>=1.0.6 in /usr/local/lib/python3.6/dist-packages (from tensorflow==1.12.0) (1.0.8)\n",
            "Requirement already satisfied: six>=1.10.0 in /usr/local/lib/python3.6/dist-packages (from tensorflow==1.12.0) (1.12.0)\n",
            "Requirement already satisfied: protobuf>=3.6.1 in /usr/local/lib/python3.6/dist-packages (from tensorflow==1.12.0) (3.10.0)\n",
            "Requirement already satisfied: absl-py>=0.1.6 in /usr/local/lib/python3.6/dist-packages (from tensorflow==1.12.0) (0.8.1)\n",
            "Requirement already satisfied: keras-preprocessing>=1.0.5 in /usr/local/lib/python3.6/dist-packages (from tensorflow==1.12.0) (1.1.0)\n",
            "Requirement already satisfied: gast>=0.2.0 in /usr/local/lib/python3.6/dist-packages (from tensorflow==1.12.0) (0.2.2)\n",
            "Requirement already satisfied: astor>=0.6.0 in /usr/local/lib/python3.6/dist-packages (from tensorflow==1.12.0) (0.8.0)\n",
            "Requirement already satisfied: termcolor>=1.1.0 in /usr/local/lib/python3.6/dist-packages (from tensorflow==1.12.0) (1.1.0)\n",
            "Requirement already satisfied: wheel>=0.26 in /usr/local/lib/python3.6/dist-packages (from tensorflow==1.12.0) (0.33.6)\n",
            "Requirement already satisfied: grpcio>=1.8.6 in /usr/local/lib/python3.6/dist-packages (from tensorflow==1.12.0) (1.15.0)\n",
            "Requirement already satisfied: kiwisolver>=1.0.1 in /usr/local/lib/python3.6/dist-packages (from matplotlib->cleverhans==3.0.1) (1.1.0)\n",
            "Requirement already satisfied: python-dateutil>=2.1 in /usr/local/lib/python3.6/dist-packages (from matplotlib->cleverhans==3.0.1) (2.5.3)\n",
            "Requirement already satisfied: cycler>=0.10 in /usr/local/lib/python3.6/dist-packages (from matplotlib->cleverhans==3.0.1) (0.10.0)\n",
            "Requirement already satisfied: pyparsing!=2.0.4,!=2.1.2,!=2.1.6,>=2.0.1 in /usr/local/lib/python3.6/dist-packages (from matplotlib->cleverhans==3.0.1) (2.4.2)\n",
            "Requirement already satisfied: decorator in /usr/local/lib/python3.6/dist-packages (from tensorflow-probability->cleverhans==3.0.1) (4.4.0)\n",
            "Requirement already satisfied: cloudpickle>=0.6.1 in /usr/local/lib/python3.6/dist-packages (from tensorflow-probability->cleverhans==3.0.1) (0.6.1)\n",
            "Requirement already satisfied: markdown>=2.6.8 in /usr/local/lib/python3.6/dist-packages (from tensorboard<1.13.0,>=1.12.0->tensorflow==1.12.0) (3.1.1)\n",
            "Requirement already satisfied: werkzeug>=0.11.10 in /usr/local/lib/python3.6/dist-packages (from tensorboard<1.13.0,>=1.12.0->tensorflow==1.12.0) (0.16.0)\n",
            "Requirement already satisfied: h5py in /usr/local/lib/python3.6/dist-packages (from keras-applications>=1.0.6->tensorflow==1.12.0) (2.8.0)\n",
            "Requirement already satisfied: setuptools in /usr/local/lib/python3.6/dist-packages (from protobuf>=3.6.1->tensorflow==1.12.0) (41.2.0)\n"
          ],
          "name": "stdout"
        }
      ]
    },
    {
      "cell_type": "code",
      "metadata": {
        "id": "Ki1VwwcOLIGO",
        "colab_type": "code",
        "colab": {
          "base_uri": "https://localhost:8080/",
          "height": 34
        },
        "outputId": "f581d5d6-8c0a-4fbb-bf12-2a371116a808"
      },
      "source": [
        "from cleverhans.attacks import BasicIterativeMethod\n",
        "from torchvision import datasets, transforms\n",
        "from adversarial import AdversarialExperiment\n",
        "import numpy as np\n",
        "import pandas as pd"
      ],
      "execution_count": 3,
      "outputs": [
        {
          "output_type": "stream",
          "text": [
            "Using device: cuda\n"
          ],
          "name": "stdout"
        }
      ]
    },
    {
      "cell_type": "code",
      "metadata": {
        "id": "IWxFKKVpLmpT",
        "colab_type": "code",
        "colab": {}
      },
      "source": [
        "home_dir = '/content/gdrive/My Drive/Colab Notebooks/newlogic'\n",
        "BATCH_SIZE = 100"
      ],
      "execution_count": 0,
      "outputs": []
    },
    {
      "cell_type": "code",
      "metadata": {
        "id": "8Wxr2WEQ-lcV",
        "colab_type": "code",
        "colab": {}
      },
      "source": [
        "test_data = datasets.MNIST(home_dir + '/mnist', train=False, transform=transforms.ToTensor())"
      ],
      "execution_count": 0,
      "outputs": []
    },
    {
      "cell_type": "code",
      "metadata": {
        "id": "-Z1PRS_A-88W",
        "colab_type": "code",
        "colab": {}
      },
      "source": [
        "models = pd.read_csv(home_dir + '/output/mnist-models.csv')"
      ],
      "execution_count": 0,
      "outputs": []
    },
    {
      "cell_type": "code",
      "metadata": {
        "id": "v0cWT4grb9Y1",
        "colab_type": "code",
        "colab": {}
      },
      "source": [
        "attack_specs = [\n",
        "    {'ord': 2, 'epsilon': 3},\n",
        "    {'ord': np.inf, 'epsilon': 0.3},\n",
        "]"
      ],
      "execution_count": 0,
      "outputs": []
    },
    {
      "cell_type": "code",
      "metadata": {
        "id": "n_COXg0wb-AL",
        "colab_type": "code",
        "outputId": "2acf950d-4214-418d-f43a-508d5fbd1b9f",
        "colab": {
          "base_uri": "https://localhost:8080/",
          "height": 1000
        }
      },
      "source": [
        "results = []\n",
        "for attack_spec in attack_specs:\n",
        "    bim_params = {\n",
        "        'ord': attack_spec['ord'], \n",
        "        'eps': attack_spec['epsilon'], \n",
        "        'clip_min': 0., 'clip_max': 1.,\n",
        "        'nb_iter': 50, 'eps_iter': .01\n",
        "    }\n",
        "    ex = AdversarialExperiment(BasicIterativeMethod, bim_params, test_data, \n",
        "                                batch_size=BATCH_SIZE)\n",
        "    for model_name in models.name:\n",
        "        print(attack_spec)\n",
        "        model_path = home_dir + '/output/' + model_name + '.pkl'\n",
        "        accuracies = ex.evaluate_model(model_path, num_batches=25)\n",
        "        results.append({\n",
        "            'model_name': model_name,\n",
        "            'accuracies': accuracies,\n",
        "            'logits': ex.saved_adv_preds.copy(),\n",
        "            'attack_type': 'BIM',\n",
        "            **attack_spec\n",
        "        })"
      ],
      "execution_count": 9,
      "outputs": [
        {
          "output_type": "stream",
          "text": [
            "{'ord': 2, 'epsilon': 3}\n",
            "Evaluating model: /content/gdrive/My Drive/Colab Notebooks/newlogic/output/cnn-mnist-relu.pkl\n"
          ],
          "name": "stdout"
        },
        {
          "output_type": "stream",
          "text": [
            "[INFO 2019-10-20 22:50:17,438 cleverhans] Constructing new graph for attack BasicIterativeMethod\n"
          ],
          "name": "stderr"
        },
        {
          "output_type": "stream",
          "text": [
            "Accuracy under attack: 0.96 (std=0.02)\n",
            "{'ord': 2, 'epsilon': 3}\n",
            "Evaluating model: /content/gdrive/My Drive/Colab Notebooks/newlogic/output/cnn-mnist-relu-maxfit_l1_01_05.pkl\n"
          ],
          "name": "stdout"
        },
        {
          "output_type": "stream",
          "text": [
            "[INFO 2019-10-20 22:50:28,922 cleverhans] Constructing new graph for attack BasicIterativeMethod\n"
          ],
          "name": "stderr"
        },
        {
          "output_type": "stream",
          "text": [
            "Accuracy under attack: 0.96 (std=0.02)\n",
            "{'ord': 2, 'epsilon': 3}\n",
            "Evaluating model: /content/gdrive/My Drive/Colab Notebooks/newlogic/output/cnn-mnist-relu-maxfit_l2_01_05.pkl\n"
          ],
          "name": "stdout"
        },
        {
          "output_type": "stream",
          "text": [
            "[INFO 2019-10-20 22:50:40,382 cleverhans] Constructing new graph for attack BasicIterativeMethod\n"
          ],
          "name": "stderr"
        },
        {
          "output_type": "stream",
          "text": [
            "Accuracy under attack: 0.96 (std=0.02)\n",
            "{'ord': 2, 'epsilon': 3}\n",
            "Evaluating model: /content/gdrive/My Drive/Colab Notebooks/newlogic/output/cnn-mnist-relu-maxmargin_l1_01_05.pkl\n"
          ],
          "name": "stdout"
        },
        {
          "output_type": "stream",
          "text": [
            "[INFO 2019-10-20 22:50:51,901 cleverhans] Constructing new graph for attack BasicIterativeMethod\n"
          ],
          "name": "stderr"
        },
        {
          "output_type": "stream",
          "text": [
            "Accuracy under attack: 0.96 (std=0.02)\n",
            "{'ord': 2, 'epsilon': 3}\n",
            "Evaluating model: /content/gdrive/My Drive/Colab Notebooks/newlogic/output/cnn-mnist-relu-maxmargin_l2_01_05.pkl\n"
          ],
          "name": "stdout"
        },
        {
          "output_type": "stream",
          "text": [
            "[INFO 2019-10-20 22:51:03,470 cleverhans] Constructing new graph for attack BasicIterativeMethod\n"
          ],
          "name": "stderr"
        },
        {
          "output_type": "stream",
          "text": [
            "Accuracy under attack: 0.96 (std=0.02)\n",
            "{'ord': 2, 'epsilon': 3}\n",
            "Evaluating model: /content/gdrive/My Drive/Colab Notebooks/newlogic/output/cnn-mnist-relog.pkl\n"
          ],
          "name": "stdout"
        },
        {
          "output_type": "stream",
          "text": [
            "[INFO 2019-10-20 22:51:15,279 cleverhans] Constructing new graph for attack BasicIterativeMethod\n"
          ],
          "name": "stderr"
        },
        {
          "output_type": "stream",
          "text": [
            "Accuracy under attack: 0.95 (std=0.02)\n",
            "{'ord': 2, 'epsilon': 3}\n",
            "Evaluating model: /content/gdrive/My Drive/Colab Notebooks/newlogic/output/cnn-mnist-relog-more-neurons.pkl\n"
          ],
          "name": "stdout"
        },
        {
          "output_type": "stream",
          "text": [
            "[INFO 2019-10-20 22:51:28,553 cleverhans] Constructing new graph for attack BasicIterativeMethod\n"
          ],
          "name": "stderr"
        },
        {
          "output_type": "stream",
          "text": [
            "Accuracy under attack: 0.95 (std=0.02)\n",
            "{'ord': 2, 'epsilon': 3}\n",
            "Evaluating model: /content/gdrive/My Drive/Colab Notebooks/newlogic/output/cnn-mnist-relog-maxout_2.pkl\n"
          ],
          "name": "stdout"
        },
        {
          "output_type": "stream",
          "text": [
            "[INFO 2019-10-20 22:52:02,960 cleverhans] Constructing new graph for attack BasicIterativeMethod\n"
          ],
          "name": "stderr"
        },
        {
          "output_type": "stream",
          "text": [
            "Accuracy under attack: 0.96 (std=0.02)\n",
            "{'ord': 2, 'epsilon': 3}\n",
            "Evaluating model: /content/gdrive/My Drive/Colab Notebooks/newlogic/output/cnn-mnist-relog-minmaxout_4_2.pkl\n"
          ],
          "name": "stdout"
        },
        {
          "output_type": "stream",
          "text": [
            "[INFO 2019-10-20 22:52:21,010 cleverhans] Constructing new graph for attack BasicIterativeMethod\n"
          ],
          "name": "stderr"
        },
        {
          "output_type": "stream",
          "text": [
            "Accuracy under attack: 0.97 (std=0.01)\n",
            "{'ord': 2, 'epsilon': 3}\n",
            "Evaluating model: /content/gdrive/My Drive/Colab Notebooks/newlogic/output/cnn-mnist-relog-minmaxout_4_2-sigmoid_out.pkl\n"
          ],
          "name": "stdout"
        },
        {
          "output_type": "stream",
          "text": [
            "[INFO 2019-10-20 22:53:07,761 cleverhans] Constructing new graph for attack BasicIterativeMethod\n"
          ],
          "name": "stderr"
        },
        {
          "output_type": "stream",
          "text": [
            "Accuracy under attack: 0.97 (std=0.02)\n",
            "{'ord': 2, 'epsilon': 3}\n",
            "Evaluating model: /content/gdrive/My Drive/Colab Notebooks/newlogic/output/cnn-mnist-relog-spherical-minmaxout_4_2-sigmoid_out.pkl\n"
          ],
          "name": "stdout"
        },
        {
          "output_type": "stream",
          "text": [
            "[INFO 2019-10-20 22:53:54,727 cleverhans] Constructing new graph for attack BasicIterativeMethod\n"
          ],
          "name": "stderr"
        },
        {
          "output_type": "stream",
          "text": [
            "Accuracy under attack: 0.96 (std=0.02)\n",
            "{'ord': 2, 'epsilon': 3}\n",
            "Evaluating model: /content/gdrive/My Drive/Colab Notebooks/newlogic/output/cnn-mnist-relog-spherical-minmaxout_4_2-sigmoid_out-max_fit_l1_1.pkl\n"
          ],
          "name": "stdout"
        },
        {
          "output_type": "stream",
          "text": [
            "[INFO 2019-10-20 22:55:14,484 cleverhans] Constructing new graph for attack BasicIterativeMethod\n"
          ],
          "name": "stderr"
        },
        {
          "output_type": "stream",
          "text": [
            "Accuracy under attack: 0.96 (std=0.02)\n",
            "{'ord': 2, 'epsilon': 3}\n",
            "Evaluating model: /content/gdrive/My Drive/Colab Notebooks/newlogic/output/cnn-mnist-relog-spherical-minmaxout_4_2-sigmoid_out-max_fit_l1_1-scrambling.pkl\n"
          ],
          "name": "stdout"
        },
        {
          "output_type": "stream",
          "text": [
            "[INFO 2019-10-20 22:56:34,327 cleverhans] Constructing new graph for attack BasicIterativeMethod\n",
            "[INFO 2019-10-20 22:57:53,627 cleverhans] Constructing new graph for attack BasicIterativeMethod\n"
          ],
          "name": "stderr"
        },
        {
          "output_type": "stream",
          "text": [
            "Accuracy under attack: 0.96 (std=0.02)\n",
            "{'ord': inf, 'epsilon': 0.3}\n",
            "Evaluating model: /content/gdrive/My Drive/Colab Notebooks/newlogic/output/cnn-mnist-relu.pkl\n"
          ],
          "name": "stdout"
        },
        {
          "output_type": "stream",
          "text": [
            "[INFO 2019-10-20 22:58:04,601 cleverhans] Constructing new graph for attack BasicIterativeMethod\n"
          ],
          "name": "stderr"
        },
        {
          "output_type": "stream",
          "text": [
            "Accuracy under attack: 0.02 (std=0.01)\n",
            "{'ord': inf, 'epsilon': 0.3}\n",
            "Evaluating model: /content/gdrive/My Drive/Colab Notebooks/newlogic/output/cnn-mnist-relu-maxfit_l1_01_05.pkl\n"
          ],
          "name": "stdout"
        },
        {
          "output_type": "stream",
          "text": [
            "[INFO 2019-10-20 22:58:15,453 cleverhans] Constructing new graph for attack BasicIterativeMethod\n"
          ],
          "name": "stderr"
        },
        {
          "output_type": "stream",
          "text": [
            "Accuracy under attack: 0.03 (std=0.01)\n",
            "{'ord': inf, 'epsilon': 0.3}\n",
            "Evaluating model: /content/gdrive/My Drive/Colab Notebooks/newlogic/output/cnn-mnist-relu-maxfit_l2_01_05.pkl\n"
          ],
          "name": "stdout"
        },
        {
          "output_type": "stream",
          "text": [
            "[INFO 2019-10-20 22:58:26,687 cleverhans] Constructing new graph for attack BasicIterativeMethod\n"
          ],
          "name": "stderr"
        },
        {
          "output_type": "stream",
          "text": [
            "Accuracy under attack: 0.02 (std=0.01)\n",
            "{'ord': inf, 'epsilon': 0.3}\n",
            "Evaluating model: /content/gdrive/My Drive/Colab Notebooks/newlogic/output/cnn-mnist-relu-maxmargin_l1_01_05.pkl\n"
          ],
          "name": "stdout"
        },
        {
          "output_type": "stream",
          "text": [
            "[INFO 2019-10-20 22:58:37,614 cleverhans] Constructing new graph for attack BasicIterativeMethod\n"
          ],
          "name": "stderr"
        },
        {
          "output_type": "stream",
          "text": [
            "Accuracy under attack: 0.02 (std=0.02)\n",
            "{'ord': inf, 'epsilon': 0.3}\n",
            "Evaluating model: /content/gdrive/My Drive/Colab Notebooks/newlogic/output/cnn-mnist-relu-maxmargin_l2_01_05.pkl\n"
          ],
          "name": "stdout"
        },
        {
          "output_type": "stream",
          "text": [
            "[INFO 2019-10-20 22:58:48,764 cleverhans] Constructing new graph for attack BasicIterativeMethod\n"
          ],
          "name": "stderr"
        },
        {
          "output_type": "stream",
          "text": [
            "Accuracy under attack: 0.02 (std=0.01)\n",
            "{'ord': inf, 'epsilon': 0.3}\n",
            "Evaluating model: /content/gdrive/My Drive/Colab Notebooks/newlogic/output/cnn-mnist-relog.pkl\n"
          ],
          "name": "stdout"
        },
        {
          "output_type": "stream",
          "text": [
            "[INFO 2019-10-20 22:59:01,677 cleverhans] Constructing new graph for attack BasicIterativeMethod\n"
          ],
          "name": "stderr"
        },
        {
          "output_type": "stream",
          "text": [
            "Accuracy under attack: 0.03 (std=0.02)\n",
            "{'ord': inf, 'epsilon': 0.3}\n",
            "Evaluating model: /content/gdrive/My Drive/Colab Notebooks/newlogic/output/cnn-mnist-relog-more-neurons.pkl\n"
          ],
          "name": "stdout"
        },
        {
          "output_type": "stream",
          "text": [
            "[INFO 2019-10-20 22:59:35,502 cleverhans] Constructing new graph for attack BasicIterativeMethod\n"
          ],
          "name": "stderr"
        },
        {
          "output_type": "stream",
          "text": [
            "Accuracy under attack: 0.04 (std=0.02)\n",
            "{'ord': inf, 'epsilon': 0.3}\n",
            "Evaluating model: /content/gdrive/My Drive/Colab Notebooks/newlogic/output/cnn-mnist-relog-maxout_2.pkl\n"
          ],
          "name": "stdout"
        },
        {
          "output_type": "stream",
          "text": [
            "[INFO 2019-10-20 22:59:53,028 cleverhans] Constructing new graph for attack BasicIterativeMethod\n"
          ],
          "name": "stderr"
        },
        {
          "output_type": "stream",
          "text": [
            "Accuracy under attack: 0.09 (std=0.03)\n",
            "{'ord': inf, 'epsilon': 0.3}\n",
            "Evaluating model: /content/gdrive/My Drive/Colab Notebooks/newlogic/output/cnn-mnist-relog-minmaxout_4_2.pkl\n"
          ],
          "name": "stdout"
        },
        {
          "output_type": "stream",
          "text": [
            "[INFO 2019-10-20 23:00:39,272 cleverhans] Constructing new graph for attack BasicIterativeMethod\n"
          ],
          "name": "stderr"
        },
        {
          "output_type": "stream",
          "text": [
            "Accuracy under attack: 0.21 (std=0.04)\n",
            "{'ord': inf, 'epsilon': 0.3}\n",
            "Evaluating model: /content/gdrive/My Drive/Colab Notebooks/newlogic/output/cnn-mnist-relog-minmaxout_4_2-sigmoid_out.pkl\n"
          ],
          "name": "stdout"
        },
        {
          "output_type": "stream",
          "text": [
            "[INFO 2019-10-20 23:01:25,564 cleverhans] Constructing new graph for attack BasicIterativeMethod\n"
          ],
          "name": "stderr"
        },
        {
          "output_type": "stream",
          "text": [
            "Accuracy under attack: 0.31 (std=0.04)\n",
            "{'ord': inf, 'epsilon': 0.3}\n",
            "Evaluating model: /content/gdrive/My Drive/Colab Notebooks/newlogic/output/cnn-mnist-relog-spherical-minmaxout_4_2-sigmoid_out.pkl\n"
          ],
          "name": "stdout"
        },
        {
          "output_type": "stream",
          "text": [
            "[INFO 2019-10-20 23:02:44,816 cleverhans] Constructing new graph for attack BasicIterativeMethod\n"
          ],
          "name": "stderr"
        },
        {
          "output_type": "stream",
          "text": [
            "Accuracy under attack: 0.42 (std=0.04)\n",
            "{'ord': inf, 'epsilon': 0.3}\n",
            "Evaluating model: /content/gdrive/My Drive/Colab Notebooks/newlogic/output/cnn-mnist-relog-spherical-minmaxout_4_2-sigmoid_out-max_fit_l1_1.pkl\n"
          ],
          "name": "stdout"
        },
        {
          "output_type": "stream",
          "text": [
            "[INFO 2019-10-20 23:04:04,103 cleverhans] Constructing new graph for attack BasicIterativeMethod\n"
          ],
          "name": "stderr"
        },
        {
          "output_type": "stream",
          "text": [
            "Accuracy under attack: 0.49 (std=0.05)\n",
            "{'ord': inf, 'epsilon': 0.3}\n",
            "Evaluating model: /content/gdrive/My Drive/Colab Notebooks/newlogic/output/cnn-mnist-relog-spherical-minmaxout_4_2-sigmoid_out-max_fit_l1_1-scrambling.pkl\n",
            "Accuracy under attack: 0.54 (std=0.05)\n"
          ],
          "name": "stdout"
        }
      ]
    },
    {
      "cell_type": "code",
      "metadata": {
        "id": "ZAMmqMeob9U0",
        "colab_type": "code",
        "colab": {}
      },
      "source": [
        "pd.DataFrame(results).to_json(home_dir + '/output/mnist-bim-results.json')"
      ],
      "execution_count": 0,
      "outputs": []
    },
    {
      "cell_type": "code",
      "metadata": {
        "colab_type": "code",
        "id": "Vx4kUp7RBWBp",
        "colab": {}
      },
      "source": [
        "# for attack_spec in attack_specs:\n",
        "#     bim_params = {\n",
        "#         'ord': attack_spec['ord'], \n",
        "#         'eps': attack_spec['epsilon'], \n",
        "#         'clip_min': 0., 'clip_max': 1.,\n",
        "#         'nb_iter': 50, 'eps_iter': .01\n",
        "#     }\n",
        "#     ex = AdversarialExperiment(BasicIterativeMethod, bim_params, test_data, \n",
        "#                                 batch_size=BATCH_SIZE)\n",
        "#     for model_name in models.iloc[-5:].name:\n",
        "#         model_path = home_dir + '/output/' + model_name + '.pkl'\n",
        "#         ex.evaluate_model(model_path, num_batches=25)"
      ],
      "execution_count": 0,
      "outputs": []
    },
    {
      "cell_type": "code",
      "metadata": {
        "id": "6wIbPr1Uv9hW",
        "colab_type": "code",
        "colab": {}
      },
      "source": [
        ""
      ],
      "execution_count": 0,
      "outputs": []
    }
  ]
}