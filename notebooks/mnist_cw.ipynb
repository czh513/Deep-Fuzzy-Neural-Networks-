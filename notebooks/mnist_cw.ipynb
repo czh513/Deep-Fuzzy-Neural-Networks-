{
  "nbformat": 4,
  "nbformat_minor": 0,
  "metadata": {
    "colab": {
      "name": "mnist-cw.ipynb",
      "provenance": [],
      "collapsed_sections": []
    },
    "kernelspec": {
      "name": "python3",
      "display_name": "Python 3"
    },
    "accelerator": "GPU"
  },
  "cells": [
    {
      "cell_type": "code",
      "metadata": {
        "id": "GfDJ7wlBSYH1",
        "colab_type": "code",
        "outputId": "e162e3e5-0762-4385-acdf-e1dc88d54d4c",
        "colab": {
          "base_uri": "https://localhost:8080/",
          "height": 124
        }
      },
      "source": [
        "from google.colab import drive\n",
        "drive.mount('/content/gdrive')"
      ],
      "execution_count": 1,
      "outputs": [
        {
          "output_type": "stream",
          "text": [
            "Go to this URL in a browser: https://accounts.google.com/o/oauth2/auth?client_id=947318989803-6bn6qk8qdgf4n4g3pfee6491hc0brc4i.apps.googleusercontent.com&redirect_uri=urn%3Aietf%3Awg%3Aoauth%3A2.0%3Aoob&scope=email%20https%3A%2F%2Fwww.googleapis.com%2Fauth%2Fdocs.test%20https%3A%2F%2Fwww.googleapis.com%2Fauth%2Fdrive%20https%3A%2F%2Fwww.googleapis.com%2Fauth%2Fdrive.photos.readonly%20https%3A%2F%2Fwww.googleapis.com%2Fauth%2Fpeopleapi.readonly&response_type=code\n",
            "\n",
            "Enter your authorization code:\n",
            "··········\n",
            "Mounted at /content/gdrive\n"
          ],
          "name": "stdout"
        }
      ]
    },
    {
      "cell_type": "code",
      "metadata": {
        "id": "uaelzeA9SZgX",
        "colab_type": "code",
        "outputId": "46b66f5f-dc5c-4903-ec0e-7b42e8c9d1e9",
        "colab": {
          "base_uri": "https://localhost:8080/",
          "height": 1000
        }
      },
      "source": [
        "!pip install cleverhans==3.0.1 tensorflow==1.8.0"
      ],
      "execution_count": 2,
      "outputs": [
        {
          "output_type": "stream",
          "text": [
            "Collecting cleverhans==3.0.1\n",
            "\u001b[?25l  Downloading https://files.pythonhosted.org/packages/ac/a0/f0b4386b719f343c4ed3e13cd7792a7a7a4674566ca9b2b34a09b7424220/cleverhans-3.0.1-py3-none-any.whl (198kB)\n",
            "\r\u001b[K     |█▋                              | 10kB 17.1MB/s eta 0:00:01\r\u001b[K     |███▎                            | 20kB 2.2MB/s eta 0:00:01\r\u001b[K     |█████                           | 30kB 3.2MB/s eta 0:00:01\r\u001b[K     |██████▋                         | 40kB 2.1MB/s eta 0:00:01\r\u001b[K     |████████▎                       | 51kB 2.6MB/s eta 0:00:01\r\u001b[K     |██████████                      | 61kB 3.1MB/s eta 0:00:01\r\u001b[K     |███████████▋                    | 71kB 3.5MB/s eta 0:00:01\r\u001b[K     |█████████████▎                  | 81kB 4.0MB/s eta 0:00:01\r\u001b[K     |██████████████▉                 | 92kB 4.5MB/s eta 0:00:01\r\u001b[K     |████████████████▌               | 102kB 3.5MB/s eta 0:00:01\r\u001b[K     |██████████████████▏             | 112kB 3.5MB/s eta 0:00:01\r\u001b[K     |███████████████████▉            | 122kB 3.5MB/s eta 0:00:01\r\u001b[K     |█████████████████████▌          | 133kB 3.5MB/s eta 0:00:01\r\u001b[K     |███████████████████████▏        | 143kB 3.5MB/s eta 0:00:01\r\u001b[K     |████████████████████████▉       | 153kB 3.5MB/s eta 0:00:01\r\u001b[K     |██████████████████████████▌     | 163kB 3.5MB/s eta 0:00:01\r\u001b[K     |████████████████████████████    | 174kB 3.5MB/s eta 0:00:01\r\u001b[K     |█████████████████████████████▊  | 184kB 3.5MB/s eta 0:00:01\r\u001b[K     |███████████████████████████████▍| 194kB 3.5MB/s eta 0:00:01\r\u001b[K     |████████████████████████████████| 204kB 3.5MB/s \n",
            "\u001b[?25hCollecting tensorflow==1.8.0\n",
            "\u001b[?25l  Downloading https://files.pythonhosted.org/packages/22/c6/d08f7c549330c2acc1b18b5c1f0f8d9d2af92f54d56861f331f372731671/tensorflow-1.8.0-cp36-cp36m-manylinux1_x86_64.whl (49.1MB)\n",
            "\u001b[K     |████████████████████████████████| 49.1MB 1.7MB/s \n",
            "\u001b[?25hRequirement already satisfied: scipy in /usr/local/lib/python3.6/dist-packages (from cleverhans==3.0.1) (1.3.1)\n",
            "Collecting pycodestyle (from cleverhans==3.0.1)\n",
            "\u001b[?25l  Downloading https://files.pythonhosted.org/packages/0e/0c/04a353e104d2f324f8ee5f4b32012618c1c86dd79e52a433b64fceed511b/pycodestyle-2.5.0-py2.py3-none-any.whl (51kB)\n",
            "\u001b[K     |████████████████████████████████| 51kB 21.9MB/s \n",
            "\u001b[?25hRequirement already satisfied: matplotlib in /usr/local/lib/python3.6/dist-packages (from cleverhans==3.0.1) (3.0.3)\n",
            "Requirement already satisfied: tensorflow-probability in /usr/local/lib/python3.6/dist-packages (from cleverhans==3.0.1) (0.7.0)\n",
            "Collecting mnist~=0.2 (from cleverhans==3.0.1)\n",
            "  Downloading https://files.pythonhosted.org/packages/c6/c4/5db3bfe009f8d71f1d532bbadbd0ec203764bba3a469e4703a889db8e5e0/mnist-0.2.2-py2.py3-none-any.whl\n",
            "Collecting nose (from cleverhans==3.0.1)\n",
            "\u001b[?25l  Downloading https://files.pythonhosted.org/packages/15/d8/dd071918c040f50fa1cf80da16423af51ff8ce4a0f2399b7bf8de45ac3d9/nose-1.3.7-py3-none-any.whl (154kB)\n",
            "\u001b[K     |████████████████████████████████| 163kB 49.7MB/s \n",
            "\u001b[?25hRequirement already satisfied: numpy in /usr/local/lib/python3.6/dist-packages (from cleverhans==3.0.1) (1.16.5)\n",
            "Requirement already satisfied: absl-py>=0.1.6 in /usr/local/lib/python3.6/dist-packages (from tensorflow==1.8.0) (0.8.1)\n",
            "Requirement already satisfied: wheel>=0.26 in /usr/local/lib/python3.6/dist-packages (from tensorflow==1.8.0) (0.33.6)\n",
            "Requirement already satisfied: six>=1.10.0 in /usr/local/lib/python3.6/dist-packages (from tensorflow==1.8.0) (1.12.0)\n",
            "Requirement already satisfied: astor>=0.6.0 in /usr/local/lib/python3.6/dist-packages (from tensorflow==1.8.0) (0.8.0)\n",
            "Requirement already satisfied: gast>=0.2.0 in /usr/local/lib/python3.6/dist-packages (from tensorflow==1.8.0) (0.2.2)\n",
            "Collecting tensorboard<1.9.0,>=1.8.0 (from tensorflow==1.8.0)\n",
            "\u001b[?25l  Downloading https://files.pythonhosted.org/packages/59/a6/0ae6092b7542cfedba6b2a1c9b8dceaf278238c39484f3ba03b03f07803c/tensorboard-1.8.0-py3-none-any.whl (3.1MB)\n",
            "\u001b[K     |████████████████████████████████| 3.1MB 32.4MB/s \n",
            "\u001b[?25hRequirement already satisfied: grpcio>=1.8.6 in /usr/local/lib/python3.6/dist-packages (from tensorflow==1.8.0) (1.15.0)\n",
            "Requirement already satisfied: protobuf>=3.4.0 in /usr/local/lib/python3.6/dist-packages (from tensorflow==1.8.0) (3.10.0)\n",
            "Requirement already satisfied: termcolor>=1.1.0 in /usr/local/lib/python3.6/dist-packages (from tensorflow==1.8.0) (1.1.0)\n",
            "Requirement already satisfied: pyparsing!=2.0.4,!=2.1.2,!=2.1.6,>=2.0.1 in /usr/local/lib/python3.6/dist-packages (from matplotlib->cleverhans==3.0.1) (2.4.2)\n",
            "Requirement already satisfied: cycler>=0.10 in /usr/local/lib/python3.6/dist-packages (from matplotlib->cleverhans==3.0.1) (0.10.0)\n",
            "Requirement already satisfied: python-dateutil>=2.1 in /usr/local/lib/python3.6/dist-packages (from matplotlib->cleverhans==3.0.1) (2.5.3)\n",
            "Requirement already satisfied: kiwisolver>=1.0.1 in /usr/local/lib/python3.6/dist-packages (from matplotlib->cleverhans==3.0.1) (1.1.0)\n",
            "Requirement already satisfied: decorator in /usr/local/lib/python3.6/dist-packages (from tensorflow-probability->cleverhans==3.0.1) (4.4.0)\n",
            "Requirement already satisfied: cloudpickle>=0.6.1 in /usr/local/lib/python3.6/dist-packages (from tensorflow-probability->cleverhans==3.0.1) (0.6.1)\n",
            "Requirement already satisfied: markdown>=2.6.8 in /usr/local/lib/python3.6/dist-packages (from tensorboard<1.9.0,>=1.8.0->tensorflow==1.8.0) (3.1.1)\n",
            "Collecting html5lib==0.9999999 (from tensorboard<1.9.0,>=1.8.0->tensorflow==1.8.0)\n",
            "\u001b[?25l  Downloading https://files.pythonhosted.org/packages/ae/ae/bcb60402c60932b32dfaf19bb53870b29eda2cd17551ba5639219fb5ebf9/html5lib-0.9999999.tar.gz (889kB)\n",
            "\u001b[K     |████████████████████████████████| 890kB 37.5MB/s \n",
            "\u001b[?25hCollecting bleach==1.5.0 (from tensorboard<1.9.0,>=1.8.0->tensorflow==1.8.0)\n",
            "  Downloading https://files.pythonhosted.org/packages/33/70/86c5fec937ea4964184d4d6c4f0b9551564f821e1c3575907639036d9b90/bleach-1.5.0-py2.py3-none-any.whl\n",
            "Requirement already satisfied: werkzeug>=0.11.10 in /usr/local/lib/python3.6/dist-packages (from tensorboard<1.9.0,>=1.8.0->tensorflow==1.8.0) (0.16.0)\n",
            "Requirement already satisfied: setuptools in /usr/local/lib/python3.6/dist-packages (from protobuf>=3.4.0->tensorflow==1.8.0) (41.2.0)\n",
            "Building wheels for collected packages: html5lib\n",
            "  Building wheel for html5lib (setup.py) ... \u001b[?25l\u001b[?25hdone\n",
            "  Created wheel for html5lib: filename=html5lib-0.9999999-cp36-none-any.whl size=107221 sha256=36abda1bb36682ddf7edad93c1098ad55dd8b7411455b88c26c9b7c2c63690c0\n",
            "  Stored in directory: /root/.cache/pip/wheels/50/ae/f9/d2b189788efcf61d1ee0e36045476735c838898eef1cad6e29\n",
            "Successfully built html5lib\n",
            "\u001b[31mERROR: magenta 0.3.19 has requirement tensorflow>=1.12.0, but you'll have tensorflow 1.8.0 which is incompatible.\u001b[0m\n",
            "Installing collected packages: pycodestyle, mnist, nose, cleverhans, html5lib, bleach, tensorboard, tensorflow\n",
            "  Found existing installation: html5lib 1.0.1\n",
            "    Uninstalling html5lib-1.0.1:\n",
            "      Successfully uninstalled html5lib-1.0.1\n",
            "  Found existing installation: bleach 3.1.0\n",
            "    Uninstalling bleach-3.1.0:\n",
            "      Successfully uninstalled bleach-3.1.0\n",
            "  Found existing installation: tensorboard 1.15.0\n",
            "    Uninstalling tensorboard-1.15.0:\n",
            "      Successfully uninstalled tensorboard-1.15.0\n",
            "  Found existing installation: tensorflow 1.15.0rc3\n",
            "    Uninstalling tensorflow-1.15.0rc3:\n",
            "      Successfully uninstalled tensorflow-1.15.0rc3\n",
            "Successfully installed bleach-1.5.0 cleverhans-3.0.1 html5lib-0.9999999 mnist-0.2.2 nose-1.3.7 pycodestyle-2.5.0 tensorboard-1.8.0 tensorflow-1.8.0\n"
          ],
          "name": "stdout"
        }
      ]
    },
    {
      "cell_type": "code",
      "metadata": {
        "id": "TEwbSa8rShqk",
        "colab_type": "code",
        "colab": {}
      },
      "source": [
        "home_dir = '/content/gdrive/My Drive/Colab Notebooks/newlogic'\n",
        "import sys\n",
        "sys.path.append(home_dir)"
      ],
      "execution_count": 0,
      "outputs": []
    },
    {
      "cell_type": "code",
      "metadata": {
        "id": "zJ8oykUtsjBj",
        "colab_type": "code",
        "colab": {}
      },
      "source": [
        "# model_path = home_dir + '/output/cnn-mnist-relu.pkl'\n",
        "# model_path = home_dir + '/output/cnn-mnist-relu-kernel.pkl'\n",
        "# model_path = home_dir + '/output/cnn-mnist-relog.pkl'\n",
        "# model_path = home_dir + '/output/cnn-mnist-relu-kernel.pkl'\n",
        "# model_path = home_dir + '/output/cnn-mnist-relu-kernel-sigmoid_out-strictening_1.pkl'\n",
        "# model_path = home_dir + '/output/cnn-mnist-relog-kernel-minmaxout_4_2-sigmoid-out-strictening_1.pkl'\n",
        "# model_path = home_dir + '/output/cnn-mnist-relog-kernel-minmaxout_4_2-sigmoid-out.pkl'"
      ],
      "execution_count": 0,
      "outputs": []
    },
    {
      "cell_type": "code",
      "metadata": {
        "id": "cP6HFYu6SkUw",
        "colab_type": "code",
        "colab": {}
      },
      "source": [
        "from cleverhans.attacks import SaliencyMapMethod\n",
        "from cleverhans.dataset import MNIST\n",
        "from cleverhans.loss import CrossEntropy\n",
        "from cleverhans.utils import other_classes, set_log_level\n",
        "from cleverhans.utils import pair_visual, grid_visual, AccuracyReport\n",
        "from cleverhans.utils_tf import model_eval, model_argmax\n",
        "from cleverhans.train import train\n",
        "from cleverhans.utils_pytorch import convert_pytorch_model_to_tf\n",
        "from cleverhans.model import CallableModelWrapper\n",
        "from cleverhans.attacks import CarliniWagnerL2"
      ],
      "execution_count": 0,
      "outputs": []
    },
    {
      "cell_type": "code",
      "metadata": {
        "id": "Wc33S-yoS7oS",
        "colab_type": "code",
        "colab": {}
      },
      "source": [
        "import numpy as np\n",
        "from six.moves import xrange\n",
        "import tensorflow as tf\n",
        "import torch\n",
        "from torchvision import datasets, transforms"
      ],
      "execution_count": 0,
      "outputs": []
    },
    {
      "cell_type": "code",
      "metadata": {
        "id": "LmXiVYmwga9J",
        "colab_type": "code",
        "colab": {}
      },
      "source": [
        "import pandas as pd"
      ],
      "execution_count": 0,
      "outputs": []
    },
    {
      "cell_type": "code",
      "metadata": {
        "id": "ecz7EDL8TEfk",
        "colab_type": "code",
        "outputId": "0e539963-d778-471d-b822-a2523aab94d5",
        "colab": {
          "base_uri": "https://localhost:8080/",
          "height": 34
        }
      },
      "source": [
        "# Create TF session and set as Keras backend session\n",
        "sess = tf.Session()\n",
        "print(\"Created TensorFlow session.\")"
      ],
      "execution_count": 8,
      "outputs": [
        {
          "output_type": "stream",
          "text": [
            "Created TensorFlow session.\n"
          ],
          "name": "stdout"
        }
      ]
    },
    {
      "cell_type": "code",
      "metadata": {
        "id": "KkJTyKuufjKS",
        "colab_type": "code",
        "colab": {}
      },
      "source": [
        "nb_classes = 10\n",
        "source_samples = 100\n",
        "attack_iterations = 1000\n",
        "\n",
        "VIZ_ENABLED = viz_enabled = True\n",
        "BATCH_SIZE = 128\n",
        "NB_EPOCHS = 6\n",
        "SOURCE_SAMPLES = 10\n",
        "LEARNING_RATE = .001\n",
        "CW_LEARNING_RATE = .2\n",
        "ATTACK_ITERATIONS = 100\n",
        "TARGETED = targeted = False"
      ],
      "execution_count": 0,
      "outputs": []
    },
    {
      "cell_type": "code",
      "metadata": {
        "id": "DQiFXKLkfZ5t",
        "colab_type": "code",
        "colab": {}
      },
      "source": [
        "def evaluate_model(model_path):\n",
        "  print('Evaluating model: ' + model_path)\n",
        "\n",
        "  torch_model_orig = torch.load(model_path)\n",
        "  torch_model = lambda x: torch_model_orig(x)[0] # to standard format\n",
        "  tf_model_fn = convert_pytorch_model_to_tf(torch_model, out_dims=10)    \n",
        "  cleverhans_model = CallableModelWrapper(tf_model_fn, output_layer='logits')\n",
        "  cw = CarliniWagnerL2(cleverhans_model, sess=sess)\n",
        "  test_data = datasets.MNIST(home_dir + '/mnist', train=False, transform=transforms.ToTensor())\n",
        "  test_loader = torch.utils.data.DataLoader(test_data, batch_size=source_samples)\n",
        "  x_test, y_test = next(iter(test_loader))\n",
        "  y_test_one_hot = torch.nn.functional.one_hot(y_test, 10).cpu().detach().numpy()  \n",
        "  nchannels, img_rows, img_cols = x_test.shape[1:]\n",
        "  x = tf.placeholder(tf.float32, shape=(None, nchannels, img_rows, img_cols))\n",
        "  y = tf.placeholder(tf.float32, shape=(None, nb_classes))\n",
        "  preds = cleverhans_model.get_logits(x)\n",
        "\n",
        "  # Keep track of success (adversarial example classified in target)\n",
        "  results = np.zeros((nb_classes, source_samples), dtype='i')\n",
        "\n",
        "  # Rate of perturbed features for each test set example and target class\n",
        "  perturbations = np.zeros((nb_classes, source_samples), dtype='f')\n",
        "\n",
        "  cw_params_batch_size = source_samples\n",
        "  adv_ys = None\n",
        "  cw_params = {'binary_search_steps': 1,\n",
        "              'y': adv_ys,\n",
        "              'max_iterations': attack_iterations,\n",
        "              'learning_rate': CW_LEARNING_RATE,\n",
        "              'batch_size': cw_params_batch_size,\n",
        "              'initial_const': 10}\n",
        "\n",
        "  adv = cw.generate_np(x_test, **cw_params)\n",
        "\n",
        "  eval_params = {'batch_size': np.minimum(nb_classes, source_samples)}\n",
        "  if targeted:\n",
        "    acc = model_eval(sess, x, y, preds, adv, adv_ys, args=eval_params)\n",
        "  else:\n",
        "    acc = model_eval(sess, x, y, preds, adv, y_test_one_hot, args=eval_params)\n",
        "  print('Accuracy: %.3f' % acc)\n",
        "  return acc"
      ],
      "execution_count": 0,
      "outputs": []
    },
    {
      "cell_type": "code",
      "metadata": {
        "id": "BULjIJW7gVap",
        "colab_type": "code",
        "colab": {}
      },
      "source": [
        "models = pd.read_csv(home_dir + '/mnist-models.csv')"
      ],
      "execution_count": 0,
      "outputs": []
    },
    {
      "cell_type": "code",
      "metadata": {
        "id": "5E_KMaHIlG_6",
        "colab_type": "code",
        "colab": {
          "base_uri": "https://localhost:8080/",
          "height": 400
        },
        "outputId": "9bc6b971-218e-48e2-dfc0-e521dc693330"
      },
      "source": [
        "models.tail()"
      ],
      "execution_count": 12,
      "outputs": [
        {
          "output_type": "execute_result",
          "data": {
            "text/html": [
              "<div>\n",
              "<style scoped>\n",
              "    .dataframe tbody tr th:only-of-type {\n",
              "        vertical-align: middle;\n",
              "    }\n",
              "\n",
              "    .dataframe tbody tr th {\n",
              "        vertical-align: top;\n",
              "    }\n",
              "\n",
              "    .dataframe thead th {\n",
              "        text-align: right;\n",
              "    }\n",
              "</style>\n",
              "<table border=\"1\" class=\"dataframe\">\n",
              "  <thead>\n",
              "    <tr style=\"text-align: right;\">\n",
              "      <th></th>\n",
              "      <th>bias_l1</th>\n",
              "      <th>bias_l2</th>\n",
              "      <th>conv1_out_channels</th>\n",
              "      <th>conv2_out_channels</th>\n",
              "      <th>l1</th>\n",
              "      <th>l2</th>\n",
              "      <th>max_folding_factor</th>\n",
              "      <th>min_folding_factor</th>\n",
              "      <th>name</th>\n",
              "      <th>regularization</th>\n",
              "      <th>use_maxout</th>\n",
              "      <th>use_quadratic_kernel</th>\n",
              "      <th>use_relog</th>\n",
              "      <th>use_sigmoid_out</th>\n",
              "    </tr>\n",
              "  </thead>\n",
              "  <tbody>\n",
              "    <tr>\n",
              "      <th>8</th>\n",
              "      <td>NaN</td>\n",
              "      <td>NaN</td>\n",
              "      <td>NaN</td>\n",
              "      <td>NaN</td>\n",
              "      <td>NaN</td>\n",
              "      <td>NaN</td>\n",
              "      <td>2.0</td>\n",
              "      <td>NaN</td>\n",
              "      <td>cnn-mnist-relog-maxout_2</td>\n",
              "      <td>NaN</td>\n",
              "      <td>max</td>\n",
              "      <td>NaN</td>\n",
              "      <td>True</td>\n",
              "      <td>NaN</td>\n",
              "    </tr>\n",
              "    <tr>\n",
              "      <th>9</th>\n",
              "      <td>NaN</td>\n",
              "      <td>NaN</td>\n",
              "      <td>NaN</td>\n",
              "      <td>NaN</td>\n",
              "      <td>NaN</td>\n",
              "      <td>NaN</td>\n",
              "      <td>2.0</td>\n",
              "      <td>4.0</td>\n",
              "      <td>cnn-mnist-relog-minmaxout_4_2</td>\n",
              "      <td>NaN</td>\n",
              "      <td>minmax</td>\n",
              "      <td>NaN</td>\n",
              "      <td>True</td>\n",
              "      <td>NaN</td>\n",
              "    </tr>\n",
              "    <tr>\n",
              "      <th>10</th>\n",
              "      <td>NaN</td>\n",
              "      <td>NaN</td>\n",
              "      <td>NaN</td>\n",
              "      <td>NaN</td>\n",
              "      <td>NaN</td>\n",
              "      <td>NaN</td>\n",
              "      <td>2.0</td>\n",
              "      <td>4.0</td>\n",
              "      <td>cnn-mnist-relog-minmaxout_4_2-sigmoid_out</td>\n",
              "      <td>NaN</td>\n",
              "      <td>minmax</td>\n",
              "      <td>NaN</td>\n",
              "      <td>True</td>\n",
              "      <td>True</td>\n",
              "    </tr>\n",
              "    <tr>\n",
              "      <th>11</th>\n",
              "      <td>NaN</td>\n",
              "      <td>NaN</td>\n",
              "      <td>NaN</td>\n",
              "      <td>NaN</td>\n",
              "      <td>NaN</td>\n",
              "      <td>0.1</td>\n",
              "      <td>2.0</td>\n",
              "      <td>4.0</td>\n",
              "      <td>cnn-mnist-relog-minmaxout_4_2-sigmoid_out-max_...</td>\n",
              "      <td>max-margin</td>\n",
              "      <td>minmax</td>\n",
              "      <td>NaN</td>\n",
              "      <td>True</td>\n",
              "      <td>True</td>\n",
              "    </tr>\n",
              "    <tr>\n",
              "      <th>12</th>\n",
              "      <td>NaN</td>\n",
              "      <td>NaN</td>\n",
              "      <td>NaN</td>\n",
              "      <td>NaN</td>\n",
              "      <td>NaN</td>\n",
              "      <td>0.1</td>\n",
              "      <td>2.0</td>\n",
              "      <td>4.0</td>\n",
              "      <td>cnn-mnist-relog-kernel-minmaxout_4_2-sigmoid_o...</td>\n",
              "      <td>max-margin</td>\n",
              "      <td>minmax</td>\n",
              "      <td>True</td>\n",
              "      <td>True</td>\n",
              "      <td>True</td>\n",
              "    </tr>\n",
              "  </tbody>\n",
              "</table>\n",
              "</div>"
            ],
            "text/plain": [
              "    bias_l1  bias_l2  ...  use_relog  use_sigmoid_out\n",
              "8       NaN      NaN  ...       True              NaN\n",
              "9       NaN      NaN  ...       True              NaN\n",
              "10      NaN      NaN  ...       True             True\n",
              "11      NaN      NaN  ...       True             True\n",
              "12      NaN      NaN  ...       True             True\n",
              "\n",
              "[5 rows x 14 columns]"
            ]
          },
          "metadata": {
            "tags": []
          },
          "execution_count": 12
        }
      ]
    },
    {
      "cell_type": "code",
      "metadata": {
        "id": "MmoRkjRT0ENP",
        "colab_type": "code",
        "outputId": "711a4016-7cab-403b-d845-953d0a204aa4",
        "colab": {
          "base_uri": "https://localhost:8080/",
          "height": 662
        }
      },
      "source": [
        "results = []\n",
        "for model_name in models.name:\n",
        "  model_path = home_dir + '/output/' + model_name + '.pkl'\n",
        "  accuracy = evaluate_model(model_path)\n",
        "  results.append({\n",
        "      'model_name': model_name,\n",
        "      'accuracy': accuracy,\n",
        "      'attack_type': 'C&W',\n",
        "  })"
      ],
      "execution_count": 30,
      "outputs": [
        {
          "output_type": "stream",
          "text": [
            "[INFO 2019-10-19 01:15:12,116 cleverhans] Constructing new graph for attack CarliniWagnerL2\n"
          ],
          "name": "stderr"
        },
        {
          "output_type": "stream",
          "text": [
            "Evaluating model: /content/gdrive/My Drive/Colab Notebooks/newlogic/output/cnn-mnist-relu.pkl\n"
          ],
          "name": "stdout"
        },
        {
          "output_type": "stream",
          "text": [
            "[INFO 2019-10-19 01:15:19,880 cleverhans] Constructing new graph for attack CarliniWagnerL2\n"
          ],
          "name": "stderr"
        },
        {
          "output_type": "stream",
          "text": [
            "Accuracy: 0.000\n",
            "Evaluating model: /content/gdrive/My Drive/Colab Notebooks/newlogic/output/cnn-mnist-relu-kernel.pkl\n"
          ],
          "name": "stdout"
        },
        {
          "output_type": "stream",
          "text": [
            "[INFO 2019-10-19 01:15:28,568 cleverhans] Constructing new graph for attack CarliniWagnerL2\n"
          ],
          "name": "stderr"
        },
        {
          "output_type": "stream",
          "text": [
            "Accuracy: 0.010\n",
            "Evaluating model: /content/gdrive/My Drive/Colab Notebooks/newlogic/output/cnn-mnist-relu-maxfit_l1_01_05.pkl\n"
          ],
          "name": "stdout"
        },
        {
          "output_type": "stream",
          "text": [
            "[INFO 2019-10-19 01:15:34,385 cleverhans] Constructing new graph for attack CarliniWagnerL2\n"
          ],
          "name": "stderr"
        },
        {
          "output_type": "stream",
          "text": [
            "Accuracy: 0.000\n",
            "Evaluating model: /content/gdrive/My Drive/Colab Notebooks/newlogic/output/cnn-mnist-relu-maxfit_l2_01_05.pkl\n"
          ],
          "name": "stdout"
        },
        {
          "output_type": "stream",
          "text": [
            "[INFO 2019-10-19 01:15:40,294 cleverhans] Constructing new graph for attack CarliniWagnerL2\n"
          ],
          "name": "stderr"
        },
        {
          "output_type": "stream",
          "text": [
            "Accuracy: 0.000\n",
            "Evaluating model: /content/gdrive/My Drive/Colab Notebooks/newlogic/output/cnn-mnist-relu-maxmargin_l1_01_05.pkl\n"
          ],
          "name": "stdout"
        },
        {
          "output_type": "stream",
          "text": [
            "[INFO 2019-10-19 01:15:48,238 cleverhans] Constructing new graph for attack CarliniWagnerL2\n"
          ],
          "name": "stderr"
        },
        {
          "output_type": "stream",
          "text": [
            "Accuracy: 0.000\n",
            "Evaluating model: /content/gdrive/My Drive/Colab Notebooks/newlogic/output/cnn-mnist-relu-maxmargin_l2_01_05.pkl\n"
          ],
          "name": "stdout"
        },
        {
          "output_type": "stream",
          "text": [
            "[INFO 2019-10-19 01:15:54,205 cleverhans] Constructing new graph for attack CarliniWagnerL2\n"
          ],
          "name": "stderr"
        },
        {
          "output_type": "stream",
          "text": [
            "Accuracy: 0.000\n",
            "Evaluating model: /content/gdrive/My Drive/Colab Notebooks/newlogic/output/cnn-mnist-relog.pkl\n"
          ],
          "name": "stdout"
        },
        {
          "output_type": "stream",
          "text": [
            "[INFO 2019-10-19 01:16:02,954 cleverhans] Constructing new graph for attack CarliniWagnerL2\n"
          ],
          "name": "stderr"
        },
        {
          "output_type": "stream",
          "text": [
            "Accuracy: 0.010\n",
            "Evaluating model: /content/gdrive/My Drive/Colab Notebooks/newlogic/output/cnn-mnist-relog-more-neurons.pkl\n"
          ],
          "name": "stdout"
        },
        {
          "output_type": "stream",
          "text": [
            "[INFO 2019-10-19 01:16:17,870 cleverhans] Constructing new graph for attack CarliniWagnerL2\n"
          ],
          "name": "stderr"
        },
        {
          "output_type": "stream",
          "text": [
            "Accuracy: 0.020\n",
            "Evaluating model: /content/gdrive/My Drive/Colab Notebooks/newlogic/output/cnn-mnist-relog-maxout_2.pkl\n"
          ],
          "name": "stdout"
        },
        {
          "output_type": "stream",
          "text": [
            "[INFO 2019-10-19 01:16:26,342 cleverhans] Constructing new graph for attack CarliniWagnerL2\n"
          ],
          "name": "stderr"
        },
        {
          "output_type": "stream",
          "text": [
            "Accuracy: 0.010\n",
            "Evaluating model: /content/gdrive/My Drive/Colab Notebooks/newlogic/output/cnn-mnist-relog-minmaxout_4_2.pkl\n"
          ],
          "name": "stdout"
        },
        {
          "output_type": "stream",
          "text": [
            "[INFO 2019-10-19 01:16:57,558 cleverhans] Constructing new graph for attack CarliniWagnerL2\n"
          ],
          "name": "stderr"
        },
        {
          "output_type": "stream",
          "text": [
            "Accuracy: 0.020\n",
            "Evaluating model: /content/gdrive/My Drive/Colab Notebooks/newlogic/output/cnn-mnist-relog-minmaxout_4_2-sigmoid_out.pkl\n",
            "Accuracy: 0.190\n",
            "Evaluating model: /content/gdrive/My Drive/Colab Notebooks/newlogic/output/cnn-mnist-relog-minmaxout_4_2-sigmoid_out-max_margin.pkl\n"
          ],
          "name": "stdout"
        },
        {
          "output_type": "stream",
          "text": [
            "[INFO 2019-10-19 01:17:25,732 cleverhans] Constructing new graph for attack CarliniWagnerL2\n"
          ],
          "name": "stderr"
        },
        {
          "output_type": "stream",
          "text": [
            "Accuracy: 0.310\n"
          ],
          "name": "stdout"
        }
      ]
    },
    {
      "cell_type": "code",
      "metadata": {
        "id": "n-foSVuwIneS",
        "colab_type": "code",
        "colab": {}
      },
      "source": [
        "pd.DataFrame(results).to_csv(home_dir + '/output/mnist-cnw-results.csv', index=False)"
      ],
      "execution_count": 0,
      "outputs": []
    },
    {
      "cell_type": "code",
      "metadata": {
        "id": "bCXXLKrLDQrE",
        "colab_type": "code",
        "colab": {
          "base_uri": "https://localhost:8080/",
          "height": 89
        },
        "outputId": "70abfdad-7d12-429e-d23c-439aabd77486"
      },
      "source": [
        "results = []\n",
        "for model_name in models.name.iloc[-1:]:\n",
        "    evaluate_model(home_dir + '/output/' + model_name + '.pkl')"
      ],
      "execution_count": 14,
      "outputs": [
        {
          "output_type": "stream",
          "text": [
            "Evaluating model: /content/gdrive/My Drive/Colab Notebooks/newlogic/output/cnn-mnist-relog-kernel-minmaxout_4_2-sigmoid_out-max_margin.pkl\n"
          ],
          "name": "stdout"
        },
        {
          "output_type": "stream",
          "text": [
            "[INFO 2019-10-19 13:59:40,200 cleverhans] Constructing new graph for attack CarliniWagnerL2\n"
          ],
          "name": "stderr"
        },
        {
          "output_type": "stream",
          "text": [
            "Accuracy: 0.560\n"
          ],
          "name": "stdout"
        }
      ]
    },
    {
      "cell_type": "code",
      "metadata": {
        "id": "ng_Vba7eUJDs",
        "colab_type": "code",
        "colab": {}
      },
      "source": [
        ""
      ],
      "execution_count": 0,
      "outputs": []
    }
  ]
}