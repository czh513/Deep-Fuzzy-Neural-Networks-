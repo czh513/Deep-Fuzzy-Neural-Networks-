{
 "cells": [
  {
   "cell_type": "code",
   "execution_count": 4,
   "metadata": {
    "colab": {},
    "colab_type": "code",
    "id": "4qGii2OM3-i8"
   },
   "outputs": [],
   "source": [
    "%matplotlib inline\n",
    "import numpy as np\n",
    "from matplotlib import pyplot as plt\n",
    "from torch import nn\n",
    "import torch\n",
    "import seaborn as sns\n",
    "from torch import optim\n",
    "import torch.nn.functional as F"
   ]
  },
  {
   "cell_type": "code",
   "execution_count": 52,
   "metadata": {
    "colab": {
     "base_uri": "https://localhost:8080/",
     "height": 269
    },
    "colab_type": "code",
    "id": "tQcJgqWB4J2L",
    "outputId": "6c5f822a-0c0b-4e80-b5aa-7d312b57c49c"
   },
   "outputs": [
    {
     "data": {
      "image/png": "[encoded data removed]",
      "text/plain": [
       "<Figure size 288x288 with 1 Axes>"
      ]
     },
     "metadata": {
      "needs_background": "light"
     },
     "output_type": "display_data"
    }
   ],
   "source": [
    "data_x_pos = np.random.multivariate_normal([0.8, 0.7], [[0.001, 0], [0, 0.003]], 10)\n",
    "data_x_neg = np.random.multivariate_normal([0.2, 0.3], [[0.001, 0], [0, 0.003]], 10)\n",
    "data_y_pos = np.ones(10)\n",
    "data_y_neg = np.zeros(10)\n",
    "data_x = np.vstack([data_x_pos, data_x_neg])\n",
    "data_y = np.hstack([data_y_pos, data_y_neg])\n",
    "fig, ax = plt.subplots(figsize=(4, 4))\n",
    "plt.scatter(data_x_pos[:,0], data_x_pos[:,1], label='positive')\n",
    "plt.scatter(data_x_neg[:,0], data_x_neg[:,1], label='negative')\n",
    "ax.legend(loc='lower right')\n",
    "ax.set_xlim((0,1))\n",
    "ax.set_ylim((0,1))\n",
    "\n",
    "data_x = torch.from_numpy(data_x).float()\n",
    "data_y = torch.from_numpy(data_y).float()"
   ]
  },
  {
   "cell_type": "code",
   "execution_count": 49,
   "metadata": {},
   "outputs": [
    {
     "data": {
      "text/plain": [
       "([], [])"
      ]
     },
     "execution_count": 49,
     "metadata": {},
     "output_type": "execute_result"
    }
   ],
   "source": [
    "ax.get_legend_handles_labels()"
   ]
  },
  {
   "cell_type": "code",
   "execution_count": 21,
   "metadata": {},
   "outputs": [],
   "source": [
    "# data_x = np.random.multivariate_normal([0.8, 0.7], [[0.001, 0], [0, 0.003]], 10)\n",
    "# data_y = np.ones(10)\n",
    "# fig, ax = plt.subplots(figsize=(4, 4))\n",
    "# ax.scatter(data_x[:,0], data_x[:,1])\n",
    "# ax.set_xlim((0,1))\n",
    "# ax.set_ylim((0,1))\n",
    "# data_x = torch.from_numpy(data_x).float()\n",
    "# data_y = torch.from_numpy(data_y).float()"
   ]
  },
  {
   "cell_type": "code",
   "execution_count": 37,
   "metadata": {
    "colab": {},
    "colab_type": "code",
    "id": "riW4-43aAaca"
   },
   "outputs": [],
   "source": [
    "class QuadraticKernel(nn.Module):\n",
    "\n",
    "  def forward(self, input):\n",
    "    return torch.cat([input, input*input], dim=1)\n",
    "\n",
    "class ReLog(nn.Module):\n",
    "\n",
    "  def forward(self, input):\n",
    "    return torch.log(F.relu(input) + 1)\n",
    "\n",
    "def plot_model(model):\n",
    "  val_x = np.linspace(0, 1, 100)\n",
    "  val_y = np.linspace(0, 1, 100)\n",
    "  val_x, val_y = np.meshgrid(val_x, val_y)\n",
    "  input = np.stack([val_x.flatten(), val_y.flatten()], axis=-1)\n",
    "  val_z = model(torch.from_numpy(input).float()).detach().numpy().reshape(val_x.shape)\n",
    "  fig, ax = plt.subplots(figsize=(4, 4))\n",
    "  ax.contourf(val_x, val_y, val_z, 10, cmap=plt.cm.bone, origin='lower')\n",
    "\n",
    "def demo_model(regularization=lambda m: 0, use_quadratic_kernel=False, n_epochs=100, lr=0.1):\n",
    "  if use_quadratic_kernel:\n",
    "    model = nn.Sequential(\n",
    "        QuadraticKernel(),\n",
    "        nn.Linear(4, 1),\n",
    "        nn.ReLU(),\n",
    "        ReLog()\n",
    "    )\n",
    "    linear_module = model[1]\n",
    "    # with torch.no_grad():\n",
    "    #   linear_module.weight[:,:2].abs_() # make sure that the model learn\n",
    "    #   linear_module.weight[:,2:].abs_().neg_()\n",
    "  else:\n",
    "    model = nn.Sequential(\n",
    "        nn.Linear(2, 1),\n",
    "        nn.ReLU(),\n",
    "        ReLog()\n",
    "    )\n",
    "    linear_module = model[0]\n",
    "    with torch.no_grad():\n",
    "      linear_module.weight.abs_() # make sure that the model learn\n",
    "  # train\n",
    "  lr = 0.5\n",
    "  loss_func = nn.MSELoss()\n",
    "  optimizer = optim.Adam(model.parameters(), lr=lr)\n",
    "  for epoch in range(n_epochs):\n",
    "      optimizer.zero_grad()\n",
    "      pred = model(data_x)\n",
    "      loss = loss_func(pred.flatten(), data_y) + regularization(linear_module)\n",
    "      loss.backward()\n",
    "      optimizer.step()\n",
    "      # print(loss.item())\n",
    "  # acc = ((pred-0.5)*(data_y-0.5) >= 0).float().mean().item()\n",
    "  # print('Accuracy:', acc)\n",
    "  # print(pred, data_y)\n",
    "  plot_model(model)\n",
    "  return model"
   ]
  },
  {
   "cell_type": "code",
   "execution_count": 38,
   "metadata": {
    "colab": {
     "base_uri": "https://localhost:8080/",
     "height": 269
    },
    "colab_type": "code",
    "id": "HiYpxRVx5YGR",
    "outputId": "f663b2c1-d16b-46c2-85d4-62f171ecc862"
   },
   "outputs": [
    {
     "data": {
      "image/png": "[encoded data removed]",
      "text/plain": [
       "<Figure size 288x288 with 1 Axes>"
      ]
     },
     "metadata": {
      "needs_background": "light"
     },
     "output_type": "display_data"
    }
   ],
   "source": [
    "model = demo_model(lambda m: 0)"
   ]
  },
  {
   "cell_type": "code",
   "execution_count": 65,
   "metadata": {
    "colab": {
     "base_uri": "https://localhost:8080/",
     "height": 269
    },
    "colab_type": "code",
    "id": "BDvM9Ui25uqO",
    "outputId": "a3fa3bef-48d7-47e2-83fb-65e2ad3b567f"
   },
   "outputs": [
    {
     "data": {
      "image/png": "[encoded data removed]",
      "text/plain": [
       "<Figure size 288x288 with 1 Axes>"
      ]
     },
     "metadata": {
      "needs_background": "light"
     },
     "output_type": "display_data"
    }
   ],
   "source": [
    "max_margin = lambda m: 0.01*(m.weight*m.weight).mean()\n",
    "model_reg = demo_model(max_margin)"
   ]
  },
  {
   "cell_type": "code",
   "execution_count": 42,
   "metadata": {
    "colab": {
     "base_uri": "https://localhost:8080/",
     "height": 269
    },
    "colab_type": "code",
    "id": "2WM7FmID50Yi",
    "outputId": "dd9201f8-0ef7-4af8-bda5-93505b307969"
   },
   "outputs": [
    {
     "data": {
      "image/png": "[encoded data removed]",
      "text/plain": [
       "<Figure size 288x288 with 1 Axes>"
      ]
     },
     "metadata": {
      "needs_background": "light"
     },
     "output_type": "display_data"
    }
   ],
   "source": [
    "class MaxFitL2(object):\n",
    "  def __init__(self, alpha=0.02, beta=0.1):\n",
    "    self.alpha = alpha\n",
    "    self.beta = beta\n",
    "  def __call__(self, m):\n",
    "    return self.alpha*(m.weight*m.weight).mean() + self.beta*m.bias.mean()\n",
    "\n",
    "model_reg = demo_model(MaxFitL2(alpha=0.03, beta=0.2))"
   ]
  },
  {
   "cell_type": "code",
   "execution_count": null,
   "metadata": {
    "colab": {
     "base_uri": "https://localhost:8080/",
     "height": 269
    },
    "colab_type": "code",
    "id": "8KvpUsbqL-T5",
    "outputId": "2e878844-5a19-4cf6-cb07-28061c1b4bbd"
   },
   "outputs": [
    {
     "data": {
      "image/png": "[encoded data removed]",
      "text/plain": [
       "<Figure size 432x288 with 1 Axes>"
      ]
     },
     "metadata": {
      "tags": []
     },
     "output_type": "display_data"
    }
   ],
   "source": [
    "class MaxFitL1(object):\n",
    "  def __init__(self, alpha=0.01, beta=0.1):\n",
    "    self.alpha = alpha\n",
    "    self.beta = beta\n",
    "  def __call__(self, m):\n",
    "    return self.alpha*(m.weight.abs()).mean() + self.beta*m.bias.mean()\n",
    "\n",
    "model_reg = demo_model(MaxFitL1())"
   ]
  },
  {
   "cell_type": "code",
   "execution_count": null,
   "metadata": {
    "colab": {
     "base_uri": "https://localhost:8080/",
     "height": 269
    },
    "colab_type": "code",
    "id": "i1OuDV9tAIje",
    "outputId": "cf61360c-1c45-40ad-8cf8-fb43712c24b9"
   },
   "outputs": [
    {
     "data": {
      "image/png": "[encoded data removed]",
      "text/plain": [
       "<Figure size 432x288 with 1 Axes>"
      ]
     },
     "metadata": {
      "tags": []
     },
     "output_type": "display_data"
    }
   ],
   "source": [
    "model = demo_model(use_quadratic_kernel=True)"
   ]
  },
  {
   "cell_type": "code",
   "execution_count": null,
   "metadata": {
    "colab": {
     "base_uri": "https://localhost:8080/",
     "height": 269
    },
    "colab_type": "code",
    "id": "pLGth_4aHOSj",
    "outputId": "532e481c-1fe7-4426-81fd-85b49e809b62"
   },
   "outputs": [
    {
     "data": {
      "image/png": "[encoded data removed]",
      "text/plain": [
       "<Figure size 432x288 with 1 Axes>"
      ]
     },
     "metadata": {
      "tags": []
     },
     "output_type": "display_data"
    }
   ],
   "source": [
    "model = demo_model(max_margin, use_quadratic_kernel=True)"
   ]
  },
  {
   "cell_type": "code",
   "execution_count": null,
   "metadata": {
    "colab": {
     "base_uri": "https://localhost:8080/",
     "height": 269
    },
    "colab_type": "code",
    "id": "JevDOEFeJWg1",
    "outputId": "5a6c1d97-46cc-482e-ee4c-252dee8015ec"
   },
   "outputs": [
    {
     "data": {
      "image/png": "[encoded data removed]",
      "text/plain": [
       "<Figure size 432x288 with 1 Axes>"
      ]
     },
     "metadata": {
      "tags": []
     },
     "output_type": "display_data"
    }
   ],
   "source": [
    "model = demo_model(MaxFitL2(0.01, 0.05), use_quadratic_kernel=True)"
   ]
  },
  {
   "cell_type": "code",
   "execution_count": null,
   "metadata": {
    "colab": {
     "base_uri": "https://localhost:8080/",
     "height": 269
    },
    "colab_type": "code",
    "id": "Ww6BfyzHMIVh",
    "outputId": "874d2a84-a5e0-4074-b2cc-7269315d4e8e"
   },
   "outputs": [
    {
     "data": {
      "image/png": "[encoded data removed]",
      "text/plain": [
       "<Figure size 432x288 with 1 Axes>"
      ]
     },
     "metadata": {
      "tags": []
     },
     "output_type": "display_data"
    }
   ],
   "source": [
    "model = demo_model(MaxFitL1(0.01, 0.3), use_quadratic_kernel=True)"
   ]
  },
  {
   "cell_type": "markdown",
   "metadata": {
    "colab_type": "text",
    "id": "Eu2FjICxMcag"
   },
   "source": [
    "# More negative samples"
   ]
  },
  {
   "cell_type": "code",
   "execution_count": null,
   "metadata": {
    "colab": {
     "base_uri": "https://localhost:8080/",
     "height": 269
    },
    "colab_type": "code",
    "id": "pOZbA1dyIgNT",
    "outputId": "78eb3dcf-e962-4e67-ee12-bb5bb0f42f33"
   },
   "outputs": [
    {
     "data": {
      "image/png": "[encoded data removed]",
      "text/plain": [
       "<Figure size 432x288 with 1 Axes>"
      ]
     },
     "metadata": {
      "tags": []
     },
     "output_type": "display_data"
    }
   ],
   "source": [
    "n = 200\n",
    "data_x = np.random.rand(n, 2)\n",
    "data_y = np.zeros(n)\n",
    "x1, x2 = data_x[:,0], data_x[:,1]\n",
    "f = np.sqrt((x1-0.8)**2 + (x2-0.8)**2) - 0.2\n",
    "neg_indices, = (f > 0).nonzero()\n",
    "pos_indices, = (f < 0).nonzero()\n",
    "neg_indices = neg_indices[:len(pos_indices)]\n",
    "data_y[f < 0] = 1\n",
    "data_x = np.vstack([data_x[neg_indices], data_x[pos_indices]])\n",
    "data_y = np.hstack([data_y[neg_indices], data_y[pos_indices]])\n",
    "sns.scatterplot(data_x[:,0], data_x[:,1], hue=data_y)\n",
    "data_x = torch.from_numpy(data_x).float()\n",
    "data_y = torch.from_numpy(data_y).float()"
   ]
  },
  {
   "cell_type": "code",
   "execution_count": null,
   "metadata": {
    "colab": {
     "base_uri": "https://localhost:8080/",
     "height": 269
    },
    "colab_type": "code",
    "id": "S9GpHnuJNE9F",
    "outputId": "716e7615-a33b-4043-f7dd-a1fb04307f5b"
   },
   "outputs": [
    {
     "data": {
      "image/png": "[encoded data removed]",
      "text/plain": [
       "<Figure size 432x288 with 1 Axes>"
      ]
     },
     "metadata": {
      "tags": []
     },
     "output_type": "display_data"
    }
   ],
   "source": [
    "model = demo_model()"
   ]
  },
  {
   "cell_type": "code",
   "execution_count": null,
   "metadata": {
    "colab": {
     "base_uri": "https://localhost:8080/",
     "height": 269
    },
    "colab_type": "code",
    "id": "pl-lVh4RNPGQ",
    "outputId": "58d277c0-da7f-48f3-8abc-6dd88822be90"
   },
   "outputs": [
    {
     "data": {
      "image/png": "[encoded data removed]",
      "text/plain": [
       "<Figure size 432x288 with 1 Axes>"
      ]
     },
     "metadata": {
      "tags": []
     },
     "output_type": "display_data"
    }
   ],
   "source": [
    "model_reg = demo_model(max_margin)"
   ]
  },
  {
   "cell_type": "code",
   "execution_count": null,
   "metadata": {
    "colab": {
     "base_uri": "https://localhost:8080/",
     "height": 269
    },
    "colab_type": "code",
    "id": "5TpIeRilNTbz",
    "outputId": "4d6b7f0e-1382-43ba-8986-d0e08af3ff21"
   },
   "outputs": [
    {
     "data": {
      "image/png": "[encoded data removed]",
      "text/plain": [
       "<Figure size 432x288 with 1 Axes>"
      ]
     },
     "metadata": {
      "tags": []
     },
     "output_type": "display_data"
    }
   ],
   "source": [
    "model = demo_model(use_quadratic_kernel=True, n_epochs=150)"
   ]
  },
  {
   "cell_type": "code",
   "execution_count": null,
   "metadata": {
    "colab": {
     "base_uri": "https://localhost:8080/",
     "height": 269
    },
    "colab_type": "code",
    "id": "0F1p1twxUP-a",
    "outputId": "61010b38-756a-4b81-d60f-f62317b6d407"
   },
   "outputs": [
    {
     "data": {
      "image/png": "[encoded data removed]",
      "text/plain": [
       "<Figure size 432x288 with 1 Axes>"
      ]
     },
     "metadata": {
      "tags": []
     },
     "output_type": "display_data"
    }
   ],
   "source": [
    "model = demo_model(use_quadratic_kernel=True, n_epochs=150, regularization=max_margin)"
   ]
  },
  {
   "cell_type": "code",
   "execution_count": null,
   "metadata": {
    "colab": {
     "base_uri": "https://localhost:8080/",
     "height": 269
    },
    "colab_type": "code",
    "id": "8j-sJhqYOhM7",
    "outputId": "7ee9ac55-dad5-4a3b-da19-7c6eb057a86f"
   },
   "outputs": [
    {
     "data": {
      "image/png": "[encoded data removed]",
      "text/plain": [
       "<Figure size 432x288 with 1 Axes>"
      ]
     },
     "metadata": {
      "tags": []
     },
     "output_type": "display_data"
    }
   ],
   "source": [
    "model = demo_model(use_quadratic_kernel=True, n_epochs=150, regularization=MaxFitL2())"
   ]
  },
  {
   "cell_type": "code",
   "execution_count": null,
   "metadata": {
    "colab": {
     "base_uri": "https://localhost:8080/",
     "height": 269
    },
    "colab_type": "code",
    "id": "3jpeFDTnT0AD",
    "outputId": "df8f42c5-6140-4f6a-8b08-f170f78b50e7"
   },
   "outputs": [
    {
     "data": {
      "image/png": "[encoded data removed]",
      "text/plain": [
       "<Figure size 432x288 with 1 Axes>"
      ]
     },
     "metadata": {
      "tags": []
     },
     "output_type": "display_data"
    }
   ],
   "source": [
    "model = demo_model(use_quadratic_kernel=True, n_epochs=150, regularization=MaxFitL1())"
   ]
  },
  {
   "cell_type": "code",
   "execution_count": null,
   "metadata": {
    "colab": {},
    "colab_type": "code",
    "id": "zKpajoWxT5MG"
   },
   "outputs": [],
   "source": []
  }
 ],
 "metadata": {
  "colab": {
   "collapsed_sections": [],
   "name": "fitting.ipynb",
   "provenance": []
  },
  "kernelspec": {
   "display_name": "conda-env-newlogic-py",
   "language": "python",
   "name": "conda-env-newlogic-py"
  },
  "language_info": {
   "codemirror_mode": {
    "name": "ipython",
    "version": 3
   },
   "file_extension": ".py",
   "mimetype": "text/x-python",
   "name": "python",
   "nbconvert_exporter": "python",
   "pygments_lexer": "ipython3",
   "version": "3.6.9"
  }
 },
 "nbformat": 4,
 "nbformat_minor": 4
}
