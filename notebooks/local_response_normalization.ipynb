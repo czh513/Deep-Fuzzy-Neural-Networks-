{
 "cells": [
  {
   "cell_type": "code",
   "execution_count": 1,
   "metadata": {},
   "outputs": [],
   "source": [
    "import torch.utils.data as Data\n",
    "import torchvision\n",
    "import torch\n",
    "%matplotlib inline\n",
    "from matplotlib import pyplot as plt\n",
    "import numpy as np"
   ]
  },
  {
   "cell_type": "code",
   "execution_count": 6,
   "metadata": {},
   "outputs": [],
   "source": [
    "def gaussian_noise(epsilon):\n",
    "    transform_func = lambda x : (x + torch.randn_like(x)*epsilon)\n",
    "    return torchvision.transforms.Lambda(transform_func)\n",
    "\n",
    "cifar_stats = ((0.4914, 0.4822, 0.4465), (0.2023, 0.1994, 0.2010))\n",
    "\n",
    "transform_train = torchvision.transforms.Compose([\n",
    "#         torchvision.transforms.RandomCrop(32, padding=4),\n",
    "#         torchvision.transforms.RandomRotation(degrees=10),\n",
    "#         torchvision.transforms.RandomHorizontalFlip(),\n",
    "        torchvision.transforms.ToTensor(),\n",
    "        torchvision.transforms.Normalize(*cifar_stats),\n",
    "#         gaussian_noise(0.5),\n",
    "])\n",
    "trainset = torchvision.datasets.CIFAR10(root='../cifar10', train=True, transform=transform_train)"
   ]
  },
  {
   "cell_type": "code",
   "execution_count": 7,
   "metadata": {},
   "outputs": [],
   "source": [
    "train_loader = Data.DataLoader(dataset=trainset, batch_size=1000, shuffle=False)\n",
    "imgs, labels = next(iter(train_loader))"
   ]
  },
  {
   "cell_type": "code",
   "execution_count": 47,
   "metadata": {},
   "outputs": [],
   "source": [
    "def show_image(img, ax=None, denormalize=True):\n",
    "    if ax is None:\n",
    "        _, ax = plt.subplots(figsize=(2,2))\n",
    "    img = img.permute(1,2,0)\n",
    "    if denormalize:\n",
    "        means, stds = cifar_stats\n",
    "        means = torch.tensor(means).reshape(1,1,3)\n",
    "        stds = torch.tensor(stds).reshape(1,1,3)\n",
    "        img = img * stds + means\n",
    "    ax.imshow(img.clamp(0, 1))\n",
    "    \n",
    "def show_image_grid(imgs):\n",
    "    n = 10\n",
    "    _, axes = plt.subplots(n, n, figsize=(20, 20))\n",
    "    indices = np.random.permutation(len(imgs))[:n*n].reshape(n,n)\n",
    "    for i in range(n):\n",
    "        for j in range(n):\n",
    "            show_image(imgs[indices[i,j]], axes[i][j])\n",
    "            \n",
    "def normalize(img):\n",
    "    return (img - img.mean())/img.std()\n",
    "\n",
    "def show_natural_vs_normalized(img):\n",
    "    _, axes = plt.subplots(1, 2, figsize=(5, 2))\n",
    "    show_image(img, ax=axes[0], denormalize=False)\n",
    "    show_image(normalize(img), ax=axes[1], denormalize=False)    "
   ]
  },
  {
   "cell_type": "code",
   "execution_count": 26,
   "metadata": {},
   "outputs": [
    {
     "data": {
      "image/png": "[encoded data removed]",
      "text/plain": [
       "<Figure size 144x144 with 1 Axes>"
      ]
     },
     "metadata": {
      "needs_background": "light"
     },
     "output_type": "display_data"
    }
   ],
   "source": [
    "show_image(imgs[1], denormalize=True)"
   ]
  },
  {
   "cell_type": "code",
   "execution_count": 59,
   "metadata": {},
   "outputs": [],
   "source": [
    "bottom_right_corner = imgs[1][:,22:27,22:27]\n",
    "bottom_left_corner = imgs[1][:,20:,0:12]\n",
    "top_right_corner = imgs[1][:,0:5,27:]"
   ]
  },
  {
   "cell_type": "code",
   "execution_count": 60,
   "metadata": {},
   "outputs": [
    {
     "data": {
      "image/png": "[encoded data removed]",
      "text/plain": [
       "<Figure size 360x144 with 2 Axes>"
      ]
     },
     "metadata": {
      "needs_background": "light"
     },
     "output_type": "display_data"
    }
   ],
   "source": [
    "show_natural_vs_normalized(bottom_right_corner)"
   ]
  },
  {
   "cell_type": "code",
   "execution_count": 49,
   "metadata": {},
   "outputs": [
    {
     "data": {
      "image/png": "[encoded data removed]",
      "text/plain": [
       "<Figure size 360x144 with 2 Axes>"
      ]
     },
     "metadata": {
      "needs_background": "light"
     },
     "output_type": "display_data"
    }
   ],
   "source": [
    "show_natural_vs_normalized(bottom_left_corner)"
   ]
  },
  {
   "cell_type": "code",
   "execution_count": 54,
   "metadata": {},
   "outputs": [
    {
     "data": {
      "image/png": "[encoded data removed]",
      "text/plain": [
       "<Figure size 360x144 with 2 Axes>"
      ]
     },
     "metadata": {
      "needs_background": "light"
     },
     "output_type": "display_data"
    }
   ],
   "source": [
    "show_natural_vs_normalized(top_right_corner)"
   ]
  },
  {
   "cell_type": "code",
   "execution_count": null,
   "metadata": {},
   "outputs": [],
   "source": []
  }
 ],
 "metadata": {
  "kernelspec": {
   "display_name": "conda-env-newlogic-py",
   "language": "python",
   "name": "conda-env-newlogic-py"
  },
  "language_info": {
   "codemirror_mode": {
    "name": "ipython",
    "version": 3
   },
   "file_extension": ".py",
   "mimetype": "text/x-python",
   "name": "python",
   "nbconvert_exporter": "python",
   "pygments_lexer": "ipython3",
   "version": "3.6.9"
  }
 },
 "nbformat": 4,
 "nbformat_minor": 4
}
