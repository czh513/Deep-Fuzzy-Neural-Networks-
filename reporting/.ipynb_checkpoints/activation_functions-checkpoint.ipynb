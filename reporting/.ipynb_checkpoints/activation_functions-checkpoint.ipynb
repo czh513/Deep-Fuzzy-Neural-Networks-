{
 "cells": [
  {
   "cell_type": "code",
   "execution_count": 1,
   "metadata": {
    "colab": {},
    "colab_type": "code",
    "id": "Gt5Jp5SRLcKt"
   },
   "outputs": [],
   "source": [
    "import seaborn as sns\n",
    "import numpy as np\n",
    "from scipy.special import expit"
   ]
  },
  {
   "cell_type": "code",
   "execution_count": 2,
   "metadata": {
    "colab": {},
    "colab_type": "code",
    "id": "Vts8sJlWLgQe"
   },
   "outputs": [],
   "source": [
    "x = np.linspace(-5, 5, num=100)"
   ]
  },
  {
   "cell_type": "code",
   "execution_count": 3,
   "metadata": {
    "colab": {},
    "colab_type": "code",
    "id": "aPECrYiqN20o"
   },
   "outputs": [],
   "source": [
    "def relog(x, n=10):\n",
    "  return np.log(x.clip(min=0) + 1/n) / np.log(n) + 1"
   ]
  },
  {
   "cell_type": "code",
   "execution_count": 8,
   "metadata": {
    "colab": {},
    "colab_type": "code",
    "id": "H8xho7FrNuQt"
   },
   "outputs": [],
   "source": [
    "data = {\n",
    "    'ReLU': x.clip(min=0),\n",
    "    'Sigmoid': expit(x),\n",
    "    'ReLog n=5': relog(x, n=5),\n",
    "    'ReLog n=10': relog(x, n=10),\n",
    "    'ReLog n=100': relog(x, n=100),\n",
    "}"
   ]
  },
  {
   "cell_type": "code",
   "execution_count": 9,
   "metadata": {
    "colab": {
     "base_uri": "https://localhost:8080/",
     "height": 269
    },
    "colab_type": "code",
    "id": "MqGo7QKIL8AZ",
    "outputId": "36ece6b5-da6b-42b3-e096-3b36311167ac"
   },
   "outputs": [
    {
     "data": {
      "image/png": "[encoded data removed]",
      "text/plain": [
       "<Figure size 432x288 with 1 Axes>"
      ]
     },
     "metadata": {
      "needs_background": "light"
     },
     "output_type": "display_data"
    }
   ],
   "source": [
    "import matplotlib.pyplot as plt\n",
    "for label, vals in data.items():\n",
    "    plt.plot(x, vals, label=label)\n",
    "plt.legend(loc=2)\n",
    "None"
   ]
  },
  {
   "cell_type": "code",
   "execution_count": null,
   "metadata": {
    "colab": {},
    "colab_type": "code",
    "id": "bLdwL_L1NmO3"
   },
   "outputs": [],
   "source": []
  },
  {
   "cell_type": "code",
   "execution_count": null,
   "metadata": {
    "colab": {},
    "colab_type": "code",
    "id": "cyTLY-8nMW1j"
   },
   "outputs": [],
   "source": []
  },
  {
   "cell_type": "code",
   "execution_count": null,
   "metadata": {
    "colab": {},
    "colab_type": "code",
    "id": "9J9CkGoUNfRn"
   },
   "outputs": [],
   "source": []
  },
  {
   "cell_type": "code",
   "execution_count": null,
   "metadata": {
    "colab": {},
    "colab_type": "code",
    "id": "IKU68mbdNpVP"
   },
   "outputs": [],
   "source": []
  },
  {
   "cell_type": "code",
   "execution_count": null,
   "metadata": {
    "colab": {},
    "colab_type": "code",
    "id": "oTblDAcUNrh2"
   },
   "outputs": [],
   "source": []
  }
 ],
 "metadata": {
  "colab": {
   "collapsed_sections": [],
   "name": "activation-functions.ipynb",
   "provenance": []
  },
  "kernelspec": {
   "display_name": "conda-env-newlogic-py",
   "language": "python",
   "name": "conda-env-newlogic-py"
  },
  "language_info": {
   "codemirror_mode": {
    "name": "ipython",
    "version": 3
   },
   "file_extension": ".py",
   "mimetype": "text/x-python",
   "name": "python",
   "nbconvert_exporter": "python",
   "pygments_lexer": "ipython3",
   "version": "3.6.9"
  }
 },
 "nbformat": 4,
 "nbformat_minor": 4
}
