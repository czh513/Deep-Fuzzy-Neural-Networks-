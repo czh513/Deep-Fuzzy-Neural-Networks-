{
 "cells": [
  {
   "cell_type": "code",
   "execution_count": 68,
   "metadata": {},
   "outputs": [],
   "source": [
    "%matplotlib inline\n",
    "import torch\n",
    "import torchvision\n",
    "import math\n",
    "import seaborn as sns\n",
    "import pandas as pd"
   ]
  },
  {
   "cell_type": "code",
   "execution_count": 2,
   "metadata": {},
   "outputs": [],
   "source": [
    "import sys\n",
    "sys.path.append('..')"
   ]
  },
  {
   "cell_type": "code",
   "execution_count": 70,
   "metadata": {},
   "outputs": [],
   "source": [
    "from train import cifar_stats"
   ]
  },
  {
   "cell_type": "code",
   "execution_count": 3,
   "metadata": {},
   "outputs": [],
   "source": [
    "path = '../output/ablation-cifar10-models4/relog-minmaxout-elliptical_stop1-maxfit.pkl'"
   ]
  },
  {
   "cell_type": "code",
   "execution_count": 4,
   "metadata": {},
   "outputs": [],
   "source": [
    "model = torch.load(path, map_location=torch.device('cpu'))"
   ]
  },
  {
   "cell_type": "code",
   "execution_count": 15,
   "metadata": {},
   "outputs": [],
   "source": [
    "params = [(layer._quadratic.weight, layer.weight, layer.bias) \n",
    "           for layer in model.features if hasattr(layer, '_quadratic')]"
   ]
  },
  {
   "cell_type": "code",
   "execution_count": 16,
   "metadata": {},
   "outputs": [],
   "source": [
    "(qw, w, b), = params\n",
    "fan_in = w.shape[1] # this is to accommodate my initial incorrect implementation"
   ]
  },
  {
   "cell_type": "markdown",
   "metadata": {},
   "source": [
    "# Examining weight and bias magnitudes"
   ]
  },
  {
   "cell_type": "code",
   "execution_count": 94,
   "metadata": {},
   "outputs": [
    {
     "data": {
      "image/png": "[encoded data removed]",
      "text/plain": [
       "<Figure size 432x288 with 1 Axes>"
      ]
     },
     "metadata": {
      "needs_background": "light"
     },
     "output_type": "display_data"
    }
   ],
   "source": [
    "qw_magnitude = qw.abs().flatten().detach()\n",
    "w_magnitude = w.abs().flatten().detach()\n",
    "weights = pd.concat([\n",
    "    pd.DataFrame({'weight': qw_magnitude}).assign(name='quadratic'),\n",
    "    pd.DataFrame({'weight': w_magnitude}).assign(name='linear')\n",
    "])    \n",
    "_ = sns.boxplot(x='weight', y='name', data=weights)"
   ]
  },
  {
   "cell_type": "code",
   "execution_count": 95,
   "metadata": {},
   "outputs": [
    {
     "data": {
      "text/plain": [
       "count    1.382400e+04\n",
       "mean     1.443472e-02\n",
       "std      1.402033e-02\n",
       "min      2.069360e-09\n",
       "25%      4.362878e-03\n",
       "50%      1.027833e-02\n",
       "75%      2.053841e-02\n",
       "max      1.620958e-01\n",
       "dtype: float64"
      ]
     },
     "execution_count": 95,
     "metadata": {},
     "output_type": "execute_result"
    }
   ],
   "source": [
    "pd.Series(qw_magnitude).describe()"
   ]
  },
  {
   "cell_type": "code",
   "execution_count": 96,
   "metadata": {},
   "outputs": [
    {
     "data": {
      "text/plain": [
       "count    1.382400e+04\n",
       "mean     4.434614e-02\n",
       "std      1.094410e-01\n",
       "min      2.576421e-09\n",
       "25%      2.517860e-04\n",
       "50%      1.947631e-03\n",
       "75%      1.812685e-02\n",
       "max      1.046408e+00\n",
       "dtype: float64"
      ]
     },
     "execution_count": 96,
     "metadata": {},
     "output_type": "execute_result"
    }
   ],
   "source": [
    "pd.Series(w_magnitude).describe()"
   ]
  },
  {
   "cell_type": "code",
   "execution_count": 99,
   "metadata": {},
   "outputs": [
    {
     "data": {
      "text/plain": [
       "count    512.000000\n",
       "mean      -0.599834\n",
       "std        0.168443\n",
       "min       -1.326158\n",
       "25%       -0.708422\n",
       "50%       -0.598861\n",
       "75%       -0.507021\n",
       "max        0.029849\n",
       "dtype: float64"
      ]
     },
     "execution_count": 99,
     "metadata": {},
     "output_type": "execute_result"
    }
   ],
   "source": [
    "pd.Series(b.detach()).describe()"
   ]
  },
  {
   "cell_type": "markdown",
   "metadata": {},
   "source": [
    "# Calculating radii"
   ]
  },
  {
   "cell_type": "markdown",
   "metadata": {},
   "source": [
    "Recall that the net input is calculated as:\n",
    "\n",
    "$z = \\alpha_t \\sum_{i=1}^m w^\\prime_i x_i^2 + \\alpha_t \\gamma + \\sum_{i=1}^m w_i x_i + b,$\n",
    "\n",
    "where $\\{w^\\prime_i\\}$ (called quadratic weights here) are constrained to be negative, $\\alpha_t=1$ when training is finished, and $\\gamma = \\sqrt{\\text{fan-in}}$.\n",
    "\n",
    "We rewrite the formula into:\n",
    "\n",
    "$z = \\sum_{i=1}^m w^\\prime_i \\left(x_i + \\frac{w_i}{2w^\\prime_i} \\right)^2 \\underbrace{- \\frac{1}{4} \\left( \\frac{w_i}{w^\\prime_i} \\right)^2 + \\sqrt{\\text{fan-in}} + b}_{b_0},$\n",
    "\n",
    "and therefore, the boundary is defined as:\n",
    "\n",
    "$\\sum_{i=1}^m w^\\prime_i \\left(x_i - x^*_i\\right)^2 + b_0 = 0$\n",
    "\n",
    "$\\sum_{i=1}^m \\frac{\\left(x_i - x^*_i\\right)^2}{\\left(\\frac{b_0}{-w^\\prime_i}\\right)} - 1 = 0$ (notice that $w^\\prime_i$ is required to be negative)\n",
    "\n",
    "So, the radii are $\\sqrt{\\left| \\frac{b_0}{-w^\\prime_i} \\right|}$"
   ]
  },
  {
   "cell_type": "code",
   "execution_count": 52,
   "metadata": {},
   "outputs": [],
   "source": [
    "w = w.reshape(w.shape[0],-1)\n",
    "qw = qw.reshape(w.shape[0],-1)\n",
    "b0 = -0.25*torch.sum((w/qw)**2, axis=1) + math.sqrt(fan_in) + b"
   ]
  },
  {
   "cell_type": "code",
   "execution_count": 77,
   "metadata": {},
   "outputs": [],
   "source": [
    "radii = torch.sqrt((b0.reshape(b0.shape[0],1)/qw).abs()).flatten().detach()"
   ]
  },
  {
   "cell_type": "code",
   "execution_count": 79,
   "metadata": {},
   "outputs": [
    {
     "data": {
      "image/png": "[encoded data removed]",
      "text/plain": [
       "<Figure size 432x288 with 1 Axes>"
      ]
     },
     "metadata": {
      "needs_background": "light"
     },
     "output_type": "display_data"
    }
   ],
   "source": [
    "_ = sns.boxplot(radii)"
   ]
  },
  {
   "cell_type": "code",
   "execution_count": 80,
   "metadata": {},
   "outputs": [
    {
     "data": {
      "text/plain": [
       "count    1.382400e+04\n",
       "mean     1.400700e+05\n",
       "std      3.828484e+06\n",
       "min      1.898688e-01\n",
       "25%      1.288414e+01\n",
       "50%      5.751820e+01\n",
       "75%      4.539029e+02\n",
       "max      2.363871e+08\n",
       "dtype: float64"
      ]
     },
     "execution_count": 80,
     "metadata": {},
     "output_type": "execute_result"
    }
   ],
   "source": [
    "radii_series = pd.Series(radii)\n",
    "radii_series.describe()"
   ]
  },
  {
   "cell_type": "code",
   "execution_count": 83,
   "metadata": {},
   "outputs": [
    {
     "data": {
      "text/plain": [
       "0.004195601851851852"
      ]
     },
     "execution_count": 83,
     "metadata": {},
     "output_type": "execute_result"
    }
   ],
   "source": [
    "(radii_series < 1).mean()"
   ]
  },
  {
   "cell_type": "code",
   "execution_count": 84,
   "metadata": {},
   "outputs": [
    {
     "data": {
      "text/plain": [
       "0.012369791666666666"
      ]
     },
     "execution_count": 84,
     "metadata": {},
     "output_type": "execute_result"
    }
   ],
   "source": [
    "(radii_series < 2).mean()"
   ]
  },
  {
   "cell_type": "code",
   "execution_count": 106,
   "metadata": {},
   "outputs": [
    {
     "data": {
      "image/png": "[encoded data removed]",
      "text/plain": [
       "<Figure size 432x288 with 1 Axes>"
      ]
     },
     "metadata": {
      "needs_background": "light"
     },
     "output_type": "display_data"
    }
   ],
   "source": [
    "_ = sns.distplot(radii_series[radii_series < 10])"
   ]
  },
  {
   "cell_type": "markdown",
   "metadata": {},
   "source": [
    "# Compare to input distribution"
   ]
  },
  {
   "cell_type": "code",
   "execution_count": 71,
   "metadata": {},
   "outputs": [],
   "source": [
    "transform_test = torchvision.transforms.Compose([\n",
    "        torchvision.transforms.ToTensor(),\n",
    "        torchvision.transforms.Normalize(*cifar_stats)\n",
    "])\n",
    "cifar10_testset = torchvision.datasets.CIFAR10(root='../cifar10', train=False, download=False, transform=transform_test)\n",
    "cifar10_testloader = torch.utils.data.DataLoader(cifar10_testset, batch_size=256, shuffle=False, num_workers=2)"
   ]
  },
  {
   "cell_type": "code",
   "execution_count": 72,
   "metadata": {},
   "outputs": [],
   "source": [
    "x, y = next(iter(cifar10_testloader))"
   ]
  },
  {
   "cell_type": "code",
   "execution_count": 73,
   "metadata": {},
   "outputs": [
    {
     "data": {
      "text/plain": [
       "<matplotlib.axes._subplots.AxesSubplot at 0x1a3a22e898>"
      ]
     },
     "execution_count": 73,
     "metadata": {},
     "output_type": "execute_result"
    },
    {
     "data": {
      "image/png": "[encoded data removed]",
      "text/plain": [
       "<Figure size 432x288 with 1 Axes>"
      ]
     },
     "metadata": {
      "needs_background": "light"
     },
     "output_type": "display_data"
    }
   ],
   "source": [
    "sns.distplot(x.flatten())"
   ]
  },
  {
   "cell_type": "code",
   "execution_count": 75,
   "metadata": {},
   "outputs": [
    {
     "data": {
      "text/plain": [
       "1.2921929359436035"
      ]
     },
     "execution_count": 75,
     "metadata": {},
     "output_type": "execute_result"
    }
   ],
   "source": [
    "x.std().item()"
   ]
  },
  {
   "cell_type": "code",
   "execution_count": 76,
   "metadata": {},
   "outputs": [
    {
     "data": {
      "text/plain": [
       "count    786432.000000\n",
       "mean          0.048784\n",
       "std           1.292193\n",
       "min          -2.429066\n",
       "25%          -0.972734\n",
       "50%          -0.036240\n",
       "75%           1.003776\n",
       "max           2.753731\n",
       "dtype: float64"
      ]
     },
     "execution_count": 76,
     "metadata": {},
     "output_type": "execute_result"
    }
   ],
   "source": [
    "pd.Series(x.flatten()).describe()"
   ]
  },
  {
   "cell_type": "markdown",
   "metadata": {},
   "source": [
    "# Apply elliptical filters on actual data"
   ]
  },
  {
   "cell_type": "code",
   "execution_count": 101,
   "metadata": {},
   "outputs": [],
   "source": [
    "elliptical_layer, = [layer for layer in model.features if hasattr(layer, '_quadratic')]"
   ]
  },
  {
   "cell_type": "code",
   "execution_count": 102,
   "metadata": {},
   "outputs": [],
   "source": [
    "z = elliptical_layer(x)"
   ]
  },
  {
   "cell_type": "code",
   "execution_count": 103,
   "metadata": {},
   "outputs": [
    {
     "data": {
      "text/plain": [
       "torch.Size([256, 512, 32, 32])"
      ]
     },
     "execution_count": 103,
     "metadata": {},
     "output_type": "execute_result"
    }
   ],
   "source": [
    "z.shape"
   ]
  },
  {
   "cell_type": "code",
   "execution_count": 105,
   "metadata": {},
   "outputs": [
    {
     "data": {
      "text/plain": [
       "tensor(0.7887)"
      ]
     },
     "execution_count": 105,
     "metadata": {},
     "output_type": "execute_result"
    }
   ],
   "source": [
    "(z > 0).float().mean() # density"
   ]
  },
  {
   "cell_type": "code",
   "execution_count": null,
   "metadata": {},
   "outputs": [],
   "source": []
  }
 ],
 "metadata": {
  "kernelspec": {
   "display_name": "conda-env-newlogic-py",
   "language": "python",
   "name": "conda-env-newlogic-py"
  },
  "language_info": {
   "codemirror_mode": {
    "name": "ipython",
    "version": 3
   },
   "file_extension": ".py",
   "mimetype": "text/x-python",
   "name": "python",
   "nbconvert_exporter": "python",
   "pygments_lexer": "ipython3",
   "version": "3.6.9"
  }
 },
 "nbformat": 4,
 "nbformat_minor": 4
}
