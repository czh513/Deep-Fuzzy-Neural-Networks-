{
 "cells": [
  {
   "cell_type": "code",
   "execution_count": 1,
   "metadata": {},
   "outputs": [],
   "source": [
    "%matplotlib inline\n",
    "import torch\n",
    "import torchvision\n",
    "import math\n",
    "import seaborn as sns\n",
    "import pandas as pd"
   ]
  },
  {
   "cell_type": "code",
   "execution_count": 2,
   "metadata": {},
   "outputs": [],
   "source": [
    "import sys\n",
    "sys.path.append('..')"
   ]
  },
  {
   "cell_type": "code",
   "execution_count": 3,
   "metadata": {},
   "outputs": [],
   "source": [
    "from train import cifar_stats"
   ]
  },
  {
   "cell_type": "code",
   "execution_count": 130,
   "metadata": {},
   "outputs": [],
   "source": [
    "path = '../output/ablation-mnist-models/attempt0/relog-elliptical-maxout_4-max_fit_l1.pkl'"
   ]
  },
  {
   "cell_type": "code",
   "execution_count": 131,
   "metadata": {},
   "outputs": [
    {
     "name": "stderr",
     "output_type": "stream",
     "text": [
      "/Users/cumeo/anaconda3/envs/newlogic/lib/python3.6/site-packages/torch/serialization.py:453: SourceChangeWarning: source code of class 'models.ReLog' has changed. you can retrieve the original source code by accessing the object's source attribute or set `torch.nn.Module.dump_patches = True` and use the patch tool to revert the changes.\n",
      "  warnings.warn(msg, SourceChangeWarning)\n",
      "/Users/cumeo/anaconda3/envs/newlogic/lib/python3.6/site-packages/torch/serialization.py:453: SourceChangeWarning: source code of class 'models.Elliptical' has changed. you can retrieve the original source code by accessing the object's source attribute or set `torch.nn.Module.dump_patches = True` and use the patch tool to revert the changes.\n",
      "  warnings.warn(msg, SourceChangeWarning)\n"
     ]
    }
   ],
   "source": [
    "model = torch.load(path, map_location=torch.device('cpu'))"
   ]
  },
  {
   "cell_type": "code",
   "execution_count": 132,
   "metadata": {},
   "outputs": [],
   "source": [
    "params = [(layer.multiplier, getattr(layer, 'gamma', 1), layer._quadratic.weight, layer.weight, layer.bias) \n",
    "           for layer in model.features if hasattr(layer, '_quadratic')]"
   ]
  },
  {
   "cell_type": "code",
   "execution_count": 133,
   "metadata": {},
   "outputs": [],
   "source": [
    "alpha, gamma, qw, w, b = params[0]"
   ]
  },
  {
   "cell_type": "markdown",
   "metadata": {},
   "source": [
    "# Examining weight and bias magnitudes"
   ]
  },
  {
   "cell_type": "code",
   "execution_count": 134,
   "metadata": {},
   "outputs": [],
   "source": [
    "def print_weight_magnitudes(layer_params):\n",
    "    alpha, gamma, qw, w, b = layer_params\n",
    "    qw_magnitude = qw.abs().flatten().detach()\n",
    "    w_magnitude = w.abs().flatten().detach()\n",
    "    # weights = pd.concat([\n",
    "    #     pd.DataFrame({'weight': qw_magnitude}).assign(name='quadratic'),\n",
    "    #     pd.DataFrame({'weight': w_magnitude}).assign(name='linear')\n",
    "    # ])    \n",
    "    # _ = sns.boxplot(x='weight', y='name', data=weights)\n",
    "    qw_desc = pd.Series(qw_magnitude).describe()\n",
    "    w_desc = pd.Series(w_magnitude).describe()\n",
    "    print('Quadratic weights:')\n",
    "    print(qw_desc)\n",
    "    print('Linear weights:')\n",
    "    print(w_desc)\n",
    "    print('Compare:')\n",
    "    print(qw_desc / w_desc)\n",
    "    "
   ]
  },
  {
   "cell_type": "code",
   "execution_count": 135,
   "metadata": {},
   "outputs": [],
   "source": [
    "def compare_weight_magnitudes(layer_params):\n",
    "    alpha, gamma, qw, w, b = layer_params\n",
    "    qw_magnitude = qw.abs().flatten().detach()\n",
    "    w_magnitude = w.abs().flatten().detach()\n",
    "    qw_desc = pd.Series(qw_magnitude).describe()\n",
    "    w_desc = pd.Series(w_magnitude).describe()\n",
    "    print('Compare:', qw_desc.loc['50%'] / w_desc.loc['50%'])\n",
    "    \n",
    "# compare_weight_magnitudes(params[0])"
   ]
  },
  {
   "cell_type": "code",
   "execution_count": 136,
   "metadata": {},
   "outputs": [
    {
     "name": "stdout",
     "output_type": "stream",
     "text": [
      "Quadratic weights:\n",
      "count    1.600000e+03\n",
      "mean     3.638437e-02\n",
      "std      1.167463e-01\n",
      "min      3.904655e-09\n",
      "25%      5.909559e-06\n",
      "50%      2.812188e-05\n",
      "75%      7.454471e-03\n",
      "max      8.440016e-01\n",
      "dtype: float64\n",
      "Linear weights:\n",
      "count    1.600000e+03\n",
      "mean     7.110953e-02\n",
      "std      1.702752e-01\n",
      "min      1.048441e-09\n",
      "25%      3.950088e-06\n",
      "50%      1.608803e-05\n",
      "75%      3.508710e-02\n",
      "max      1.809317e+00\n",
      "dtype: float64\n",
      "Compare:\n",
      "count    1.000000\n",
      "mean     0.511667\n",
      "std      0.685633\n",
      "min      3.724249\n",
      "25%      1.496058\n",
      "50%      1.748001\n",
      "75%      0.212456\n",
      "max      0.466475\n",
      "dtype: float64\n"
     ]
    }
   ],
   "source": [
    "print_weight_magnitudes(params[0])"
   ]
  },
  {
   "cell_type": "code",
   "execution_count": 137,
   "metadata": {},
   "outputs": [
    {
     "name": "stdout",
     "output_type": "stream",
     "text": [
      "Quadratic weights:\n",
      "count    5.120000e+04\n",
      "mean     2.125250e-02\n",
      "std      6.041596e-02\n",
      "min      1.958425e-13\n",
      "25%      7.232898e-06\n",
      "50%      3.822045e-05\n",
      "75%      4.230098e-03\n",
      "max      8.190984e-01\n",
      "dtype: float64\n",
      "Linear weights:\n",
      "count    5.120000e+04\n",
      "mean     2.344496e-02\n",
      "std      5.351230e-02\n",
      "min      5.834453e-12\n",
      "25%      8.128078e-07\n",
      "50%      3.552411e-06\n",
      "75%      1.013011e-02\n",
      "max      5.924625e-01\n",
      "dtype: float64\n",
      "Compare:\n",
      "count     1.000000\n",
      "mean      0.906485\n",
      "std       1.129011\n",
      "min       0.033567\n",
      "25%       8.898657\n",
      "50%      10.759017\n",
      "75%       0.417577\n",
      "max       1.382532\n",
      "dtype: float64\n"
     ]
    }
   ],
   "source": [
    "print_weight_magnitudes(params[1])"
   ]
  },
  {
   "cell_type": "markdown",
   "metadata": {},
   "source": [
    "# Calculating radii"
   ]
  },
  {
   "cell_type": "markdown",
   "metadata": {},
   "source": [
    "Recall that the net input is calculated as:\n",
    "\n",
    "$z = \\alpha_t \\sum_{i=1}^m w^\\prime_i x_i^2 + \\alpha_t \\gamma + \\sum_{i=1}^m w_i x_i + b,$\n",
    "\n",
    "where $\\{w^\\prime_i\\}$ (called quadratic weights here) are constrained to be negative, $\\alpha_t=1$ when training is finished, and $\\gamma = \\sqrt{\\text{fan-in}}$.\n",
    "\n",
    "We rewrite the formula into:\n",
    "\n",
    "$z = \\sum_{i=1}^m w^\\prime_i \\left(x_i + \\frac{w_i}{2w^\\prime_i} \\right)^2 \\underbrace{- \\frac{1}{4} \\left( \\frac{w_i}{w^\\prime_i} \\right)^2 + \\gamma + b}_{b_0},$\n",
    "\n",
    "and therefore, the boundary is defined as:\n",
    "\n",
    "$\\sum_{i=1}^m w^\\prime_i \\left(x_i - x^*_i\\right)^2 + b_0 = 0$\n",
    "\n",
    "$\\sum_{i=1}^m \\frac{\\left(x_i - x^*_i\\right)^2}{\\left(\\frac{b_0}{-w^\\prime_i}\\right)} - 1 = 0$ (notice that $w^\\prime_i$ is required to be negative)\n",
    "\n",
    "So, the radii are $\\sqrt{ \\frac{b_0}{-w^\\prime_i}}$"
   ]
  },
  {
   "cell_type": "code",
   "execution_count": 138,
   "metadata": {},
   "outputs": [],
   "source": [
    "def plot_radii(layer_params):\n",
    "    alpha, gamma, qw, w, b = layer_params\n",
    "    w = w.reshape(w.shape[0],-1)\n",
    "    qw = alpha*qw.reshape(w.shape[0],-1)\n",
    "    b0 = -0.25*torch.sum((w/qw)**2, axis=1) + alpha*gamma + b\n",
    "    radii = torch.sqrt(b0.reshape(b0.shape[0],1)/qw).flatten().detach()    \n",
    "    _ = sns.boxplot(radii)   \n",
    "    radii_series = pd.Series(radii)\n",
    "    print(radii_series.describe())\n",
    "    return radii"
   ]
  },
  {
   "cell_type": "code",
   "execution_count": 139,
   "metadata": {},
   "outputs": [
    {
     "name": "stdout",
     "output_type": "stream",
     "text": [
      "count    7.850000e+02\n",
      "mean     1.945014e+07\n",
      "std      1.163678e+08\n",
      "min      6.029347e+01\n",
      "25%      1.199092e+03\n",
      "50%      4.212213e+03\n",
      "75%      1.797841e+04\n",
      "max      1.664311e+09\n",
      "dtype: float64\n"
     ]
    },
    {
     "data": {
      "image/png": "[encoded data removed]",
      "text/plain": [
       "<Figure size 432x288 with 1 Axes>"
      ]
     },
     "metadata": {
      "needs_background": "light"
     },
     "output_type": "display_data"
    }
   ],
   "source": [
    "radii = plot_radii(params[0])"
   ]
  },
  {
   "cell_type": "code",
   "execution_count": 140,
   "metadata": {},
   "outputs": [
    {
     "name": "stdout",
     "output_type": "stream",
     "text": [
      "count    2.559800e+04\n",
      "mean     7.962219e+07\n",
      "std      8.708419e+09\n",
      "min      1.337063e+02\n",
      "25%      4.681623e+03\n",
      "50%      2.532336e+04\n",
      "75%      2.365792e+05\n",
      "max      1.392803e+12\n",
      "dtype: float64\n"
     ]
    },
    {
     "data": {
      "image/png": "[encoded data removed]",
      "text/plain": [
       "<Figure size 432x288 with 1 Axes>"
      ]
     },
     "metadata": {
      "needs_background": "light"
     },
     "output_type": "display_data"
    }
   ],
   "source": [
    "radii = plot_radii(params[1])"
   ]
  },
  {
   "cell_type": "markdown",
   "metadata": {},
   "source": [
    "# CIFAR-10 models"
   ]
  },
  {
   "cell_type": "code",
   "execution_count": 141,
   "metadata": {},
   "outputs": [],
   "source": [
    "cifar10_path = '../output/ablation-cifar10-models4/relog-maxout-elliptical-maxfit.pkl'"
   ]
  },
  {
   "cell_type": "code",
   "execution_count": 142,
   "metadata": {},
   "outputs": [
    {
     "name": "stderr",
     "output_type": "stream",
     "text": [
      "/Users/cumeo/anaconda3/envs/newlogic/lib/python3.6/site-packages/torch/serialization.py:453: SourceChangeWarning: source code of class 'models.Elliptical' has changed. you can retrieve the original source code by accessing the object's source attribute or set `torch.nn.Module.dump_patches = True` and use the patch tool to revert the changes.\n",
      "  warnings.warn(msg, SourceChangeWarning)\n"
     ]
    }
   ],
   "source": [
    "cifar_model = torch.load(cifar10_path, map_location=torch.device('cpu'))"
   ]
  },
  {
   "cell_type": "code",
   "execution_count": 143,
   "metadata": {},
   "outputs": [],
   "source": [
    "cifar_params = [(layer.multiplier, getattr(layer, 'gamma', 1), layer._quadratic.weight, layer.weight, layer.bias) \n",
    "           for layer in cifar_model.features if hasattr(layer, '_quadratic')]"
   ]
  },
  {
   "cell_type": "code",
   "execution_count": 144,
   "metadata": {},
   "outputs": [
    {
     "name": "stdout",
     "output_type": "stream",
     "text": [
      "Quadratic weights:\n",
      "count    6.912000e+03\n",
      "mean     5.708601e-02\n",
      "std      5.477707e-02\n",
      "min      2.113152e-10\n",
      "25%      1.018130e-02\n",
      "50%      3.723509e-02\n",
      "75%      9.629107e-02\n",
      "max      2.826799e-01\n",
      "dtype: float64\n",
      "Linear weights:\n",
      "count    6.912000e+03\n",
      "mean     1.523758e-01\n",
      "std      1.460869e-01\n",
      "min      1.998897e-10\n",
      "25%      4.731211e-02\n",
      "50%      1.113780e-01\n",
      "75%      2.087807e-01\n",
      "max      1.161551e+00\n",
      "dtype: float64\n",
      "Compare:\n",
      "count    1.000000\n",
      "mean     0.374640\n",
      "std      0.374962\n",
      "min      1.057159\n",
      "25%      0.215194\n",
      "50%      0.334313\n",
      "75%      0.461207\n",
      "max      0.243364\n",
      "dtype: float64\n"
     ]
    }
   ],
   "source": [
    "print_weight_magnitudes(cifar_params[0])"
   ]
  },
  {
   "cell_type": "code",
   "execution_count": 145,
   "metadata": {},
   "outputs": [
    {
     "name": "stdout",
     "output_type": "stream",
     "text": [
      "count    3.444000e+03\n",
      "mean     6.787447e+09\n",
      "std      2.322477e+11\n",
      "min      1.561221e+01\n",
      "25%      8.359854e+02\n",
      "50%      5.333910e+03\n",
      "75%      2.114975e+06\n",
      "max      1.311314e+13\n",
      "dtype: float64\n"
     ]
    },
    {
     "data": {
      "image/png": "[encoded data removed]",
      "text/plain": [
       "<Figure size 432x288 with 1 Axes>"
      ]
     },
     "metadata": {
      "needs_background": "light"
     },
     "output_type": "display_data"
    }
   ],
   "source": [
    "radii = plot_radii(cifar_params[0])"
   ]
  },
  {
   "cell_type": "code",
   "execution_count": 146,
   "metadata": {},
   "outputs": [
    {
     "name": "stdout",
     "output_type": "stream",
     "text": [
      "Quadratic weights:\n",
      "count    2.949120e+05\n",
      "mean     2.149176e-02\n",
      "std      1.656555e-02\n",
      "min      6.840399e-12\n",
      "25%      8.630282e-03\n",
      "50%      1.946887e-02\n",
      "75%      3.150595e-02\n",
      "max      5.682368e-01\n",
      "dtype: float64\n",
      "Linear weights:\n",
      "count    2.949120e+05\n",
      "mean     3.425395e-02\n",
      "std      3.249068e-02\n",
      "min      2.438978e-13\n",
      "25%      1.270423e-02\n",
      "50%      2.634260e-02\n",
      "75%      4.388649e-02\n",
      "max      5.926669e-01\n",
      "dtype: float64\n",
      "Compare:\n",
      "count     1.000000\n",
      "mean      0.627424\n",
      "std       0.509855\n",
      "min      28.046174\n",
      "25%       0.679323\n",
      "50%       0.739064\n",
      "75%       0.717896\n",
      "max       0.958779\n",
      "dtype: float64\n"
     ]
    }
   ],
   "source": [
    "print_weight_magnitudes(cifar_params[1])"
   ]
  },
  {
   "cell_type": "code",
   "execution_count": 147,
   "metadata": {},
   "outputs": [
    {
     "name": "stdout",
     "output_type": "stream",
     "text": [
      "count    1.473790e+05\n",
      "mean     1.093774e+10\n",
      "std      2.011345e+12\n",
      "min      1.615974e+02\n",
      "25%      4.039904e+03\n",
      "50%      1.790747e+04\n",
      "75%      3.769648e+05\n",
      "max      7.621037e+14\n",
      "dtype: float64\n"
     ]
    },
    {
     "data": {
      "image/png": "[encoded data removed]",
      "text/plain": [
       "<Figure size 432x288 with 1 Axes>"
      ]
     },
     "metadata": {
      "needs_background": "light"
     },
     "output_type": "display_data"
    }
   ],
   "source": [
    "_ = plot_radii(cifar_params[1])"
   ]
  },
  {
   "cell_type": "code",
   "execution_count": 148,
   "metadata": {},
   "outputs": [
    {
     "name": "stdout",
     "output_type": "stream",
     "text": [
      "count    5.896190e+05\n",
      "mean     9.028161e+11\n",
      "std      4.233583e+14\n",
      "min      1.734959e+02\n",
      "25%      1.110484e+04\n",
      "50%      1.417752e+05\n",
      "75%      7.084436e+08\n",
      "max      3.091605e+17\n",
      "dtype: float64\n"
     ]
    },
    {
     "data": {
      "image/png": "[encoded data removed]",
      "text/plain": [
       "<Figure size 432x288 with 1 Axes>"
      ]
     },
     "metadata": {
      "needs_background": "light"
     },
     "output_type": "display_data"
    }
   ],
   "source": [
    "_ = plot_radii(cifar_params[2])"
   ]
  },
  {
   "cell_type": "code",
   "execution_count": 149,
   "metadata": {},
   "outputs": [
    {
     "name": "stdout",
     "output_type": "stream",
     "text": [
      "count    1.473790e+05\n",
      "mean     1.093774e+10\n",
      "std      2.011345e+12\n",
      "min      1.615974e+02\n",
      "25%      4.039904e+03\n",
      "50%      1.790747e+04\n",
      "75%      3.769648e+05\n",
      "max      7.621037e+14\n",
      "dtype: float64\n"
     ]
    },
    {
     "data": {
      "image/png": "[encoded data removed]",
      "text/plain": [
       "<Figure size 432x288 with 1 Axes>"
      ]
     },
     "metadata": {
      "needs_background": "light"
     },
     "output_type": "display_data"
    }
   ],
   "source": [
    "_ = plot_radii(cifar_params[1])"
   ]
  },
  {
   "cell_type": "code",
   "execution_count": 150,
   "metadata": {},
   "outputs": [
    {
     "name": "stdout",
     "output_type": "stream",
     "text": [
      "count    1.473790e+05\n",
      "mean     1.093774e+10\n",
      "std      2.011345e+12\n",
      "min      1.615974e+02\n",
      "25%      4.039904e+03\n",
      "50%      1.790747e+04\n",
      "75%      3.769648e+05\n",
      "max      7.621037e+14\n",
      "dtype: float64\n"
     ]
    },
    {
     "data": {
      "image/png": "[encoded data removed]",
      "text/plain": [
       "<Figure size 432x288 with 1 Axes>"
      ]
     },
     "metadata": {
      "needs_background": "light"
     },
     "output_type": "display_data"
    }
   ],
   "source": [
    "_ = plot_radii(cifar_params[1])"
   ]
  },
  {
   "cell_type": "code",
   "execution_count": 151,
   "metadata": {},
   "outputs": [
    {
     "name": "stdout",
     "output_type": "stream",
     "text": [
      "Compare: 0.3343127586017516\n",
      "Compare: 0.7390638304792744\n",
      "Compare: 0.8882108491288214\n",
      "Compare: 0.8377484147745108\n",
      "Compare: 1.013214337202249\n",
      "Compare: 1.0250799263141157\n",
      "Compare: 0.9792051063838133\n",
      "Compare: 1.0193080623849435\n"
     ]
    }
   ],
   "source": [
    "for layer_params in cifar_params:\n",
    "    compare_weight_magnitudes(layer_params)"
   ]
  },
  {
   "cell_type": "code",
   "execution_count": null,
   "metadata": {},
   "outputs": [],
   "source": []
  },
  {
   "cell_type": "code",
   "execution_count": null,
   "metadata": {},
   "outputs": [],
   "source": []
  },
  {
   "cell_type": "code",
   "execution_count": null,
   "metadata": {},
   "outputs": [],
   "source": []
  }
 ],
 "metadata": {
  "kernelspec": {
   "display_name": "conda-env-newlogic-py",
   "language": "python",
   "name": "conda-env-newlogic-py"
  },
  "language_info": {
   "codemirror_mode": {
    "name": "ipython",
    "version": 3
   },
   "file_extension": ".py",
   "mimetype": "text/x-python",
   "name": "python",
   "nbconvert_exporter": "python",
   "pygments_lexer": "ipython3",
   "version": "3.6.9"
  }
 },
 "nbformat": 4,
 "nbformat_minor": 4
}
