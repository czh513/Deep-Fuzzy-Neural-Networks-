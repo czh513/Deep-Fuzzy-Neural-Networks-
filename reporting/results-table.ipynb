{
 "cells": [
  {
   "cell_type": "code",
   "execution_count": 1,
   "metadata": {},
   "outputs": [],
   "source": [
    "mnist_models_path = '../output/mnist-models.csv'\n",
    "mnist_fgm_results_path = '../output/mnist-fgm-results.json'\n",
    "mnist_cw_results_path = '../output/mnist-cw-results.json'\n",
    "mnist_bim_results_path = '../output/mnist-bim-results.json'"
   ]
  },
  {
   "cell_type": "code",
   "execution_count": 2,
   "metadata": {},
   "outputs": [],
   "source": [
    "import pandas as pd\n",
    "import numpy as np\n",
    "from collections import OrderedDict\n",
    "import re"
   ]
  },
  {
   "cell_type": "code",
   "execution_count": 3,
   "metadata": {},
   "outputs": [],
   "source": [
    "mnist_models = pd.read_csv(mnist_models_path)"
   ]
  },
  {
   "cell_type": "code",
   "execution_count": 4,
   "metadata": {},
   "outputs": [],
   "source": [
    "def process(df):\n",
    "    df['accuracy'] = df.accuracies.apply(np.mean)\n",
    "    df['attack_type'] = df.apply(\n",
    "        lambda r: ('%s(L-%s,eps=%.1f)' % (r['attack_type'], r['ord'], r['epsilon'])\n",
    "                   if 'epsilon' in r else r['attack_type']), axis=1)\n",
    "    # in case there're duplicates\n",
    "#     df = df.groupby(['model_name', 'attack_type']).agg({'accuracy': np.mean}).reset_index()\n",
    "    return df"
   ]
  },
  {
   "cell_type": "code",
   "execution_count": 5,
   "metadata": {},
   "outputs": [],
   "source": [
    "mnist_fgm_results = process(pd.read_json(mnist_fgm_results_path))\n",
    "# mnist_cw_results = pd.read_json(mnist_cw_results_path)\n",
    "mnist_cw_results = pd.read_csv('../output/mnist-cnw-results.csv') # wait for newer results\n",
    "mnist_bim_results = process(pd.read_json(mnist_bim_results_path))"
   ]
  },
  {
   "cell_type": "code",
   "execution_count": 6,
   "metadata": {},
   "outputs": [],
   "source": [
    "mnist_results = pd.concat([mnist_fgm_results, mnist_bim_results, mnist_cw_results], sort=False)"
   ]
  },
  {
   "cell_type": "code",
   "execution_count": 7,
   "metadata": {},
   "outputs": [
    {
     "data": {
      "text/plain": [
       "array(['cnn-mnist-relu', 'cnn-mnist-relu-maxfit_l1_01_05',\n",
       "       'cnn-mnist-relu-maxfit_l2_01_05',\n",
       "       'cnn-mnist-relu-maxmargin_l1_01_05',\n",
       "       'cnn-mnist-relu-maxmargin_l2_01_05', 'cnn-mnist-relog',\n",
       "       'cnn-mnist-relog-more-neurons', 'cnn-mnist-relog-maxout_2',\n",
       "       'cnn-mnist-relog-minmaxout_4_2',\n",
       "       'cnn-mnist-relog-minmaxout_4_2-sigmoid_out',\n",
       "       'cnn-mnist-relog-spherical-minmaxout_4_2-sigmoid_out',\n",
       "       'cnn-mnist-relog-spherical-minmaxout_4_2-sigmoid_out-max_fit_l1_1',\n",
       "       'cnn-mnist-relog-spherical-minmaxout_4_2-sigmoid_out-max_fit_l1_1-scrambling',\n",
       "       'cnn-mnist-relu-kernel',\n",
       "       'cnn-mnist-relog-minmaxout_4_2-sigmoid_out-max_margin'],\n",
       "      dtype=object)"
      ]
     },
     "execution_count": 7,
     "metadata": {},
     "output_type": "execute_result"
    }
   ],
   "source": [
    "mnist_results.model_name.drop_duplicates().values"
   ]
  },
  {
   "cell_type": "code",
   "execution_count": 12,
   "metadata": {},
   "outputs": [],
   "source": [
    "def format_table(formated_names, model_order, attack_order):\n",
    "    df = mnist_results[mnist_results.model_name.isin(formated_names) &\n",
    "                       mnist_results.attack_type.isin(attack_order)].copy()\n",
    "    df['accuracy'] = df.accuracy.apply(lambda v: '%.2f' % v if type(v) == float else '-')\n",
    "    df = df.pivot(index='model_name', values='accuracy', columns='attack_type')\n",
    "    df = (df.reindex(sorted(df.columns, key=attack_order.__getitem__), axis=1)\n",
    "          .reset_index().fillna('-'))\n",
    "    df['model_order'] = df.model_name.apply(model_order.__getitem__)\n",
    "    df = df.sort_values(['model_order']).drop(columns='model_order')\n",
    "    df['model_name'] = df.model_name.apply(formatted_names.__getitem__)    \n",
    "    return df, df.to_latex(index=False)"
   ]
  },
  {
   "cell_type": "markdown",
   "metadata": {},
   "source": [
    "# Ablation table"
   ]
  },
  {
   "cell_type": "code",
   "execution_count": 13,
   "metadata": {},
   "outputs": [],
   "source": [
    "formatted_names = OrderedDict([\n",
    "    ('cnn-mnist-relu', 'ReLU'),\n",
    "    ('cnn-mnist-relog', 'ReLog'), \n",
    "    ('cnn-mnist-relog-maxout_2', '+ MaxOut (k=2)'),\n",
    "    ('cnn-mnist-relog-minmaxout_4_2', '+ MinOut (k=4)'),\n",
    "    ('cnn-mnist-relog-minmaxout_4_2-sigmoid_out', '+ Sigmoid output'),\n",
    "    ('cnn-mnist-relog-spherical-minmaxout_4_2-sigmoid_out', '+ Spherical'),  \n",
    "    ('cnn-mnist-relog-spherical-minmaxout_4_2-sigmoid_out-max_fit_l1_1', '+ MaxFit'),  \n",
    "    ('cnn-mnist-relog-spherical-minmaxout_4_2-sigmoid_out-max_fit_l1_1-scrambling', '+ Scramble training'),  \n",
    "])\n",
    "model_order = {n: i for i, n in enumerate(formatted_names)}"
   ]
  },
  {
   "cell_type": "code",
   "execution_count": 14,
   "metadata": {},
   "outputs": [],
   "source": [
    "used_attacks = [\n",
    "    'FGM(L-2.0,eps=3.0)',\n",
    "    'FGM(L-nan,eps=0.2)',\n",
    "    'FGM(L-nan,eps=0.3)',\n",
    "    'BIM(L-nan,eps=0.3)', \n",
    "    'C&W'\n",
    "]\n",
    "attack_order = {n: i for i, n in enumerate(used_attacks)}"
   ]
  },
  {
   "cell_type": "code",
   "execution_count": 15,
   "metadata": {},
   "outputs": [],
   "source": [
    "ablation_table, latex = format_table(formatted_names, model_order, attack_order)"
   ]
  },
  {
   "cell_type": "code",
   "execution_count": 16,
   "metadata": {},
   "outputs": [
    {
     "name": "stdout",
     "output_type": "stream",
     "text": [
      "\\begin{tabular}{llllll}\n",
      "\\toprule\n",
      "          model\\_name & FGM(L-2.0,eps=3.0) & FGM(L-nan,eps=0.2) & FGM(L-nan,eps=0.3) & BIM(L-nan,eps=0.3) &   C\\&W \\\\\n",
      "\\midrule\n",
      "                ReLU &               0.44 &               0.55 &               0.21 &               0.02 &  0.00 \\\\\n",
      "               ReLog &               0.70 &               0.63 &               0.36 &               0.03 &  0.01 \\\\\n",
      "      + MaxOut (k=2) &               0.77 &               0.70 &               0.54 &               0.09 &  0.01 \\\\\n",
      "      + MinOut (k=4) &               0.79 &               0.83 &               0.68 &               0.21 &  0.02 \\\\\n",
      "    + Sigmoid output &               0.84 &               0.87 &               0.74 &               0.31 &  0.19 \\\\\n",
      "         + Spherical &               0.85 &               0.85 &               0.79 &               0.42 &     - \\\\\n",
      "            + MaxFit &               0.84 &               0.87 &               0.79 &               0.49 &     - \\\\\n",
      " + Scramble training &               0.85 &               0.88 &               0.80 &               0.54 &     - \\\\\n",
      "\\bottomrule\n",
      "\\end{tabular}\n",
      "\n"
     ]
    }
   ],
   "source": [
    "print(latex)"
   ]
  },
  {
   "cell_type": "markdown",
   "metadata": {},
   "source": [
    "# Regularization"
   ]
  },
  {
   "cell_type": "code",
   "execution_count": 17,
   "metadata": {},
   "outputs": [],
   "source": [
    "formatted_names = OrderedDict([\n",
    "    ('cnn-mnist-relu', 'ReLU'),\n",
    "    ('cnn-mnist-relu-maxfit_l1_01_05', 'ReLU + MaxFit (l1)'),\n",
    "    ('cnn-mnist-relu-maxfit_l2_01_05', 'ReLU + MaxFit (l2)'),\n",
    "    ('cnn-mnist-relu-maxmargin_l1_01_05', 'ReLU + MaxMargin (l1)'),\n",
    "    ('cnn-mnist-relu-maxmargin_l2_01_05', 'ReLU + MaxMargin (l2)'),\n",
    "    ('cnn-mnist-relog-minmaxout_4_2-sigmoid_out', 'DNNP'),\n",
    "    ('cnn-mnist-relog-minmaxout_4_2-sigmoid_out-max_margin', 'DNNP + MaxMargin' ),\n",
    "    \n",
    "])\n",
    "order = {n: i for i, n in enumerate(formatted_names)}"
   ]
  },
  {
   "cell_type": "code",
   "execution_count": 32,
   "metadata": {},
   "outputs": [],
   "source": [
    "attack_order2 = {n: v for n, v in attack_order.items()\n",
    "                 if 'BIM' not in n and 'C&W' not in n and 'L-2.0' not in n}\n",
    "ablation_table, latex = format_table(formatted_names, order, attack_order2)\n",
    "latex = re.sub(r'L-([\\d\\.\\w]+),eps=([\\d\\.]+)', r'$\\epsilon=\\2$', latex)"
   ]
  },
  {
   "cell_type": "code",
   "execution_count": 33,
   "metadata": {},
   "outputs": [
    {
     "name": "stdout",
     "output_type": "stream",
     "text": [
      "\\begin{tabular}{lll}\n",
      "\\toprule\n",
      "            model\\_name & FGM($\\epsilon=0.2$) & FGM($\\epsilon=0.3$) \\\\\n",
      "\\midrule\n",
      "                  ReLU &               0.55 &               0.21 \\\\\n",
      "    ReLU + MaxFit (l1) &               0.57 &               0.19 \\\\\n",
      "    ReLU + MaxFit (l2) &               0.36 &               0.07 \\\\\n",
      " ReLU + MaxMargin (l1) &               0.34 &               0.05 \\\\\n",
      " ReLU + MaxMargin (l2) &               0.42 &               0.09 \\\\\n",
      "                  DNNP &               0.87 &               0.74 \\\\\n",
      "\\bottomrule\n",
      "\\end{tabular}\n",
      "\n"
     ]
    }
   ],
   "source": [
    "print(latex)"
   ]
  },
  {
   "cell_type": "code",
   "execution_count": null,
   "metadata": {},
   "outputs": [],
   "source": []
  }
 ],
 "metadata": {
  "kernelspec": {
   "display_name": "conda-env-newlogic-py",
   "language": "python",
   "name": "conda-env-newlogic-py"
  },
  "language_info": {
   "codemirror_mode": {
    "name": "ipython",
    "version": 3
   },
   "file_extension": ".py",
   "mimetype": "text/x-python",
   "name": "python",
   "nbconvert_exporter": "python",
   "pygments_lexer": "ipython3",
   "version": "3.6.9"
  }
 },
 "nbformat": 4,
 "nbformat_minor": 4
}
