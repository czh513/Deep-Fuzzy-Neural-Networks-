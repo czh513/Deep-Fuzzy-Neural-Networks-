{
 "cells": [
  {
   "cell_type": "code",
   "execution_count": 1,
   "metadata": {},
   "outputs": [],
   "source": [
    "mnist_results_path = '../output/ablation-mnist-results.json'"
   ]
  },
  {
   "cell_type": "code",
   "execution_count": 2,
   "metadata": {},
   "outputs": [],
   "source": [
    "import pandas as pd\n",
    "import numpy as np\n",
    "from collections import OrderedDict\n",
    "import re"
   ]
  },
  {
   "cell_type": "code",
   "execution_count": 21,
   "metadata": {},
   "outputs": [],
   "source": [
    "import json\n",
    "rows = []\n",
    "with open(mnist_results_path) as f:\n",
    "    for line in f:\n",
    "        if line.strip():\n",
    "            row = json.loads(line[:-1])\n",
    "            rows.append(row)\n",
    "results = pd.DataFrame(rows)"
   ]
  },
  {
   "cell_type": "code",
   "execution_count": 37,
   "metadata": {},
   "outputs": [
    {
     "name": "stderr",
     "output_type": "stream",
     "text": [
      "/Users/cumeo/anaconda3/envs/newlogic/lib/python3.6/site-packages/ipykernel_launcher.py:3: UserWarning: Boolean Series key will be reindexed to match DataFrame index.\n",
      "  This is separate from the ipykernel package so we can avoid doing imports until\n"
     ]
    },
    {
     "data": {
      "text/plain": [
       "array([['/nfs/home2/minhle/newlogic/output/ablation-mnist-models/relu.pkl',\n",
       "        0.04650000000000001],\n",
       "       ['/nfs/home2/minhle/newlogic/output/ablation-mnist-models/relog.pkl',\n",
       "        0.42230000000000006],\n",
       "       ['/nfs/home2/minhle/newlogic/output/ablation-mnist-models/relog-maxout_4.pkl',\n",
       "        0.1009],\n",
       "       ['/nfs/home2/minhle/newlogic/output/ablation-mnist-models/relog-elliptical-maxout_4.pkl',\n",
       "        0.3715],\n",
       "       ['/nfs/home2/minhle/newlogic/output/ablation-mnist-models/relog-elliptical-maxout_4-max_fit_l1_1.pkl',\n",
       "        0.45710000000000006],\n",
       "       ['/nfs/home2/minhle/newlogic/output/ablation-mnist-models/relog-elliptical-maxout_4-sigmoid_out-max_fit_l1_1.pkl',\n",
       "        0.8957],\n",
       "       ['/nfs/home2/minhle/newlogic/output/ablation-mnist-models/relog-elliptical-maxout_4-sigmoid_out-max_fit_l1_1-scrambling.pkl',\n",
       "        0.8706]], dtype=object)"
      ]
     },
     "execution_count": 37,
     "metadata": {},
     "output_type": "execute_result"
    }
   ],
   "source": [
    "results2 = process(results).copy()\n",
    "results2['plen'] = results2.model_path.apply(len)\n",
    "results2.sort_values('plen')[results2.attack_type == 'CW'][['model_path', 'accuracy']].values"
   ]
  },
  {
   "cell_type": "code",
   "execution_count": 38,
   "metadata": {},
   "outputs": [
    {
     "name": "stderr",
     "output_type": "stream",
     "text": [
      "/Users/cumeo/anaconda3/envs/newlogic/lib/python3.6/site-packages/ipykernel_launcher.py:1: UserWarning: Boolean Series key will be reindexed to match DataFrame index.\n",
      "  \"\"\"Entry point for launching an IPython kernel.\n"
     ]
    },
    {
     "data": {
      "text/plain": [
       "array([['/nfs/home2/minhle/newlogic/output/ablation-mnist-models/relu.pkl',\n",
       "        0.011000000000000001],\n",
       "       ['/nfs/home2/minhle/newlogic/output/ablation-mnist-models/relog.pkl',\n",
       "        0.15349999999999997],\n",
       "       ['/nfs/home2/minhle/newlogic/output/ablation-mnist-models/relog-maxout_4.pkl',\n",
       "        0.07170000000000001],\n",
       "       ['/nfs/home2/minhle/newlogic/output/ablation-mnist-models/relog-elliptical-maxout_4.pkl',\n",
       "        0.17350000000000002],\n",
       "       ['/nfs/home2/minhle/newlogic/output/ablation-mnist-models/relog-elliptical-maxout_4-max_fit_l1_1.pkl',\n",
       "        0.32400000000000007],\n",
       "       ['/nfs/home2/minhle/newlogic/output/ablation-mnist-models/relog-elliptical-maxout_4-sigmoid_out-max_fit_l1_1.pkl',\n",
       "        0.33030000000000004],\n",
       "       ['/nfs/home2/minhle/newlogic/output/ablation-mnist-models/relog-elliptical-maxout_4-sigmoid_out-max_fit_l1_1-scrambling.pkl',\n",
       "        0.37540000000000007]], dtype=object)"
      ]
     },
     "execution_count": 38,
     "metadata": {},
     "output_type": "execute_result"
    }
   ],
   "source": [
    "results2.sort_values('plen')[results2.attack_type == 'BIM'][['model_path', 'accuracy']].values"
   ]
  },
  {
   "cell_type": "code",
   "execution_count": 40,
   "metadata": {},
   "outputs": [
    {
     "name": "stderr",
     "output_type": "stream",
     "text": [
      "/Users/cumeo/anaconda3/envs/newlogic/lib/python3.6/site-packages/ipykernel_launcher.py:1: UserWarning: Boolean Series key will be reindexed to match DataFrame index.\n",
      "  \"\"\"Entry point for launching an IPython kernel.\n"
     ]
    },
    {
     "data": {
      "text/plain": [
       "array([['/nfs/home2/minhle/newlogic/output/ablation-mnist-models/relu.pkl',\n",
       "        0.33099999999999996],\n",
       "       ['/nfs/home2/minhle/newlogic/output/ablation-mnist-models/relog.pkl',\n",
       "        0.6383],\n",
       "       ['/nfs/home2/minhle/newlogic/output/ablation-mnist-models/relog-maxout_4.pkl',\n",
       "        0.5573999999999999],\n",
       "       ['/nfs/home2/minhle/newlogic/output/ablation-mnist-models/relog-elliptical-maxout_4.pkl',\n",
       "        0.6964],\n",
       "       ['/nfs/home2/minhle/newlogic/output/ablation-mnist-models/relog-elliptical-maxout_4-max_fit_l1_1.pkl',\n",
       "        0.7532],\n",
       "       ['/nfs/home2/minhle/newlogic/output/ablation-mnist-models/relog-elliptical-maxout_4-sigmoid_out-max_fit_l1_1.pkl',\n",
       "        0.5873],\n",
       "       ['/nfs/home2/minhle/newlogic/output/ablation-mnist-models/relog-elliptical-maxout_4-sigmoid_out-max_fit_l1_1-scrambling.pkl',\n",
       "        0.5858000000000001]], dtype=object)"
      ]
     },
     "execution_count": 40,
     "metadata": {},
     "output_type": "execute_result"
    }
   ],
   "source": [
    "results2.sort_values('plen')[results2.attack_type == 'FGM_inf'][['model_path', 'accuracy']].values"
   ]
  },
  {
   "cell_type": "code",
   "execution_count": 41,
   "metadata": {},
   "outputs": [
    {
     "name": "stderr",
     "output_type": "stream",
     "text": [
      "/Users/cumeo/anaconda3/envs/newlogic/lib/python3.6/site-packages/ipykernel_launcher.py:1: UserWarning: Boolean Series key will be reindexed to match DataFrame index.\n",
      "  \"\"\"Entry point for launching an IPython kernel.\n"
     ]
    },
    {
     "data": {
      "text/plain": [
       "array([['/nfs/home2/minhle/newlogic/output/ablation-mnist-models/relu.pkl',\n",
       "        0.8194000000000001],\n",
       "       ['/nfs/home2/minhle/newlogic/output/ablation-mnist-models/relog.pkl',\n",
       "        0.9166000000000001],\n",
       "       ['/nfs/home2/minhle/newlogic/output/ablation-mnist-models/relog-maxout_4.pkl',\n",
       "        0.8859999999999999],\n",
       "       ['/nfs/home2/minhle/newlogic/output/ablation-mnist-models/relog-elliptical-maxout_4.pkl',\n",
       "        0.8884000000000002],\n",
       "       ['/nfs/home2/minhle/newlogic/output/ablation-mnist-models/relog-elliptical-maxout_4-max_fit_l1_1.pkl',\n",
       "        0.897],\n",
       "       ['/nfs/home2/minhle/newlogic/output/ablation-mnist-models/relog-elliptical-maxout_4-sigmoid_out-max_fit_l1_1.pkl',\n",
       "        0.8672999999999998],\n",
       "       ['/nfs/home2/minhle/newlogic/output/ablation-mnist-models/relog-elliptical-maxout_4-sigmoid_out-max_fit_l1_1-scrambling.pkl',\n",
       "        0.8422000000000002]], dtype=object)"
      ]
     },
     "execution_count": 41,
     "metadata": {},
     "output_type": "execute_result"
    }
   ],
   "source": [
    "results2.sort_values('plen')[results2.attack_type == 'FGM_L2'][['model_path', 'accuracy']].values"
   ]
  },
  {
   "cell_type": "code",
   "execution_count": 24,
   "metadata": {},
   "outputs": [],
   "source": [
    "def process(df):\n",
    "    df['accuracy'] = df.accuracies.apply(np.mean)\n",
    "    df['attack_type'] = df.apply(\n",
    "        lambda r: ('%s(L-%s,eps=%.1f)' % (r['attack_type'], r['ord'], r['epsilon'])\n",
    "                   if 'epsilon' in r else r['attack_type']), axis=1)\n",
    "    # in case there are duplicates\n",
    "#     df = df.groupby(['model_name', 'attack_type']).agg({'accuracy': np.mean}).reset_index()\n",
    "    return df"
   ]
  },
  {
   "cell_type": "code",
   "execution_count": 18,
   "metadata": {},
   "outputs": [
    {
     "ename": "ValueError",
     "evalue": "Expected object or value",
     "output_type": "error",
     "traceback": [
      "\u001b[0;31m---------------------------------------------------------------------------\u001b[0m",
      "\u001b[0;31mValueError\u001b[0m                                Traceback (most recent call last)",
      "\u001b[0;32m<ipython-input-18-a240d4c34be9>\u001b[0m in \u001b[0;36m<module>\u001b[0;34m\u001b[0m\n\u001b[0;32m----> 1\u001b[0;31m \u001b[0mmnist_fgm_results\u001b[0m \u001b[0;34m=\u001b[0m \u001b[0mpd\u001b[0m\u001b[0;34m.\u001b[0m\u001b[0mread_json\u001b[0m\u001b[0;34m(\u001b[0m\u001b[0mmnist_results_path\u001b[0m\u001b[0;34m,\u001b[0m \u001b[0mlines\u001b[0m\u001b[0;34m=\u001b[0m\u001b[0;32mTrue\u001b[0m\u001b[0;34m)\u001b[0m\u001b[0;34m\u001b[0m\u001b[0;34m\u001b[0m\u001b[0m\n\u001b[0m\u001b[1;32m      2\u001b[0m \u001b[0;31m# mnist_cw_results = pd.read_json(mnist_cw_results_path)\u001b[0m\u001b[0;34m\u001b[0m\u001b[0;34m\u001b[0m\u001b[0;34m\u001b[0m\u001b[0m\n\u001b[1;32m      3\u001b[0m \u001b[0;31m# mnist_cw_results = pd.read_csv('../output/mnist-cnw-results.csv') # wait for newer results\u001b[0m\u001b[0;34m\u001b[0m\u001b[0;34m\u001b[0m\u001b[0;34m\u001b[0m\u001b[0m\n\u001b[1;32m      4\u001b[0m \u001b[0;31m# mnist_bim_results = process(pd.read_json(mnist_bim_results_path))\u001b[0m\u001b[0;34m\u001b[0m\u001b[0;34m\u001b[0m\u001b[0;34m\u001b[0m\u001b[0m\n",
      "\u001b[0;32m~/anaconda3/envs/newlogic/lib/python3.6/site-packages/pandas/io/json/_json.py\u001b[0m in \u001b[0;36mread_json\u001b[0;34m(path_or_buf, orient, typ, dtype, convert_axes, convert_dates, keep_default_dates, numpy, precise_float, date_unit, encoding, lines, chunksize, compression)\u001b[0m\n\u001b[1;32m    590\u001b[0m         \u001b[0;32mreturn\u001b[0m \u001b[0mjson_reader\u001b[0m\u001b[0;34m\u001b[0m\u001b[0;34m\u001b[0m\u001b[0m\n\u001b[1;32m    591\u001b[0m \u001b[0;34m\u001b[0m\u001b[0m\n\u001b[0;32m--> 592\u001b[0;31m     \u001b[0mresult\u001b[0m \u001b[0;34m=\u001b[0m \u001b[0mjson_reader\u001b[0m\u001b[0;34m.\u001b[0m\u001b[0mread\u001b[0m\u001b[0;34m(\u001b[0m\u001b[0;34m)\u001b[0m\u001b[0;34m\u001b[0m\u001b[0;34m\u001b[0m\u001b[0m\n\u001b[0m\u001b[1;32m    593\u001b[0m     \u001b[0;32mif\u001b[0m \u001b[0mshould_close\u001b[0m\u001b[0;34m:\u001b[0m\u001b[0;34m\u001b[0m\u001b[0;34m\u001b[0m\u001b[0m\n\u001b[1;32m    594\u001b[0m         \u001b[0;32mtry\u001b[0m\u001b[0;34m:\u001b[0m\u001b[0;34m\u001b[0m\u001b[0;34m\u001b[0m\u001b[0m\n",
      "\u001b[0;32m~/anaconda3/envs/newlogic/lib/python3.6/site-packages/pandas/io/json/_json.py\u001b[0m in \u001b[0;36mread\u001b[0;34m(self)\u001b[0m\n\u001b[1;32m    713\u001b[0m         \u001b[0;32melif\u001b[0m \u001b[0mself\u001b[0m\u001b[0;34m.\u001b[0m\u001b[0mlines\u001b[0m\u001b[0;34m:\u001b[0m\u001b[0;34m\u001b[0m\u001b[0;34m\u001b[0m\u001b[0m\n\u001b[1;32m    714\u001b[0m             \u001b[0mdata\u001b[0m \u001b[0;34m=\u001b[0m \u001b[0mensure_str\u001b[0m\u001b[0;34m(\u001b[0m\u001b[0mself\u001b[0m\u001b[0;34m.\u001b[0m\u001b[0mdata\u001b[0m\u001b[0;34m)\u001b[0m\u001b[0;34m\u001b[0m\u001b[0;34m\u001b[0m\u001b[0m\n\u001b[0;32m--> 715\u001b[0;31m             \u001b[0mobj\u001b[0m \u001b[0;34m=\u001b[0m \u001b[0mself\u001b[0m\u001b[0;34m.\u001b[0m\u001b[0m_get_object_parser\u001b[0m\u001b[0;34m(\u001b[0m\u001b[0mself\u001b[0m\u001b[0;34m.\u001b[0m\u001b[0m_combine_lines\u001b[0m\u001b[0;34m(\u001b[0m\u001b[0mdata\u001b[0m\u001b[0;34m.\u001b[0m\u001b[0msplit\u001b[0m\u001b[0;34m(\u001b[0m\u001b[0;34m\"\\n\"\u001b[0m\u001b[0;34m)\u001b[0m\u001b[0;34m)\u001b[0m\u001b[0;34m)\u001b[0m\u001b[0;34m\u001b[0m\u001b[0;34m\u001b[0m\u001b[0m\n\u001b[0m\u001b[1;32m    716\u001b[0m         \u001b[0;32melse\u001b[0m\u001b[0;34m:\u001b[0m\u001b[0;34m\u001b[0m\u001b[0;34m\u001b[0m\u001b[0m\n\u001b[1;32m    717\u001b[0m             \u001b[0mobj\u001b[0m \u001b[0;34m=\u001b[0m \u001b[0mself\u001b[0m\u001b[0;34m.\u001b[0m\u001b[0m_get_object_parser\u001b[0m\u001b[0;34m(\u001b[0m\u001b[0mself\u001b[0m\u001b[0;34m.\u001b[0m\u001b[0mdata\u001b[0m\u001b[0;34m)\u001b[0m\u001b[0;34m\u001b[0m\u001b[0;34m\u001b[0m\u001b[0m\n",
      "\u001b[0;32m~/anaconda3/envs/newlogic/lib/python3.6/site-packages/pandas/io/json/_json.py\u001b[0m in \u001b[0;36m_get_object_parser\u001b[0;34m(self, json)\u001b[0m\n\u001b[1;32m    737\u001b[0m         \u001b[0mobj\u001b[0m \u001b[0;34m=\u001b[0m \u001b[0;32mNone\u001b[0m\u001b[0;34m\u001b[0m\u001b[0;34m\u001b[0m\u001b[0m\n\u001b[1;32m    738\u001b[0m         \u001b[0;32mif\u001b[0m \u001b[0mtyp\u001b[0m \u001b[0;34m==\u001b[0m \u001b[0;34m\"frame\"\u001b[0m\u001b[0;34m:\u001b[0m\u001b[0;34m\u001b[0m\u001b[0;34m\u001b[0m\u001b[0m\n\u001b[0;32m--> 739\u001b[0;31m             \u001b[0mobj\u001b[0m \u001b[0;34m=\u001b[0m \u001b[0mFrameParser\u001b[0m\u001b[0;34m(\u001b[0m\u001b[0mjson\u001b[0m\u001b[0;34m,\u001b[0m \u001b[0;34m**\u001b[0m\u001b[0mkwargs\u001b[0m\u001b[0;34m)\u001b[0m\u001b[0;34m.\u001b[0m\u001b[0mparse\u001b[0m\u001b[0;34m(\u001b[0m\u001b[0;34m)\u001b[0m\u001b[0;34m\u001b[0m\u001b[0;34m\u001b[0m\u001b[0m\n\u001b[0m\u001b[1;32m    740\u001b[0m \u001b[0;34m\u001b[0m\u001b[0m\n\u001b[1;32m    741\u001b[0m         \u001b[0;32mif\u001b[0m \u001b[0mtyp\u001b[0m \u001b[0;34m==\u001b[0m \u001b[0;34m\"series\"\u001b[0m \u001b[0;32mor\u001b[0m \u001b[0mobj\u001b[0m \u001b[0;32mis\u001b[0m \u001b[0;32mNone\u001b[0m\u001b[0;34m:\u001b[0m\u001b[0;34m\u001b[0m\u001b[0;34m\u001b[0m\u001b[0m\n",
      "\u001b[0;32m~/anaconda3/envs/newlogic/lib/python3.6/site-packages/pandas/io/json/_json.py\u001b[0m in \u001b[0;36mparse\u001b[0;34m(self)\u001b[0m\n\u001b[1;32m    847\u001b[0m \u001b[0;34m\u001b[0m\u001b[0m\n\u001b[1;32m    848\u001b[0m         \u001b[0;32melse\u001b[0m\u001b[0;34m:\u001b[0m\u001b[0;34m\u001b[0m\u001b[0;34m\u001b[0m\u001b[0m\n\u001b[0;32m--> 849\u001b[0;31m             \u001b[0mself\u001b[0m\u001b[0;34m.\u001b[0m\u001b[0m_parse_no_numpy\u001b[0m\u001b[0;34m(\u001b[0m\u001b[0;34m)\u001b[0m\u001b[0;34m\u001b[0m\u001b[0;34m\u001b[0m\u001b[0m\n\u001b[0m\u001b[1;32m    850\u001b[0m \u001b[0;34m\u001b[0m\u001b[0m\n\u001b[1;32m    851\u001b[0m         \u001b[0;32mif\u001b[0m \u001b[0mself\u001b[0m\u001b[0;34m.\u001b[0m\u001b[0mobj\u001b[0m \u001b[0;32mis\u001b[0m \u001b[0;32mNone\u001b[0m\u001b[0;34m:\u001b[0m\u001b[0;34m\u001b[0m\u001b[0;34m\u001b[0m\u001b[0m\n",
      "\u001b[0;32m~/anaconda3/envs/newlogic/lib/python3.6/site-packages/pandas/io/json/_json.py\u001b[0m in \u001b[0;36m_parse_no_numpy\u001b[0;34m(self)\u001b[0m\n\u001b[1;32m   1091\u001b[0m         \u001b[0;32mif\u001b[0m \u001b[0morient\u001b[0m \u001b[0;34m==\u001b[0m \u001b[0;34m\"columns\"\u001b[0m\u001b[0;34m:\u001b[0m\u001b[0;34m\u001b[0m\u001b[0;34m\u001b[0m\u001b[0m\n\u001b[1;32m   1092\u001b[0m             self.obj = DataFrame(\n\u001b[0;32m-> 1093\u001b[0;31m                 \u001b[0mloads\u001b[0m\u001b[0;34m(\u001b[0m\u001b[0mjson\u001b[0m\u001b[0;34m,\u001b[0m \u001b[0mprecise_float\u001b[0m\u001b[0;34m=\u001b[0m\u001b[0mself\u001b[0m\u001b[0;34m.\u001b[0m\u001b[0mprecise_float\u001b[0m\u001b[0;34m)\u001b[0m\u001b[0;34m,\u001b[0m \u001b[0mdtype\u001b[0m\u001b[0;34m=\u001b[0m\u001b[0;32mNone\u001b[0m\u001b[0;34m\u001b[0m\u001b[0;34m\u001b[0m\u001b[0m\n\u001b[0m\u001b[1;32m   1094\u001b[0m             )\n\u001b[1;32m   1095\u001b[0m         \u001b[0;32melif\u001b[0m \u001b[0morient\u001b[0m \u001b[0;34m==\u001b[0m \u001b[0;34m\"split\"\u001b[0m\u001b[0;34m:\u001b[0m\u001b[0;34m\u001b[0m\u001b[0;34m\u001b[0m\u001b[0m\n",
      "\u001b[0;31mValueError\u001b[0m: Expected object or value"
     ]
    }
   ],
   "source": [
    "mnist_fgm_results = pd.read_json(mnist_results_path, lines=True)\n",
    "# mnist_cw_results = pd.read_json(mnist_cw_results_path)\n",
    "# mnist_cw_results = pd.read_csv('../output/mnist-cnw-results.csv') # wait for newer results\n",
    "# mnist_bim_results = process(pd.read_json(mnist_bim_results_path))"
   ]
  },
  {
   "cell_type": "code",
   "execution_count": 6,
   "metadata": {},
   "outputs": [],
   "source": [
    "mnist_results = pd.concat([mnist_fgm_results, mnist_bim_results, mnist_cw_results], sort=False)"
   ]
  },
  {
   "cell_type": "code",
   "execution_count": 7,
   "metadata": {},
   "outputs": [
    {
     "data": {
      "text/plain": [
       "array(['cnn-mnist-relu', 'cnn-mnist-relu-maxfit_l1_01_05',\n",
       "       'cnn-mnist-relu-maxfit_l2_01_05',\n",
       "       'cnn-mnist-relu-maxmargin_l1_01_05',\n",
       "       'cnn-mnist-relu-maxmargin_l2_01_05', 'cnn-mnist-relog',\n",
       "       'cnn-mnist-relog-more-neurons', 'cnn-mnist-relog-maxout_2',\n",
       "       'cnn-mnist-relog-minmaxout_4_2',\n",
       "       'cnn-mnist-relog-minmaxout_4_2-sigmoid_out',\n",
       "       'cnn-mnist-relog-spherical-minmaxout_4_2-sigmoid_out',\n",
       "       'cnn-mnist-relog-spherical-minmaxout_4_2-sigmoid_out-max_fit_l1_1',\n",
       "       'cnn-mnist-relog-spherical-minmaxout_4_2-sigmoid_out-max_fit_l1_1-scrambling',\n",
       "       'cnn-mnist-relu-kernel',\n",
       "       'cnn-mnist-relog-minmaxout_4_2-sigmoid_out-max_margin'],\n",
       "      dtype=object)"
      ]
     },
     "execution_count": 7,
     "metadata": {},
     "output_type": "execute_result"
    }
   ],
   "source": [
    "mnist_results.model_name.drop_duplicates().values"
   ]
  },
  {
   "cell_type": "code",
   "execution_count": 12,
   "metadata": {},
   "outputs": [],
   "source": [
    "def format_table(formated_names, model_order, attack_order):\n",
    "    df = mnist_results[mnist_results.model_name.isin(formated_names) &\n",
    "                       mnist_results.attack_type.isin(attack_order)].copy()\n",
    "    df['accuracy'] = df.accuracy.apply(lambda v: '%.2f' % v if type(v) == float else '-')\n",
    "    df = df.pivot(index='model_name', values='accuracy', columns='attack_type')\n",
    "    df = (df.reindex(sorted(df.columns, key=attack_order.__getitem__), axis=1)\n",
    "          .reset_index().fillna('-'))\n",
    "    df['model_order'] = df.model_name.apply(model_order.__getitem__)\n",
    "    df = df.sort_values(['model_order']).drop(columns='model_order')\n",
    "    df['model_name'] = df.model_name.apply(formatted_names.__getitem__)    \n",
    "    return df, df.to_latex(index=False)"
   ]
  },
  {
   "cell_type": "markdown",
   "metadata": {},
   "source": [
    "# Ablation table"
   ]
  },
  {
   "cell_type": "code",
   "execution_count": 13,
   "metadata": {},
   "outputs": [],
   "source": [
    "formatted_names = OrderedDict([\n",
    "    ('cnn-mnist-relu', 'ReLU'),\n",
    "    ('cnn-mnist-relog', 'ReLog'), \n",
    "    ('cnn-mnist-relog-maxout_2', '+ MaxOut (k=2)'),\n",
    "    ('cnn-mnist-relog-minmaxout_4_2', '+ MinOut (k=4)'),\n",
    "    ('cnn-mnist-relog-minmaxout_4_2-sigmoid_out', '+ Sigmoid output'),\n",
    "    ('cnn-mnist-relog-spherical-minmaxout_4_2-sigmoid_out', '+ Spherical'),  \n",
    "    ('cnn-mnist-relog-spherical-minmaxout_4_2-sigmoid_out-max_fit_l1_1', '+ MaxFit'),  \n",
    "    ('cnn-mnist-relog-spherical-minmaxout_4_2-sigmoid_out-max_fit_l1_1-scrambling', '+ Scramble training'),  \n",
    "])\n",
    "model_order = {n: i for i, n in enumerate(formatted_names)}"
   ]
  },
  {
   "cell_type": "code",
   "execution_count": 14,
   "metadata": {},
   "outputs": [],
   "source": [
    "used_attacks = [\n",
    "    'FGM(L-2.0,eps=3.0)',\n",
    "    'FGM(L-nan,eps=0.2)',\n",
    "    'FGM(L-nan,eps=0.3)',\n",
    "    'BIM(L-nan,eps=0.3)', \n",
    "    'C&W'\n",
    "]\n",
    "attack_order = {n: i for i, n in enumerate(used_attacks)}"
   ]
  },
  {
   "cell_type": "code",
   "execution_count": 15,
   "metadata": {},
   "outputs": [],
   "source": [
    "ablation_table, latex = format_table(formatted_names, model_order, attack_order)"
   ]
  },
  {
   "cell_type": "code",
   "execution_count": 16,
   "metadata": {},
   "outputs": [
    {
     "name": "stdout",
     "output_type": "stream",
     "text": [
      "\\begin{tabular}{llllll}\n",
      "\\toprule\n",
      "          model\\_name & FGM(L-2.0,eps=3.0) & FGM(L-nan,eps=0.2) & FGM(L-nan,eps=0.3) & BIM(L-nan,eps=0.3) &   C\\&W \\\\\n",
      "\\midrule\n",
      "                ReLU &               0.44 &               0.55 &               0.21 &               0.02 &  0.00 \\\\\n",
      "               ReLog &               0.70 &               0.63 &               0.36 &               0.03 &  0.01 \\\\\n",
      "      + MaxOut (k=2) &               0.77 &               0.70 &               0.54 &               0.09 &  0.01 \\\\\n",
      "      + MinOut (k=4) &               0.79 &               0.83 &               0.68 &               0.21 &  0.02 \\\\\n",
      "    + Sigmoid output &               0.84 &               0.87 &               0.74 &               0.31 &  0.19 \\\\\n",
      "         + Spherical &               0.85 &               0.85 &               0.79 &               0.42 &     - \\\\\n",
      "            + MaxFit &               0.84 &               0.87 &               0.79 &               0.49 &     - \\\\\n",
      " + Scramble training &               0.85 &               0.88 &               0.80 &               0.54 &     - \\\\\n",
      "\\bottomrule\n",
      "\\end{tabular}\n",
      "\n"
     ]
    }
   ],
   "source": [
    "print(latex)"
   ]
  },
  {
   "cell_type": "markdown",
   "metadata": {},
   "source": [
    "# Regularization"
   ]
  },
  {
   "cell_type": "code",
   "execution_count": 17,
   "metadata": {},
   "outputs": [],
   "source": [
    "formatted_names = OrderedDict([\n",
    "    ('cnn-mnist-relu', 'ReLU'),\n",
    "    ('cnn-mnist-relu-maxfit_l1_01_05', 'ReLU + MaxFit (l1)'),\n",
    "    ('cnn-mnist-relu-maxfit_l2_01_05', 'ReLU + MaxFit (l2)'),\n",
    "    ('cnn-mnist-relu-maxmargin_l1_01_05', 'ReLU + MaxMargin (l1)'),\n",
    "    ('cnn-mnist-relu-maxmargin_l2_01_05', 'ReLU + MaxMargin (l2)'),\n",
    "    ('cnn-mnist-relog-minmaxout_4_2-sigmoid_out', 'DNNP'),\n",
    "    ('cnn-mnist-relog-minmaxout_4_2-sigmoid_out-max_margin', 'DNNP + MaxMargin' ),\n",
    "    \n",
    "])\n",
    "order = {n: i for i, n in enumerate(formatted_names)}"
   ]
  },
  {
   "cell_type": "code",
   "execution_count": 32,
   "metadata": {},
   "outputs": [],
   "source": [
    "attack_order2 = {n: v for n, v in attack_order.items()\n",
    "                 if 'BIM' not in n and 'C&W' not in n and 'L-2.0' not in n}\n",
    "ablation_table, latex = format_table(formatted_names, order, attack_order2)\n",
    "latex = re.sub(r'L-([\\d\\.\\w]+),eps=([\\d\\.]+)', r'$\\epsilon=\\2$', latex)"
   ]
  },
  {
   "cell_type": "code",
   "execution_count": 33,
   "metadata": {},
   "outputs": [
    {
     "name": "stdout",
     "output_type": "stream",
     "text": [
      "\\begin{tabular}{lll}\n",
      "\\toprule\n",
      "            model\\_name & FGM($\\epsilon=0.2$) & FGM($\\epsilon=0.3$) \\\\\n",
      "\\midrule\n",
      "                  ReLU &               0.55 &               0.21 \\\\\n",
      "    ReLU + MaxFit (l1) &               0.57 &               0.19 \\\\\n",
      "    ReLU + MaxFit (l2) &               0.36 &               0.07 \\\\\n",
      " ReLU + MaxMargin (l1) &               0.34 &               0.05 \\\\\n",
      " ReLU + MaxMargin (l2) &               0.42 &               0.09 \\\\\n",
      "                  DNNP &               0.87 &               0.74 \\\\\n",
      "\\bottomrule\n",
      "\\end{tabular}\n",
      "\n"
     ]
    }
   ],
   "source": [
    "print(latex)"
   ]
  },
  {
   "cell_type": "code",
   "execution_count": null,
   "metadata": {},
   "outputs": [],
   "source": []
  }
 ],
 "metadata": {
  "kernelspec": {
   "display_name": "conda-env-newlogic-py",
   "language": "python",
   "name": "conda-env-newlogic-py"
  },
  "language_info": {
   "codemirror_mode": {
    "name": "ipython",
    "version": 3
   },
   "file_extension": ".py",
   "mimetype": "text/x-python",
   "name": "python",
   "nbconvert_exporter": "python",
   "pygments_lexer": "ipython3",
   "version": "3.6.9"
  }
 },
 "nbformat": 4,
 "nbformat_minor": 4
}
