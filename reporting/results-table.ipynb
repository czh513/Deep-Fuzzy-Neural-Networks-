{
 "cells": [
  {
   "cell_type": "code",
   "execution_count": 1,
   "metadata": {},
   "outputs": [],
   "source": [
    "mnist_results_paths = ['../output/natural-mnist-results.json',\n",
    "                       '../output/ablation-mnist-results.json',\n",
    "                       '../output/ablation-mnist-results2.json',\n",
    "                       '../output/ablation-mnist-results3.json',\n",
    "                       '../output/ablation-mnist-results-spsa.json']\n",
    "cifar10_results_paths = ['../output/natural-cifar10-results.json',\n",
    "                         '../output/natural-cifar10-results2.json',\n",
    "                         '../output/ablation-cifar10-results.json',\n",
    "                         '../output/ablation-cifar10-results2.json']"
   ]
  },
  {
   "cell_type": "code",
   "execution_count": 2,
   "metadata": {},
   "outputs": [],
   "source": [
    "import pandas as pd\n",
    "import numpy as np\n",
    "from collections import OrderedDict\n",
    "import re\n",
    "import os\n",
    "from scipy import stats"
   ]
  },
  {
   "cell_type": "code",
   "execution_count": 3,
   "metadata": {},
   "outputs": [],
   "source": [
    "import json\n",
    "\n",
    "def read_json(path):\n",
    "    rows = []\n",
    "    with open(path) as f:\n",
    "        for line in f:\n",
    "            if line.strip():\n",
    "                row = json.loads(line[:-1])\n",
    "                rows.append(row)\n",
    "    df = pd.DataFrame(rows)\n",
    "    if 'eps' in df.columns:\n",
    "        df = df.drop_duplicates(['model_path', 'attack_type', 'eps'], keep='last')\n",
    "    df = df.rename(columns={'attack': 'attack_type'})\n",
    "    return df\n",
    "\n",
    "def read_jsons(paths):\n",
    "    dfs = [read_json(path) for path in paths if os.path.exists(path)]\n",
    "    return pd.concat(dfs, sort=False).reset_index()"
   ]
  },
  {
   "cell_type": "code",
   "execution_count": 4,
   "metadata": {},
   "outputs": [],
   "source": [
    "def process(df):\n",
    "    df['attack_type'] = df.apply(\n",
    "        lambda r: ('%s(eps=%.1f)' % (r['attack_type'], r['eps'])\n",
    "                   if 'eps' in r else r['attack_type']), axis=1)\n",
    "    df['model_name'] = df.model_path.apply(os.path.basename)\n",
    "    counts = df.groupby(['model_name', 'attack_type']).agg({'accuracies': len})\n",
    "    duplicates = counts[counts.accuracies >= 2]\n",
    "    if len(duplicates) > 0:\n",
    "        print(duplicates.reset_index().values)\n",
    "    assert len(duplicates) == 0, 'Please remove duplicates'\n",
    "    return df"
   ]
  },
  {
   "cell_type": "markdown",
   "metadata": {},
   "source": [
    "# MNIST results"
   ]
  },
  {
   "cell_type": "code",
   "execution_count": 5,
   "metadata": {},
   "outputs": [],
   "source": [
    "results = process(read_jsons(mnist_results_paths))"
   ]
  },
  {
   "cell_type": "code",
   "execution_count": 6,
   "metadata": {},
   "outputs": [
    {
     "data": {
      "text/html": [
       "<div>\n",
       "<style scoped>\n",
       "    .dataframe tbody tr th:only-of-type {\n",
       "        vertical-align: middle;\n",
       "    }\n",
       "\n",
       "    .dataframe tbody tr th {\n",
       "        vertical-align: top;\n",
       "    }\n",
       "\n",
       "    .dataframe thead th {\n",
       "        text-align: right;\n",
       "    }\n",
       "</style>\n",
       "<table border=\"1\" class=\"dataframe\">\n",
       "  <thead>\n",
       "    <tr style=\"text-align: right;\">\n",
       "      <th></th>\n",
       "      <th>attack_type</th>\n",
       "    </tr>\n",
       "    <tr>\n",
       "      <th>model_path</th>\n",
       "      <th></th>\n",
       "    </tr>\n",
       "  </thead>\n",
       "  <tbody>\n",
       "    <tr>\n",
       "      <td>/nfs/home2/minhle/newlogic/output/ablation-mnist-models/relog-elliptical-maxout_4-max_fit_l1_1.pkl</td>\n",
       "      <td>7</td>\n",
       "    </tr>\n",
       "    <tr>\n",
       "      <td>/nfs/home2/minhle/newlogic/output/ablation-mnist-models/relog-elliptical-maxout_4-sigmoid_out-max_fit_l1_1-overlay.pkl</td>\n",
       "      <td>7</td>\n",
       "    </tr>\n",
       "    <tr>\n",
       "      <td>/nfs/home2/minhle/newlogic/output/ablation-mnist-models/relog-elliptical-maxout_4-sigmoid_out-max_fit_l1_1-scrambling.pkl</td>\n",
       "      <td>7</td>\n",
       "    </tr>\n",
       "    <tr>\n",
       "      <td>/nfs/home2/minhle/newlogic/output/ablation-mnist-models/relog-elliptical-maxout_4-sigmoid_out-max_fit_l1_1.pkl</td>\n",
       "      <td>7</td>\n",
       "    </tr>\n",
       "    <tr>\n",
       "      <td>/nfs/home2/minhle/newlogic/output/ablation-mnist-models/relog-elliptical-maxout_4.pkl</td>\n",
       "      <td>7</td>\n",
       "    </tr>\n",
       "    <tr>\n",
       "      <td>/nfs/home2/minhle/newlogic/output/ablation-mnist-models/relog-maxout_4.pkl</td>\n",
       "      <td>7</td>\n",
       "    </tr>\n",
       "    <tr>\n",
       "      <td>/nfs/home2/minhle/newlogic/output/ablation-mnist-models/relog-minmaxout_2_4.pkl</td>\n",
       "      <td>7</td>\n",
       "    </tr>\n",
       "    <tr>\n",
       "      <td>/nfs/home2/minhle/newlogic/output/ablation-mnist-models/relog.pkl</td>\n",
       "      <td>7</td>\n",
       "    </tr>\n",
       "    <tr>\n",
       "      <td>/nfs/home2/minhle/newlogic/output/ablation-mnist-models/relu.pkl</td>\n",
       "      <td>7</td>\n",
       "    </tr>\n",
       "  </tbody>\n",
       "</table>\n",
       "</div>"
      ],
      "text/plain": [
       "                                                    attack_type\n",
       "model_path                                                     \n",
       "/nfs/home2/minhle/newlogic/output/ablation-mnis...            7\n",
       "/nfs/home2/minhle/newlogic/output/ablation-mnis...            7\n",
       "/nfs/home2/minhle/newlogic/output/ablation-mnis...            7\n",
       "/nfs/home2/minhle/newlogic/output/ablation-mnis...            7\n",
       "/nfs/home2/minhle/newlogic/output/ablation-mnis...            7\n",
       "/nfs/home2/minhle/newlogic/output/ablation-mnis...            7\n",
       "/nfs/home2/minhle/newlogic/output/ablation-mnis...            7\n",
       "/nfs/home2/minhle/newlogic/output/ablation-mnis...            7\n",
       "/nfs/home2/minhle/newlogic/output/ablation-mnis...            7"
      ]
     },
     "execution_count": 6,
     "metadata": {},
     "output_type": "execute_result"
    }
   ],
   "source": [
    "results.groupby('model_path').agg({'attack_type': len})"
   ]
  },
  {
   "cell_type": "code",
   "execution_count": 7,
   "metadata": {},
   "outputs": [],
   "source": [
    "def compute_accuracy_and_ttest(col):\n",
    "    if col.name in ('index', 'model_name'):\n",
    "        return list(col)\n",
    "    formatted_accuracies = []\n",
    "    for prev, curr in zip([None] + list(col), list(col)):\n",
    "        if isinstance(curr, (str, float)):\n",
    "            formatted_accuracies.append(curr)\n",
    "        elif isinstance(curr, list):\n",
    "            curr = np.around(curr, 2)\n",
    "            acc = np.mean(curr)\n",
    "            acc = '%.2f' % acc\n",
    "            if isinstance(prev, list):\n",
    "                prev = np.around(prev, 2)\n",
    "                _, p_value = stats.ttest_ind(prev, curr, equal_var = False)\n",
    "                acc += '*' if p_value < 0.05 else '<'\n",
    "            else:\n",
    "                acc += '<'\n",
    "            formatted_accuracies.append(acc)\n",
    "        else:\n",
    "            raise ValueError(\"Unsupported type: \" + str(curr))\n",
    "    return pd.Series(formatted_accuracies)"
   ]
  },
  {
   "cell_type": "code",
   "execution_count": 8,
   "metadata": {},
   "outputs": [],
   "source": [
    "def format_metrics(df, formatted_names, model_order, attack_order, values_col):\n",
    "    # filtering\n",
    "    df = df[df.model_name.isin(formatted_names) &\n",
    "            df.attack_type.isin(attack_order)].copy()\n",
    "    # convert to wide format\n",
    "    df = df.pivot(index='model_name', values=values_col, columns='attack_type')\n",
    "    # change column order\n",
    "    df = (df.reindex(sorted(df.columns, key=attack_order.__getitem__), axis=1)\n",
    "          .reset_index().fillna('-'))\n",
    "    df['model_order'] = df.model_name.apply(model_order.__getitem__)\n",
    "    df = df.sort_values(['model_order']).drop(columns='model_order')\n",
    "    # compute mean accuracy and p-values\n",
    "    df = df.apply(compute_accuracy_and_ttest)\n",
    "    # format model names last\n",
    "    df['model_name'] = df.model_name.apply(formatted_names.__getitem__)    \n",
    "    return df\n",
    "\n",
    "def format_table(df, formated_names, model_order, attack_order):\n",
    "    df = format_metrics(df, formatted_names, model_order, attack_order, values_col='accuracies')\n",
    "    # since the \"sigmoid out\" network always give 0.22% as max confidence (I shouldn't have\n",
    "    # add sigmoid to the network), I decided to drop confidence measurement.\n",
    "#     max_probs_table = format_metrics(results, formatted_names, model_order, attack_order, values_col='max_probs')\n",
    "#     max_probs = (max_probs_table[['model_name', 'MaxConf(eps=0.3)', 'none(eps=nan)']]\n",
    "#                  .rename(columns={'MaxConf(eps=0.3)': 'max_probs', 'none(eps=nan)': 'max_probs_natural'}))\n",
    "#     df = pd.merge(accuracies_table, max_probs, on='model_name')\n",
    "#     df['MaxConf(eps=0.3)'] = df.apply(lambda r: '%s (%s)' % (r['MaxConf(eps=0.3)'], r['max_probs']), axis=1)\n",
    "#     df['none(eps=nan)'] = df.apply(lambda r: '%s (%s)' % (r['none(eps=nan)'], r['max_probs_natural']), axis=1)\n",
    "#     df = df.drop(columns=['max_probs', 'max_probs_natural'])\n",
    "    latex = df.to_latex()\n",
    "    latex = latex.replace('*', '$^*$')\n",
    "    latex = latex.replace('<', '\\hspace{0.5em}')\n",
    "    return df, latex"
   ]
  },
  {
   "cell_type": "markdown",
   "metadata": {},
   "source": [
    "## Ablation table"
   ]
  },
  {
   "cell_type": "code",
   "execution_count": 9,
   "metadata": {},
   "outputs": [],
   "source": [
    "formatted_names = OrderedDict([\n",
    "    ('relu.pkl', 'Baseline'),\n",
    "    ('relog.pkl', '+ ReLog'), \n",
    "    ('relog-maxout_4.pkl', '+ MaxOut (k=4)'),\n",
    "    ('relog-minmaxout_2_4.pkl', '+ MinOut (k=2)'),\n",
    "    ('relog-elliptical-maxout_4.pkl', '+ Elliptical'),\n",
    "    ('relog-elliptical-maxout_4-max_fit_l1_1.pkl', '+ MaxFit'),  \n",
    "    ('relog-elliptical-maxout_4-sigmoid_out-max_fit_l1_1.pkl', '+ MSE training'),  \n",
    "    ('relog-elliptical-maxout_4-sigmoid_out-max_fit_l1_1-overlay.pkl', '+ Negative examples'),  \n",
    "])\n",
    "model_order = {n: i for i, n in enumerate(formatted_names)}"
   ]
  },
  {
   "cell_type": "code",
   "execution_count": 10,
   "metadata": {},
   "outputs": [],
   "source": [
    "used_attacks = ['none(eps=nan)', # (natural)\n",
    "                'FGM_inf(eps=0.3)', 'FGM_L2(eps=2.0)', 'CW(eps=nan)',\n",
    "                'BIM(eps=0.3)', 'SPSA(eps=0.3)']\n",
    "attack_order = {n: i for i, n in enumerate(used_attacks)}"
   ]
  },
  {
   "cell_type": "code",
   "execution_count": 11,
   "metadata": {},
   "outputs": [
    {
     "data": {
      "text/plain": [
       "array(['none(eps=nan)', 'FGM_inf(eps=0.3)', 'FGM_L2(eps=2.0)',\n",
       "       'CW(eps=nan)', 'BIM(eps=0.3)', 'SPSA(eps=0.3)', 'MaxConf(eps=0.3)'],\n",
       "      dtype=object)"
      ]
     },
     "execution_count": 11,
     "metadata": {},
     "output_type": "execute_result"
    }
   ],
   "source": [
    "results.attack_type.unique()"
   ]
  },
  {
   "cell_type": "code",
   "execution_count": 12,
   "metadata": {},
   "outputs": [],
   "source": [
    "ablation_table, latex = format_table(results, formatted_names, model_order, attack_order)"
   ]
  },
  {
   "cell_type": "code",
   "execution_count": 13,
   "metadata": {},
   "outputs": [
    {
     "name": "stdout",
     "output_type": "stream",
     "text": [
      "\\begin{tabular}{llllllll}\n",
      "\\toprule\n",
      "attack\\_type &           model\\_name & none(eps=nan) & FGM\\_inf(eps=0.3) & FGM\\_L2(eps=2.0) & CW(eps=nan) & BIM(eps=0.3) & SPSA(eps=0.3) \\\\\n",
      "\\midrule\n",
      "7 &             Baseline &         0.99\\hspace{0.5em} &            0.33\\hspace{0.5em} &           0.82\\hspace{0.5em} &       0.05\\hspace{0.5em} &        0.01\\hspace{0.5em} &         0.36\\hspace{0.5em} \\\\\n",
      "6 &              + ReLog &         0.99\\hspace{0.5em} &            0.64$^*$ &           0.92$^*$ &       0.42$^*$ &        0.15$^*$ &         0.52$^*$ \\\\\n",
      "4 &       + MaxOut (k=4) &         0.98$^*$ &            0.56$^*$ &           0.89$^*$ &       0.10$^*$ &        0.07$^*$ &         0.52\\hspace{0.5em} \\\\\n",
      "5 &       + MinOut (k=2) &         0.98\\hspace{0.5em} &            0.56\\hspace{0.5em} &           0.90$^*$ &       0.09$^*$ &        0.12$^*$ &         0.60$^*$ \\\\\n",
      "3 &         + Elliptical &         0.98\\hspace{0.5em} &            0.70$^*$ &           0.89$^*$ &       0.37$^*$ &        0.17$^*$ &         0.56$^*$ \\\\\n",
      "0 &             + MaxFit &         0.99$^*$ &            0.75$^*$ &           0.90\\hspace{0.5em} &       0.46$^*$ &        0.32$^*$ &         0.66$^*$ \\\\\n",
      "2 &       + MSE training &         0.97$^*$ &            0.59$^*$ &           0.87$^*$ &       0.90$^*$ &        0.33\\hspace{0.5em} &         0.65\\hspace{0.5em} \\\\\n",
      "1 &  + Negative examples &         0.96$^*$ &            0.60\\hspace{0.5em} &           0.84$^*$ &       0.87$^*$ &        0.33\\hspace{0.5em} &         0.68\\hspace{0.5em} \\\\\n",
      "\\bottomrule\n",
      "\\end{tabular}\n",
      "\n"
     ]
    }
   ],
   "source": [
    "print(latex)"
   ]
  },
  {
   "cell_type": "markdown",
   "metadata": {},
   "source": [
    "# CIFAR-10 results"
   ]
  },
  {
   "cell_type": "code",
   "execution_count": 14,
   "metadata": {},
   "outputs": [],
   "source": [
    "cifar10_results = process(read_jsons(cifar10_results_paths))"
   ]
  },
  {
   "cell_type": "code",
   "execution_count": 15,
   "metadata": {},
   "outputs": [
    {
     "data": {
      "text/plain": [
       "array(['none(eps=nan)', 'FGM_L2(eps=2.0)', 'FGM_inf(eps=0.3)',\n",
       "       'BIM(eps=0.3)', 'CW(eps=nan)'], dtype=object)"
      ]
     },
     "execution_count": 15,
     "metadata": {},
     "output_type": "execute_result"
    }
   ],
   "source": [
    "cifar10_results.attack_type.unique()"
   ]
  },
  {
   "cell_type": "code",
   "execution_count": 16,
   "metadata": {},
   "outputs": [
    {
     "data": {
      "text/plain": [
       "array(['relu.pkl', 'relog.pkl', 'relog-maxout_4.pkl',\n",
       "       'relog-minmaxout_2_4-max_fit_l2.pkl', 'relog-minmaxout_2_4.pkl',\n",
       "       'relog-quadratic-max_fit_l2-maxout_4-sigmoid_out-overlay.pkl',\n",
       "       'relog-quadratic-max_fit_l2-maxout_4-sigmoid_out-scrambling.pkl',\n",
       "       'relog-quadratic-max_fit_l2-maxout_4-mse.pkl',\n",
       "       'relog-quadratic-max_fit_l2-maxout_4-sigmoid_out.pkl',\n",
       "       'relog-quadratic-max_fit_l2-maxout_4-mse-overlay.pkl',\n",
       "       'relog-quadratic-max_fit_l2-maxout_4.pkl'], dtype=object)"
      ]
     },
     "execution_count": 16,
     "metadata": {},
     "output_type": "execute_result"
    }
   ],
   "source": [
    "cifar10_results.model_name.unique()"
   ]
  },
  {
   "cell_type": "code",
   "execution_count": 17,
   "metadata": {},
   "outputs": [],
   "source": [
    "formatted_names = OrderedDict([\n",
    "    ('relu.pkl', 'Baseline'),\n",
    "    ('relog.pkl', '+ ReLog'), \n",
    "    ('relog-maxout_4.pkl', '+ MaxOut (k=4)'),\n",
    "    ('relog-minmaxout_2_4.pkl', '+ MinOut (k=2)'),\n",
    "    ('relog-minmaxout_2_4-max_fit_l2.pkl', '+ MaxFit (L2=0.01)'),\n",
    "    ('relog-quadratic-max_fit_l2-maxout_4.pkl', '+ Quadratic'),\n",
    "    ('relog-quadratic-max_fit_l2-maxout_4-sigmoid_out.pkl', '+ MSE training'),\n",
    "    ('relog-quadratic-max_fit_l2-maxout_4-sigmoid_out-overlay.pkl', '+ Negative examples')\n",
    "])\n",
    "model_order = {n: i for i, n in enumerate(formatted_names)}"
   ]
  },
  {
   "cell_type": "code",
   "execution_count": 18,
   "metadata": {},
   "outputs": [],
   "source": [
    "ablation_table, latex = format_table(cifar10_results, formatted_names, model_order, attack_order)"
   ]
  },
  {
   "cell_type": "code",
   "execution_count": 19,
   "metadata": {},
   "outputs": [
    {
     "name": "stdout",
     "output_type": "stream",
     "text": [
      "\\begin{tabular}{lllllll}\n",
      "\\toprule\n",
      "attack\\_type &           model\\_name & none(eps=nan) & FGM\\_inf(eps=0.3) & FGM\\_L2(eps=2.0) & CW(eps=nan) & BIM(eps=0.3) \\\\\n",
      "\\midrule\n",
      "7 &             Baseline &         0.87\\hspace{0.5em} &            0.08\\hspace{0.5em} &           0.28\\hspace{0.5em} &       0.05\\hspace{0.5em} &        0.00\\hspace{0.5em} \\\\\n",
      "6 &              + ReLog &         0.87\\hspace{0.5em} &            0.09$^*$ &           0.30$^*$ &       0.05\\hspace{0.5em} &        0.00\\hspace{0.5em} \\\\\n",
      "0 &       + MaxOut (k=4) &         0.87\\hspace{0.5em} &            0.12$^*$ &           0.29$^*$ &       0.01$^*$ &        0.00$^*$ \\\\\n",
      "2 &       + MinOut (k=2) &         0.85$^*$ &            0.11\\hspace{0.5em} &           0.32$^*$ &       0.02$^*$ &        0.00\\hspace{0.5em} \\\\\n",
      "1 &   + MaxFit (L2=0.01) &         0.86$^*$ &            0.09$^*$ &           0.31\\hspace{0.5em} &       0.02\\hspace{0.5em} &        0.00\\hspace{0.5em} \\\\\n",
      "5 &          + Quadratic &         0.87$^*$ &            0.08$^*$ &           0.26$^*$ &       0.01$^*$ &        0.00$^*$ \\\\\n",
      "4 &       + MSE training &         0.73$^*$ &            0.15$^*$ &           0.23$^*$ &       0.05$^*$ &        0.00$^*$ \\\\\n",
      "3 &  + Negative examples &         0.69$^*$ &            0.18$^*$ &           0.22$^*$ &       0.02$^*$ &        0.01$^*$ \\\\\n",
      "\\bottomrule\n",
      "\\end{tabular}\n",
      "\n"
     ]
    }
   ],
   "source": [
    "print(latex)"
   ]
  },
  {
   "cell_type": "code",
   "execution_count": null,
   "metadata": {},
   "outputs": [],
   "source": []
  },
  {
   "cell_type": "code",
   "execution_count": null,
   "metadata": {},
   "outputs": [],
   "source": []
  }
 ],
 "metadata": {
  "kernelspec": {
   "display_name": "conda-env-newlogic-py",
   "language": "python",
   "name": "conda-env-newlogic-py"
  },
  "language_info": {
   "codemirror_mode": {
    "name": "ipython",
    "version": 3
   },
   "file_extension": ".py",
   "mimetype": "text/x-python",
   "name": "python",
   "nbconvert_exporter": "python",
   "pygments_lexer": "ipython3",
   "version": "3.6.9"
  }
 },
 "nbformat": 4,
 "nbformat_minor": 4
}
