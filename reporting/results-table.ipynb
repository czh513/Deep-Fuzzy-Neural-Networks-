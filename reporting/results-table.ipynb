{
 "cells": [
  {
   "cell_type": "code",
   "execution_count": 47,
   "metadata": {},
   "outputs": [],
   "source": [
    "mnist_results_paths = ['../output/natural-mnist-results.json',\n",
    "                       '../output/ablation-mnist-results.json',\n",
    "                       '../output/ablation-mnist-results2.json',\n",
    "                       '../output/ablation-mnist-results3.json',\n",
    "                       '../output/ablation-mnist-results-spsa.json']\n",
    "cifar10_results_paths = ['../output/natural-cifar10-results.json',\n",
    "                         '../output/natural-cifar10-results2.json',\n",
    "                         '../output/ablation-cifar10-results.json',\n",
    "                         '../output/ablation-cifar10-results2.json']"
   ]
  },
  {
   "cell_type": "code",
   "execution_count": 48,
   "metadata": {},
   "outputs": [],
   "source": [
    "import pandas as pd\n",
    "import numpy as np\n",
    "from collections import OrderedDict\n",
    "import re\n",
    "import os\n",
    "from scipy import stats"
   ]
  },
  {
   "cell_type": "code",
   "execution_count": 49,
   "metadata": {},
   "outputs": [],
   "source": [
    "import json\n",
    "\n",
    "def read_json(path):\n",
    "    rows = []\n",
    "    with open(path) as f:\n",
    "        for line in f:\n",
    "            if line.strip():\n",
    "                row = json.loads(line[:-1])\n",
    "                rows.append(row)\n",
    "    df = pd.DataFrame(rows)\n",
    "    if 'eps' in df.columns:\n",
    "        df = df.drop_duplicates(['model_path', 'attack_type', 'eps'], keep='last')\n",
    "    df = df.rename(columns={'attack': 'attack_type'})\n",
    "    return df\n",
    "\n",
    "def read_jsons(paths):\n",
    "    dfs = [read_json(path) for path in paths if os.path.exists(path)]\n",
    "    return pd.concat(dfs, sort=False).reset_index()"
   ]
  },
  {
   "cell_type": "code",
   "execution_count": 50,
   "metadata": {},
   "outputs": [],
   "source": [
    "def process(df):\n",
    "    df['attack_type'] = df.apply(\n",
    "        lambda r: ('%s(eps=%.1f)' % (r['attack_type'], r['eps'])\n",
    "                   if 'eps' in r else r['attack_type']), axis=1)\n",
    "    df['model_name'] = df.model_path.apply(os.path.basename)\n",
    "    counts = df.groupby(['model_name', 'attack_type']).agg({'accuracies': len})\n",
    "    duplicates = counts[counts.accuracies >= 2]\n",
    "    if len(duplicates) > 0:\n",
    "        print(duplicates.reset_index().values)\n",
    "    assert len(duplicates) == 0, 'Please remove duplicates'\n",
    "    return df"
   ]
  },
  {
   "cell_type": "markdown",
   "metadata": {},
   "source": [
    "# MNIST results"
   ]
  },
  {
   "cell_type": "code",
   "execution_count": 51,
   "metadata": {},
   "outputs": [],
   "source": [
    "results = process(read_jsons(mnist_results_paths))"
   ]
  },
  {
   "cell_type": "code",
   "execution_count": 52,
   "metadata": {},
   "outputs": [
    {
     "data": {
      "text/html": [
       "<div>\n",
       "<style scoped>\n",
       "    .dataframe tbody tr th:only-of-type {\n",
       "        vertical-align: middle;\n",
       "    }\n",
       "\n",
       "    .dataframe tbody tr th {\n",
       "        vertical-align: top;\n",
       "    }\n",
       "\n",
       "    .dataframe thead th {\n",
       "        text-align: right;\n",
       "    }\n",
       "</style>\n",
       "<table border=\"1\" class=\"dataframe\">\n",
       "  <thead>\n",
       "    <tr style=\"text-align: right;\">\n",
       "      <th></th>\n",
       "      <th>index</th>\n",
       "      <th>model_path</th>\n",
       "      <th>attack_type</th>\n",
       "      <th>accuracies</th>\n",
       "      <th>max_probs</th>\n",
       "      <th>binary_search_steps</th>\n",
       "      <th>max_iterations</th>\n",
       "      <th>learning_rate</th>\n",
       "      <th>batch_size</th>\n",
       "      <th>initial_const</th>\n",
       "      <th>clip_min</th>\n",
       "      <th>clip_max</th>\n",
       "      <th>ord</th>\n",
       "      <th>eps</th>\n",
       "      <th>nb_iter</th>\n",
       "      <th>eps_iter</th>\n",
       "      <th>model_name</th>\n",
       "    </tr>\n",
       "  </thead>\n",
       "  <tbody>\n",
       "    <tr>\n",
       "      <td>4</td>\n",
       "      <td>4</td>\n",
       "      <td>/nfs/home2/minhle/newlogic/output/ablation-mni...</td>\n",
       "      <td>none(eps=nan)</td>\n",
       "      <td>[1.0, 1.0, 1.0, 0.98, 1.0, 0.99, 0.97, 0.99, 0...</td>\n",
       "      <td>[0.999908447265625, 0.9997063279151917, 0.9984...</td>\n",
       "      <td>NaN</td>\n",
       "      <td>NaN</td>\n",
       "      <td>NaN</td>\n",
       "      <td>NaN</td>\n",
       "      <td>NaN</td>\n",
       "      <td>NaN</td>\n",
       "      <td>NaN</td>\n",
       "      <td>NaN</td>\n",
       "      <td>NaN</td>\n",
       "      <td>NaN</td>\n",
       "      <td>NaN</td>\n",
       "      <td>relog-elliptical-maxout_4-max_fit_l1.pkl</td>\n",
       "    </tr>\n",
       "    <tr>\n",
       "      <td>9</td>\n",
       "      <td>0</td>\n",
       "      <td>/nfs/home2/minhle/newlogic/output/ablation-mni...</td>\n",
       "      <td>CW(eps=nan)</td>\n",
       "      <td>[0.34, 0.28, 0.36, 0.29, 0.27, 0.34, 0.28, 0.2...</td>\n",
       "      <td>[0.5071215033531189, 0.49341168999671936, 0.50...</td>\n",
       "      <td>1.0</td>\n",
       "      <td>50.0</td>\n",
       "      <td>0.5</td>\n",
       "      <td>100.0</td>\n",
       "      <td>1.0</td>\n",
       "      <td>0.0</td>\n",
       "      <td>1.0</td>\n",
       "      <td>NaN</td>\n",
       "      <td>NaN</td>\n",
       "      <td>NaN</td>\n",
       "      <td>NaN</td>\n",
       "      <td>relog-elliptical-maxout_4-max_fit_l1.pkl</td>\n",
       "    </tr>\n",
       "    <tr>\n",
       "      <td>10</td>\n",
       "      <td>1</td>\n",
       "      <td>/nfs/home2/minhle/newlogic/output/ablation-mni...</td>\n",
       "      <td>BIM(eps=0.3)</td>\n",
       "      <td>[0.03, 0.02, 0.02, 0.04, 0.04, 0.0, 0.03, 0.03...</td>\n",
       "      <td>[0.9981439709663391, 0.9998207092285156, 0.948...</td>\n",
       "      <td>NaN</td>\n",
       "      <td>NaN</td>\n",
       "      <td>NaN</td>\n",
       "      <td>NaN</td>\n",
       "      <td>NaN</td>\n",
       "      <td>0.0</td>\n",
       "      <td>1.0</td>\n",
       "      <td>inf</td>\n",
       "      <td>0.3</td>\n",
       "      <td>5.0</td>\n",
       "      <td>0.1</td>\n",
       "      <td>relog-elliptical-maxout_4-max_fit_l1.pkl</td>\n",
       "    </tr>\n",
       "  </tbody>\n",
       "</table>\n",
       "</div>"
      ],
      "text/plain": [
       "    index                                         model_path    attack_type  \\\n",
       "4       4  /nfs/home2/minhle/newlogic/output/ablation-mni...  none(eps=nan)   \n",
       "9       0  /nfs/home2/minhle/newlogic/output/ablation-mni...    CW(eps=nan)   \n",
       "10      1  /nfs/home2/minhle/newlogic/output/ablation-mni...   BIM(eps=0.3)   \n",
       "\n",
       "                                           accuracies  \\\n",
       "4   [1.0, 1.0, 1.0, 0.98, 1.0, 0.99, 0.97, 0.99, 0...   \n",
       "9   [0.34, 0.28, 0.36, 0.29, 0.27, 0.34, 0.28, 0.2...   \n",
       "10  [0.03, 0.02, 0.02, 0.04, 0.04, 0.0, 0.03, 0.03...   \n",
       "\n",
       "                                            max_probs  binary_search_steps  \\\n",
       "4   [0.999908447265625, 0.9997063279151917, 0.9984...                  NaN   \n",
       "9   [0.5071215033531189, 0.49341168999671936, 0.50...                  1.0   \n",
       "10  [0.9981439709663391, 0.9998207092285156, 0.948...                  NaN   \n",
       "\n",
       "    max_iterations  learning_rate  batch_size  initial_const  clip_min  \\\n",
       "4              NaN            NaN         NaN            NaN       NaN   \n",
       "9             50.0            0.5       100.0            1.0       0.0   \n",
       "10             NaN            NaN         NaN            NaN       0.0   \n",
       "\n",
       "    clip_max  ord  eps  nb_iter  eps_iter  \\\n",
       "4        NaN  NaN  NaN      NaN       NaN   \n",
       "9        1.0  NaN  NaN      NaN       NaN   \n",
       "10       1.0  inf  0.3      5.0       0.1   \n",
       "\n",
       "                                  model_name  \n",
       "4   relog-elliptical-maxout_4-max_fit_l1.pkl  \n",
       "9   relog-elliptical-maxout_4-max_fit_l1.pkl  \n",
       "10  relog-elliptical-maxout_4-max_fit_l1.pkl  "
      ]
     },
     "execution_count": 52,
     "metadata": {},
     "output_type": "execute_result"
    }
   ],
   "source": [
    "results[results.model_name == 'relog-elliptical-maxout_4-max_fit_l1.pkl']"
   ]
  },
  {
   "cell_type": "code",
   "execution_count": 53,
   "metadata": {},
   "outputs": [
    {
     "data": {
      "text/html": [
       "<div>\n",
       "<style scoped>\n",
       "    .dataframe tbody tr th:only-of-type {\n",
       "        vertical-align: middle;\n",
       "    }\n",
       "\n",
       "    .dataframe tbody tr th {\n",
       "        vertical-align: top;\n",
       "    }\n",
       "\n",
       "    .dataframe thead th {\n",
       "        text-align: right;\n",
       "    }\n",
       "</style>\n",
       "<table border=\"1\" class=\"dataframe\">\n",
       "  <thead>\n",
       "    <tr style=\"text-align: right;\">\n",
       "      <th></th>\n",
       "      <th>attack_type</th>\n",
       "    </tr>\n",
       "    <tr>\n",
       "      <th>model_path</th>\n",
       "      <th></th>\n",
       "    </tr>\n",
       "  </thead>\n",
       "  <tbody>\n",
       "    <tr>\n",
       "      <td>/nfs/home2/minhle/newlogic/output/ablation-mnist-models/relog-elliptical-maxout_4-max_fit_l1.pkl</td>\n",
       "      <td>3</td>\n",
       "    </tr>\n",
       "    <tr>\n",
       "      <td>/nfs/home2/minhle/newlogic/output/ablation-mnist-models/relog-elliptical-maxout_4-mse-max_fit_l1-overlay.pkl</td>\n",
       "      <td>6</td>\n",
       "    </tr>\n",
       "    <tr>\n",
       "      <td>/nfs/home2/minhle/newlogic/output/ablation-mnist-models/relog-elliptical-maxout_4-mse-max_fit_l1.pkl</td>\n",
       "      <td>6</td>\n",
       "    </tr>\n",
       "    <tr>\n",
       "      <td>/nfs/home2/minhle/newlogic/output/ablation-mnist-models/relog-elliptical-maxout_4.pkl</td>\n",
       "      <td>5</td>\n",
       "    </tr>\n",
       "    <tr>\n",
       "      <td>/nfs/home2/minhle/newlogic/output/ablation-mnist-models/relog-elliptical-mse-max_fit_l1-overlay.pkl</td>\n",
       "      <td>1</td>\n",
       "    </tr>\n",
       "    <tr>\n",
       "      <td>/nfs/home2/minhle/newlogic/output/ablation-mnist-models/relog-maxout_4.pkl</td>\n",
       "      <td>5</td>\n",
       "    </tr>\n",
       "    <tr>\n",
       "      <td>/nfs/home2/minhle/newlogic/output/ablation-mnist-models/relog-minmaxout_2_4.pkl</td>\n",
       "      <td>1</td>\n",
       "    </tr>\n",
       "    <tr>\n",
       "      <td>/nfs/home2/minhle/newlogic/output/ablation-mnist-models/relog.pkl</td>\n",
       "      <td>5</td>\n",
       "    </tr>\n",
       "    <tr>\n",
       "      <td>/nfs/home2/minhle/newlogic/output/ablation-mnist-models/relu.pkl</td>\n",
       "      <td>5</td>\n",
       "    </tr>\n",
       "  </tbody>\n",
       "</table>\n",
       "</div>"
      ],
      "text/plain": [
       "                                                    attack_type\n",
       "model_path                                                     \n",
       "/nfs/home2/minhle/newlogic/output/ablation-mnis...            3\n",
       "/nfs/home2/minhle/newlogic/output/ablation-mnis...            6\n",
       "/nfs/home2/minhle/newlogic/output/ablation-mnis...            6\n",
       "/nfs/home2/minhle/newlogic/output/ablation-mnis...            5\n",
       "/nfs/home2/minhle/newlogic/output/ablation-mnis...            1\n",
       "/nfs/home2/minhle/newlogic/output/ablation-mnis...            5\n",
       "/nfs/home2/minhle/newlogic/output/ablation-mnis...            1\n",
       "/nfs/home2/minhle/newlogic/output/ablation-mnis...            5\n",
       "/nfs/home2/minhle/newlogic/output/ablation-mnis...            5"
      ]
     },
     "execution_count": 53,
     "metadata": {},
     "output_type": "execute_result"
    }
   ],
   "source": [
    "results.groupby('model_path').agg({'attack_type': len})"
   ]
  },
  {
   "cell_type": "code",
   "execution_count": 54,
   "metadata": {},
   "outputs": [],
   "source": [
    "def compute_accuracy_and_ttest(col):\n",
    "    if col.name in ('index', 'model_name'):\n",
    "        return list(col)\n",
    "    formatted_accuracies = []\n",
    "    for prev, curr in zip([None] + list(col), list(col)):\n",
    "        if isinstance(curr, (str, float)):\n",
    "            formatted_accuracies.append(curr)\n",
    "        elif isinstance(curr, list):\n",
    "            curr = np.around(curr, 2)\n",
    "            acc = np.mean(curr)\n",
    "            acc = '%.2f' % acc\n",
    "            if isinstance(prev, list):\n",
    "                prev = np.around(prev, 2)\n",
    "                _, p_value = stats.ttest_ind(prev, curr, equal_var = False)\n",
    "                acc += '*' if p_value < 0.05 else '<'\n",
    "            else:\n",
    "                acc += '<'\n",
    "            formatted_accuracies.append(acc)\n",
    "        else:\n",
    "            raise ValueError(\"Unsupported type: \" + str(curr))\n",
    "    return pd.Series(formatted_accuracies)"
   ]
  },
  {
   "cell_type": "code",
   "execution_count": 55,
   "metadata": {},
   "outputs": [],
   "source": [
    "def format_metrics(df, formatted_names, model_order, attack_order, values_col):\n",
    "    # filtering\n",
    "    df = df[df.model_name.isin(formatted_names) &\n",
    "            df.attack_type.isin(attack_order)].copy()\n",
    "    # convert to wide format\n",
    "    df = df.pivot(index='model_name', values=values_col, columns='attack_type')\n",
    "    # change column order\n",
    "    df = (df.reindex(sorted(df.columns, key=attack_order.__getitem__), axis=1)\n",
    "          .reset_index().fillna('-'))\n",
    "    df['model_order'] = df.model_name.apply(model_order.__getitem__)\n",
    "    df = df.sort_values(['model_order']).drop(columns='model_order')\n",
    "    # compute mean accuracy and p-values\n",
    "    df = df.apply(compute_accuracy_and_ttest)\n",
    "    # format model names last\n",
    "    df['model_name'] = df.model_name.apply(formatted_names.__getitem__)    \n",
    "    return df\n",
    "\n",
    "def format_table(df, formated_names, model_order, attack_order):\n",
    "    df = format_metrics(df, formatted_names, model_order, attack_order, values_col='accuracies')\n",
    "    # since the \"sigmoid out\" network always give 0.22% as max confidence (I shouldn't have\n",
    "    # add sigmoid to the network), I decided to drop confidence measurement.\n",
    "    latex = df.to_latex()\n",
    "    latex = latex.replace('*', '$^*$')\n",
    "    latex = latex.replace('<', '\\hspace{0.5em}')\n",
    "    return df, latex"
   ]
  },
  {
   "cell_type": "markdown",
   "metadata": {},
   "source": [
    "## Ablation table"
   ]
  },
  {
   "cell_type": "code",
   "execution_count": 56,
   "metadata": {},
   "outputs": [],
   "source": [
    "formatted_names = OrderedDict([\n",
    "    ('relu.pkl', 'Baseline'),\n",
    "    ('relog.pkl', '+ ReLog'), \n",
    "    ('relog-maxout_4.pkl', '+ MaxOut (k=4)'),\n",
    "    ('relog-minmaxout_2_4.pkl', '+ MinOut (k=2)'),\n",
    "    ('relog-elliptical-maxout_4.pkl', '+ Elliptical'),\n",
    "    ('relog-elliptical-maxout_4-max_fit_l1_1.pkl', '+ MaxFit'),  \n",
    "    ('relog-elliptical-maxout_4-sigmoid_out-max_fit_l1_1.pkl', '+ MSE training'),  \n",
    "    ('relog-elliptical-maxout_4-sigmoid_out-max_fit_l1_1-overlay.pkl', '+ Negative examples'),  \n",
    "])\n",
    "model_order = {n: i for i, n in enumerate(formatted_names)}"
   ]
  },
  {
   "cell_type": "code",
   "execution_count": 57,
   "metadata": {},
   "outputs": [],
   "source": [
    "used_attacks = ['none(eps=nan)', # (natural)\n",
    "                'FGM_inf(eps=0.3)', 'FGM_L2(eps=2.0)', 'CW(eps=nan)',\n",
    "                'BIM(eps=0.3)', 'SPSA(eps=0.3)']\n",
    "attack_order = {n: i for i, n in enumerate(used_attacks)}"
   ]
  },
  {
   "cell_type": "code",
   "execution_count": 58,
   "metadata": {},
   "outputs": [
    {
     "data": {
      "text/plain": [
       "array(['none(eps=nan)', 'CW(eps=nan)', 'BIM(eps=0.3)', 'FGM_inf(eps=0.3)',\n",
       "       'FGM_L2(eps=2.0)', 'MaxConf(eps=0.3)'], dtype=object)"
      ]
     },
     "execution_count": 58,
     "metadata": {},
     "output_type": "execute_result"
    }
   ],
   "source": [
    "results.attack_type.unique()"
   ]
  },
  {
   "cell_type": "code",
   "execution_count": 59,
   "metadata": {},
   "outputs": [],
   "source": [
    "ablation_table, latex = format_table(results, formatted_names, model_order, attack_order)"
   ]
  },
  {
   "cell_type": "code",
   "execution_count": 60,
   "metadata": {},
   "outputs": [
    {
     "data": {
      "text/html": [
       "<div>\n",
       "<style scoped>\n",
       "    .dataframe tbody tr th:only-of-type {\n",
       "        vertical-align: middle;\n",
       "    }\n",
       "\n",
       "    .dataframe tbody tr th {\n",
       "        vertical-align: top;\n",
       "    }\n",
       "\n",
       "    .dataframe thead th {\n",
       "        text-align: right;\n",
       "    }\n",
       "</style>\n",
       "<table border=\"1\" class=\"dataframe\">\n",
       "  <thead>\n",
       "    <tr style=\"text-align: right;\">\n",
       "      <th>attack_type</th>\n",
       "      <th>model_name</th>\n",
       "      <th>none(eps=nan)</th>\n",
       "      <th>FGM_inf(eps=0.3)</th>\n",
       "      <th>FGM_L2(eps=2.0)</th>\n",
       "      <th>CW(eps=nan)</th>\n",
       "      <th>BIM(eps=0.3)</th>\n",
       "    </tr>\n",
       "  </thead>\n",
       "  <tbody>\n",
       "    <tr>\n",
       "      <td>4</td>\n",
       "      <td>Baseline</td>\n",
       "      <td>0.99&lt;</td>\n",
       "      <td>0.11&lt;</td>\n",
       "      <td>0.73&lt;</td>\n",
       "      <td>0.02&lt;</td>\n",
       "      <td>0.00&lt;</td>\n",
       "    </tr>\n",
       "    <tr>\n",
       "      <td>3</td>\n",
       "      <td>+ ReLog</td>\n",
       "      <td>0.99*</td>\n",
       "      <td>0.30*</td>\n",
       "      <td>0.83*</td>\n",
       "      <td>0.15*</td>\n",
       "      <td>0.02*</td>\n",
       "    </tr>\n",
       "    <tr>\n",
       "      <td>1</td>\n",
       "      <td>+ MaxOut (k=4)</td>\n",
       "      <td>0.99&lt;</td>\n",
       "      <td>0.39*</td>\n",
       "      <td>0.85*</td>\n",
       "      <td>0.14*</td>\n",
       "      <td>0.05*</td>\n",
       "    </tr>\n",
       "    <tr>\n",
       "      <td>2</td>\n",
       "      <td>+ MinOut (k=2)</td>\n",
       "      <td>0.99&lt;</td>\n",
       "      <td>-</td>\n",
       "      <td>-</td>\n",
       "      <td>-</td>\n",
       "      <td>-</td>\n",
       "    </tr>\n",
       "    <tr>\n",
       "      <td>0</td>\n",
       "      <td>+ Elliptical</td>\n",
       "      <td>0.95*</td>\n",
       "      <td>0.60&lt;</td>\n",
       "      <td>0.62&lt;</td>\n",
       "      <td>0.50&lt;</td>\n",
       "      <td>0.02&lt;</td>\n",
       "    </tr>\n",
       "  </tbody>\n",
       "</table>\n",
       "</div>"
      ],
      "text/plain": [
       "attack_type      model_name none(eps=nan) FGM_inf(eps=0.3) FGM_L2(eps=2.0)  \\\n",
       "4                  Baseline         0.99<            0.11<           0.73<   \n",
       "3                   + ReLog         0.99*            0.30*           0.83*   \n",
       "1            + MaxOut (k=4)         0.99<            0.39*           0.85*   \n",
       "2            + MinOut (k=2)         0.99<                -               -   \n",
       "0              + Elliptical         0.95*            0.60<           0.62<   \n",
       "\n",
       "attack_type CW(eps=nan) BIM(eps=0.3)  \n",
       "4                 0.02<        0.00<  \n",
       "3                 0.15*        0.02*  \n",
       "1                 0.14*        0.05*  \n",
       "2                     -            -  \n",
       "0                 0.50<        0.02<  "
      ]
     },
     "execution_count": 60,
     "metadata": {},
     "output_type": "execute_result"
    }
   ],
   "source": [
    "ablation_table"
   ]
  },
  {
   "cell_type": "code",
   "execution_count": 61,
   "metadata": {},
   "outputs": [
    {
     "name": "stdout",
     "output_type": "stream",
     "text": [
      "\\begin{tabular}{lllllll}\n",
      "\\toprule\n",
      "attack\\_type &      model\\_name & none(eps=nan) & FGM\\_inf(eps=0.3) & FGM\\_L2(eps=2.0) & CW(eps=nan) & BIM(eps=0.3) \\\\\n",
      "\\midrule\n",
      "4 &        Baseline &         0.99\\hspace{0.5em} &            0.11\\hspace{0.5em} &           0.73\\hspace{0.5em} &       0.02\\hspace{0.5em} &        0.00\\hspace{0.5em} \\\\\n",
      "3 &         + ReLog &         0.99$^*$ &            0.30$^*$ &           0.83$^*$ &       0.15$^*$ &        0.02$^*$ \\\\\n",
      "1 &  + MaxOut (k=4) &         0.99\\hspace{0.5em} &            0.39$^*$ &           0.85$^*$ &       0.14$^*$ &        0.05$^*$ \\\\\n",
      "2 &  + MinOut (k=2) &         0.99\\hspace{0.5em} &                - &               - &           - &            - \\\\\n",
      "0 &    + Elliptical &         0.95$^*$ &            0.60\\hspace{0.5em} &           0.62\\hspace{0.5em} &       0.50\\hspace{0.5em} &        0.02\\hspace{0.5em} \\\\\n",
      "\\bottomrule\n",
      "\\end{tabular}\n",
      "\n"
     ]
    }
   ],
   "source": [
    "print(latex)"
   ]
  },
  {
   "cell_type": "markdown",
   "metadata": {},
   "source": [
    "## Check a few entries"
   ]
  },
  {
   "cell_type": "code",
   "execution_count": 16,
   "metadata": {},
   "outputs": [],
   "source": [
    "def print_mean_acc(attack, model):\n",
    "    row = results[(results.attack_type == attack) & (results.model_name == model)]\n",
    "    print(np.mean(row.accuracies.iloc[0]))"
   ]
  },
  {
   "cell_type": "code",
   "execution_count": 17,
   "metadata": {},
   "outputs": [
    {
     "ename": "IndexError",
     "evalue": "single positional indexer is out-of-bounds",
     "output_type": "error",
     "traceback": [
      "\u001b[0;31m---------------------------------------------------------------------------\u001b[0m",
      "\u001b[0;31mIndexError\u001b[0m                                Traceback (most recent call last)",
      "\u001b[0;32m<ipython-input-17-7cc489ffdbdf>\u001b[0m in \u001b[0;36m<module>\u001b[0;34m\u001b[0m\n\u001b[0;32m----> 1\u001b[0;31m \u001b[0mprint_mean_acc\u001b[0m\u001b[0;34m(\u001b[0m\u001b[0;34m'FGM_L2(eps=2.0)'\u001b[0m\u001b[0;34m,\u001b[0m \u001b[0;34m'relog-elliptical-maxout_4-sigmoid_out-max_fit_l1_1-overlay.pkl'\u001b[0m\u001b[0;34m)\u001b[0m\u001b[0;34m\u001b[0m\u001b[0;34m\u001b[0m\u001b[0m\n\u001b[0m",
      "\u001b[0;32m<ipython-input-16-8c931a26009f>\u001b[0m in \u001b[0;36mprint_mean_acc\u001b[0;34m(attack, model)\u001b[0m\n\u001b[1;32m      1\u001b[0m \u001b[0;32mdef\u001b[0m \u001b[0mprint_mean_acc\u001b[0m\u001b[0;34m(\u001b[0m\u001b[0mattack\u001b[0m\u001b[0;34m,\u001b[0m \u001b[0mmodel\u001b[0m\u001b[0;34m)\u001b[0m\u001b[0;34m:\u001b[0m\u001b[0;34m\u001b[0m\u001b[0;34m\u001b[0m\u001b[0m\n\u001b[1;32m      2\u001b[0m     \u001b[0mrow\u001b[0m \u001b[0;34m=\u001b[0m \u001b[0mresults\u001b[0m\u001b[0;34m[\u001b[0m\u001b[0;34m(\u001b[0m\u001b[0mresults\u001b[0m\u001b[0;34m.\u001b[0m\u001b[0mattack_type\u001b[0m \u001b[0;34m==\u001b[0m \u001b[0mattack\u001b[0m\u001b[0;34m)\u001b[0m \u001b[0;34m&\u001b[0m \u001b[0;34m(\u001b[0m\u001b[0mresults\u001b[0m\u001b[0;34m.\u001b[0m\u001b[0mmodel_name\u001b[0m \u001b[0;34m==\u001b[0m \u001b[0mmodel\u001b[0m\u001b[0;34m)\u001b[0m\u001b[0;34m]\u001b[0m\u001b[0;34m\u001b[0m\u001b[0;34m\u001b[0m\u001b[0m\n\u001b[0;32m----> 3\u001b[0;31m     \u001b[0mprint\u001b[0m\u001b[0;34m(\u001b[0m\u001b[0mnp\u001b[0m\u001b[0;34m.\u001b[0m\u001b[0mmean\u001b[0m\u001b[0;34m(\u001b[0m\u001b[0mrow\u001b[0m\u001b[0;34m.\u001b[0m\u001b[0maccuracies\u001b[0m\u001b[0;34m.\u001b[0m\u001b[0miloc\u001b[0m\u001b[0;34m[\u001b[0m\u001b[0;36m0\u001b[0m\u001b[0;34m]\u001b[0m\u001b[0;34m)\u001b[0m\u001b[0;34m)\u001b[0m\u001b[0;34m\u001b[0m\u001b[0;34m\u001b[0m\u001b[0m\n\u001b[0m",
      "\u001b[0;32m~/anaconda3/envs/newlogic/lib/python3.6/site-packages/pandas/core/indexing.py\u001b[0m in \u001b[0;36m__getitem__\u001b[0;34m(self, key)\u001b[0m\n\u001b[1;32m   1422\u001b[0m \u001b[0;34m\u001b[0m\u001b[0m\n\u001b[1;32m   1423\u001b[0m             \u001b[0mmaybe_callable\u001b[0m \u001b[0;34m=\u001b[0m \u001b[0mcom\u001b[0m\u001b[0;34m.\u001b[0m\u001b[0mapply_if_callable\u001b[0m\u001b[0;34m(\u001b[0m\u001b[0mkey\u001b[0m\u001b[0;34m,\u001b[0m \u001b[0mself\u001b[0m\u001b[0;34m.\u001b[0m\u001b[0mobj\u001b[0m\u001b[0;34m)\u001b[0m\u001b[0;34m\u001b[0m\u001b[0;34m\u001b[0m\u001b[0m\n\u001b[0;32m-> 1424\u001b[0;31m             \u001b[0;32mreturn\u001b[0m \u001b[0mself\u001b[0m\u001b[0;34m.\u001b[0m\u001b[0m_getitem_axis\u001b[0m\u001b[0;34m(\u001b[0m\u001b[0mmaybe_callable\u001b[0m\u001b[0;34m,\u001b[0m \u001b[0maxis\u001b[0m\u001b[0;34m=\u001b[0m\u001b[0maxis\u001b[0m\u001b[0;34m)\u001b[0m\u001b[0;34m\u001b[0m\u001b[0;34m\u001b[0m\u001b[0m\n\u001b[0m\u001b[1;32m   1425\u001b[0m \u001b[0;34m\u001b[0m\u001b[0m\n\u001b[1;32m   1426\u001b[0m     \u001b[0;32mdef\u001b[0m \u001b[0m_is_scalar_access\u001b[0m\u001b[0;34m(\u001b[0m\u001b[0mself\u001b[0m\u001b[0;34m,\u001b[0m \u001b[0mkey\u001b[0m\u001b[0;34m:\u001b[0m \u001b[0mTuple\u001b[0m\u001b[0;34m)\u001b[0m\u001b[0;34m:\u001b[0m\u001b[0;34m\u001b[0m\u001b[0;34m\u001b[0m\u001b[0m\n",
      "\u001b[0;32m~/anaconda3/envs/newlogic/lib/python3.6/site-packages/pandas/core/indexing.py\u001b[0m in \u001b[0;36m_getitem_axis\u001b[0;34m(self, key, axis)\u001b[0m\n\u001b[1;32m   2155\u001b[0m \u001b[0;34m\u001b[0m\u001b[0m\n\u001b[1;32m   2156\u001b[0m             \u001b[0;31m# validate the location\u001b[0m\u001b[0;34m\u001b[0m\u001b[0;34m\u001b[0m\u001b[0;34m\u001b[0m\u001b[0m\n\u001b[0;32m-> 2157\u001b[0;31m             \u001b[0mself\u001b[0m\u001b[0;34m.\u001b[0m\u001b[0m_validate_integer\u001b[0m\u001b[0;34m(\u001b[0m\u001b[0mkey\u001b[0m\u001b[0;34m,\u001b[0m \u001b[0maxis\u001b[0m\u001b[0;34m)\u001b[0m\u001b[0;34m\u001b[0m\u001b[0;34m\u001b[0m\u001b[0m\n\u001b[0m\u001b[1;32m   2158\u001b[0m \u001b[0;34m\u001b[0m\u001b[0m\n\u001b[1;32m   2159\u001b[0m             \u001b[0;32mreturn\u001b[0m \u001b[0mself\u001b[0m\u001b[0;34m.\u001b[0m\u001b[0m_get_loc\u001b[0m\u001b[0;34m(\u001b[0m\u001b[0mkey\u001b[0m\u001b[0;34m,\u001b[0m \u001b[0maxis\u001b[0m\u001b[0;34m=\u001b[0m\u001b[0maxis\u001b[0m\u001b[0;34m)\u001b[0m\u001b[0;34m\u001b[0m\u001b[0;34m\u001b[0m\u001b[0m\n",
      "\u001b[0;32m~/anaconda3/envs/newlogic/lib/python3.6/site-packages/pandas/core/indexing.py\u001b[0m in \u001b[0;36m_validate_integer\u001b[0;34m(self, key, axis)\u001b[0m\n\u001b[1;32m   2086\u001b[0m         \u001b[0mlen_axis\u001b[0m \u001b[0;34m=\u001b[0m \u001b[0mlen\u001b[0m\u001b[0;34m(\u001b[0m\u001b[0mself\u001b[0m\u001b[0;34m.\u001b[0m\u001b[0mobj\u001b[0m\u001b[0;34m.\u001b[0m\u001b[0m_get_axis\u001b[0m\u001b[0;34m(\u001b[0m\u001b[0maxis\u001b[0m\u001b[0;34m)\u001b[0m\u001b[0;34m)\u001b[0m\u001b[0;34m\u001b[0m\u001b[0;34m\u001b[0m\u001b[0m\n\u001b[1;32m   2087\u001b[0m         \u001b[0;32mif\u001b[0m \u001b[0mkey\u001b[0m \u001b[0;34m>=\u001b[0m \u001b[0mlen_axis\u001b[0m \u001b[0;32mor\u001b[0m \u001b[0mkey\u001b[0m \u001b[0;34m<\u001b[0m \u001b[0;34m-\u001b[0m\u001b[0mlen_axis\u001b[0m\u001b[0;34m:\u001b[0m\u001b[0;34m\u001b[0m\u001b[0;34m\u001b[0m\u001b[0m\n\u001b[0;32m-> 2088\u001b[0;31m             \u001b[0;32mraise\u001b[0m \u001b[0mIndexError\u001b[0m\u001b[0;34m(\u001b[0m\u001b[0;34m\"single positional indexer is out-of-bounds\"\u001b[0m\u001b[0;34m)\u001b[0m\u001b[0;34m\u001b[0m\u001b[0;34m\u001b[0m\u001b[0m\n\u001b[0m\u001b[1;32m   2089\u001b[0m \u001b[0;34m\u001b[0m\u001b[0m\n\u001b[1;32m   2090\u001b[0m     \u001b[0;32mdef\u001b[0m \u001b[0m_getitem_tuple\u001b[0m\u001b[0;34m(\u001b[0m\u001b[0mself\u001b[0m\u001b[0;34m,\u001b[0m \u001b[0mtup\u001b[0m\u001b[0;34m)\u001b[0m\u001b[0;34m:\u001b[0m\u001b[0;34m\u001b[0m\u001b[0;34m\u001b[0m\u001b[0m\n",
      "\u001b[0;31mIndexError\u001b[0m: single positional indexer is out-of-bounds"
     ]
    }
   ],
   "source": [
    "print_mean_acc('FGM_L2(eps=2.0)', 'relog-elliptical-maxout_4-sigmoid_out-max_fit_l1_1-overlay.pkl')"
   ]
  },
  {
   "cell_type": "code",
   "execution_count": null,
   "metadata": {},
   "outputs": [],
   "source": [
    "print_mean_acc('BIM(eps=0.3)', 'relog-elliptical-maxout_4-max_fit_l1_1.pkl')"
   ]
  },
  {
   "cell_type": "code",
   "execution_count": null,
   "metadata": {},
   "outputs": [],
   "source": [
    "print_mean_acc('SPSA(eps=0.3)', 'relu.pkl')"
   ]
  },
  {
   "cell_type": "markdown",
   "metadata": {},
   "source": [
    "# CIFAR-10 results"
   ]
  },
  {
   "cell_type": "code",
   "execution_count": 35,
   "metadata": {},
   "outputs": [],
   "source": [
    "cifar10_results = process(read_jsons(cifar10_results_paths))"
   ]
  },
  {
   "cell_type": "code",
   "execution_count": 36,
   "metadata": {},
   "outputs": [
    {
     "data": {
      "text/plain": [
       "array(['none(eps=nan)', 'FGM_L2(eps=2.0)', 'FGM_inf(eps=0.3)',\n",
       "       'BIM(eps=0.3)', 'CW(eps=nan)'], dtype=object)"
      ]
     },
     "execution_count": 36,
     "metadata": {},
     "output_type": "execute_result"
    }
   ],
   "source": [
    "cifar10_results.attack_type.unique()"
   ]
  },
  {
   "cell_type": "code",
   "execution_count": 37,
   "metadata": {},
   "outputs": [
    {
     "data": {
      "text/plain": [
       "array(['relu.pkl', 'relog.pkl', 'relog-maxout_4.pkl',\n",
       "       'relog-minmaxout_2_4-max_fit_l2.pkl', 'relog-minmaxout_2_4.pkl',\n",
       "       'relog-quadratic-max_fit_l2-maxout_4-sigmoid_out-overlay.pkl',\n",
       "       'relog-quadratic-max_fit_l2-maxout_4-sigmoid_out-scrambling.pkl',\n",
       "       'relog-quadratic-max_fit_l2-maxout_4-mse.pkl',\n",
       "       'relog-quadratic-max_fit_l2-maxout_4-sigmoid_out.pkl',\n",
       "       'relog-quadratic-max_fit_l2-maxout_4-mse-overlay.pkl',\n",
       "       'relog-quadratic-max_fit_l2-maxout_4.pkl', 'relog-elliptical.pkl',\n",
       "       'relog-elliptical-maxfit.pkl'], dtype=object)"
      ]
     },
     "execution_count": 37,
     "metadata": {},
     "output_type": "execute_result"
    }
   ],
   "source": [
    "cifar10_results.model_name.unique()"
   ]
  },
  {
   "cell_type": "code",
   "execution_count": 42,
   "metadata": {},
   "outputs": [],
   "source": [
    "formatted_names = OrderedDict([\n",
    "    ('relu.pkl', 'Baseline'),\n",
    "    ('relog.pkl', '+ ReLog'), \n",
    "    ('relog-elliptical.pkl', '+ Elliptical'),\n",
    "    ('relog-elliptical-maxfit.pkl', '+ MaxFit (L1)'),\n",
    "    ('relog-elliptical-maxout-maxfit_l1.pkl', '+ MaxOut'),\n",
    "    ('relog-maxout-elliptical-max_fit_l1-mse.pkl', '+ MSE training'),\n",
    "    ('relog-maxout-elliptical-max_fit_l1-mse-overlay.pkl', '+ Negative examples')\n",
    "])\n",
    "model_order = {n: i for i, n in enumerate(formatted_names)}"
   ]
  },
  {
   "cell_type": "code",
   "execution_count": 43,
   "metadata": {},
   "outputs": [],
   "source": [
    "ablation_table, latex = format_table(cifar10_results, formatted_names, model_order, attack_order)"
   ]
  },
  {
   "cell_type": "code",
   "execution_count": 44,
   "metadata": {},
   "outputs": [
    {
     "data": {
      "text/html": [
       "<div>\n",
       "<style scoped>\n",
       "    .dataframe tbody tr th:only-of-type {\n",
       "        vertical-align: middle;\n",
       "    }\n",
       "\n",
       "    .dataframe tbody tr th {\n",
       "        vertical-align: top;\n",
       "    }\n",
       "\n",
       "    .dataframe thead th {\n",
       "        text-align: right;\n",
       "    }\n",
       "</style>\n",
       "<table border=\"1\" class=\"dataframe\">\n",
       "  <thead>\n",
       "    <tr style=\"text-align: right;\">\n",
       "      <th>attack_type</th>\n",
       "      <th>model_name</th>\n",
       "      <th>none(eps=nan)</th>\n",
       "      <th>FGM_inf(eps=0.3)</th>\n",
       "      <th>FGM_L2(eps=2.0)</th>\n",
       "      <th>CW(eps=nan)</th>\n",
       "      <th>BIM(eps=0.3)</th>\n",
       "    </tr>\n",
       "  </thead>\n",
       "  <tbody>\n",
       "    <tr>\n",
       "      <td>3</td>\n",
       "      <td>Baseline</td>\n",
       "      <td>0.87&lt;</td>\n",
       "      <td>-</td>\n",
       "      <td>-</td>\n",
       "      <td>-</td>\n",
       "      <td>-</td>\n",
       "    </tr>\n",
       "    <tr>\n",
       "      <td>2</td>\n",
       "      <td>+ ReLog</td>\n",
       "      <td>0.87&lt;</td>\n",
       "      <td>0.18&lt;</td>\n",
       "      <td>0.44&lt;</td>\n",
       "      <td>0.04&lt;</td>\n",
       "      <td>0.02&lt;</td>\n",
       "    </tr>\n",
       "    <tr>\n",
       "      <td>1</td>\n",
       "      <td>+ Elliptical</td>\n",
       "      <td>-</td>\n",
       "      <td>0.10*</td>\n",
       "      <td>0.44&lt;</td>\n",
       "      <td>0.02*</td>\n",
       "      <td>0.01*</td>\n",
       "    </tr>\n",
       "    <tr>\n",
       "      <td>0</td>\n",
       "      <td>+ MaxFit (L1)</td>\n",
       "      <td>-</td>\n",
       "      <td>0.13*</td>\n",
       "      <td>0.45*</td>\n",
       "      <td>0.05*</td>\n",
       "      <td>0.01&lt;</td>\n",
       "    </tr>\n",
       "  </tbody>\n",
       "</table>\n",
       "</div>"
      ],
      "text/plain": [
       "attack_type     model_name none(eps=nan) FGM_inf(eps=0.3) FGM_L2(eps=2.0)  \\\n",
       "3                 Baseline         0.87<                -               -   \n",
       "2                  + ReLog         0.87<            0.18<           0.44<   \n",
       "1             + Elliptical             -            0.10*           0.44<   \n",
       "0            + MaxFit (L1)             -            0.13*           0.45*   \n",
       "\n",
       "attack_type CW(eps=nan) BIM(eps=0.3)  \n",
       "3                     -            -  \n",
       "2                 0.04<        0.02<  \n",
       "1                 0.02*        0.01*  \n",
       "0                 0.05*        0.01<  "
      ]
     },
     "execution_count": 44,
     "metadata": {},
     "output_type": "execute_result"
    }
   ],
   "source": [
    "ablation_table"
   ]
  },
  {
   "cell_type": "code",
   "execution_count": 46,
   "metadata": {},
   "outputs": [
    {
     "name": "stdout",
     "output_type": "stream",
     "text": [
      "\\begin{tabular}{lllllll}\n",
      "\\toprule\n",
      "attack\\_type &     model\\_name & none(eps=nan) & FGM\\_inf(eps=0.3) & FGM\\_L2(eps=2.0) & CW(eps=nan) & BIM(eps=0.3) \\\\\n",
      "\\midrule\n",
      "3 &       Baseline &         0.87\\hspace{0.5em} &                - &               - &           - &            - \\\\\n",
      "2 &        + ReLog &         0.87\\hspace{0.5em} &            0.18\\hspace{0.5em} &           0.44\\hspace{0.5em} &       0.04\\hspace{0.5em} &        0.02\\hspace{0.5em} \\\\\n",
      "1 &   + Elliptical &             - &            0.10$^*$ &           0.44\\hspace{0.5em} &       0.02$^*$ &        0.01$^*$ \\\\\n",
      "0 &  + MaxFit (L1) &             - &            0.13$^*$ &           0.45$^*$ &       0.05$^*$ &        0.01\\hspace{0.5em} \\\\\n",
      "\\bottomrule\n",
      "\\end{tabular}\n",
      "\n"
     ]
    }
   ],
   "source": [
    "print(latex)"
   ]
  },
  {
   "cell_type": "code",
   "execution_count": null,
   "metadata": {},
   "outputs": [],
   "source": []
  },
  {
   "cell_type": "code",
   "execution_count": null,
   "metadata": {},
   "outputs": [],
   "source": []
  }
 ],
 "metadata": {
  "kernelspec": {
   "display_name": "conda-env-newlogic-py",
   "language": "python",
   "name": "conda-env-newlogic-py"
  },
  "language_info": {
   "codemirror_mode": {
    "name": "ipython",
    "version": 3
   },
   "file_extension": ".py",
   "mimetype": "text/x-python",
   "name": "python",
   "nbconvert_exporter": "python",
   "pygments_lexer": "ipython3",
   "version": "3.6.9"
  }
 },
 "nbformat": 4,
 "nbformat_minor": 4
}
