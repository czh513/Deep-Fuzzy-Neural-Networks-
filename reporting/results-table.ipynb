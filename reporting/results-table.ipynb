{
 "cells": [
  {
   "cell_type": "code",
   "execution_count": 53,
   "metadata": {},
   "outputs": [],
   "source": [
    "mnist_results_paths = ['../output/natural-mnist-results.json',\n",
    "                       '../output/ablation-mnist-results.json',\n",
    "                       '../output/ablation-mnist-results2.json',\n",
    "                       '../output/ablation-mnist-results3.json',\n",
    "                       '../output/ablation-mnist-results-spsa.json', \n",
    "                       '../output/maxfit-sensitivity-mnist-results.json',\n",
    "                       '../output/natural-maxfit-sensitivity-mnist-results.json',\n",
    "                       '../output/maxfit-sensitivity-mnist-results-spsa.json']\n",
    "cifar10_results_paths = ['../output/natural-cifar10-results.json',\n",
    "                         '../output/natural-cifar10-results2.json',\n",
    "                         '../output/ablation-cifar10-results.json',\n",
    "                         '../output/ablation-cifar10-results2.json',\n",
    "                         '../output/natural-cifar10-results4.json',\n",
    "                         '../output/ablation-cifar10-results4.json',\n",
    "                         '../output/manual-evaluation.json',]"
   ]
  },
  {
   "cell_type": "code",
   "execution_count": 3,
   "metadata": {},
   "outputs": [],
   "source": [
    "import pandas as pd\n",
    "import numpy as np\n",
    "from collections import OrderedDict\n",
    "import re\n",
    "import os\n",
    "from scipy import stats"
   ]
  },
  {
   "cell_type": "code",
   "execution_count": 65,
   "metadata": {},
   "outputs": [],
   "source": [
    "import json\n",
    "\n",
    "def read_json(path):\n",
    "    rows = []\n",
    "    with open(path) as f:\n",
    "        for line in f:\n",
    "            if line.strip():\n",
    "                row = json.loads(line[:-1])\n",
    "                if 'attack' in row:\n",
    "                    row['attack_type'] = row['attack']\n",
    "                    del row['attack']\n",
    "                rows.append(row)\n",
    "    df = pd.DataFrame(rows)\n",
    "    if 'eps' in df.columns:\n",
    "        df = df.drop_duplicates(['model_path', 'attack_type', 'eps'], keep='last')\n",
    "    return df\n",
    "\n",
    "def read_jsons(paths):\n",
    "    dfs = [read_json(path) for path in paths if os.path.exists(path)]\n",
    "    return pd.concat(dfs, sort=False).reset_index()"
   ]
  },
  {
   "cell_type": "code",
   "execution_count": 5,
   "metadata": {},
   "outputs": [],
   "source": [
    "def process(df):\n",
    "    df['attack_type'] = df.apply(\n",
    "        lambda r: ('%s(eps=%.1f)' % (r['attack_type'], r['eps'])\n",
    "                   if 'eps' in r else r['attack_type']), axis=1)\n",
    "    df['model_name'] = df.model_path.apply(os.path.basename)\n",
    "    counts = df.groupby(['model_name', 'attack_type']).agg({'accuracies': len})\n",
    "    duplicates = counts[counts.accuracies >= 2]\n",
    "    if len(duplicates) > 0:\n",
    "        print(duplicates.reset_index().values)\n",
    "    assert len(duplicates) == 0, 'Please remove duplicates'\n",
    "    return df"
   ]
  },
  {
   "cell_type": "markdown",
   "metadata": {},
   "source": [
    "# MNIST results"
   ]
  },
  {
   "cell_type": "code",
   "execution_count": 65,
   "metadata": {},
   "outputs": [],
   "source": [
    "results = process(read_jsons(mnist_results_paths))"
   ]
  },
  {
   "cell_type": "code",
   "execution_count": 12,
   "metadata": {},
   "outputs": [],
   "source": [
    "def compute_accuracy_and_ttest(col):\n",
    "    if col.name in ('index', 'model_name'):\n",
    "        return list(col)\n",
    "    formatted_accuracies = []\n",
    "    for prev, curr in zip([None] + list(col), list(col)):\n",
    "        if isinstance(curr, (str, float)):\n",
    "            formatted_accuracies.append(curr)\n",
    "        elif isinstance(curr, list):\n",
    "            curr = np.around(curr, 2)\n",
    "            acc = np.mean(curr)\n",
    "            acc = '%.2f' % acc\n",
    "            if isinstance(prev, list):\n",
    "                prev = np.around(prev, 2)\n",
    "                _, p_value = stats.ttest_ind(prev, curr, equal_var = False)\n",
    "                acc += '*' if p_value < 0.05 else '<'\n",
    "            else:\n",
    "                acc += '<'\n",
    "            formatted_accuracies.append(acc)\n",
    "        else:\n",
    "            raise ValueError(\"Unsupported type: \" + str(curr))\n",
    "    return pd.Series(formatted_accuracies)"
   ]
  },
  {
   "cell_type": "code",
   "execution_count": 13,
   "metadata": {},
   "outputs": [],
   "source": [
    "def format_metrics(df, formatted_names, model_order, attack_order, values_col):\n",
    "    # filtering\n",
    "    df = df[df.model_name.isin(formatted_names) &\n",
    "            df.attack_type.isin(attack_order)].copy()\n",
    "    # convert to wide format\n",
    "    df = df.pivot(index='model_name', values=values_col, columns='attack_type')\n",
    "    # change column order\n",
    "    df = (df.reindex(sorted(df.columns, key=attack_order.__getitem__), axis=1)\n",
    "          .reset_index().fillna('-'))\n",
    "    df['model_order'] = df.model_name.apply(model_order.__getitem__)\n",
    "    df = df.sort_values(['model_order']).drop(columns='model_order')\n",
    "    # compute mean accuracy and p-values\n",
    "    df = df.apply(compute_accuracy_and_ttest)\n",
    "    # format model names last\n",
    "    df['model_name'] = df.model_name.apply(formatted_names.__getitem__)    \n",
    "    return df\n",
    "\n",
    "def format_table(df, formated_names, model_order, attack_order):\n",
    "    df = format_metrics(df, formatted_names, model_order, attack_order, values_col='accuracies')\n",
    "    latex = df.to_latex()\n",
    "    latex = latex.replace('*', '$^*$')\n",
    "    latex = latex.replace('<', '\\hspace{0.5em}')\n",
    "    return df, latex"
   ]
  },
  {
   "cell_type": "markdown",
   "metadata": {},
   "source": [
    "## Ablation table"
   ]
  },
  {
   "cell_type": "code",
   "execution_count": 68,
   "metadata": {},
   "outputs": [],
   "source": [
    "formatted_names = OrderedDict([\n",
    "    ('relu.pkl', 'Baseline'),\n",
    "    ('relog.pkl', '+ ReLog (beta=2)'), \n",
    "    ('relog-maxout_4.pkl', '+ MaxOut (k=4)'),\n",
    "    ('relog-minmaxout_2_4.pkl', '+ MinOut (k=2)'),\n",
    "    ('relog-elliptical-maxout_4.pkl', '+ Elliptical'),\n",
    "    ('relog-elliptical-maxout_4-max_fit_l1_0001.pkl', '+ MaxFit (L1)'),  \n",
    "    ('relog-elliptical-maxout_4-mse-max_fit_l1.pkl', '+ MSE training'),  \n",
    "    ('relog-elliptical-maxout_4-mse-max_fit_l1-overlay.pkl', '+ Negative examples'),  \n",
    "])\n",
    "model_order = {n: i for i, n in enumerate(formatted_names)}"
   ]
  },
  {
   "cell_type": "code",
   "execution_count": 69,
   "metadata": {},
   "outputs": [],
   "source": [
    "used_attacks = ['none(eps=nan)', # (natural)\n",
    "                'FGM_inf(eps=0.3)', 'FGM_L2(eps=2.0)', 'CW(eps=nan)',\n",
    "                'BIM(eps=0.3)', 'SPSA(eps=0.3)']\n",
    "attack_order = {n: i for i, n in enumerate(used_attacks)}"
   ]
  },
  {
   "cell_type": "code",
   "execution_count": 70,
   "metadata": {},
   "outputs": [
    {
     "data": {
      "text/plain": [
       "array(['none(eps=nan)', 'FGM_inf(eps=0.3)', 'FGM_L2(eps=2.0)',\n",
       "       'CW(eps=nan)', 'BIM(eps=0.3)', 'MaxConf(eps=0.3)', 'SPSA(eps=0.3)'],\n",
       "      dtype=object)"
      ]
     },
     "execution_count": 70,
     "metadata": {},
     "output_type": "execute_result"
    }
   ],
   "source": [
    "results.attack_type.unique()"
   ]
  },
  {
   "cell_type": "code",
   "execution_count": 71,
   "metadata": {},
   "outputs": [],
   "source": [
    "ablation_table, latex = format_table(results, formatted_names, model_order, attack_order)"
   ]
  },
  {
   "cell_type": "code",
   "execution_count": 72,
   "metadata": {},
   "outputs": [
    {
     "data": {
      "text/html": [
       "<div>\n",
       "<style scoped>\n",
       "    .dataframe tbody tr th:only-of-type {\n",
       "        vertical-align: middle;\n",
       "    }\n",
       "\n",
       "    .dataframe tbody tr th {\n",
       "        vertical-align: top;\n",
       "    }\n",
       "\n",
       "    .dataframe thead th {\n",
       "        text-align: right;\n",
       "    }\n",
       "</style>\n",
       "<table border=\"1\" class=\"dataframe\">\n",
       "  <thead>\n",
       "    <tr style=\"text-align: right;\">\n",
       "      <th>attack_type</th>\n",
       "      <th>model_name</th>\n",
       "      <th>none(eps=nan)</th>\n",
       "      <th>FGM_inf(eps=0.3)</th>\n",
       "      <th>FGM_L2(eps=2.0)</th>\n",
       "      <th>CW(eps=nan)</th>\n",
       "      <th>BIM(eps=0.3)</th>\n",
       "      <th>SPSA(eps=0.3)</th>\n",
       "    </tr>\n",
       "  </thead>\n",
       "  <tbody>\n",
       "    <tr>\n",
       "      <td>7</td>\n",
       "      <td>Baseline</td>\n",
       "      <td>0.99&lt;</td>\n",
       "      <td>0.10&lt;</td>\n",
       "      <td>0.71&lt;</td>\n",
       "      <td>0.05&lt;</td>\n",
       "      <td>0.00&lt;</td>\n",
       "      <td>0.16&lt;</td>\n",
       "    </tr>\n",
       "    <tr>\n",
       "      <td>6</td>\n",
       "      <td>+ ReLog (beta=2)</td>\n",
       "      <td>0.99&lt;</td>\n",
       "      <td>0.37*</td>\n",
       "      <td>0.85*</td>\n",
       "      <td>0.23*</td>\n",
       "      <td>0.03*</td>\n",
       "      <td>0.44*</td>\n",
       "    </tr>\n",
       "    <tr>\n",
       "      <td>4</td>\n",
       "      <td>+ MaxOut (k=4)</td>\n",
       "      <td>0.99&lt;</td>\n",
       "      <td>0.40*</td>\n",
       "      <td>0.85&lt;</td>\n",
       "      <td>0.23&lt;</td>\n",
       "      <td>0.04&lt;</td>\n",
       "      <td>0.42&lt;</td>\n",
       "    </tr>\n",
       "    <tr>\n",
       "      <td>5</td>\n",
       "      <td>+ MinOut (k=2)</td>\n",
       "      <td>0.99&lt;</td>\n",
       "      <td>0.67*</td>\n",
       "      <td>0.91*</td>\n",
       "      <td>0.32*</td>\n",
       "      <td>0.17*</td>\n",
       "      <td>0.46*</td>\n",
       "    </tr>\n",
       "    <tr>\n",
       "      <td>3</td>\n",
       "      <td>+ Elliptical</td>\n",
       "      <td>0.96*</td>\n",
       "      <td>0.56*</td>\n",
       "      <td>0.71*</td>\n",
       "      <td>0.59*</td>\n",
       "      <td>0.07*</td>\n",
       "      <td>0.34*</td>\n",
       "    </tr>\n",
       "    <tr>\n",
       "      <td>0</td>\n",
       "      <td>+ MaxFit (L1)</td>\n",
       "      <td>0.97*</td>\n",
       "      <td>0.53*</td>\n",
       "      <td>0.75*</td>\n",
       "      <td>0.67*</td>\n",
       "      <td>0.07&lt;</td>\n",
       "      <td>0.33&lt;</td>\n",
       "    </tr>\n",
       "    <tr>\n",
       "      <td>2</td>\n",
       "      <td>+ MSE training</td>\n",
       "      <td>0.97&lt;</td>\n",
       "      <td>0.35*</td>\n",
       "      <td>0.79*</td>\n",
       "      <td>0.33*</td>\n",
       "      <td>0.07&lt;</td>\n",
       "      <td>0.37*</td>\n",
       "    </tr>\n",
       "    <tr>\n",
       "      <td>1</td>\n",
       "      <td>+ Negative examples</td>\n",
       "      <td>0.94*</td>\n",
       "      <td>0.03*</td>\n",
       "      <td>0.26*</td>\n",
       "      <td>0.84*</td>\n",
       "      <td>0.00*</td>\n",
       "      <td>0.01*</td>\n",
       "    </tr>\n",
       "  </tbody>\n",
       "</table>\n",
       "</div>"
      ],
      "text/plain": [
       "attack_type           model_name none(eps=nan) FGM_inf(eps=0.3)  \\\n",
       "7                       Baseline         0.99<            0.10<   \n",
       "6               + ReLog (beta=2)         0.99<            0.37*   \n",
       "4                 + MaxOut (k=4)         0.99<            0.40*   \n",
       "5                 + MinOut (k=2)         0.99<            0.67*   \n",
       "3                   + Elliptical         0.96*            0.56*   \n",
       "0                  + MaxFit (L1)         0.97*            0.53*   \n",
       "2                 + MSE training         0.97<            0.35*   \n",
       "1            + Negative examples         0.94*            0.03*   \n",
       "\n",
       "attack_type FGM_L2(eps=2.0) CW(eps=nan) BIM(eps=0.3) SPSA(eps=0.3)  \n",
       "7                     0.71<       0.05<        0.00<         0.16<  \n",
       "6                     0.85*       0.23*        0.03*         0.44*  \n",
       "4                     0.85<       0.23<        0.04<         0.42<  \n",
       "5                     0.91*       0.32*        0.17*         0.46*  \n",
       "3                     0.71*       0.59*        0.07*         0.34*  \n",
       "0                     0.75*       0.67*        0.07<         0.33<  \n",
       "2                     0.79*       0.33*        0.07<         0.37*  \n",
       "1                     0.26*       0.84*        0.00*         0.01*  "
      ]
     },
     "execution_count": 72,
     "metadata": {},
     "output_type": "execute_result"
    }
   ],
   "source": [
    "ablation_table"
   ]
  },
  {
   "cell_type": "code",
   "execution_count": 73,
   "metadata": {},
   "outputs": [
    {
     "name": "stdout",
     "output_type": "stream",
     "text": [
      "\\begin{tabular}{llllllll}\n",
      "\\toprule\n",
      "attack\\_type &           model\\_name & none(eps=nan) & FGM\\_inf(eps=0.3) & FGM\\_L2(eps=2.0) & CW(eps=nan) & BIM(eps=0.3) & SPSA(eps=0.3) \\\\\n",
      "\\midrule\n",
      "7 &             Baseline &         0.99\\hspace{0.5em} &            0.10\\hspace{0.5em} &           0.71\\hspace{0.5em} &       0.05\\hspace{0.5em} &        0.00\\hspace{0.5em} &         0.16\\hspace{0.5em} \\\\\n",
      "6 &     + ReLog (beta=2) &         0.99\\hspace{0.5em} &            0.37$^*$ &           0.85$^*$ &       0.23$^*$ &        0.03$^*$ &         0.44$^*$ \\\\\n",
      "4 &       + MaxOut (k=4) &         0.99\\hspace{0.5em} &            0.40$^*$ &           0.85\\hspace{0.5em} &       0.23\\hspace{0.5em} &        0.04\\hspace{0.5em} &         0.42\\hspace{0.5em} \\\\\n",
      "5 &       + MinOut (k=2) &         0.99\\hspace{0.5em} &            0.67$^*$ &           0.91$^*$ &       0.32$^*$ &        0.17$^*$ &         0.46$^*$ \\\\\n",
      "3 &         + Elliptical &         0.96$^*$ &            0.56$^*$ &           0.71$^*$ &       0.59$^*$ &        0.07$^*$ &         0.34$^*$ \\\\\n",
      "0 &        + MaxFit (L1) &         0.97$^*$ &            0.53$^*$ &           0.75$^*$ &       0.67$^*$ &        0.07\\hspace{0.5em} &         0.33\\hspace{0.5em} \\\\\n",
      "2 &       + MSE training &         0.97\\hspace{0.5em} &            0.35$^*$ &           0.79$^*$ &       0.33$^*$ &        0.07\\hspace{0.5em} &         0.37$^*$ \\\\\n",
      "1 &  + Negative examples &         0.94$^*$ &            0.03$^*$ &           0.26$^*$ &       0.84$^*$ &        0.00$^*$ &         0.01$^*$ \\\\\n",
      "\\bottomrule\n",
      "\\end{tabular}\n",
      "\n"
     ]
    }
   ],
   "source": [
    "print(latex)"
   ]
  },
  {
   "cell_type": "markdown",
   "metadata": {},
   "source": [
    "## Check a few entries"
   ]
  },
  {
   "cell_type": "code",
   "execution_count": 15,
   "metadata": {},
   "outputs": [],
   "source": [
    "def print_mean_acc(attack, model):\n",
    "    row = results[(results.attack_type == attack) & (results.model_name == model)]\n",
    "    print(np.mean(row.accuracies.iloc[0]))"
   ]
  },
  {
   "cell_type": "code",
   "execution_count": 39,
   "metadata": {},
   "outputs": [
    {
     "name": "stdout",
     "output_type": "stream",
     "text": [
      "0.26130000000000003\n"
     ]
    }
   ],
   "source": [
    "print_mean_acc('FGM_L2(eps=2.0)', 'relog-elliptical-maxout_4-mse-max_fit_l1-overlay.pkl')"
   ]
  },
  {
   "cell_type": "code",
   "execution_count": 42,
   "metadata": {},
   "outputs": [
    {
     "name": "stdout",
     "output_type": "stream",
     "text": [
      "0.0131\n"
     ]
    }
   ],
   "source": [
    "print_mean_acc('BIM(eps=0.3)', 'relog-elliptical-maxout_4-max_fit_l1.pkl')"
   ]
  },
  {
   "cell_type": "code",
   "execution_count": 41,
   "metadata": {},
   "outputs": [
    {
     "name": "stdout",
     "output_type": "stream",
     "text": [
      "0.16133333333333336\n"
     ]
    }
   ],
   "source": [
    "print_mean_acc('SPSA(eps=0.3)', 'relu.pkl')"
   ]
  },
  {
   "cell_type": "markdown",
   "metadata": {},
   "source": [
    "## Check the effect of L1"
   ]
  },
  {
   "cell_type": "code",
   "execution_count": 52,
   "metadata": {},
   "outputs": [
    {
     "data": {
      "text/html": [
       "<div>\n",
       "<style scoped>\n",
       "    .dataframe tbody tr th:only-of-type {\n",
       "        vertical-align: middle;\n",
       "    }\n",
       "\n",
       "    .dataframe tbody tr th {\n",
       "        vertical-align: top;\n",
       "    }\n",
       "\n",
       "    .dataframe thead th {\n",
       "        text-align: right;\n",
       "    }\n",
       "</style>\n",
       "<table border=\"1\" class=\"dataframe\">\n",
       "  <thead>\n",
       "    <tr style=\"text-align: right;\">\n",
       "      <th></th>\n",
       "      <th>model_name</th>\n",
       "      <th>accuracies</th>\n",
       "    </tr>\n",
       "  </thead>\n",
       "  <tbody>\n",
       "    <tr>\n",
       "      <td>54</td>\n",
       "      <td>relog-elliptical-maxout_4-max_fit_l1_02.pkl</td>\n",
       "      <td>[0.25, 0.2, 0.21, 0.21, 0.34, 0.19, 0.2, 0.18,...</td>\n",
       "    </tr>\n",
       "    <tr>\n",
       "      <td>58</td>\n",
       "      <td>relog-elliptical-maxout_4-max_fit_l1_0001.pkl</td>\n",
       "      <td>[0.63, 0.66, 0.62, 0.68, 0.7, 0.66, 0.58, 0.63...</td>\n",
       "    </tr>\n",
       "    <tr>\n",
       "      <td>62</td>\n",
       "      <td>relog-elliptical-maxout_4-max_fit_l1_001.pkl</td>\n",
       "      <td>[0.59, 0.59, 0.48, 0.53, 0.47, 0.5, 0.49, 0.59...</td>\n",
       "    </tr>\n",
       "    <tr>\n",
       "      <td>66</td>\n",
       "      <td>relog-elliptical-maxout_4-max_fit_l1_03.pkl</td>\n",
       "      <td>[0.28, 0.17, 0.32, 0.27, 0.15, 0.28, 0.26, 0.2...</td>\n",
       "    </tr>\n",
       "    <tr>\n",
       "      <td>70</td>\n",
       "      <td>relog-elliptical-maxout_4-max_fit_l1_002.pkl</td>\n",
       "      <td>[0.56, 0.65, 0.55, 0.48, 0.55, 0.55, 0.49, 0.4...</td>\n",
       "    </tr>\n",
       "    <tr>\n",
       "      <td>74</td>\n",
       "      <td>relog-elliptical-maxout_4-max_fit_l1_05.pkl</td>\n",
       "      <td>[0.35, 0.46, 0.45, 0.34, 0.37, 0.37, 0.43, 0.3...</td>\n",
       "    </tr>\n",
       "  </tbody>\n",
       "</table>\n",
       "</div>"
      ],
      "text/plain": [
       "                                       model_name  \\\n",
       "54    relog-elliptical-maxout_4-max_fit_l1_02.pkl   \n",
       "58  relog-elliptical-maxout_4-max_fit_l1_0001.pkl   \n",
       "62   relog-elliptical-maxout_4-max_fit_l1_001.pkl   \n",
       "66    relog-elliptical-maxout_4-max_fit_l1_03.pkl   \n",
       "70   relog-elliptical-maxout_4-max_fit_l1_002.pkl   \n",
       "74    relog-elliptical-maxout_4-max_fit_l1_05.pkl   \n",
       "\n",
       "                                           accuracies  \n",
       "54  [0.25, 0.2, 0.21, 0.21, 0.34, 0.19, 0.2, 0.18,...  \n",
       "58  [0.63, 0.66, 0.62, 0.68, 0.7, 0.66, 0.58, 0.63...  \n",
       "62  [0.59, 0.59, 0.48, 0.53, 0.47, 0.5, 0.49, 0.59...  \n",
       "66  [0.28, 0.17, 0.32, 0.27, 0.15, 0.28, 0.26, 0.2...  \n",
       "70  [0.56, 0.65, 0.55, 0.48, 0.55, 0.55, 0.49, 0.4...  \n",
       "74  [0.35, 0.46, 0.45, 0.34, 0.37, 0.37, 0.43, 0.3...  "
      ]
     },
     "execution_count": 52,
     "metadata": {},
     "output_type": "execute_result"
    }
   ],
   "source": [
    "results[results.model_path.str.contains('sensitivity') & results.attack_type.str.contains('CW')][['model_name', 'accuracies']]"
   ]
  },
  {
   "cell_type": "code",
   "execution_count": 54,
   "metadata": {},
   "outputs": [
    {
     "data": {
      "text/html": [
       "<div>\n",
       "<style scoped>\n",
       "    .dataframe tbody tr th:only-of-type {\n",
       "        vertical-align: middle;\n",
       "    }\n",
       "\n",
       "    .dataframe tbody tr th {\n",
       "        vertical-align: top;\n",
       "    }\n",
       "\n",
       "    .dataframe thead th {\n",
       "        text-align: right;\n",
       "    }\n",
       "</style>\n",
       "<table border=\"1\" class=\"dataframe\">\n",
       "  <thead>\n",
       "    <tr style=\"text-align: right;\">\n",
       "      <th></th>\n",
       "      <th>model_name</th>\n",
       "      <th>attack_type</th>\n",
       "      <th>accuracies</th>\n",
       "    </tr>\n",
       "  </thead>\n",
       "  <tbody>\n",
       "    <tr>\n",
       "      <td>56</td>\n",
       "      <td>relog-elliptical-maxout_4-max_fit_l1_0001.pkl</td>\n",
       "      <td>FGM_inf(eps=0.3)</td>\n",
       "      <td>[0.6, 0.5, 0.52, 0.59, 0.53, 0.51, 0.54, 0.51,...</td>\n",
       "    </tr>\n",
       "    <tr>\n",
       "      <td>57</td>\n",
       "      <td>relog-elliptical-maxout_4-max_fit_l1_0001.pkl</td>\n",
       "      <td>FGM_L2(eps=2.0)</td>\n",
       "      <td>[0.77, 0.74, 0.72, 0.76, 0.77, 0.72, 0.79, 0.8...</td>\n",
       "    </tr>\n",
       "    <tr>\n",
       "      <td>58</td>\n",
       "      <td>relog-elliptical-maxout_4-max_fit_l1_0001.pkl</td>\n",
       "      <td>CW(eps=nan)</td>\n",
       "      <td>[0.63, 0.66, 0.62, 0.68, 0.7, 0.66, 0.58, 0.63...</td>\n",
       "    </tr>\n",
       "    <tr>\n",
       "      <td>59</td>\n",
       "      <td>relog-elliptical-maxout_4-max_fit_l1_0001.pkl</td>\n",
       "      <td>BIM(eps=0.3)</td>\n",
       "      <td>[0.07, 0.09, 0.03, 0.07, 0.05, 0.1, 0.07, 0.06...</td>\n",
       "    </tr>\n",
       "  </tbody>\n",
       "</table>\n",
       "</div>"
      ],
      "text/plain": [
       "                                       model_name       attack_type  \\\n",
       "56  relog-elliptical-maxout_4-max_fit_l1_0001.pkl  FGM_inf(eps=0.3)   \n",
       "57  relog-elliptical-maxout_4-max_fit_l1_0001.pkl   FGM_L2(eps=2.0)   \n",
       "58  relog-elliptical-maxout_4-max_fit_l1_0001.pkl       CW(eps=nan)   \n",
       "59  relog-elliptical-maxout_4-max_fit_l1_0001.pkl      BIM(eps=0.3)   \n",
       "\n",
       "                                           accuracies  \n",
       "56  [0.6, 0.5, 0.52, 0.59, 0.53, 0.51, 0.54, 0.51,...  \n",
       "57  [0.77, 0.74, 0.72, 0.76, 0.77, 0.72, 0.79, 0.8...  \n",
       "58  [0.63, 0.66, 0.62, 0.68, 0.7, 0.66, 0.58, 0.63...  \n",
       "59  [0.07, 0.09, 0.03, 0.07, 0.05, 0.1, 0.07, 0.06...  "
      ]
     },
     "execution_count": 54,
     "metadata": {},
     "output_type": "execute_result"
    }
   ],
   "source": [
    "results[results.model_name.str.contains('max_fit_l1_0001')][['model_name', 'attack_type', 'accuracies']]"
   ]
  },
  {
   "cell_type": "markdown",
   "metadata": {},
   "source": [
    "I have the feeling that my regularization formula is not entirely right... Elliptical used to get highest results but after some changes it suddenly perform oddly."
   ]
  },
  {
   "cell_type": "markdown",
   "metadata": {},
   "source": [
    "# CIFAR-10 results"
   ]
  },
  {
   "cell_type": "code",
   "execution_count": 101,
   "metadata": {},
   "outputs": [],
   "source": [
    "cifar10_results = process(read_jsons(cifar10_results_paths))"
   ]
  },
  {
   "cell_type": "code",
   "execution_count": 102,
   "metadata": {},
   "outputs": [
    {
     "data": {
      "text/plain": [
       "array(['none(eps=nan)', 'FGM_L2(eps=2.0)', 'FGM_inf(eps=0.3)',\n",
       "       'BIM(eps=0.3)', 'CW(eps=nan)'], dtype=object)"
      ]
     },
     "execution_count": 102,
     "metadata": {},
     "output_type": "execute_result"
    }
   ],
   "source": [
    "cifar10_results.attack_type.unique()"
   ]
  },
  {
   "cell_type": "code",
   "execution_count": 103,
   "metadata": {},
   "outputs": [
    {
     "data": {
      "text/plain": [
       "array(['relu.pkl', 'relog.pkl', 'relog-elliptical.pkl',\n",
       "       'relog-elliptical-maxfit.pkl',\n",
       "       'relog-elliptical-maxout-maxfit_l1.pkl',\n",
       "       'relog-maxout-elliptical-max_fit_l1-mse.pkl',\n",
       "       'relog-maxout-elliptical-max_fit_l1-mse-overlay.pkl',\n",
       "       'relog-maxout.pkl',\n",
       "       'relog-minmaxout-elliptical_stop1-maxfit-mse-overlay.pkl',\n",
       "       'relog-minmaxout.pkl',\n",
       "       'relog-minmaxout-elliptical_stop1-maxfit.pkl',\n",
       "       'relog-minmaxout-elliptical_stop1.pkl',\n",
       "       'relog-minmaxout-elliptical_stop1-maxfit-mse.pkl'], dtype=object)"
      ]
     },
     "execution_count": 103,
     "metadata": {},
     "output_type": "execute_result"
    }
   ],
   "source": [
    "cifar10_results.model_name.unique()"
   ]
  },
  {
   "cell_type": "code",
   "execution_count": 104,
   "metadata": {},
   "outputs": [],
   "source": [
    "formatted_names = OrderedDict([\n",
    "    ('relu.pkl', 'Baseline'),\n",
    "    ('relog.pkl', '+ ReLog'), \n",
    "    ('relog-maxout.pkl', '+ MaxOut (k=4)'),\n",
    "    ('relog-minmaxout.pkl', '+ MinOut (k=2)'),\n",
    "    ('relog-minmaxout-elliptical_stop1.pkl', '+ Elliptical'),\n",
    "    ('relog-minmaxout-elliptical_stop1-maxfit.pkl', '+ MaxFit (L1)'),\n",
    "    ('relog-minmaxout-elliptical_stop1-maxfit-mse.pkl', '+ MSE training'),\n",
    "    ('relog-minmaxout-elliptical_stop1-maxfit-mse-overlay.pkl', '+ Negative examples')\n",
    "])\n",
    "model_order = {n: i for i, n in enumerate(formatted_names)}"
   ]
  },
  {
   "cell_type": "code",
   "execution_count": 105,
   "metadata": {},
   "outputs": [],
   "source": [
    "used_attacks = ['none(eps=nan)', # (natural)\n",
    "                'FGM_inf(eps=0.3)', 'FGM_L2(eps=2.0)', 'CW(eps=nan)',\n",
    "                'BIM(eps=0.3)']\n",
    "attack_order = {n: i for i, n in enumerate(used_attacks)}"
   ]
  },
  {
   "cell_type": "code",
   "execution_count": 106,
   "metadata": {},
   "outputs": [],
   "source": [
    "ablation_table, latex = format_table(cifar10_results, formatted_names, model_order, attack_order)"
   ]
  },
  {
   "cell_type": "code",
   "execution_count": 107,
   "metadata": {},
   "outputs": [
    {
     "data": {
      "text/html": [
       "<div>\n",
       "<style scoped>\n",
       "    .dataframe tbody tr th:only-of-type {\n",
       "        vertical-align: middle;\n",
       "    }\n",
       "\n",
       "    .dataframe tbody tr th {\n",
       "        vertical-align: top;\n",
       "    }\n",
       "\n",
       "    .dataframe thead th {\n",
       "        text-align: right;\n",
       "    }\n",
       "</style>\n",
       "<table border=\"1\" class=\"dataframe\">\n",
       "  <thead>\n",
       "    <tr style=\"text-align: right;\">\n",
       "      <th>attack_type</th>\n",
       "      <th>model_name</th>\n",
       "      <th>none(eps=nan)</th>\n",
       "      <th>FGM_inf(eps=0.3)</th>\n",
       "      <th>FGM_L2(eps=2.0)</th>\n",
       "      <th>CW(eps=nan)</th>\n",
       "      <th>BIM(eps=0.3)</th>\n",
       "    </tr>\n",
       "  </thead>\n",
       "  <tbody>\n",
       "    <tr>\n",
       "      <td>7</td>\n",
       "      <td>Baseline</td>\n",
       "      <td>0.75&lt;</td>\n",
       "      <td>0.08&lt;</td>\n",
       "      <td>0.42&lt;</td>\n",
       "      <td>0.00&lt;</td>\n",
       "      <td>0.01&lt;</td>\n",
       "    </tr>\n",
       "    <tr>\n",
       "      <td>6</td>\n",
       "      <td>+ ReLog</td>\n",
       "      <td>0.74*</td>\n",
       "      <td>0.17*</td>\n",
       "      <td>0.44*</td>\n",
       "      <td>0.03*</td>\n",
       "      <td>0.01&lt;</td>\n",
       "    </tr>\n",
       "    <tr>\n",
       "      <td>0</td>\n",
       "      <td>+ MaxOut (k=4)</td>\n",
       "      <td>0.66*</td>\n",
       "      <td>0.13*</td>\n",
       "      <td>0.34*</td>\n",
       "      <td>0.01*</td>\n",
       "      <td>0.00*</td>\n",
       "    </tr>\n",
       "    <tr>\n",
       "      <td>5</td>\n",
       "      <td>+ MinOut (k=2)</td>\n",
       "      <td>0.72*</td>\n",
       "      <td>0.21*</td>\n",
       "      <td>0.38*</td>\n",
       "      <td>0.03*</td>\n",
       "      <td>0.01*</td>\n",
       "    </tr>\n",
       "    <tr>\n",
       "      <td>4</td>\n",
       "      <td>+ Elliptical</td>\n",
       "      <td>0.75*</td>\n",
       "      <td>0.18*</td>\n",
       "      <td>0.42*</td>\n",
       "      <td>0.04*</td>\n",
       "      <td>0.01*</td>\n",
       "    </tr>\n",
       "    <tr>\n",
       "      <td>3</td>\n",
       "      <td>+ MaxFit (L1)</td>\n",
       "      <td>0.77*</td>\n",
       "      <td>0.20*</td>\n",
       "      <td>0.45*</td>\n",
       "      <td>0.05*</td>\n",
       "      <td>0.02*</td>\n",
       "    </tr>\n",
       "    <tr>\n",
       "      <td>2</td>\n",
       "      <td>+ MSE training</td>\n",
       "      <td>0.68*</td>\n",
       "      <td>0.15*</td>\n",
       "      <td>0.36*</td>\n",
       "      <td>0.04*</td>\n",
       "      <td>0.01*</td>\n",
       "    </tr>\n",
       "    <tr>\n",
       "      <td>1</td>\n",
       "      <td>+ Negative examples</td>\n",
       "      <td>0.43*</td>\n",
       "      <td>0.14*</td>\n",
       "      <td>0.21*</td>\n",
       "      <td>0.04&lt;</td>\n",
       "      <td>0.01&lt;</td>\n",
       "    </tr>\n",
       "  </tbody>\n",
       "</table>\n",
       "</div>"
      ],
      "text/plain": [
       "attack_type           model_name none(eps=nan) FGM_inf(eps=0.3)  \\\n",
       "7                       Baseline         0.75<            0.08<   \n",
       "6                        + ReLog         0.74*            0.17*   \n",
       "0                 + MaxOut (k=4)         0.66*            0.13*   \n",
       "5                 + MinOut (k=2)         0.72*            0.21*   \n",
       "4                   + Elliptical         0.75*            0.18*   \n",
       "3                  + MaxFit (L1)         0.77*            0.20*   \n",
       "2                 + MSE training         0.68*            0.15*   \n",
       "1            + Negative examples         0.43*            0.14*   \n",
       "\n",
       "attack_type FGM_L2(eps=2.0) CW(eps=nan) BIM(eps=0.3)  \n",
       "7                     0.42<       0.00<        0.01<  \n",
       "6                     0.44*       0.03*        0.01<  \n",
       "0                     0.34*       0.01*        0.00*  \n",
       "5                     0.38*       0.03*        0.01*  \n",
       "4                     0.42*       0.04*        0.01*  \n",
       "3                     0.45*       0.05*        0.02*  \n",
       "2                     0.36*       0.04*        0.01*  \n",
       "1                     0.21*       0.04<        0.01<  "
      ]
     },
     "execution_count": 107,
     "metadata": {},
     "output_type": "execute_result"
    }
   ],
   "source": [
    "ablation_table"
   ]
  },
  {
   "cell_type": "code",
   "execution_count": 108,
   "metadata": {},
   "outputs": [
    {
     "name": "stdout",
     "output_type": "stream",
     "text": [
      "\\begin{tabular}{lllllll}\n",
      "\\toprule\n",
      "attack\\_type &           model\\_name & none(eps=nan) & FGM\\_inf(eps=0.3) & FGM\\_L2(eps=2.0) & CW(eps=nan) & BIM(eps=0.3) \\\\\n",
      "\\midrule\n",
      "7 &             Baseline &         0.75\\hspace{0.5em} &            0.08\\hspace{0.5em} &           0.42\\hspace{0.5em} &       0.00\\hspace{0.5em} &        0.01\\hspace{0.5em} \\\\\n",
      "6 &              + ReLog &         0.74$^*$ &            0.17$^*$ &           0.44$^*$ &       0.03$^*$ &        0.01\\hspace{0.5em} \\\\\n",
      "0 &       + MaxOut (k=4) &         0.66$^*$ &            0.13$^*$ &           0.34$^*$ &       0.01$^*$ &        0.00$^*$ \\\\\n",
      "5 &       + MinOut (k=2) &         0.72$^*$ &            0.21$^*$ &           0.38$^*$ &       0.03$^*$ &        0.01$^*$ \\\\\n",
      "4 &         + Elliptical &         0.75$^*$ &            0.18$^*$ &           0.42$^*$ &       0.04$^*$ &        0.01$^*$ \\\\\n",
      "3 &        + MaxFit (L1) &         0.77$^*$ &            0.20$^*$ &           0.45$^*$ &       0.05$^*$ &        0.02$^*$ \\\\\n",
      "2 &       + MSE training &         0.68$^*$ &            0.15$^*$ &           0.36$^*$ &       0.04$^*$ &        0.01$^*$ \\\\\n",
      "1 &  + Negative examples &         0.43$^*$ &            0.14$^*$ &           0.21$^*$ &       0.04\\hspace{0.5em} &        0.01\\hspace{0.5em} \\\\\n",
      "\\bottomrule\n",
      "\\end{tabular}\n",
      "\n"
     ]
    }
   ],
   "source": [
    "print(latex)"
   ]
  },
  {
   "cell_type": "code",
   "execution_count": null,
   "metadata": {},
   "outputs": [],
   "source": []
  },
  {
   "cell_type": "code",
   "execution_count": null,
   "metadata": {},
   "outputs": [],
   "source": []
  }
 ],
 "metadata": {
  "kernelspec": {
   "display_name": "conda-env-newlogic-py",
   "language": "python",
   "name": "conda-env-newlogic-py"
  },
  "language_info": {
   "codemirror_mode": {
    "name": "ipython",
    "version": 3
   },
   "file_extension": ".py",
   "mimetype": "text/x-python",
   "name": "python",
   "nbconvert_exporter": "python",
   "pygments_lexer": "ipython3",
   "version": "3.6.9"
  }
 },
 "nbformat": 4,
 "nbformat_minor": 4
}
