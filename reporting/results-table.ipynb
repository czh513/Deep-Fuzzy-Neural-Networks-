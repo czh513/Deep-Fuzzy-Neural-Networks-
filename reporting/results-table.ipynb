{
 "cells": [
  {
   "cell_type": "code",
   "execution_count": 1,
   "metadata": {},
   "outputs": [],
   "source": [
    "mnist_results_paths = ['../output/ablation-mnist-results.json',\n",
    "                       '../output/ablation-mnist-results2.json',\n",
    "                       '../output/ablation-mnist-results3.json',\n",
    "                       '../output/ablation-mnist-results-spsa.json']\n",
    "cifar10_results_paths = ['../output/ablation-cifar10-results.json',\n",
    "                         '../output/ablation-cifar10-results2.json']"
   ]
  },
  {
   "cell_type": "code",
   "execution_count": 2,
   "metadata": {},
   "outputs": [],
   "source": [
    "import pandas as pd\n",
    "import numpy as np\n",
    "from collections import OrderedDict\n",
    "import re\n",
    "import os\n",
    "from scipy import stats"
   ]
  },
  {
   "cell_type": "code",
   "execution_count": 3,
   "metadata": {},
   "outputs": [],
   "source": [
    "import json\n",
    "\n",
    "def read_json(path):\n",
    "    rows = []\n",
    "    with open(path) as f:\n",
    "        for line in f:\n",
    "            if line.strip():\n",
    "                row = json.loads(line[:-1])\n",
    "                rows.append(row)\n",
    "    df = pd.DataFrame(rows)\n",
    "    df = df.drop_duplicates(['model_path', 'attack_type', 'eps'], keep='last')\n",
    "    return df\n",
    "\n",
    "def read_jsons(paths):\n",
    "    dfs = [read_json(path) for path in paths]\n",
    "    return pd.concat(dfs, sort=False).reset_index()"
   ]
  },
  {
   "cell_type": "code",
   "execution_count": 4,
   "metadata": {},
   "outputs": [],
   "source": [
    "def process(df):\n",
    "    df['attack_type'] = df.apply(\n",
    "        lambda r: ('%s(eps=%.1f)' % (r['attack_type'], r['eps'])\n",
    "                   if 'eps' in r else r['attack_type']), axis=1)\n",
    "    df['model_name'] = df.model_path.apply(os.path.basename)\n",
    "    counts = df.groupby(['model_name', 'attack_type']).agg({'accuracies': len})\n",
    "    duplicates = counts[counts.accuracies >= 2]\n",
    "    if len(duplicates) > 0:\n",
    "        print(duplicates.reset_index().values)\n",
    "    assert len(duplicates) == 0, 'Please remove duplicates'\n",
    "    return df"
   ]
  },
  {
   "cell_type": "markdown",
   "metadata": {},
   "source": [
    "# MNIST results"
   ]
  },
  {
   "cell_type": "code",
   "execution_count": 5,
   "metadata": {},
   "outputs": [],
   "source": [
    "results = process(read_jsons(mnist_results_paths))"
   ]
  },
  {
   "cell_type": "code",
   "execution_count": 6,
   "metadata": {},
   "outputs": [
    {
     "data": {
      "text/html": [
       "<div>\n",
       "<style scoped>\n",
       "    .dataframe tbody tr th:only-of-type {\n",
       "        vertical-align: middle;\n",
       "    }\n",
       "\n",
       "    .dataframe tbody tr th {\n",
       "        vertical-align: top;\n",
       "    }\n",
       "\n",
       "    .dataframe thead th {\n",
       "        text-align: right;\n",
       "    }\n",
       "</style>\n",
       "<table border=\"1\" class=\"dataframe\">\n",
       "  <thead>\n",
       "    <tr style=\"text-align: right;\">\n",
       "      <th></th>\n",
       "      <th>attack_type</th>\n",
       "    </tr>\n",
       "    <tr>\n",
       "      <th>model_path</th>\n",
       "      <th></th>\n",
       "    </tr>\n",
       "  </thead>\n",
       "  <tbody>\n",
       "    <tr>\n",
       "      <td>/nfs/home2/minhle/newlogic/output/ablation-mnist-models/relog-elliptical-maxout_4-max_fit_l1_1.pkl</td>\n",
       "      <td>6</td>\n",
       "    </tr>\n",
       "    <tr>\n",
       "      <td>/nfs/home2/minhle/newlogic/output/ablation-mnist-models/relog-elliptical-maxout_4-sigmoid_out-max_fit_l1_1-overlay.pkl</td>\n",
       "      <td>6</td>\n",
       "    </tr>\n",
       "    <tr>\n",
       "      <td>/nfs/home2/minhle/newlogic/output/ablation-mnist-models/relog-elliptical-maxout_4-sigmoid_out-max_fit_l1_1-scrambling.pkl</td>\n",
       "      <td>6</td>\n",
       "    </tr>\n",
       "    <tr>\n",
       "      <td>/nfs/home2/minhle/newlogic/output/ablation-mnist-models/relog-elliptical-maxout_4-sigmoid_out-max_fit_l1_1.pkl</td>\n",
       "      <td>6</td>\n",
       "    </tr>\n",
       "    <tr>\n",
       "      <td>/nfs/home2/minhle/newlogic/output/ablation-mnist-models/relog-elliptical-maxout_4.pkl</td>\n",
       "      <td>6</td>\n",
       "    </tr>\n",
       "    <tr>\n",
       "      <td>/nfs/home2/minhle/newlogic/output/ablation-mnist-models/relog-maxout_4.pkl</td>\n",
       "      <td>6</td>\n",
       "    </tr>\n",
       "    <tr>\n",
       "      <td>/nfs/home2/minhle/newlogic/output/ablation-mnist-models/relog-minmaxout_2_4.pkl</td>\n",
       "      <td>6</td>\n",
       "    </tr>\n",
       "    <tr>\n",
       "      <td>/nfs/home2/minhle/newlogic/output/ablation-mnist-models/relog.pkl</td>\n",
       "      <td>6</td>\n",
       "    </tr>\n",
       "    <tr>\n",
       "      <td>/nfs/home2/minhle/newlogic/output/ablation-mnist-models/relu.pkl</td>\n",
       "      <td>6</td>\n",
       "    </tr>\n",
       "  </tbody>\n",
       "</table>\n",
       "</div>"
      ],
      "text/plain": [
       "                                                    attack_type\n",
       "model_path                                                     \n",
       "/nfs/home2/minhle/newlogic/output/ablation-mnis...            6\n",
       "/nfs/home2/minhle/newlogic/output/ablation-mnis...            6\n",
       "/nfs/home2/minhle/newlogic/output/ablation-mnis...            6\n",
       "/nfs/home2/minhle/newlogic/output/ablation-mnis...            6\n",
       "/nfs/home2/minhle/newlogic/output/ablation-mnis...            6\n",
       "/nfs/home2/minhle/newlogic/output/ablation-mnis...            6\n",
       "/nfs/home2/minhle/newlogic/output/ablation-mnis...            6\n",
       "/nfs/home2/minhle/newlogic/output/ablation-mnis...            6\n",
       "/nfs/home2/minhle/newlogic/output/ablation-mnis...            6"
      ]
     },
     "execution_count": 6,
     "metadata": {},
     "output_type": "execute_result"
    }
   ],
   "source": [
    "results.groupby('model_path').agg({'attack_type': len})"
   ]
  },
  {
   "cell_type": "code",
   "execution_count": 88,
   "metadata": {},
   "outputs": [],
   "source": [
    "def compute_accuracy_and_ttest(col):\n",
    "    if col.name in ('index', 'model_name'):\n",
    "        return list(col)\n",
    "    formatted_accuracies = []\n",
    "    for prev, curr in zip([None] + list(col), list(col)):\n",
    "        if isinstance(curr, (str, float)):\n",
    "            formatted_accuracies.append(curr)\n",
    "        elif isinstance(curr, list):\n",
    "            curr = np.around(curr, 2)\n",
    "            acc = np.mean(curr)\n",
    "            acc = '%.2f' % acc\n",
    "            if isinstance(prev, list):\n",
    "                prev = np.around(prev, 2)\n",
    "                _, p_value = stats.ttest_ind(prev, curr, equal_var = False)\n",
    "                if p_value < 0.05:\n",
    "                    acc += '*'\n",
    "            formatted_accuracies.append(acc)\n",
    "        else:\n",
    "            raise ValueError(\"Unsupported type: \" + str(curr))\n",
    "    return pd.Series(formatted_accuracies)"
   ]
  },
  {
   "cell_type": "code",
   "execution_count": 100,
   "metadata": {},
   "outputs": [],
   "source": [
    "def format_metrics(df, formated_names, model_order, attack_order, values_col):\n",
    "    # filtering\n",
    "    df = df[df.model_name.isin(formated_names) &\n",
    "            df.attack_type.isin(attack_order)].copy()\n",
    "    # convert to wide format\n",
    "    df = df.pivot(index='model_name', values=values_col, columns='attack_type')\n",
    "    # change column order\n",
    "    df = (df.reindex(sorted(df.columns, key=attack_order.__getitem__), axis=1)\n",
    "          .reset_index().fillna('-'))\n",
    "    df['model_order'] = df.model_name.apply(model_order.__getitem__)\n",
    "    df = df.sort_values(['model_order']).drop(columns='model_order')\n",
    "    # compute mean accuracy and p-values\n",
    "    df = df.apply(compute_accuracy_and_ttest)\n",
    "    # format model names last\n",
    "    df['model_name'] = df.model_name.apply(formatted_names.__getitem__)    \n",
    "    return df\n",
    "\n",
    "def format_table(df, formated_names, model_order, attack_order):\n",
    "    accuracies_table = format_metrics(results, formatted_names, model_order, attack_order, values_col='accuracies')\n",
    "    max_probs_table = format_metrics(results, formatted_names, model_order, attack_order, values_col='max_probs')\n",
    "    max_probs = max_probs_table[['model_name', 'MaxConf(eps=0.3)']].rename(columns={'MaxConf(eps=0.3)': 'max_probs'})\n",
    "    df = pd.merge(accuracies_table, max_probs, on='model_name')\n",
    "    df['MaxConf(eps=0.3)'] = df.apply(lambda r: '%s (%s)' % (r['MaxConf(eps=0.3)'], r['max_probs']), axis=1)\n",
    "    df = df.drop(columns='max_probs')\n",
    "    latex = df.to_latex()\n",
    "    latex = latex.replace('*', '$^*$')\n",
    "    return df, latex"
   ]
  },
  {
   "cell_type": "markdown",
   "metadata": {},
   "source": [
    "## Ablation table"
   ]
  },
  {
   "cell_type": "code",
   "execution_count": 101,
   "metadata": {},
   "outputs": [],
   "source": [
    "formatted_names = OrderedDict([\n",
    "    ('relu.pkl', 'Baseline'),\n",
    "    ('relog.pkl', '+ ReLog'), \n",
    "    ('relog-maxout_4.pkl', '+ MaxOut (k=4)'),\n",
    "    ('relog-minmaxout_2_4.pkl', '+ MinOut (k=2)'),\n",
    "    ('relog-elliptical-maxout_4.pkl', '+ Elliptical'),\n",
    "    ('relog-elliptical-maxout_4-max_fit_l1_1.pkl', '+ MaxFit'),  \n",
    "    ('relog-elliptical-maxout_4-sigmoid_out-max_fit_l1_1.pkl', '+ MSE training'),  \n",
    "    ('relog-elliptical-maxout_4-sigmoid_out-max_fit_l1_1-overlay.pkl', '+ Negative examples'),  \n",
    "])\n",
    "model_order = {n: i for i, n in enumerate(formatted_names)}"
   ]
  },
  {
   "cell_type": "code",
   "execution_count": 102,
   "metadata": {},
   "outputs": [],
   "source": [
    "used_attacks = ['FGM_inf(eps=0.3)', 'FGM_L2(eps=2.0)', 'CW(eps=nan)',\n",
    "                'BIM(eps=0.3)', 'SPSA(eps=0.3)', 'MaxConf(eps=0.3)']\n",
    "attack_order = {n: i for i, n in enumerate(used_attacks)}"
   ]
  },
  {
   "cell_type": "code",
   "execution_count": 103,
   "metadata": {},
   "outputs": [
    {
     "data": {
      "text/plain": [
       "array(['FGM_inf(eps=0.3)', 'FGM_L2(eps=2.0)', 'CW(eps=nan)',\n",
       "       'BIM(eps=0.3)', 'SPSA(eps=0.3)', 'MaxConf(eps=0.3)'], dtype=object)"
      ]
     },
     "execution_count": 103,
     "metadata": {},
     "output_type": "execute_result"
    }
   ],
   "source": [
    "results.attack_type.unique()"
   ]
  },
  {
   "cell_type": "code",
   "execution_count": 104,
   "metadata": {},
   "outputs": [],
   "source": [
    "ablation_table, latex = format_table(results, formatted_names, model_order, attack_order)"
   ]
  },
  {
   "cell_type": "code",
   "execution_count": 105,
   "metadata": {},
   "outputs": [
    {
     "name": "stdout",
     "output_type": "stream",
     "text": [
      "\\begin{tabular}{llllllll}\n",
      "\\toprule\n",
      "attack\\_type &           model\\_name & FGM\\_inf(eps=0.3) & FGM\\_L2(eps=2.0) & CW(eps=nan) & BIM(eps=0.3) & SPSA(eps=0.3) & MaxConf(eps=0.3) \\\\\n",
      "\\midrule\n",
      "0 &             Baseline &             0.33 &            0.82 &        0.05 &         0.01 &          0.36 &      0.00 (1.00) \\\\\n",
      "1 &              + ReLog &            0.64$^*$ &           0.92$^*$ &       0.42$^*$ &        0.15$^*$ &         0.52$^*$ &    0.04$^*$ (0.95$^*$) \\\\\n",
      "2 &       + MaxOut (k=4) &            0.56$^*$ &           0.89$^*$ &       0.10$^*$ &        0.07$^*$ &          0.52 &    0.02$^*$ (0.97$^*$) \\\\\n",
      "3 &       + MinOut (k=2) &             0.56 &           0.90$^*$ &       0.09$^*$ &        0.12$^*$ &         0.60$^*$ &    0.15$^*$ (0.93$^*$) \\\\\n",
      "4 &         + Elliptical &            0.70$^*$ &           0.89$^*$ &       0.37$^*$ &        0.17$^*$ &         0.56$^*$ &    0.06$^*$ (0.94$^*$) \\\\\n",
      "5 &             + MaxFit &            0.75$^*$ &            0.90 &       0.46$^*$ &        0.32$^*$ &         0.66$^*$ &    0.14$^*$ (0.92$^*$) \\\\\n",
      "6 &       + MSE training &            0.59$^*$ &           0.87$^*$ &       0.90$^*$ &         0.33 &          0.65 &    0.25$^*$ (0.21$^*$) \\\\\n",
      "7 &  + Negative examples &             0.60 &           0.84$^*$ &       0.87$^*$ &         0.33 &          0.68 &    0.12$^*$ (0.21$^*$) \\\\\n",
      "\\bottomrule\n",
      "\\end{tabular}\n",
      "\n"
     ]
    }
   ],
   "source": [
    "print(latex)"
   ]
  },
  {
   "cell_type": "markdown",
   "metadata": {},
   "source": [
    "# CIFAR-10 results"
   ]
  },
  {
   "cell_type": "code",
   "execution_count": 15,
   "metadata": {},
   "outputs": [],
   "source": [
    "cifar10_results = process(read_jsons(cifar10_results_paths))"
   ]
  },
  {
   "cell_type": "code",
   "execution_count": 16,
   "metadata": {},
   "outputs": [
    {
     "data": {
      "text/plain": [
       "array(['/nfs/home2/minhle/newlogic/output/ablation-cifar10-models/relog-maxout_4.pkl',\n",
       "       '/nfs/home2/minhle/newlogic/output/ablation-cifar10-models/relog-minmaxout_2_4.pkl',\n",
       "       '/nfs/home2/minhle/newlogic/output/ablation-cifar10-models2/relog-quadratic-maxout_4.pkl',\n",
       "       '/nfs/home2/minhle/newlogic/output/ablation-cifar10-models2/relog-quadratic-maxout_4-sigmoid_out.pkl'],\n",
       "      dtype=object)"
      ]
     },
     "execution_count": 16,
     "metadata": {},
     "output_type": "execute_result"
    }
   ],
   "source": [
    "cifar10_results.model_path.unique()"
   ]
  },
  {
   "cell_type": "code",
   "execution_count": 17,
   "metadata": {},
   "outputs": [],
   "source": [
    "formatted_names = OrderedDict([\n",
    "    ('relu.pkl', 'Baseline'),\n",
    "    ('relog.pkl', '+ ReLog'), \n",
    "    ('relog-maxout_4.pkl', '+ MaxOut (k=4)'),\n",
    "    ('relog-minmaxout_2_4.pkl', '+ MinOut (k=2)'),\n",
    "    ('relog-quadratic-maxout_4.pkl', '+ Quadratic'),\n",
    "    ('relog-quadratic-maxout_4-sigmoid_out.pkl', '+ MSE training')\n",
    "])\n",
    "model_order = {n: i for i, n in enumerate(formatted_names)}\n"
   ]
  },
  {
   "cell_type": "code",
   "execution_count": 20,
   "metadata": {},
   "outputs": [],
   "source": [
    "ablation_table, latex = format_table(cifar10_results, formatted_names, model_order, attack_order, values_col='accuracies')\n"
   ]
  },
  {
   "cell_type": "code",
   "execution_count": 21,
   "metadata": {},
   "outputs": [
    {
     "name": "stdout",
     "output_type": "stream",
     "text": [
      "\\begin{tabular}{llllll}\n",
      "\\toprule\n",
      "     model\\_name & FGM\\_inf(eps=0.3) & FGM\\_L2(eps=2.0) & CW(eps=nan) & BIM(eps=0.3) & SPSA(eps=0.3) \\\\\n",
      "\\midrule\n",
      " + MaxOut (k=4) &             0.10 &            0.29 &        0.02 &         0.00 &          0.57 \\\\\n",
      " + MinOut (k=2) &            0.09* &            0.30 &       0.01* &         0.00 &             - \\\\\n",
      "    + Quadratic &            0.07* &           0.27* &        0.02 &        0.00* &          0.54 \\\\\n",
      " + MSE training &            0.16* &           0.22* &       0.03* &        0.00* &             - \\\\\n",
      "\\bottomrule\n",
      "\\end{tabular}\n",
      "\n"
     ]
    }
   ],
   "source": [
    "print(latex)\n"
   ]
  },
  {
   "cell_type": "code",
   "execution_count": null,
   "metadata": {},
   "outputs": [],
   "source": []
  }
 ],
 "metadata": {
  "kernelspec": {
   "display_name": "conda-env-newlogic-py",
   "language": "python",
   "name": "conda-env-newlogic-py"
  },
  "language_info": {
   "codemirror_mode": {
    "name": "ipython",
    "version": 3
   },
   "file_extension": ".py",
   "mimetype": "text/x-python",
   "name": "python",
   "nbconvert_exporter": "python",
   "pygments_lexer": "ipython3",
   "version": "3.6.9"
  }
 },
 "nbformat": 4,
 "nbformat_minor": 4
}
