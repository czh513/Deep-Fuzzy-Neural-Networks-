{
 "cells": [
  {
   "cell_type": "code",
   "execution_count": 52,
   "metadata": {},
   "outputs": [],
   "source": [
    "mnist_results_paths = ['../output/natural-mnist-results.json',\n",
    "                       '../output/ablation-mnist-results.json',\n",
    "                       '../output/ablation-mnist-results2.json',\n",
    "                       '../output/ablation-mnist-results-spsa.json'] \n",
    "cifar10_results_paths = ['../output/natural-cifar10-results.json',\n",
    "                         '../output/natural-cifar10-results2.json',\n",
    "                         '../output/ablation-cifar10-results.json',\n",
    "                         '../output/ablation-cifar10-results2.json',\n",
    "                         '../output/natural-cifar10-results4.json',\n",
    "                         '../output/ablation-cifar10-results4.json']"
   ]
  },
  {
   "cell_type": "code",
   "execution_count": 53,
   "metadata": {},
   "outputs": [],
   "source": [
    "import pandas as pd\n",
    "import numpy as np\n",
    "from collections import OrderedDict\n",
    "import re\n",
    "import os\n",
    "from scipy import stats"
   ]
  },
  {
   "cell_type": "code",
   "execution_count": 54,
   "metadata": {},
   "outputs": [],
   "source": [
    "import json\n",
    "\n",
    "def read_json(path):\n",
    "    rows = []\n",
    "    with open(path) as f:\n",
    "        for line in f:\n",
    "            if line.strip():\n",
    "                row = json.loads(line[:-1])\n",
    "                if 'attack' in row:\n",
    "                    row['attack_type'] = row['attack']\n",
    "                    del row['attack']\n",
    "                rows.append(row)\n",
    "    df = pd.DataFrame(rows)\n",
    "    if 'eps' in df.columns:\n",
    "        df = df.drop_duplicates(['model_path', 'attack_type', 'eps'], keep='last')\n",
    "    return df\n",
    "\n",
    "def read_jsons(paths):\n",
    "    dfs = [read_json(path) for path in paths if os.path.exists(path)]\n",
    "    return pd.concat(dfs, sort=False).reset_index()"
   ]
  },
  {
   "cell_type": "code",
   "execution_count": 55,
   "metadata": {},
   "outputs": [],
   "source": [
    "def process(df):\n",
    "    df['attack_type'] = df.apply(\n",
    "        lambda r: ('%s(eps=%.1f)' % (r['attack_type'], r['eps'])\n",
    "                   if 'eps' in r else r['attack_type']), axis=1)\n",
    "    df['model_name'] = df.model_path.apply(os.path.basename)\n",
    "    counts = df.groupby(['model_name', 'attack_type']).agg({'accuracies': len})\n",
    "    duplicates = counts[counts.accuracies >= 2]\n",
    "    if len(duplicates) > 0:\n",
    "        print(duplicates.reset_index().values)\n",
    "    assert len(duplicates) == 0, 'Please remove duplicates'\n",
    "    return df"
   ]
  },
  {
   "cell_type": "markdown",
   "metadata": {},
   "source": [
    "# MNIST results"
   ]
  },
  {
   "cell_type": "code",
   "execution_count": 56,
   "metadata": {},
   "outputs": [],
   "source": [
    "results = process(read_jsons(mnist_results_paths))"
   ]
  },
  {
   "cell_type": "code",
   "execution_count": 57,
   "metadata": {},
   "outputs": [],
   "source": [
    "def compute_accuracy_and_ttest(col):\n",
    "    if col.name in ('index', 'model_name'):\n",
    "        return list(col)\n",
    "    formatted_accuracies = []\n",
    "    for prev, curr in zip([None] + list(col), list(col)):\n",
    "        if isinstance(curr, (str, float)):\n",
    "            formatted_accuracies.append(curr)\n",
    "        elif isinstance(curr, list):\n",
    "            curr = np.around(curr, 2)\n",
    "            acc = np.mean(curr)\n",
    "            acc = '%.2f' % acc\n",
    "            if isinstance(prev, list):\n",
    "                prev = np.around(prev, 2)\n",
    "                _, p_value = stats.ttest_ind(prev, curr, equal_var = False)\n",
    "                acc += '*' if p_value < 0.05 else '<'\n",
    "            else:\n",
    "                acc += '<'\n",
    "            formatted_accuracies.append(acc)\n",
    "        else:\n",
    "            raise ValueError(\"Unsupported type: \" + str(curr))\n",
    "    return pd.Series(formatted_accuracies)"
   ]
  },
  {
   "cell_type": "code",
   "execution_count": 58,
   "metadata": {},
   "outputs": [],
   "source": [
    "def format_metrics(df, formatted_names, model_order, attack_order, values_col):\n",
    "    # filtering\n",
    "    df = df[df.model_name.isin(formatted_names) &\n",
    "            df.attack_type.isin(attack_order)].copy()\n",
    "    # convert to wide format\n",
    "    df = df.pivot(index='model_name', values=values_col, columns='attack_type')\n",
    "    # change column order\n",
    "    df = (df.reindex(sorted(df.columns, key=attack_order.__getitem__), axis=1)\n",
    "          .reset_index().fillna('-'))\n",
    "    df['model_order'] = df.model_name.apply(model_order.__getitem__)\n",
    "    df = df.sort_values(['model_order']).drop(columns='model_order')\n",
    "    # compute mean accuracy and p-values\n",
    "    df = df.apply(compute_accuracy_and_ttest)\n",
    "    # format model names last\n",
    "    df['model_name'] = df.model_name.apply(formatted_names.__getitem__)    \n",
    "    return df\n",
    "\n",
    "def format_table(df, formated_names, model_order, attack_order):\n",
    "    df = format_metrics(df, formatted_names, model_order, attack_order, values_col='accuracies')\n",
    "    latex = df.to_latex()\n",
    "    latex = latex.replace('*', '$^*$')\n",
    "    latex = latex.replace('<', '\\hspace{0.5em}')\n",
    "    return df, latex"
   ]
  },
  {
   "cell_type": "markdown",
   "metadata": {},
   "source": [
    "## Ablation table"
   ]
  },
  {
   "cell_type": "code",
   "execution_count": 59,
   "metadata": {},
   "outputs": [],
   "source": [
    "formatted_names = OrderedDict([\n",
    "    ('relu.pkl', 'Baseline'),\n",
    "    ('relog.pkl', '+ ReLog (beta=1)'), \n",
    "    ('relog-maxout_4.pkl', '+ MaxOut (k=4)'),\n",
    "    ('relog-minmaxout_2_4.pkl', '+ MinOut (k=2)'),\n",
    "    ('relog-elliptical-maxout_4.pkl', '+ Elliptical'),\n",
    "    ('relog-elliptical-maxout_4-max_fit_l1_0001.pkl', '+ MaxFit (L1)'),  \n",
    "    ('relog-elliptical-maxout_4-bce-max_fit_l1.pkl', '+ BCE training'),  \n",
    "    ('relog-elliptical-maxout_4-bce-max_fit_l1-overlay.pkl', '+ Negative examples'),  \n",
    "])\n",
    "model_order = {n: i for i, n in enumerate(formatted_names)}"
   ]
  },
  {
   "cell_type": "code",
   "execution_count": 60,
   "metadata": {},
   "outputs": [],
   "source": [
    "used_attacks = ['none(eps=nan)', # (natural)\n",
    "                'FGM_inf(eps=0.3)', 'FGM_L2(eps=2.0)', 'CW(eps=nan)',\n",
    "                'BIM(eps=0.3)', 'SPSA(eps=0.3)']\n",
    "attack_order = {n: i for i, n in enumerate(used_attacks)}"
   ]
  },
  {
   "cell_type": "code",
   "execution_count": 61,
   "metadata": {},
   "outputs": [
    {
     "data": {
      "text/plain": [
       "array(['none(eps=nan)', 'FGM_inf(eps=0.3)', 'FGM_L2(eps=2.0)',\n",
       "       'CW(eps=nan)', 'BIM(eps=0.3)', 'SPSA(eps=0.3)'], dtype=object)"
      ]
     },
     "execution_count": 61,
     "metadata": {},
     "output_type": "execute_result"
    }
   ],
   "source": [
    "results.attack_type.unique()"
   ]
  },
  {
   "cell_type": "code",
   "execution_count": 62,
   "metadata": {},
   "outputs": [],
   "source": [
    "ablation_table, latex = format_table(results, formatted_names, model_order, attack_order)"
   ]
  },
  {
   "cell_type": "code",
   "execution_count": 63,
   "metadata": {},
   "outputs": [
    {
     "data": {
      "text/html": [
       "<div>\n",
       "<style scoped>\n",
       "    .dataframe tbody tr th:only-of-type {\n",
       "        vertical-align: middle;\n",
       "    }\n",
       "\n",
       "    .dataframe tbody tr th {\n",
       "        vertical-align: top;\n",
       "    }\n",
       "\n",
       "    .dataframe thead th {\n",
       "        text-align: right;\n",
       "    }\n",
       "</style>\n",
       "<table border=\"1\" class=\"dataframe\">\n",
       "  <thead>\n",
       "    <tr style=\"text-align: right;\">\n",
       "      <th>attack_type</th>\n",
       "      <th>model_name</th>\n",
       "      <th>none(eps=nan)</th>\n",
       "      <th>FGM_inf(eps=0.3)</th>\n",
       "      <th>FGM_L2(eps=2.0)</th>\n",
       "      <th>CW(eps=nan)</th>\n",
       "      <th>BIM(eps=0.3)</th>\n",
       "      <th>SPSA(eps=0.3)</th>\n",
       "    </tr>\n",
       "  </thead>\n",
       "  <tbody>\n",
       "    <tr>\n",
       "      <td>6</td>\n",
       "      <td>Baseline</td>\n",
       "      <td>0.99&lt;</td>\n",
       "      <td>0.07&lt;</td>\n",
       "      <td>0.69&lt;</td>\n",
       "      <td>0.01&lt;</td>\n",
       "      <td>0.00&lt;</td>\n",
       "      <td>0.07&lt;</td>\n",
       "    </tr>\n",
       "    <tr>\n",
       "      <td>5</td>\n",
       "      <td>+ ReLog (beta=1)</td>\n",
       "      <td>0.99*</td>\n",
       "      <td>0.30*</td>\n",
       "      <td>0.84*</td>\n",
       "      <td>0.19*</td>\n",
       "      <td>0.01*</td>\n",
       "      <td>0.37*</td>\n",
       "    </tr>\n",
       "    <tr>\n",
       "      <td>3</td>\n",
       "      <td>+ MaxOut (k=4)</td>\n",
       "      <td>0.99*</td>\n",
       "      <td>0.42*</td>\n",
       "      <td>0.86*</td>\n",
       "      <td>0.23*</td>\n",
       "      <td>0.03*</td>\n",
       "      <td>0.44*</td>\n",
       "    </tr>\n",
       "    <tr>\n",
       "      <td>4</td>\n",
       "      <td>+ MinOut (k=2)</td>\n",
       "      <td>0.99&lt;</td>\n",
       "      <td>-</td>\n",
       "      <td>-</td>\n",
       "      <td>-</td>\n",
       "      <td>-</td>\n",
       "      <td>0.52*</td>\n",
       "    </tr>\n",
       "    <tr>\n",
       "      <td>2</td>\n",
       "      <td>+ Elliptical</td>\n",
       "      <td>0.93*</td>\n",
       "      <td>0.58&lt;</td>\n",
       "      <td>0.57&lt;</td>\n",
       "      <td>0.47&lt;</td>\n",
       "      <td>0.02&lt;</td>\n",
       "      <td>0.22*</td>\n",
       "    </tr>\n",
       "    <tr>\n",
       "      <td>1</td>\n",
       "      <td>+ BCE training</td>\n",
       "      <td>0.98*</td>\n",
       "      <td>0.56*</td>\n",
       "      <td>0.83*</td>\n",
       "      <td>0.26*</td>\n",
       "      <td>0.16*</td>\n",
       "      <td>0.42*</td>\n",
       "    </tr>\n",
       "    <tr>\n",
       "      <td>0</td>\n",
       "      <td>+ Negative examples</td>\n",
       "      <td>0.96*</td>\n",
       "      <td>0.24*</td>\n",
       "      <td>0.66*</td>\n",
       "      <td>0.12*</td>\n",
       "      <td>0.00*</td>\n",
       "      <td>0.14*</td>\n",
       "    </tr>\n",
       "  </tbody>\n",
       "</table>\n",
       "</div>"
      ],
      "text/plain": [
       "attack_type           model_name none(eps=nan) FGM_inf(eps=0.3)  \\\n",
       "6                       Baseline         0.99<            0.07<   \n",
       "5               + ReLog (beta=1)         0.99*            0.30*   \n",
       "3                 + MaxOut (k=4)         0.99*            0.42*   \n",
       "4                 + MinOut (k=2)         0.99<                -   \n",
       "2                   + Elliptical         0.93*            0.58<   \n",
       "1                 + BCE training         0.98*            0.56*   \n",
       "0            + Negative examples         0.96*            0.24*   \n",
       "\n",
       "attack_type FGM_L2(eps=2.0) CW(eps=nan) BIM(eps=0.3) SPSA(eps=0.3)  \n",
       "6                     0.69<       0.01<        0.00<         0.07<  \n",
       "5                     0.84*       0.19*        0.01*         0.37*  \n",
       "3                     0.86*       0.23*        0.03*         0.44*  \n",
       "4                         -           -            -         0.52*  \n",
       "2                     0.57<       0.47<        0.02<         0.22*  \n",
       "1                     0.83*       0.26*        0.16*         0.42*  \n",
       "0                     0.66*       0.12*        0.00*         0.14*  "
      ]
     },
     "execution_count": 63,
     "metadata": {},
     "output_type": "execute_result"
    }
   ],
   "source": [
    "ablation_table"
   ]
  },
  {
   "cell_type": "code",
   "execution_count": 19,
   "metadata": {},
   "outputs": [
    {
     "name": "stdout",
     "output_type": "stream",
     "text": [
      "\\begin{tabular}{llllllll}\n",
      "\\toprule\n",
      "attack\\_type &           model\\_name & none(eps=nan) & FGM\\_inf(eps=0.3) & FGM\\_L2(eps=2.0) & CW(eps=nan) & BIM(eps=0.3) & SPSA(eps=0.3) \\\\\n",
      "\\midrule\n",
      "6 &             Baseline &         0.99\\hspace{0.5em} &            0.07\\hspace{0.5em} &           0.69\\hspace{0.5em} &       0.01\\hspace{0.5em} &        0.00\\hspace{0.5em} &         0.07\\hspace{0.5em} \\\\\n",
      "5 &     + ReLog (beta=1) &         0.99$^*$ &            0.30$^*$ &           0.84$^*$ &       0.19$^*$ &        0.01$^*$ &         0.37$^*$ \\\\\n",
      "3 &       + MaxOut (k=4) &         0.99$^*$ &            0.42$^*$ &           0.86$^*$ &       0.23$^*$ &        0.03$^*$ &         0.44$^*$ \\\\\n",
      "4 &       + MinOut (k=2) &         0.99\\hspace{0.5em} &            0.67$^*$ &           0.91$^*$ &       0.31$^*$ &        0.16$^*$ &         0.52$^*$ \\\\\n",
      "2 &         + Elliptical &         0.93$^*$ &            0.58$^*$ &           0.57$^*$ &       0.47$^*$ &        0.02$^*$ &         0.22$^*$ \\\\\n",
      "1 &       + BCE training &         0.98$^*$ &            0.56$^*$ &           0.83$^*$ &       0.26$^*$ &        0.16$^*$ &         0.42$^*$ \\\\\n",
      "0 &  + Negative examples &         0.96$^*$ &            0.24$^*$ &           0.66$^*$ &       0.12$^*$ &        0.00$^*$ &         0.14$^*$ \\\\\n",
      "\\bottomrule\n",
      "\\end{tabular}\n",
      "\n"
     ]
    }
   ],
   "source": [
    "print(latex)"
   ]
  },
  {
   "cell_type": "markdown",
   "metadata": {},
   "source": [
    "## Check a few entries"
   ]
  },
  {
   "cell_type": "code",
   "execution_count": 20,
   "metadata": {},
   "outputs": [],
   "source": [
    "def print_mean_acc(attack, model):\n",
    "    row = results[(results.attack_type == attack) & (results.model_name == model)]\n",
    "    print(np.mean(row.accuracies.iloc[0]))"
   ]
  },
  {
   "cell_type": "code",
   "execution_count": 24,
   "metadata": {},
   "outputs": [
    {
     "name": "stdout",
     "output_type": "stream",
     "text": [
      "0.6648000000000001\n"
     ]
    }
   ],
   "source": [
    "print_mean_acc('FGM_L2(eps=2.0)', 'relog-elliptical-maxout_4-bce-max_fit_l1-overlay.pkl')"
   ]
  },
  {
   "cell_type": "code",
   "execution_count": 22,
   "metadata": {},
   "outputs": [
    {
     "name": "stdout",
     "output_type": "stream",
     "text": [
      "0.0242\n"
     ]
    }
   ],
   "source": [
    "print_mean_acc('BIM(eps=0.3)', 'relog-elliptical-maxout_4-max_fit_l1.pkl')"
   ]
  },
  {
   "cell_type": "code",
   "execution_count": 23,
   "metadata": {},
   "outputs": [
    {
     "name": "stdout",
     "output_type": "stream",
     "text": [
      "0.07\n"
     ]
    }
   ],
   "source": [
    "print_mean_acc('SPSA(eps=0.3)', 'relu.pkl')"
   ]
  },
  {
   "cell_type": "markdown",
   "metadata": {},
   "source": [
    "# CIFAR-10 results"
   ]
  },
  {
   "cell_type": "code",
   "execution_count": 41,
   "metadata": {},
   "outputs": [],
   "source": [
    "cifar10_results = process(read_jsons(cifar10_results_paths))"
   ]
  },
  {
   "cell_type": "code",
   "execution_count": 42,
   "metadata": {},
   "outputs": [
    {
     "data": {
      "text/plain": [
       "array(['FGM_L2(eps=2.0)', 'FGM_inf(eps=0.3)', 'BIM(eps=0.3)',\n",
       "       'CW(eps=nan)'], dtype=object)"
      ]
     },
     "execution_count": 42,
     "metadata": {},
     "output_type": "execute_result"
    }
   ],
   "source": [
    "cifar10_results.attack_type.unique()"
   ]
  },
  {
   "cell_type": "code",
   "execution_count": 43,
   "metadata": {},
   "outputs": [
    {
     "data": {
      "text/plain": [
       "array(['relog.pkl', 'relu.pkl'], dtype=object)"
      ]
     },
     "execution_count": 43,
     "metadata": {},
     "output_type": "execute_result"
    }
   ],
   "source": [
    "cifar10_results.model_name.unique()"
   ]
  },
  {
   "cell_type": "code",
   "execution_count": 44,
   "metadata": {},
   "outputs": [],
   "source": [
    "formatted_names = OrderedDict([\n",
    "    ('relu.pkl', 'Baseline'),\n",
    "    ('relog.pkl', '+ ReLog'), \n",
    "    ('relog-maxout.pkl', '+ MaxOut (k=4)'),\n",
    "    ('relog-minmaxout.pkl', '+ MinOut (k=2)'),\n",
    "    ('relog-maxout-elliptical.pkl', '+ Elliptical'),\n",
    "    ('relog-maxout-elliptical-maxfit.pkl', '+ MaxFit (L1)'),\n",
    "    ('relog-maxout-elliptical-maxfit-bce.pkl', '+ MSE training'),\n",
    "    ('relog-maxout-elliptical-maxfit-bce-overlay.pkl', '+ Negative examples')\n",
    "])\n",
    "model_order = {n: i for i, n in enumerate(formatted_names)}"
   ]
  },
  {
   "cell_type": "code",
   "execution_count": 45,
   "metadata": {},
   "outputs": [],
   "source": [
    "used_attacks = ['none(eps=nan)', # (natural)\n",
    "                'FGM_inf(eps=0.3)', 'FGM_L2(eps=2.0)', 'CW(eps=nan)',\n",
    "                'BIM(eps=0.3)']\n",
    "attack_order = {n: i for i, n in enumerate(used_attacks)}"
   ]
  },
  {
   "cell_type": "code",
   "execution_count": 46,
   "metadata": {},
   "outputs": [],
   "source": [
    "ablation_table, latex = format_table(cifar10_results, formatted_names, model_order, attack_order)"
   ]
  },
  {
   "cell_type": "code",
   "execution_count": 47,
   "metadata": {},
   "outputs": [
    {
     "data": {
      "text/html": [
       "<div>\n",
       "<style scoped>\n",
       "    .dataframe tbody tr th:only-of-type {\n",
       "        vertical-align: middle;\n",
       "    }\n",
       "\n",
       "    .dataframe tbody tr th {\n",
       "        vertical-align: top;\n",
       "    }\n",
       "\n",
       "    .dataframe thead th {\n",
       "        text-align: right;\n",
       "    }\n",
       "</style>\n",
       "<table border=\"1\" class=\"dataframe\">\n",
       "  <thead>\n",
       "    <tr style=\"text-align: right;\">\n",
       "      <th>attack_type</th>\n",
       "      <th>model_name</th>\n",
       "      <th>FGM_inf(eps=0.3)</th>\n",
       "      <th>FGM_L2(eps=2.0)</th>\n",
       "      <th>CW(eps=nan)</th>\n",
       "      <th>BIM(eps=0.3)</th>\n",
       "    </tr>\n",
       "  </thead>\n",
       "  <tbody>\n",
       "    <tr>\n",
       "      <td>1</td>\n",
       "      <td>Baseline</td>\n",
       "      <td>0.08&lt;</td>\n",
       "      <td>0.43&lt;</td>\n",
       "      <td>0.01&lt;</td>\n",
       "      <td>0.01&lt;</td>\n",
       "    </tr>\n",
       "    <tr>\n",
       "      <td>0</td>\n",
       "      <td>+ ReLog</td>\n",
       "      <td>0.16*</td>\n",
       "      <td>0.45&lt;</td>\n",
       "      <td>0.03*</td>\n",
       "      <td>0.01&lt;</td>\n",
       "    </tr>\n",
       "  </tbody>\n",
       "</table>\n",
       "</div>"
      ],
      "text/plain": [
       "attack_type model_name FGM_inf(eps=0.3) FGM_L2(eps=2.0) CW(eps=nan)  \\\n",
       "1             Baseline            0.08<           0.43<       0.01<   \n",
       "0              + ReLog            0.16*           0.45<       0.03*   \n",
       "\n",
       "attack_type BIM(eps=0.3)  \n",
       "1                  0.01<  \n",
       "0                  0.01<  "
      ]
     },
     "execution_count": 47,
     "metadata": {},
     "output_type": "execute_result"
    }
   ],
   "source": [
    "ablation_table"
   ]
  },
  {
   "cell_type": "code",
   "execution_count": 48,
   "metadata": {},
   "outputs": [
    {
     "name": "stdout",
     "output_type": "stream",
     "text": [
      "\\begin{tabular}{llllll}\n",
      "\\toprule\n",
      "attack\\_type & model\\_name & FGM\\_inf(eps=0.3) & FGM\\_L2(eps=2.0) & CW(eps=nan) & BIM(eps=0.3) \\\\\n",
      "\\midrule\n",
      "1 &   Baseline &            0.08\\hspace{0.5em} &           0.43\\hspace{0.5em} &       0.01\\hspace{0.5em} &        0.01\\hspace{0.5em} \\\\\n",
      "0 &    + ReLog &            0.16$^*$ &           0.45\\hspace{0.5em} &       0.03$^*$ &        0.01\\hspace{0.5em} \\\\\n",
      "\\bottomrule\n",
      "\\end{tabular}\n",
      "\n"
     ]
    }
   ],
   "source": [
    "print(latex)"
   ]
  }
 ],
 "metadata": {
  "kernelspec": {
   "display_name": "conda-env-newlogic-py",
   "language": "python",
   "name": "conda-env-newlogic-py"
  },
  "language_info": {
   "codemirror_mode": {
    "name": "ipython",
    "version": 3
   },
   "file_extension": ".py",
   "mimetype": "text/x-python",
   "name": "python",
   "nbconvert_exporter": "python",
   "pygments_lexer": "ipython3",
   "version": "3.6.9"
  }
 },
 "nbformat": 4,
 "nbformat_minor": 4
}
