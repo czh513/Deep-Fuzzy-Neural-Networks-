{
 "cells": [
  {
   "cell_type": "code",
   "execution_count": 1,
   "metadata": {
    "colab": {},
    "colab_type": "code",
    "id": "4qGii2OM3-i8"
   },
   "outputs": [],
   "source": [
    "%matplotlib inline\n",
    "import numpy as np\n",
    "from matplotlib import pyplot as plt\n",
    "from torch import nn\n",
    "import torch\n",
    "import seaborn as sns\n",
    "from torch import optim\n",
    "import torch.nn.functional as F"
   ]
  },
  {
   "cell_type": "code",
   "execution_count": 2,
   "metadata": {
    "colab": {
     "base_uri": "https://localhost:8080/",
     "height": 269
    },
    "colab_type": "code",
    "id": "tQcJgqWB4J2L",
    "outputId": "6c5f822a-0c0b-4e80-b5aa-7d312b57c49c"
   },
   "outputs": [
    {
     "data": {
      "image/png": "[encoded data removed]",
      "text/plain": [
       "<Figure size 288x288 with 1 Axes>"
      ]
     },
     "metadata": {
      "needs_background": "light"
     },
     "output_type": "display_data"
    }
   ],
   "source": [
    "data_x_pos = np.random.multivariate_normal([0.8, 0.7], [[0.001, 0], [0, 0.003]], 10)\n",
    "data_x_neg = np.random.multivariate_normal([0.2, 0.3], [[0.001, 0], [0, 0.003]], 10)\n",
    "data_y_pos = np.ones(10)\n",
    "data_y_neg = np.zeros(10)\n",
    "data_x = np.vstack([data_x_pos, data_x_neg])\n",
    "data_y = np.hstack([data_y_pos, data_y_neg])\n",
    "fig, ax = plt.subplots(figsize=(4, 4))\n",
    "plt.scatter(data_x_pos[:,0], data_x_pos[:,1], label='positive')\n",
    "plt.scatter(data_x_neg[:,0], data_x_neg[:,1], label='negative')\n",
    "ax.legend(loc='lower right')\n",
    "ax.set_xlim((0,1))\n",
    "ax.set_ylim((0,1))\n",
    "\n",
    "data_x = torch.from_numpy(data_x).float()\n",
    "data_y = torch.from_numpy(data_y).float()"
   ]
  },
  {
   "cell_type": "code",
   "execution_count": 3,
   "metadata": {},
   "outputs": [],
   "source": [
    "# data_x = np.random.multivariate_normal([0.8, 0.7], [[0.001, 0], [0, 0.003]], 10)\n",
    "# data_y = np.ones(10)\n",
    "# fig, ax = plt.subplots(figsize=(4, 4))\n",
    "# ax.scatter(data_x[:,0], data_x[:,1])\n",
    "# ax.set_xlim((0,1))\n",
    "# ax.set_ylim((0,1))\n",
    "# data_x = torch.from_numpy(data_x).float()\n",
    "# data_y = torch.from_numpy(data_y).float()"
   ]
  },
  {
   "cell_type": "code",
   "execution_count": 9,
   "metadata": {
    "colab": {},
    "colab_type": "code",
    "id": "riW4-43aAaca"
   },
   "outputs": [
    {
     "name": "stdout",
     "output_type": "stream",
     "text": [
      "Weight: Parameter containing:\n",
      "tensor([[3.4118, 1.6945, 1.3155, 0.3677]], requires_grad=True)\n",
      "Bias: Parameter containing:\n",
      "tensor([-3.2742], requires_grad=True)\n"
     ]
    },
    {
     "data": {
      "image/png": "[encoded data removed]",
      "text/plain": [
       "<Figure size 288x288 with 1 Axes>"
      ]
     },
     "metadata": {
      "needs_background": "light"
     },
     "output_type": "display_data"
    }
   ],
   "source": [
    "class QuadraticKernel(nn.Module):\n",
    "\n",
    "  def forward(self, input):\n",
    "    return torch.cat([input, input*input], dim=1)\n",
    "\n",
    "class ReLog(nn.Module):\n",
    "\n",
    "  def forward(self, input):\n",
    "    return torch.log(F.relu(input) + 1)\n",
    "\n",
    "def plot_model(model):\n",
    "  val_x = np.linspace(0, 1, 100)\n",
    "  val_y = np.linspace(0, 1, 100)\n",
    "  val_x, val_y = np.meshgrid(val_x, val_y)\n",
    "  input = np.stack([val_x.flatten(), val_y.flatten()], axis=-1)\n",
    "  val_z = model(torch.from_numpy(input).float()).detach().numpy().reshape(val_x.shape)\n",
    "  fig, ax = plt.subplots(figsize=(4, 4))\n",
    "  ax.contourf(val_x, val_y, val_z, 10, cmap=plt.cm.bone, origin='lower')\n",
    "\n",
    "def demo_model(regularization=lambda m: 0, use_quadratic_kernel=False, n_epochs=100, lr=0.1):\n",
    "  if use_quadratic_kernel:\n",
    "    model = nn.Sequential(\n",
    "        QuadraticKernel(),\n",
    "        nn.Linear(4, 1),\n",
    "        nn.ReLU(),\n",
    "        ReLog()\n",
    "    )\n",
    "    linear_module = model[1]\n",
    "    with torch.no_grad():\n",
    "        linear_module.weight[:,:2].fill_(1).add_(torch.randn(2)*0.5)\n",
    "        linear_module.weight[:,2:].fill_(-1).add_(torch.randn(2)*0.5)\n",
    "        linear_module.bias.fill_(0).add(torch.randn(1)*0.1)\n",
    "  else:\n",
    "    model = nn.Sequential(\n",
    "        nn.Linear(2, 1),\n",
    "        nn.ReLU(),\n",
    "        ReLog()\n",
    "    )\n",
    "    linear_module = model[0]\n",
    "    with torch.no_grad():\n",
    "      linear_module.weight.abs_() # make sure that the model learn\n",
    "  # train\n",
    "  lr = 0.5\n",
    "  loss_func = nn.MSELoss()\n",
    "  optimizer = optim.SGD(model.parameters(), lr=lr, momentum=0.9)\n",
    "  for epoch in range(n_epochs):\n",
    "      optimizer.zero_grad()\n",
    "      pred = model(data_x)\n",
    "      loss = loss_func(pred.flatten(), data_y) + regularization(linear_module)\n",
    "      loss.backward()\n",
    "      optimizer.step()\n",
    "  plot_model(model)\n",
    "  print('Weight:', linear_module.weight)\n",
    "  print('Bias:', linear_module.bias)\n",
    "  return model\n",
    "\n",
    "model = demo_model(lambda m: 0, use_quadratic_kernel=True)"
   ]
  },
  {
   "cell_type": "markdown",
   "metadata": {},
   "source": [
    "# Compare no-regularization, max-margin, and max-fit"
   ]
  },
  {
   "cell_type": "code",
   "execution_count": 10,
   "metadata": {},
   "outputs": [
    {
     "name": "stdout",
     "output_type": "stream",
     "text": [
      "Weight: Parameter containing:\n",
      "tensor([[3.0760, 1.9405]], requires_grad=True)\n",
      "Bias: Parameter containing:\n",
      "tensor([-2.1348], requires_grad=True)\n"
     ]
    },
    {
     "data": {
      "image/png": "[encoded data removed]",
      "text/plain": [
       "<Figure size 288x288 with 1 Axes>"
      ]
     },
     "metadata": {
      "needs_background": "light"
     },
     "output_type": "display_data"
    }
   ],
   "source": [
    "_ = demo_model()"
   ]
  },
  {
   "cell_type": "code",
   "execution_count": 11,
   "metadata": {
    "colab": {
     "base_uri": "https://localhost:8080/",
     "height": 269
    },
    "colab_type": "code",
    "id": "BDvM9Ui25uqO",
    "outputId": "a3fa3bef-48d7-47e2-83fb-65e2ad3b567f"
   },
   "outputs": [
    {
     "name": "stdout",
     "output_type": "stream",
     "text": [
      "Weight: Parameter containing:\n",
      "tensor([[1.6784, 1.1496]], requires_grad=True)\n",
      "Bias: Parameter containing:\n",
      "tensor([-0.6460], requires_grad=True)\n"
     ]
    },
    {
     "data": {
      "image/png": "[encoded data removed]",
      "text/plain": [
       "<Figure size 288x288 with 1 Axes>"
      ]
     },
     "metadata": {
      "needs_background": "light"
     },
     "output_type": "display_data"
    }
   ],
   "source": [
    "max_margin = lambda m: 0.01*(m.weight*m.weight).mean()\n",
    "model_reg = demo_model(max_margin)"
   ]
  },
  {
   "cell_type": "code",
   "execution_count": 12,
   "metadata": {
    "colab": {
     "base_uri": "https://localhost:8080/",
     "height": 269
    },
    "colab_type": "code",
    "id": "2WM7FmID50Yi",
    "outputId": "dd9201f8-0ef7-4af8-bda5-93505b307969"
   },
   "outputs": [
    {
     "name": "stdout",
     "output_type": "stream",
     "text": [
      "Weight: Parameter containing:\n",
      "tensor([[5.3451, 4.6076]], requires_grad=True)\n",
      "Bias: Parameter containing:\n",
      "tensor([-6.6749], requires_grad=True)\n"
     ]
    },
    {
     "data": {
      "image/png": "[encoded data removed]",
      "text/plain": [
       "<Figure size 288x288 with 1 Axes>"
      ]
     },
     "metadata": {
      "needs_background": "light"
     },
     "output_type": "display_data"
    }
   ],
   "source": [
    "class MaxFitL2(object):\n",
    "  def __init__(self, alpha=0.02, beta=0.1, exempt_quadratic_weights=False):\n",
    "    self.alpha = alpha\n",
    "    self.beta = beta\n",
    "    self.exempt_quadratic_weights = exempt_quadratic_weights\n",
    "  def __call__(self, m):\n",
    "    if self.exempt_quadratic_weights:\n",
    "        w = m.weight[:,:m.weight.shape[1]//2]\n",
    "    else:\n",
    "        w = m.weight\n",
    "    return self.alpha*(w*w).mean() + self.beta*m.bias.mean()\n",
    "\n",
    "model_reg = demo_model(MaxFitL2(alpha=0.03, beta=0.2))"
   ]
  },
  {
   "cell_type": "code",
   "execution_count": 13,
   "metadata": {
    "colab": {
     "base_uri": "https://localhost:8080/",
     "height": 269
    },
    "colab_type": "code",
    "id": "8KvpUsbqL-T5",
    "outputId": "2e878844-5a19-4cf6-cb07-28061c1b4bbd"
   },
   "outputs": [
    {
     "name": "stdout",
     "output_type": "stream",
     "text": [
      "Weight: Parameter containing:\n",
      "tensor([[18.7724, 15.5899]], requires_grad=True)\n",
      "Bias: Parameter containing:\n",
      "tensor([-24.5455], requires_grad=True)\n"
     ]
    },
    {
     "data": {
      "image/png": "[encoded data removed]",
      "text/plain": [
       "<Figure size 288x288 with 1 Axes>"
      ]
     },
     "metadata": {
      "needs_background": "light"
     },
     "output_type": "display_data"
    }
   ],
   "source": [
    "class MaxFitL1(object):\n",
    "  def __init__(self, alpha=0.01, beta=0.1, exempt_quadratic_weights=False):\n",
    "    self.alpha = alpha\n",
    "    self.beta = beta\n",
    "    self.exempt_quadratic_weights = exempt_quadratic_weights\n",
    "  def __call__(self, m):\n",
    "    if self.exempt_quadratic_weights:\n",
    "        w = m.weight[:,:m.weight.shape[1]//2]\n",
    "    else:\n",
    "        w = m.weight\n",
    "    return self.alpha*w.abs().mean() + self.beta*m.bias.mean()\n",
    "\n",
    "model_reg = demo_model(MaxFitL1())"
   ]
  },
  {
   "cell_type": "markdown",
   "metadata": {},
   "source": [
    "# Demoing quadratic units"
   ]
  },
  {
   "cell_type": "code",
   "execution_count": 14,
   "metadata": {
    "colab": {
     "base_uri": "https://localhost:8080/",
     "height": 269
    },
    "colab_type": "code",
    "id": "i1OuDV9tAIje",
    "outputId": "cf61360c-1c45-40ad-8cf8-fb43712c24b9"
   },
   "outputs": [
    {
     "name": "stdout",
     "output_type": "stream",
     "text": [
      "Weight: Parameter containing:\n",
      "tensor([[ 2.4875,  2.0551,  1.8793, -0.0508]], requires_grad=True)\n",
      "Bias: Parameter containing:\n",
      "tensor([-2.9444], requires_grad=True)\n"
     ]
    },
    {
     "data": {
      "image/png": "[encoded data removed]",
      "text/plain": [
       "<Figure size 288x288 with 1 Axes>"
      ]
     },
     "metadata": {
      "needs_background": "light"
     },
     "output_type": "display_data"
    }
   ],
   "source": [
    "model = demo_model(use_quadratic_kernel=True)"
   ]
  },
  {
   "cell_type": "code",
   "execution_count": 15,
   "metadata": {
    "colab": {
     "base_uri": "https://localhost:8080/",
     "height": 269
    },
    "colab_type": "code",
    "id": "pLGth_4aHOSj",
    "outputId": "532e481c-1fe7-4426-81fd-85b49e809b62"
   },
   "outputs": [
    {
     "name": "stdout",
     "output_type": "stream",
     "text": [
      "Weight: Parameter containing:\n",
      "tensor([[ 0.0080,  0.0128, -0.0484, -0.0674]], requires_grad=True)\n",
      "Bias: Parameter containing:\n",
      "tensor([-0.9587], requires_grad=True)\n"
     ]
    },
    {
     "data": {
      "image/png": "[encoded data removed]",
      "text/plain": [
       "<Figure size 288x288 with 1 Axes>"
      ]
     },
     "metadata": {
      "needs_background": "light"
     },
     "output_type": "display_data"
    }
   ],
   "source": [
    "model = demo_model(max_margin, use_quadratic_kernel=True)"
   ]
  },
  {
   "cell_type": "code",
   "execution_count": 16,
   "metadata": {
    "colab": {
     "base_uri": "https://localhost:8080/",
     "height": 269
    },
    "colab_type": "code",
    "id": "JevDOEFeJWg1",
    "outputId": "5a6c1d97-46cc-482e-ee4c-252dee8015ec"
   },
   "outputs": [
    {
     "name": "stdout",
     "output_type": "stream",
     "text": [
      "Weight: Parameter containing:\n",
      "tensor([[ 0.2330,  0.2037, 10.9012,  7.8192]], requires_grad=True)\n",
      "Bias: Parameter containing:\n",
      "tensor([-9.6985], requires_grad=True)\n"
     ]
    },
    {
     "data": {
      "image/png": "[encoded data removed]",
      "text/plain": [
       "<Figure size 288x288 with 1 Axes>"
      ]
     },
     "metadata": {
      "needs_background": "light"
     },
     "output_type": "display_data"
    }
   ],
   "source": [
    "model = demo_model(MaxFitL2(0.1, 0.05, True), use_quadratic_kernel=True)"
   ]
  },
  {
   "cell_type": "code",
   "execution_count": 17,
   "metadata": {
    "colab": {
     "base_uri": "https://localhost:8080/",
     "height": 269
    },
    "colab_type": "code",
    "id": "JevDOEFeJWg1",
    "outputId": "5a6c1d97-46cc-482e-ee4c-252dee8015ec"
   },
   "outputs": [
    {
     "name": "stdout",
     "output_type": "stream",
     "text": [
      "Weight: Parameter containing:\n",
      "tensor([[ 0.0960,  0.0166, 10.6659,  8.6053]], requires_grad=True)\n",
      "Bias: Parameter containing:\n",
      "tensor([-9.6338], requires_grad=True)\n"
     ]
    },
    {
     "data": {
      "image/png": "[encoded data removed]",
      "text/plain": [
       "<Figure size 288x288 with 1 Axes>"
      ]
     },
     "metadata": {
      "needs_background": "light"
     },
     "output_type": "display_data"
    }
   ],
   "source": [
    "model = demo_model(MaxFitL1(0.1, 0.05, True), use_quadratic_kernel=True)"
   ]
  },
  {
   "cell_type": "code",
   "execution_count": 18,
   "metadata": {
    "colab": {
     "base_uri": "https://localhost:8080/",
     "height": 269
    },
    "colab_type": "code",
    "id": "Ww6BfyzHMIVh",
    "outputId": "874d2a84-a5e0-4074-b2cc-7269315d4e8e"
   },
   "outputs": [
    {
     "name": "stdout",
     "output_type": "stream",
     "text": [
      "Weight: Parameter containing:\n",
      "tensor([[6.5990, 4.9101, 4.0361, 2.1972]], requires_grad=True)\n",
      "Bias: Parameter containing:\n",
      "tensor([-10.8426], requires_grad=True)\n"
     ]
    },
    {
     "data": {
      "image/png": "[encoded data removed]",
      "text/plain": [
       "<Figure size 288x288 with 1 Axes>"
      ]
     },
     "metadata": {
      "needs_background": "light"
     },
     "output_type": "display_data"
    }
   ],
   "source": [
    "model = demo_model(MaxFitL1(0.01, 0.03), use_quadratic_kernel=True)"
   ]
  },
  {
   "cell_type": "markdown",
   "metadata": {
    "colab_type": "text",
    "id": "Eu2FjICxMcag"
   },
   "source": [
    "# More negative samples"
   ]
  },
  {
   "cell_type": "code",
   "execution_count": 19,
   "metadata": {
    "colab": {
     "base_uri": "https://localhost:8080/",
     "height": 269
    },
    "colab_type": "code",
    "id": "pOZbA1dyIgNT",
    "outputId": "78eb3dcf-e962-4e67-ee12-bb5bb0f42f33"
   },
   "outputs": [
    {
     "data": {
      "image/png": "[encoded data removed]",
      "text/plain": [
       "<Figure size 432x288 with 1 Axes>"
      ]
     },
     "metadata": {
      "needs_background": "light"
     },
     "output_type": "display_data"
    }
   ],
   "source": [
    "n = 200\n",
    "data_x = np.random.rand(n, 2)\n",
    "data_y = np.zeros(n)\n",
    "x1, x2 = data_x[:,0], data_x[:,1]\n",
    "f = np.sqrt((x1-0.8)**2 + (x2-0.8)**2) - 0.2\n",
    "neg_indices, = (f > 0).nonzero()\n",
    "pos_indices, = (f < 0).nonzero()\n",
    "neg_indices = neg_indices[:len(pos_indices)]\n",
    "data_y[f < 0] = 1\n",
    "data_x = np.vstack([data_x[neg_indices], data_x[pos_indices]])\n",
    "data_y = np.hstack([data_y[neg_indices], data_y[pos_indices]])\n",
    "sns.scatterplot(data_x[:,0], data_x[:,1], hue=data_y)\n",
    "data_x = torch.from_numpy(data_x).float()\n",
    "data_y = torch.from_numpy(data_y).float()"
   ]
  },
  {
   "cell_type": "code",
   "execution_count": 20,
   "metadata": {
    "colab": {
     "base_uri": "https://localhost:8080/",
     "height": 269
    },
    "colab_type": "code",
    "id": "S9GpHnuJNE9F",
    "outputId": "716e7615-a33b-4043-f7dd-a1fb04307f5b"
   },
   "outputs": [
    {
     "name": "stdout",
     "output_type": "stream",
     "text": [
      "Weight: Parameter containing:\n",
      "tensor([[3.4243, 3.3296]], requires_grad=True)\n",
      "Bias: Parameter containing:\n",
      "tensor([-3.5858], requires_grad=True)\n"
     ]
    },
    {
     "data": {
      "image/png": "[encoded data removed]",
      "text/plain": [
       "<Figure size 288x288 with 1 Axes>"
      ]
     },
     "metadata": {
      "needs_background": "light"
     },
     "output_type": "display_data"
    }
   ],
   "source": [
    "model = demo_model()"
   ]
  },
  {
   "cell_type": "code",
   "execution_count": 21,
   "metadata": {
    "colab": {
     "base_uri": "https://localhost:8080/",
     "height": 269
    },
    "colab_type": "code",
    "id": "pl-lVh4RNPGQ",
    "outputId": "58d277c0-da7f-48f3-8abc-6dd88822be90"
   },
   "outputs": [
    {
     "name": "stdout",
     "output_type": "stream",
     "text": [
      "Weight: Parameter containing:\n",
      "tensor([[1.7344, 1.9348]], requires_grad=True)\n",
      "Bias: Parameter containing:\n",
      "tensor([-1.5973], requires_grad=True)\n"
     ]
    },
    {
     "data": {
      "image/png": "[encoded data removed]",
      "text/plain": [
       "<Figure size 288x288 with 1 Axes>"
      ]
     },
     "metadata": {
      "needs_background": "light"
     },
     "output_type": "display_data"
    }
   ],
   "source": [
    "model_reg = demo_model(max_margin)"
   ]
  },
  {
   "cell_type": "code",
   "execution_count": 22,
   "metadata": {
    "colab": {
     "base_uri": "https://localhost:8080/",
     "height": 269
    },
    "colab_type": "code",
    "id": "5TpIeRilNTbz",
    "outputId": "4d6b7f0e-1382-43ba-8986-d0e08af3ff21"
   },
   "outputs": [
    {
     "name": "stdout",
     "output_type": "stream",
     "text": [
      "Weight: Parameter containing:\n",
      "tensor([[2.5611, 3.0882, 0.4500, 0.1505]], requires_grad=True)\n",
      "Bias: Parameter containing:\n",
      "tensor([-3.1259], requires_grad=True)\n"
     ]
    },
    {
     "data": {
      "image/png": "[encoded data removed]",
      "text/plain": [
       "<Figure size 288x288 with 1 Axes>"
      ]
     },
     "metadata": {
      "needs_background": "light"
     },
     "output_type": "display_data"
    }
   ],
   "source": [
    "model = demo_model(use_quadratic_kernel=True, n_epochs=150)"
   ]
  },
  {
   "cell_type": "code",
   "execution_count": 23,
   "metadata": {
    "colab": {
     "base_uri": "https://localhost:8080/",
     "height": 269
    },
    "colab_type": "code",
    "id": "0F1p1twxUP-a",
    "outputId": "61010b38-756a-4b81-d60f-f62317b6d407"
   },
   "outputs": [
    {
     "name": "stdout",
     "output_type": "stream",
     "text": [
      "Weight: Parameter containing:\n",
      "tensor([[1.3726, 1.5967, 0.7900, 1.1141]], requires_grad=True)\n",
      "Bias: Parameter containing:\n",
      "tensor([-2.0070], requires_grad=True)\n"
     ]
    },
    {
     "data": {
      "image/png": "[encoded data removed]",
      "text/plain": [
       "<Figure size 288x288 with 1 Axes>"
      ]
     },
     "metadata": {
      "needs_background": "light"
     },
     "output_type": "display_data"
    }
   ],
   "source": [
    "model = demo_model(use_quadratic_kernel=True, n_epochs=150, regularization=max_margin)"
   ]
  },
  {
   "cell_type": "code",
   "execution_count": 24,
   "metadata": {
    "colab": {
     "base_uri": "https://localhost:8080/",
     "height": 269
    },
    "colab_type": "code",
    "id": "8j-sJhqYOhM7",
    "outputId": "7ee9ac55-dad5-4a3b-da19-7c6eb057a86f"
   },
   "outputs": [
    {
     "name": "stdout",
     "output_type": "stream",
     "text": [
      "Weight: Parameter containing:\n",
      "tensor([[5.8848, 6.2170, 3.2789, 3.6490]], requires_grad=True)\n",
      "Bias: Parameter containing:\n",
      "tensor([-11.3010], requires_grad=True)\n"
     ]
    },
    {
     "data": {
      "image/png": "[encoded data removed]",
      "text/plain": [
       "<Figure size 288x288 with 1 Axes>"
      ]
     },
     "metadata": {
      "needs_background": "light"
     },
     "output_type": "display_data"
    }
   ],
   "source": [
    "model = demo_model(use_quadratic_kernel=True, n_epochs=150, regularization=MaxFitL2())"
   ]
  },
  {
   "cell_type": "code",
   "execution_count": 25,
   "metadata": {
    "colab": {
     "base_uri": "https://localhost:8080/",
     "height": 269
    },
    "colab_type": "code",
    "id": "3jpeFDTnT0AD",
    "outputId": "df8f42c5-6140-4f6a-8b08-f170f78b50e7"
   },
   "outputs": [
    {
     "name": "stdout",
     "output_type": "stream",
     "text": [
      "Weight: Parameter containing:\n",
      "tensor([[20.1657, 21.5216,  7.4149,  8.1032]], requires_grad=True)\n",
      "Bias: Parameter containing:\n",
      "tensor([-35.9262], requires_grad=True)\n"
     ]
    },
    {
     "data": {
      "image/png": "[encoded data removed]",
      "text/plain": [
       "<Figure size 288x288 with 1 Axes>"
      ]
     },
     "metadata": {
      "needs_background": "light"
     },
     "output_type": "display_data"
    }
   ],
   "source": [
    "model = demo_model(use_quadratic_kernel=True, n_epochs=150, regularization=MaxFitL1())"
   ]
  },
  {
   "cell_type": "markdown",
   "metadata": {
    "colab": {},
    "colab_type": "code",
    "id": "zKpajoWxT5MG"
   },
   "source": [
    "# Plot some quadratic curves"
   ]
  },
  {
   "cell_type": "code",
   "execution_count": 26,
   "metadata": {},
   "outputs": [
    {
     "data": {
      "text/plain": [
       "(0.0, 0.7)"
      ]
     },
     "execution_count": 26,
     "metadata": {},
     "output_type": "execute_result"
    },
    {
     "data": {
      "image/png": "[encoded data removed]",
      "text/plain": [
       "<Figure size 288x288 with 1 Axes>"
      ]
     },
     "metadata": {
      "needs_background": "light"
     },
     "output_type": "display_data"
    }
   ],
   "source": [
    "def plot_curve(a, b, c, d, e):\n",
    "  val_x = np.linspace(0, 1, 100)\n",
    "  val_y = np.linspace(0, 1, 100)\n",
    "  val_x, val_y = np.meshgrid(val_x, val_y)\n",
    "  val_z = np.clip(a*val_x*val_x + b*val_y*val_y + c*val_x + d*val_y + e, a_min=0, a_max=1000)\n",
    "  fig, ax = plt.subplots(figsize=(4, 4))\n",
    "  ax.contourf(val_x, val_y, val_z, 10, cmap=plt.cm.bone, origin='lower',\n",
    "              vmin=0, vmax=np.max(val_z))\n",
    "  return np.min(val_z), np.max(val_z)\n",
    "\n",
    "plot_curve(2,2,-2,-2,0.7)"
   ]
  },
  {
   "cell_type": "code",
   "execution_count": 27,
   "metadata": {},
   "outputs": [
    {
     "data": {
      "text/plain": [
       "(0.0, 0.4999489847974697)"
      ]
     },
     "execution_count": 27,
     "metadata": {},
     "output_type": "execute_result"
    },
    {
     "data": {
      "image/png": "[encoded data removed]",
      "text/plain": [
       "<Figure size 288x288 with 1 Axes>"
      ]
     },
     "metadata": {
      "needs_background": "light"
     },
     "output_type": "display_data"
    }
   ],
   "source": [
    "plot_curve(-1,-1,1,1,0)"
   ]
  },
  {
   "cell_type": "code",
   "execution_count": 28,
   "metadata": {},
   "outputs": [
    {
     "data": {
      "text/plain": [
       "(0.0, 1.165605828680811)"
      ]
     },
     "execution_count": 28,
     "metadata": {},
     "output_type": "execute_result"
    },
    {
     "data": {
      "image/png": "[encoded data removed]",
      "text/plain": [
       "<Figure size 288x288 with 1 Axes>"
      ]
     },
     "metadata": {
      "needs_background": "light"
     },
     "output_type": "display_data"
    }
   ],
   "source": [
    "r = lambda: np.random.randn()\n",
    "plot_curve(-1+r(),-1+r(),1+r(),1+r(),r()*0.1)"
   ]
  },
  {
   "cell_type": "code",
   "execution_count": 29,
   "metadata": {},
   "outputs": [
    {
     "data": {
      "text/plain": [
       "(0.0, 0.7032110617661219)"
      ]
     },
     "execution_count": 29,
     "metadata": {},
     "output_type": "execute_result"
    },
    {
     "data": {
      "image/png": "[encoded data removed]",
      "text/plain": [
       "<Figure size 288x288 with 1 Axes>"
      ]
     },
     "metadata": {
      "needs_background": "light"
     },
     "output_type": "display_data"
    }
   ],
   "source": [
    "plot_curve(-1+r(),-1+r(),1+r(),1+r(),r()*0.1)"
   ]
  },
  {
   "cell_type": "code",
   "execution_count": 30,
   "metadata": {},
   "outputs": [
    {
     "data": {
      "text/plain": [
       "(0.008376817838224443, 0.9353428143873521)"
      ]
     },
     "execution_count": 30,
     "metadata": {},
     "output_type": "execute_result"
    },
    {
     "data": {
      "image/png": "[encoded data removed]",
      "text/plain": [
       "<Figure size 288x288 with 1 Axes>"
      ]
     },
     "metadata": {
      "needs_background": "light"
     },
     "output_type": "display_data"
    }
   ],
   "source": [
    "plot_curve(-1+r(),-1+r(),1+r(),1+r(),r()*0.1)"
   ]
  },
  {
   "cell_type": "code",
   "execution_count": 31,
   "metadata": {},
   "outputs": [
    {
     "data": {
      "text/plain": [
       "(0.0, 0.16687761656093825)"
      ]
     },
     "execution_count": 31,
     "metadata": {},
     "output_type": "execute_result"
    },
    {
     "data": {
      "image/png": "[encoded data removed]",
      "text/plain": [
       "<Figure size 288x288 with 1 Axes>"
      ]
     },
     "metadata": {
      "needs_background": "light"
     },
     "output_type": "display_data"
    }
   ],
   "source": [
    "plot_curve(-1+r(),-1+r(),1+r(),1+r(),r()*0.1)"
   ]
  },
  {
   "cell_type": "code",
   "execution_count": 32,
   "metadata": {},
   "outputs": [
    {
     "data": {
      "text/plain": [
       "(0.11890243517204127, 1.5653714311487925)"
      ]
     },
     "execution_count": 32,
     "metadata": {},
     "output_type": "execute_result"
    },
    {
     "data": {
      "image/png": "[encoded data removed]",
      "text/plain": [
       "<Figure size 288x288 with 1 Axes>"
      ]
     },
     "metadata": {
      "needs_background": "light"
     },
     "output_type": "display_data"
    }
   ],
   "source": [
    "plot_curve(-1+r(),-1+r(),1+r(),1+r(),r()*0.1)"
   ]
  },
  {
   "cell_type": "code",
   "execution_count": 33,
   "metadata": {},
   "outputs": [
    {
     "data": {
      "text/plain": [
       "(0.0, 0.7504651353570438)"
      ]
     },
     "execution_count": 33,
     "metadata": {},
     "output_type": "execute_result"
    },
    {
     "data": {
      "image/png": "[encoded data removed]",
      "text/plain": [
       "<Figure size 288x288 with 1 Axes>"
      ]
     },
     "metadata": {
      "needs_background": "light"
     },
     "output_type": "display_data"
    }
   ],
   "source": [
    "plot_curve(-1+r(),-1+r(),1+r(),1+r(),r()*0.1)"
   ]
  },
  {
   "cell_type": "code",
   "execution_count": 34,
   "metadata": {},
   "outputs": [
    {
     "data": {
      "text/plain": [
       "(0.0, 1.7745139139877812)"
      ]
     },
     "execution_count": 34,
     "metadata": {},
     "output_type": "execute_result"
    },
    {
     "data": {
      "image/png": "[encoded data removed]",
      "text/plain": [
       "<Figure size 288x288 with 1 Axes>"
      ]
     },
     "metadata": {
      "needs_background": "light"
     },
     "output_type": "display_data"
    }
   ],
   "source": [
    "plot_curve(-1+r(),-1+r(),1+r(),1+r(),r()*0.1)"
   ]
  },
  {
   "cell_type": "code",
   "execution_count": 35,
   "metadata": {},
   "outputs": [
    {
     "data": {
      "text/plain": [
       "(0.0, 0.021846133624727114)"
      ]
     },
     "execution_count": 35,
     "metadata": {},
     "output_type": "execute_result"
    },
    {
     "data": {
      "image/png": "[encoded data removed]",
      "text/plain": [
       "<Figure size 288x288 with 1 Axes>"
      ]
     },
     "metadata": {
      "needs_background": "light"
     },
     "output_type": "display_data"
    }
   ],
   "source": [
    "plot_curve(-1+r(),-1+r(),1+r(),1+r(),r()*0.1)"
   ]
  },
  {
   "cell_type": "code",
   "execution_count": null,
   "metadata": {},
   "outputs": [],
   "source": []
  }
 ],
 "metadata": {
  "colab": {
   "collapsed_sections": [],
   "name": "fitting.ipynb",
   "provenance": []
  },
  "kernelspec": {
   "display_name": "conda-env-newlogic-py",
   "language": "python",
   "name": "conda-env-newlogic-py"
  },
  "language_info": {
   "codemirror_mode": {
    "name": "ipython",
    "version": 3
   },
   "file_extension": ".py",
   "mimetype": "text/x-python",
   "name": "python",
   "nbconvert_exporter": "python",
   "pygments_lexer": "ipython3",
   "version": "3.6.9"
  }
 },
 "nbformat": 4,
 "nbformat_minor": 4
}
