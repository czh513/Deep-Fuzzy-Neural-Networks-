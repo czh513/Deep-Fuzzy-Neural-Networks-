{
  "nbformat": 4,
  "nbformat_minor": 0,
  "metadata": {
    "colab": {
      "name": "jsma.ipynb",
      "provenance": [],
      "collapsed_sections": []
    },
    "kernelspec": {
      "name": "python3",
      "display_name": "Python 3"
    },
    "accelerator": "GPU"
  },
  "cells": [
    {
      "cell_type": "code",
      "metadata": {
        "id": "GfDJ7wlBSYH1",
        "colab_type": "code",
        "colab": {
          "base_uri": "https://localhost:8080/",
          "height": 124
        },
        "outputId": "67a0d38a-0a4b-4da0-fd6f-f5b390a17a02"
      },
      "source": [
        "from google.colab import drive\n",
        "drive.mount('/content/gdrive')"
      ],
      "execution_count": 1,
      "outputs": [
        {
          "output_type": "stream",
          "text": [
            "Go to this URL in a browser: https://accounts.google.com/o/oauth2/auth?client_id=947318989803-6bn6qk8qdgf4n4g3pfee6491hc0brc4i.apps.googleusercontent.com&redirect_uri=urn%3Aietf%3Awg%3Aoauth%3A2.0%3Aoob&scope=email%20https%3A%2F%2Fwww.googleapis.com%2Fauth%2Fdocs.test%20https%3A%2F%2Fwww.googleapis.com%2Fauth%2Fdrive%20https%3A%2F%2Fwww.googleapis.com%2Fauth%2Fdrive.photos.readonly%20https%3A%2F%2Fwww.googleapis.com%2Fauth%2Fpeopleapi.readonly&response_type=code\n",
            "\n",
            "Enter your authorization code:\n",
            "··········\n",
            "Mounted at /content/gdrive\n"
          ],
          "name": "stdout"
        }
      ]
    },
    {
      "cell_type": "code",
      "metadata": {
        "id": "uaelzeA9SZgX",
        "colab_type": "code",
        "colab": {
          "base_uri": "https://localhost:8080/",
          "height": 1000
        },
        "outputId": "7819116d-1c23-4453-a64e-1d75e983f11a"
      },
      "source": [
        "!pip install cleverhans==3.0.1 tensorflow==1.8.0"
      ],
      "execution_count": 2,
      "outputs": [
        {
          "output_type": "stream",
          "text": [
            "Collecting cleverhans==3.0.1\n",
            "\u001b[?25l  Downloading https://files.pythonhosted.org/packages/ac/a0/f0b4386b719f343c4ed3e13cd7792a7a7a4674566ca9b2b34a09b7424220/cleverhans-3.0.1-py3-none-any.whl (198kB)\n",
            "\r\u001b[K     |█▋                              | 10kB 15.8MB/s eta 0:00:01\r\u001b[K     |███▎                            | 20kB 2.2MB/s eta 0:00:01\r\u001b[K     |█████                           | 30kB 3.2MB/s eta 0:00:01\r\u001b[K     |██████▋                         | 40kB 2.1MB/s eta 0:00:01\r\u001b[K     |████████▎                       | 51kB 2.6MB/s eta 0:00:01\r\u001b[K     |██████████                      | 61kB 3.1MB/s eta 0:00:01\r\u001b[K     |███████████▋                    | 71kB 3.5MB/s eta 0:00:01\r\u001b[K     |█████████████▎                  | 81kB 4.0MB/s eta 0:00:01\r\u001b[K     |██████████████▉                 | 92kB 4.4MB/s eta 0:00:01\r\u001b[K     |████████████████▌               | 102kB 3.4MB/s eta 0:00:01\r\u001b[K     |██████████████████▏             | 112kB 3.4MB/s eta 0:00:01\r\u001b[K     |███████████████████▉            | 122kB 3.4MB/s eta 0:00:01\r\u001b[K     |█████████████████████▌          | 133kB 3.4MB/s eta 0:00:01\r\u001b[K     |███████████████████████▏        | 143kB 3.4MB/s eta 0:00:01\r\u001b[K     |████████████████████████▉       | 153kB 3.4MB/s eta 0:00:01\r\u001b[K     |██████████████████████████▌     | 163kB 3.4MB/s eta 0:00:01\r\u001b[K     |████████████████████████████    | 174kB 3.4MB/s eta 0:00:01\r\u001b[K     |█████████████████████████████▊  | 184kB 3.4MB/s eta 0:00:01\r\u001b[K     |███████████████████████████████▍| 194kB 3.4MB/s eta 0:00:01\r\u001b[K     |████████████████████████████████| 204kB 3.4MB/s \n",
            "\u001b[?25hCollecting tensorflow==1.8.0\n",
            "\u001b[?25l  Downloading https://files.pythonhosted.org/packages/22/c6/d08f7c549330c2acc1b18b5c1f0f8d9d2af92f54d56861f331f372731671/tensorflow-1.8.0-cp36-cp36m-manylinux1_x86_64.whl (49.1MB)\n",
            "\u001b[K     |████████████████████████████████| 49.1MB 1.3MB/s \n",
            "\u001b[?25hCollecting nose (from cleverhans==3.0.1)\n",
            "\u001b[?25l  Downloading https://files.pythonhosted.org/packages/15/d8/dd071918c040f50fa1cf80da16423af51ff8ce4a0f2399b7bf8de45ac3d9/nose-1.3.7-py3-none-any.whl (154kB)\n",
            "\u001b[K     |████████████████████████████████| 163kB 28.1MB/s \n",
            "\u001b[?25hRequirement already satisfied: numpy in /usr/local/lib/python3.6/dist-packages (from cleverhans==3.0.1) (1.16.5)\n",
            "Requirement already satisfied: scipy in /usr/local/lib/python3.6/dist-packages (from cleverhans==3.0.1) (1.3.1)\n",
            "Requirement already satisfied: tensorflow-probability in /usr/local/lib/python3.6/dist-packages (from cleverhans==3.0.1) (0.7.0)\n",
            "Collecting mnist~=0.2 (from cleverhans==3.0.1)\n",
            "  Downloading https://files.pythonhosted.org/packages/c6/c4/5db3bfe009f8d71f1d532bbadbd0ec203764bba3a469e4703a889db8e5e0/mnist-0.2.2-py2.py3-none-any.whl\n",
            "Collecting pycodestyle (from cleverhans==3.0.1)\n",
            "\u001b[?25l  Downloading https://files.pythonhosted.org/packages/0e/0c/04a353e104d2f324f8ee5f4b32012618c1c86dd79e52a433b64fceed511b/pycodestyle-2.5.0-py2.py3-none-any.whl (51kB)\n",
            "\u001b[K     |████████████████████████████████| 51kB 22.8MB/s \n",
            "\u001b[?25hRequirement already satisfied: matplotlib in /usr/local/lib/python3.6/dist-packages (from cleverhans==3.0.1) (3.0.3)\n",
            "Requirement already satisfied: protobuf>=3.4.0 in /usr/local/lib/python3.6/dist-packages (from tensorflow==1.8.0) (3.7.1)\n",
            "Collecting tensorboard<1.9.0,>=1.8.0 (from tensorflow==1.8.0)\n",
            "\u001b[?25l  Downloading https://files.pythonhosted.org/packages/59/a6/0ae6092b7542cfedba6b2a1c9b8dceaf278238c39484f3ba03b03f07803c/tensorboard-1.8.0-py3-none-any.whl (3.1MB)\n",
            "\u001b[K     |████████████████████████████████| 3.1MB 30.6MB/s \n",
            "\u001b[?25hRequirement already satisfied: grpcio>=1.8.6 in /usr/local/lib/python3.6/dist-packages (from tensorflow==1.8.0) (1.15.0)\n",
            "Requirement already satisfied: termcolor>=1.1.0 in /usr/local/lib/python3.6/dist-packages (from tensorflow==1.8.0) (1.1.0)\n",
            "Requirement already satisfied: gast>=0.2.0 in /usr/local/lib/python3.6/dist-packages (from tensorflow==1.8.0) (0.2.2)\n",
            "Requirement already satisfied: wheel>=0.26 in /usr/local/lib/python3.6/dist-packages (from tensorflow==1.8.0) (0.33.6)\n",
            "Requirement already satisfied: six>=1.10.0 in /usr/local/lib/python3.6/dist-packages (from tensorflow==1.8.0) (1.12.0)\n",
            "Requirement already satisfied: astor>=0.6.0 in /usr/local/lib/python3.6/dist-packages (from tensorflow==1.8.0) (0.8.0)\n",
            "Requirement already satisfied: absl-py>=0.1.6 in /usr/local/lib/python3.6/dist-packages (from tensorflow==1.8.0) (0.8.0)\n",
            "Requirement already satisfied: cloudpickle>=0.6.1 in /usr/local/lib/python3.6/dist-packages (from tensorflow-probability->cleverhans==3.0.1) (0.6.1)\n",
            "Requirement already satisfied: decorator in /usr/local/lib/python3.6/dist-packages (from tensorflow-probability->cleverhans==3.0.1) (4.4.0)\n",
            "Requirement already satisfied: pyparsing!=2.0.4,!=2.1.2,!=2.1.6,>=2.0.1 in /usr/local/lib/python3.6/dist-packages (from matplotlib->cleverhans==3.0.1) (2.4.2)\n",
            "Requirement already satisfied: kiwisolver>=1.0.1 in /usr/local/lib/python3.6/dist-packages (from matplotlib->cleverhans==3.0.1) (1.1.0)\n",
            "Requirement already satisfied: python-dateutil>=2.1 in /usr/local/lib/python3.6/dist-packages (from matplotlib->cleverhans==3.0.1) (2.5.3)\n",
            "Requirement already satisfied: cycler>=0.10 in /usr/local/lib/python3.6/dist-packages (from matplotlib->cleverhans==3.0.1) (0.10.0)\n",
            "Requirement already satisfied: setuptools in /usr/local/lib/python3.6/dist-packages (from protobuf>=3.4.0->tensorflow==1.8.0) (41.2.0)\n",
            "Requirement already satisfied: markdown>=2.6.8 in /usr/local/lib/python3.6/dist-packages (from tensorboard<1.9.0,>=1.8.0->tensorflow==1.8.0) (3.1.1)\n",
            "Collecting bleach==1.5.0 (from tensorboard<1.9.0,>=1.8.0->tensorflow==1.8.0)\n",
            "  Downloading https://files.pythonhosted.org/packages/33/70/86c5fec937ea4964184d4d6c4f0b9551564f821e1c3575907639036d9b90/bleach-1.5.0-py2.py3-none-any.whl\n",
            "Collecting html5lib==0.9999999 (from tensorboard<1.9.0,>=1.8.0->tensorflow==1.8.0)\n",
            "\u001b[?25l  Downloading https://files.pythonhosted.org/packages/ae/ae/bcb60402c60932b32dfaf19bb53870b29eda2cd17551ba5639219fb5ebf9/html5lib-0.9999999.tar.gz (889kB)\n",
            "\u001b[K     |████████████████████████████████| 890kB 36.2MB/s \n",
            "\u001b[?25hRequirement already satisfied: werkzeug>=0.11.10 in /usr/local/lib/python3.6/dist-packages (from tensorboard<1.9.0,>=1.8.0->tensorflow==1.8.0) (0.16.0)\n",
            "Building wheels for collected packages: html5lib\n",
            "  Building wheel for html5lib (setup.py) ... \u001b[?25l\u001b[?25hdone\n",
            "  Created wheel for html5lib: filename=html5lib-0.9999999-cp36-none-any.whl size=107221 sha256=87fc249ef4e30706b814122834ddb0d31b1dd39bb87b7d6c84a3f60d84207506\n",
            "  Stored in directory: /root/.cache/pip/wheels/50/ae/f9/d2b189788efcf61d1ee0e36045476735c838898eef1cad6e29\n",
            "Successfully built html5lib\n",
            "\u001b[31mERROR: magenta 0.3.19 has requirement tensorflow>=1.12.0, but you'll have tensorflow 1.8.0 which is incompatible.\u001b[0m\n",
            "Installing collected packages: nose, mnist, pycodestyle, cleverhans, html5lib, bleach, tensorboard, tensorflow\n",
            "  Found existing installation: html5lib 1.0.1\n",
            "    Uninstalling html5lib-1.0.1:\n",
            "      Successfully uninstalled html5lib-1.0.1\n",
            "  Found existing installation: bleach 3.1.0\n",
            "    Uninstalling bleach-3.1.0:\n",
            "      Successfully uninstalled bleach-3.1.0\n",
            "  Found existing installation: tensorboard 1.15.0\n",
            "    Uninstalling tensorboard-1.15.0:\n",
            "      Successfully uninstalled tensorboard-1.15.0\n",
            "  Found existing installation: tensorflow 1.15.0rc3\n",
            "    Uninstalling tensorflow-1.15.0rc3:\n",
            "      Successfully uninstalled tensorflow-1.15.0rc3\n",
            "Successfully installed bleach-1.5.0 cleverhans-3.0.1 html5lib-0.9999999 mnist-0.2.2 nose-1.3.7 pycodestyle-2.5.0 tensorboard-1.8.0 tensorflow-1.8.0\n"
          ],
          "name": "stdout"
        }
      ]
    },
    {
      "cell_type": "code",
      "metadata": {
        "id": "TEwbSa8rShqk",
        "colab_type": "code",
        "colab": {}
      },
      "source": [
        "home_dir = '/content/gdrive/My Drive/Colab Notebooks/newlogic'\n",
        "import sys\n",
        "sys.path.append(home_dir)"
      ],
      "execution_count": 0,
      "outputs": []
    },
    {
      "cell_type": "code",
      "metadata": {
        "id": "zJ8oykUtsjBj",
        "colab_type": "code",
        "colab": {}
      },
      "source": [
        "model_path = home_dir + '/output/cnn-mnist-relu.pkl'"
      ],
      "execution_count": 0,
      "outputs": []
    },
    {
      "cell_type": "code",
      "metadata": {
        "id": "cP6HFYu6SkUw",
        "colab_type": "code",
        "colab": {}
      },
      "source": [
        "from cleverhans.attacks import SaliencyMapMethod\n",
        "from cleverhans.dataset import MNIST\n",
        "from cleverhans.loss import CrossEntropy\n",
        "from cleverhans.utils import other_classes, set_log_level\n",
        "from cleverhans.utils import pair_visual, grid_visual, AccuracyReport\n",
        "from cleverhans.utils_tf import model_eval, model_argmax\n",
        "from cleverhans.train import train\n",
        "from cleverhans.utils_pytorch import convert_pytorch_model_to_tf\n",
        "from cleverhans.model import CallableModelWrapper"
      ],
      "execution_count": 0,
      "outputs": []
    },
    {
      "cell_type": "code",
      "metadata": {
        "id": "Wc33S-yoS7oS",
        "colab_type": "code",
        "colab": {}
      },
      "source": [
        "import numpy as np\n",
        "from six.moves import xrange\n",
        "import tensorflow as tf\n",
        "import torch\n",
        "from torchvision import datasets, transforms"
      ],
      "execution_count": 0,
      "outputs": []
    },
    {
      "cell_type": "code",
      "metadata": {
        "id": "ecz7EDL8TEfk",
        "colab_type": "code",
        "colab": {
          "base_uri": "https://localhost:8080/",
          "height": 34
        },
        "outputId": "ea350c71-66ae-4c09-b16a-d6afd82d9d44"
      },
      "source": [
        "# Object used to keep track of (and return) key accuracies\n",
        "report = AccuracyReport()\n",
        "\n",
        "# Set TF random seed to improve reproducibility\n",
        "tf.set_random_seed(1234)\n",
        "\n",
        "# Create TF session and set as Keras backend session\n",
        "sess = tf.Session()\n",
        "print(\"Created TensorFlow session.\")"
      ],
      "execution_count": 7,
      "outputs": [
        {
          "output_type": "stream",
          "text": [
            "Created TensorFlow session.\n"
          ],
          "name": "stdout"
        }
      ]
    },
    {
      "cell_type": "code",
      "metadata": {
        "id": "DaGC07INsri3",
        "colab_type": "code",
        "colab": {}
      },
      "source": [
        "torch_model_orig = torch.load(model_path)\n",
        "torch_model = lambda x: torch_model_orig(x)[0] # to standard format"
      ],
      "execution_count": 0,
      "outputs": []
    },
    {
      "cell_type": "code",
      "metadata": {
        "id": "nKiw6h6CtS27",
        "colab_type": "code",
        "colab": {}
      },
      "source": [
        "tf_model_fn = convert_pytorch_model_to_tf(torch_model, out_dims=10)    \n",
        "cleverhans_model = CallableModelWrapper(tf_model_fn, output_layer='logits')"
      ],
      "execution_count": 0,
      "outputs": []
    },
    {
      "cell_type": "code",
      "metadata": {
        "id": "Gu1E2hmtTM-N",
        "colab_type": "code",
        "colab": {}
      },
      "source": [
        "jsma = SaliencyMapMethod(cleverhans_model, sess=sess)\n",
        "jsma_params = {'theta': 1., 'gamma': 0.1,\n",
        "                'clip_min': 0., 'clip_max': 1.,\n",
        "                'y_target': None}"
      ],
      "execution_count": 0,
      "outputs": []
    },
    {
      "cell_type": "code",
      "metadata": {
        "id": "Fl6bbuD3rvjM",
        "colab_type": "code",
        "colab": {}
      },
      "source": [
        "test_data = datasets.MNIST(home_dir + '/mnist', train=False, transform=transforms.ToTensor())"
      ],
      "execution_count": 0,
      "outputs": []
    },
    {
      "cell_type": "code",
      "metadata": {
        "id": "Gf5gF3J3zVYA",
        "colab_type": "code",
        "colab": {}
      },
      "source": [
        "nb_classes = 10\n",
        "source_samples = 10"
      ],
      "execution_count": 0,
      "outputs": []
    },
    {
      "cell_type": "code",
      "metadata": {
        "id": "_3XQAdeqzwiy",
        "colab_type": "code",
        "colab": {}
      },
      "source": [
        "test_loader = torch.utils.data.DataLoader(test_data, batch_size=source_samples)\n",
        "x_test, y_test = next(iter(test_loader))"
      ],
      "execution_count": 0,
      "outputs": []
    },
    {
      "cell_type": "code",
      "metadata": {
        "id": "JQwHrgXjy2I9",
        "colab_type": "code",
        "colab": {}
      },
      "source": [
        "nchannels, img_rows, img_cols = x_test.shape[1:]"
      ],
      "execution_count": 0,
      "outputs": []
    },
    {
      "cell_type": "code",
      "metadata": {
        "id": "W5VJYzeSzQ7T",
        "colab_type": "code",
        "colab": {}
      },
      "source": [
        "# Keep track of success (adversarial example classified in target)\n",
        "results = np.zeros((nb_classes, source_samples), dtype='i')\n",
        "\n",
        "# Rate of perturbed features for each test set example and target class\n",
        "perturbations = np.zeros((nb_classes, source_samples), dtype='f')\n",
        "\n",
        "# Initialize our array for grid visualization\n",
        "grid_shape = (nb_classes, nb_classes, img_rows, img_cols, nchannels)\n",
        "grid_viz_data = np.zeros(grid_shape, dtype='f')"
      ],
      "execution_count": 0,
      "outputs": []
    },
    {
      "cell_type": "code",
      "metadata": {
        "id": "MmoRkjRT0ENP",
        "colab_type": "code",
        "colab": {
          "base_uri": "https://localhost:8080/",
          "height": 452
        },
        "outputId": "7c947768-6d8a-45ef-caee-bfa805cd3f1e"
      },
      "source": [
        "for sample_ind in xrange(0, source_samples):\n",
        "  print('--------------------------------------')\n",
        "  print('Attacking input %i/%i' % (sample_ind + 1, source_samples))\n",
        "  sample = x_test[sample_ind:(sample_ind + 1)]\n",
        "\n",
        "  # We want to find an adversarial example for each possible target class\n",
        "  # (i.e. all classes that differ from the label given in the dataset)\n",
        "  current_class = int(np.argmax(y_test[sample_ind]))\n",
        "  target_classes = other_classes(nb_classes, current_class)\n",
        "\n",
        "  # For the grid visualization, keep original images along the diagonal\n",
        "  grid_viz_data[current_class, current_class, :, :, :] = np.reshape(\n",
        "      sample, (img_rows, img_cols, nchannels))\n",
        "\n",
        "  # Loop over all target classes\n",
        "  for target in target_classes:\n",
        "    print('Generating adv. example for target class %i' % target)\n",
        "\n",
        "    # This call runs the Jacobian-based saliency map approach\n",
        "    one_hot_target = np.zeros((1, nb_classes), dtype=np.float32)\n",
        "    one_hot_target[0, target] = 1\n",
        "    jsma_params['y_target'] = tf.convert_to_tensor(one_hot_target)\n",
        "    adv_x = jsma.generate(sample, **jsma_params)\n",
        "\n",
        "    # Check if success was achieved\n",
        "    res = int(model_argmax(sess, x, preds, adv_x) == target)\n",
        "\n",
        "    # Compute number of modified features\n",
        "    adv_x_reshape = adv_x.reshape(-1)\n",
        "    test_in_reshape = x_test[sample_ind].reshape(-1)\n",
        "    nb_changed = np.where(adv_x_reshape != test_in_reshape)[0].shape[0]\n",
        "    percent_perturb = float(nb_changed) / adv_x.reshape(-1).shape[0]\n",
        "\n",
        "    # Display the original and adversarial images side-by-side\n",
        "    if viz_enabled:\n",
        "      figure = pair_visual(\n",
        "          np.reshape(sample, (img_rows, img_cols, nchannels)),\n",
        "          np.reshape(adv_x, (img_rows, img_cols, nchannels)), figure)\n",
        "\n",
        "    # Add our adversarial example to our grid data\n",
        "    grid_viz_data[target, current_class, :, :, :] = np.reshape(\n",
        "        adv_x, (img_rows, img_cols, nchannels))\n",
        "\n",
        "    # Update the arrays for later analysis\n",
        "    results[target, sample_ind] = res\n",
        "    perturbations[target, sample_ind] = percent_perturb"
      ],
      "execution_count": 38,
      "outputs": [
        {
          "output_type": "stream",
          "text": [
            "--------------------------------------\n",
            "Attacking input 1/10\n",
            "Generating adv. example for target class 1\n"
          ],
          "name": "stdout"
        },
        {
          "output_type": "error",
          "ename": "AttributeError",
          "evalue": "ignored",
          "traceback": [
            "\u001b[0;31m---------------------------------------------------------------------------\u001b[0m",
            "\u001b[0;31mAttributeError\u001b[0m                            Traceback (most recent call last)",
            "\u001b[0;32m<ipython-input-38-36ee60c6dc95>\u001b[0m in \u001b[0;36m<module>\u001b[0;34m()\u001b[0m\n\u001b[1;32m     21\u001b[0m     \u001b[0mone_hot_target\u001b[0m\u001b[0;34m[\u001b[0m\u001b[0;36m0\u001b[0m\u001b[0;34m,\u001b[0m \u001b[0mtarget\u001b[0m\u001b[0;34m]\u001b[0m \u001b[0;34m=\u001b[0m \u001b[0;36m1\u001b[0m\u001b[0;34m\u001b[0m\u001b[0;34m\u001b[0m\u001b[0m\n\u001b[1;32m     22\u001b[0m     \u001b[0mjsma_params\u001b[0m\u001b[0;34m[\u001b[0m\u001b[0;34m'y_target'\u001b[0m\u001b[0;34m]\u001b[0m \u001b[0;34m=\u001b[0m \u001b[0mtf\u001b[0m\u001b[0;34m.\u001b[0m\u001b[0mconvert_to_tensor\u001b[0m\u001b[0;34m(\u001b[0m\u001b[0mone_hot_target\u001b[0m\u001b[0;34m)\u001b[0m\u001b[0;34m\u001b[0m\u001b[0;34m\u001b[0m\u001b[0m\n\u001b[0;32m---> 23\u001b[0;31m     \u001b[0madv_x\u001b[0m \u001b[0;34m=\u001b[0m \u001b[0mjsma\u001b[0m\u001b[0;34m.\u001b[0m\u001b[0mgenerate\u001b[0m\u001b[0;34m(\u001b[0m\u001b[0msample\u001b[0m\u001b[0;34m,\u001b[0m \u001b[0;34m**\u001b[0m\u001b[0mjsma_params\u001b[0m\u001b[0;34m)\u001b[0m\u001b[0;34m\u001b[0m\u001b[0;34m\u001b[0m\u001b[0m\n\u001b[0m\u001b[1;32m     24\u001b[0m \u001b[0;34m\u001b[0m\u001b[0m\n\u001b[1;32m     25\u001b[0m     \u001b[0;31m# Check if success was achieved\u001b[0m\u001b[0;34m\u001b[0m\u001b[0;34m\u001b[0m\u001b[0;34m\u001b[0m\u001b[0m\n",
            "\u001b[0;32m/usr/local/lib/python3.6/dist-packages/cleverhans/attacks/__init__.py\u001b[0m in \u001b[0;36mgenerate\u001b[0;34m(self, x, **kwargs)\u001b[0m\n\u001b[1;32m    958\u001b[0m           \u001b[0mgamma\u001b[0m\u001b[0;34m=\u001b[0m\u001b[0mself\u001b[0m\u001b[0;34m.\u001b[0m\u001b[0mgamma\u001b[0m\u001b[0;34m,\u001b[0m\u001b[0;34m\u001b[0m\u001b[0;34m\u001b[0m\u001b[0m\n\u001b[1;32m    959\u001b[0m           \u001b[0mclip_min\u001b[0m\u001b[0;34m=\u001b[0m\u001b[0mself\u001b[0m\u001b[0;34m.\u001b[0m\u001b[0mclip_min\u001b[0m\u001b[0;34m,\u001b[0m\u001b[0;34m\u001b[0m\u001b[0;34m\u001b[0m\u001b[0m\n\u001b[0;32m--> 960\u001b[0;31m           clip_max=self.clip_max)\n\u001b[0m\u001b[1;32m    961\u001b[0m     \u001b[0;32melse\u001b[0m\u001b[0;34m:\u001b[0m\u001b[0;34m\u001b[0m\u001b[0;34m\u001b[0m\u001b[0m\n\u001b[1;32m    962\u001b[0m       \u001b[0;32massert\u001b[0m \u001b[0mself\u001b[0m\u001b[0;34m.\u001b[0m\u001b[0msess\u001b[0m \u001b[0;32mis\u001b[0m \u001b[0;32mnot\u001b[0m \u001b[0;32mNone\u001b[0m\u001b[0;34m,\u001b[0m\u001b[0;31m \u001b[0m\u001b[0;31m\\\u001b[0m\u001b[0;34m\u001b[0m\u001b[0;34m\u001b[0m\u001b[0m\n",
            "\u001b[0;32m/usr/local/lib/python3.6/dist-packages/cleverhans/attacks_tf.py\u001b[0m in \u001b[0;36mjsma_symbolic\u001b[0;34m(x, y_target, model, theta, gamma, clip_min, clip_max)\u001b[0m\n\u001b[1;32m    348\u001b[0m \u001b[0;34m\u001b[0m\u001b[0m\n\u001b[1;32m    349\u001b[0m   \u001b[0mnb_classes\u001b[0m \u001b[0;34m=\u001b[0m \u001b[0mint\u001b[0m\u001b[0;34m(\u001b[0m\u001b[0my_target\u001b[0m\u001b[0;34m.\u001b[0m\u001b[0mshape\u001b[0m\u001b[0;34m[\u001b[0m\u001b[0;34m-\u001b[0m\u001b[0;36m1\u001b[0m\u001b[0;34m]\u001b[0m\u001b[0;34m.\u001b[0m\u001b[0mvalue\u001b[0m\u001b[0;34m)\u001b[0m\u001b[0;34m\u001b[0m\u001b[0;34m\u001b[0m\u001b[0m\n\u001b[0;32m--> 350\u001b[0;31m   \u001b[0mnb_features\u001b[0m \u001b[0;34m=\u001b[0m \u001b[0mint\u001b[0m\u001b[0;34m(\u001b[0m\u001b[0mnp\u001b[0m\u001b[0;34m.\u001b[0m\u001b[0mproduct\u001b[0m\u001b[0;34m(\u001b[0m\u001b[0mx\u001b[0m\u001b[0;34m.\u001b[0m\u001b[0mshape\u001b[0m\u001b[0;34m[\u001b[0m\u001b[0;36m1\u001b[0m\u001b[0;34m:\u001b[0m\u001b[0;34m]\u001b[0m\u001b[0;34m)\u001b[0m\u001b[0;34m.\u001b[0m\u001b[0mvalue\u001b[0m\u001b[0;34m)\u001b[0m\u001b[0;34m\u001b[0m\u001b[0;34m\u001b[0m\u001b[0m\n\u001b[0m\u001b[1;32m    351\u001b[0m \u001b[0;34m\u001b[0m\u001b[0m\n\u001b[1;32m    352\u001b[0m   \u001b[0;32mif\u001b[0m \u001b[0mx\u001b[0m\u001b[0;34m.\u001b[0m\u001b[0mdtype\u001b[0m \u001b[0;34m==\u001b[0m \u001b[0mtf\u001b[0m\u001b[0;34m.\u001b[0m\u001b[0mfloat32\u001b[0m \u001b[0;32mand\u001b[0m \u001b[0my_target\u001b[0m\u001b[0;34m.\u001b[0m\u001b[0mdtype\u001b[0m \u001b[0;34m==\u001b[0m \u001b[0mtf\u001b[0m\u001b[0;34m.\u001b[0m\u001b[0mint64\u001b[0m\u001b[0;34m:\u001b[0m\u001b[0;34m\u001b[0m\u001b[0;34m\u001b[0m\u001b[0m\n",
            "\u001b[0;31mAttributeError\u001b[0m: 'numpy.int64' object has no attribute 'value'"
          ]
        }
      ]
    },
    {
      "cell_type": "code",
      "metadata": {
        "id": "IMB6PgGW0EKV",
        "colab_type": "code",
        "colab": {}
      },
      "source": [
        ""
      ],
      "execution_count": 0,
      "outputs": []
    },
    {
      "cell_type": "code",
      "metadata": {
        "id": "M796Rljg0EFS",
        "colab_type": "code",
        "colab": {}
      },
      "source": [
        ""
      ],
      "execution_count": 0,
      "outputs": []
    },
    {
      "cell_type": "code",
      "metadata": {
        "id": "mG_GaPu80D_9",
        "colab_type": "code",
        "colab": {}
      },
      "source": [
        ""
      ],
      "execution_count": 0,
      "outputs": []
    },
    {
      "cell_type": "code",
      "metadata": {
        "id": "_3QMHhM3y1j5",
        "colab_type": "code",
        "colab": {}
      },
      "source": [
        "test_loader = torch.utils.data.DataLoader(test_data, batch_size=BATCH_SIZE)\n",
        "for xs, ys in tqdm(test_loader):\n",
        "    adv_preds = sess.run(adv_preds_op, feed_dict={x_op: xs})\n",
        "    correct += (np.argmax(adv_preds, axis=1) == ys.cpu().detach().numpy()).sum()\n",
        "    total += test_loader.batch_size\n"
      ],
      "execution_count": 0,
      "outputs": []
    }
  ]
}