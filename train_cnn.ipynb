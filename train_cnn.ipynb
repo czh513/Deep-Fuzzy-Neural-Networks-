{
  "nbformat": 4,
  "nbformat_minor": 0,
  "metadata": {
    "kernelspec": {
      "name": "python3",
      "display_name": "Python 3"
    },
    "colab": {
      "name": "train-cnn.ipynb",
      "provenance": [],
      "collapsed_sections": []
    },
    "accelerator": "GPU"
  },
  "cells": [
    {
      "cell_type": "code",
      "metadata": {
        "id": "WQ-JmrywljQE",
        "colab_type": "code",
        "outputId": "105a9a5b-7574-4c2f-cf50-9bb9a73a26de",
        "colab": {
          "base_uri": "https://localhost:8080/",
          "height": 124
        }
      },
      "source": [
        "from google.colab import drive\n",
        "drive.mount('/content/gdrive')"
      ],
      "execution_count": 2,
      "outputs": [
        {
          "output_type": "stream",
          "text": [
            "Go to this URL in a browser: https://accounts.google.com/o/oauth2/auth?client_id=947318989803-6bn6qk8qdgf4n4g3pfee6491hc0brc4i.apps.googleusercontent.com&redirect_uri=urn%3Aietf%3Awg%3Aoauth%3A2.0%3Aoob&scope=email%20https%3A%2F%2Fwww.googleapis.com%2Fauth%2Fdocs.test%20https%3A%2F%2Fwww.googleapis.com%2Fauth%2Fdrive%20https%3A%2F%2Fwww.googleapis.com%2Fauth%2Fdrive.photos.readonly%20https%3A%2F%2Fwww.googleapis.com%2Fauth%2Fpeopleapi.readonly&response_type=code\n",
            "\n",
            "Enter your authorization code:\n",
            "··········\n",
            "Mounted at /content/gdrive\n"
          ],
          "name": "stdout"
        }
      ]
    },
    {
      "cell_type": "code",
      "metadata": {
        "id": "l9es4xVYli_W",
        "colab_type": "code",
        "colab": {}
      },
      "source": [
        "home_dir = '/content/gdrive/My Drive/Colab Notebooks/newlogic'\n",
        "import sys\n",
        "sys.path.append(home_dir)"
      ],
      "execution_count": 0,
      "outputs": []
    },
    {
      "cell_type": "code",
      "metadata": {
        "id": "WkJov5-flb6h",
        "colab_type": "code",
        "colab": {}
      },
      "source": [
        "import os"
      ],
      "execution_count": 0,
      "outputs": []
    },
    {
      "cell_type": "code",
      "metadata": {
        "id": "dH4NJLDtlb6q",
        "colab_type": "code",
        "colab": {}
      },
      "source": [
        "# third-party library\n",
        "import torch\n",
        "import torch.nn as nn\n",
        "from torch.nn.functional import one_hot\n",
        "import torch.utils.data as Data\n",
        "import torchvision\n",
        "import matplotlib.pyplot as plt\n",
        "from models import CNN\n",
        "from utils import grouper\n",
        "from time import time"
      ],
      "execution_count": 0,
      "outputs": []
    },
    {
      "cell_type": "code",
      "metadata": {
        "id": "HnQfn1p5nYe_",
        "colab_type": "code",
        "outputId": "6b920e40-b0a9-4773-fd12-f8f155f4d452",
        "colab": {
          "base_uri": "https://localhost:8080/",
          "height": 34
        }
      },
      "source": [
        "device = torch.device(\"cuda\") if torch.cuda.is_available() else torch.device(\"cpu\")\n",
        "print(\"Using device: %s\" % device)"
      ],
      "execution_count": 7,
      "outputs": [
        {
          "output_type": "stream",
          "text": [
            "Using device: cuda\n"
          ],
          "name": "stdout"
        }
      ]
    },
    {
      "cell_type": "code",
      "metadata": {
        "id": "MPsYz_G7lb6x",
        "colab_type": "code",
        "colab": {}
      },
      "source": [
        "# Hyper Parameters\n",
        "EPOCH = 2               # train the training data n times, to save time, we just train 1 epoch\n",
        "BATCH_SIZE = 64\n",
        "TEST_FREQ = 100\n",
        "LR = 0.001              # learning rate\n",
        "DOWNLOAD_MNIST = not(os.path.exists('./mnist/')) or not os.listdir('./mnist/')"
      ],
      "execution_count": 0,
      "outputs": []
    },
    {
      "cell_type": "code",
      "metadata": {
        "id": "lruO294vlb62",
        "colab_type": "code",
        "colab": {
          "base_uri": "https://localhost:8080/",
          "height": 280
        },
        "outputId": "0bdf78f8-4b67-453f-9f63-c2ce5f2ca28f"
      },
      "source": [
        "gaussian_noise = torchvision.transforms.Lambda(lambda x : (x + torch.randn_like(x)*0.3)\n",
        "                                                           .clamp(min=0, max=1))\n",
        "train_transform = torchvision.transforms.Compose([\n",
        "    torchvision.transforms.RandomResizedCrop(size=(28, 28), scale=(0.9, 1.0)),\n",
        "    torchvision.transforms.RandomRotation(degrees=10),\n",
        "    torchvision.transforms.ToTensor(),\n",
        "    gaussian_noise,\n",
        "    torchvision.transforms.RandomErasing(scale=(0.01, 0.05))\n",
        "])\n",
        "train_data = torchvision.datasets.MNIST(\n",
        "    root='./mnist/',\n",
        "    train=True,\n",
        "    transform=train_transform, \n",
        "    download=DOWNLOAD_MNIST,\n",
        ")\n",
        "test_data = torchvision.datasets.MNIST(\n",
        "    root='./mnist/', \n",
        "    train=False, \n",
        "    transform=torchvision.transforms.ToTensor()\n",
        ")"
      ],
      "execution_count": 9,
      "outputs": [
        {
          "output_type": "stream",
          "text": [
            "  0%|          | 0/9912422 [00:00<?, ?it/s]"
          ],
          "name": "stderr"
        },
        {
          "output_type": "stream",
          "text": [
            "Downloading http://yann.lecun.com/exdb/mnist/train-images-idx3-ubyte.gz to ./mnist/MNIST/raw/train-images-idx3-ubyte.gz\n"
          ],
          "name": "stdout"
        },
        {
          "output_type": "stream",
          "text": [
            "9920512it [00:00, 20738272.47it/s]                            \n"
          ],
          "name": "stderr"
        },
        {
          "output_type": "stream",
          "text": [
            "Extracting ./mnist/MNIST/raw/train-images-idx3-ubyte.gz to ./mnist/MNIST/raw\n"
          ],
          "name": "stdout"
        },
        {
          "output_type": "stream",
          "text": [
            "32768it [00:00, 331889.97it/s]\n",
            "0it [00:00, ?it/s]"
          ],
          "name": "stderr"
        },
        {
          "output_type": "stream",
          "text": [
            "Downloading http://yann.lecun.com/exdb/mnist/train-labels-idx1-ubyte.gz to ./mnist/MNIST/raw/train-labels-idx1-ubyte.gz\n",
            "Extracting ./mnist/MNIST/raw/train-labels-idx1-ubyte.gz to ./mnist/MNIST/raw\n",
            "Downloading http://yann.lecun.com/exdb/mnist/t10k-images-idx3-ubyte.gz to ./mnist/MNIST/raw/t10k-images-idx3-ubyte.gz\n"
          ],
          "name": "stdout"
        },
        {
          "output_type": "stream",
          "text": [
            "1654784it [00:00, 5889642.74it/s]                           \n",
            "8192it [00:00, 120684.98it/s]\n"
          ],
          "name": "stderr"
        },
        {
          "output_type": "stream",
          "text": [
            "Extracting ./mnist/MNIST/raw/t10k-images-idx3-ubyte.gz to ./mnist/MNIST/raw\n",
            "Downloading http://yann.lecun.com/exdb/mnist/t10k-labels-idx1-ubyte.gz to ./mnist/MNIST/raw/t10k-labels-idx1-ubyte.gz\n",
            "Extracting ./mnist/MNIST/raw/t10k-labels-idx1-ubyte.gz to ./mnist/MNIST/raw\n",
            "Processing...\n",
            "Done!\n"
          ],
          "name": "stdout"
        }
      ]
    },
    {
      "cell_type": "code",
      "metadata": {
        "id": "fBahgPSrlb7F",
        "colab_type": "code",
        "outputId": "8c8c5cf8-bb7f-4901-9476-948aeeaadfd0",
        "colab": {
          "base_uri": "https://localhost:8080/",
          "height": 405
        }
      },
      "source": [
        "# plot one example\n",
        "print(train_data.train_data.size())                 # (60000, 28, 28)\n",
        "print(train_data.train_labels.size())               # (60000)\n",
        "plt.imshow(train_data.train_data[0].numpy(), cmap='gray')\n",
        "plt.title('%i' % train_data.train_labels[0])\n",
        "plt.show()"
      ],
      "execution_count": 10,
      "outputs": [
        {
          "output_type": "stream",
          "text": [
            "/usr/local/lib/python3.6/dist-packages/torchvision/datasets/mnist.py:53: UserWarning: train_data has been renamed data\n",
            "  warnings.warn(\"train_data has been renamed data\")\n",
            "/usr/local/lib/python3.6/dist-packages/torchvision/datasets/mnist.py:43: UserWarning: train_labels has been renamed targets\n",
            "  warnings.warn(\"train_labels has been renamed targets\")\n"
          ],
          "name": "stderr"
        },
        {
          "output_type": "stream",
          "text": [
            "torch.Size([60000, 28, 28])\n",
            "torch.Size([60000])\n"
          ],
          "name": "stdout"
        },
        {
          "output_type": "display_data",
          "data": {
            "image/png": "[encoded data removed]",
            "text/plain": [
              "<Figure size 432x288 with 1 Axes>"
            ]
          },
          "metadata": {
            "tags": []
          }
        }
      ]
    },
    {
      "cell_type": "code",
      "metadata": {
        "id": "Ds8zBoajlb7T",
        "colab_type": "code",
        "colab": {}
      },
      "source": [
        "def train(name, timeout_sec=120, strictening=None, **kwargs):\n",
        "    use_sigmoid_out = kwargs.get('use_sigmoid_out', False)\n",
        "    torch.manual_seed(3582)    # reproducible    \n",
        "    # Data Loader for easy mini-batch return in training, the image batch shape will be (BS, 1, 28, 28)\n",
        "    train_loader = Data.DataLoader(dataset=train_data, batch_size=BATCH_SIZE, shuffle=True)\n",
        "    test_loader = Data.DataLoader(dataset=test_data, batch_size=2000, shuffle=True)    \n",
        "    cnn = CNN(**kwargs)\n",
        "    print(cnn)  # net architecture\n",
        "    optimizer = torch.optim.Adam(cnn.parameters(), amsgrad=True, lr=LR)   # okwargsize all cnn parameters\n",
        "    loss_func = nn.MSELoss() if use_sigmoid_out else nn.CrossEntropyLoss()\n",
        "    train_loop_with_timeout(cnn, train_loader, test_loader, optimizer, \n",
        "                            loss_func, use_sigmoid_out, strictening, timeout_sec)\n",
        "    out_path = os.path.join(home_dir, 'output/%s.pkl' % name)\n",
        "    torch.save(cnn, out_path)\n",
        "    print('Model saved to %s' % out_path)\n",
        "    return cnn\n",
        "    \n",
        "def train_loop_with_timeout(cnn, train_loader, test_loader, optimizer, \n",
        "                            loss_func, use_sigmoid_out, strictening, timeout_sec):\n",
        "    cnn.to(device)\n",
        "    started_sec = time()\n",
        "    for epoch in range(EPOCH):\n",
        "        batch_groups = grouper(train_loader, TEST_FREQ)\n",
        "        for batch_group, (test_x, test_y) in zip(batch_groups, test_loader): \n",
        "            for train_x, train_y in batch_group:\n",
        "                train_x = train_x.to(device)\n",
        "                train_y = train_y.to(device)\n",
        "                output, _ = cnn(train_x)\n",
        "                if use_sigmoid_out:\n",
        "                    train_y = one_hot(train_y, num_classes=10).float()\n",
        "                    loss = loss_func(output, train_y)\n",
        "                else:\n",
        "                    loss = loss_func(output, train_y)\n",
        "                if strictening is not None and strictening > 0:\n",
        "                    modules = [cnn.conv1[0], cnn.conv2[0], cnn.out[0]]\n",
        "                    weight_reg = sum(m.weight.abs().mean() for m in modules)\n",
        "                    bias_reg = sum(m.bias.mean() for m in modules) # notice: no abs()\n",
        "                    loss += strictening * (weight_reg + bias_reg)\n",
        "                optimizer.zero_grad()           # clear gradients for this training step\n",
        "                loss.backward()                 # backpropagation, compute gradients\n",
        "                optimizer.step()                # apply gradients\n",
        "\n",
        "            test_output, _ = cnn(test_x.to(device))\n",
        "            pred_y = torch.max(test_output, 1)[1].cpu().data.numpy()\n",
        "            accuracy = float((pred_y == test_y.data.numpy()).astype(int).sum()) / float(test_y.size(0))\n",
        "            print('Epoch: ', epoch, '| train loss: %.4f' % loss.cpu().data.numpy(), '| test accuracy: %.2f' % accuracy)\n",
        "            \n",
        "            elapsed_sec = time() - started_sec\n",
        "            if elapsed_sec > timeout_sec:\n",
        "                print('Timeout (%.2f sec), training is terminated' % elapsed_sec)\n",
        "                return"
      ],
      "execution_count": 0,
      "outputs": []
    },
    {
      "cell_type": "code",
      "metadata": {
        "id": "vdOWxQ7vlb7Y",
        "colab_type": "code",
        "outputId": "7d8ae6cc-f9b8-4a79-cc06-02e1ad0a0bf9",
        "colab": {
          "base_uri": "https://localhost:8080/",
          "height": 503
        }
      },
      "source": [
        "%%time\n",
        "_ = train('cnn-mnist-relu', use_relog=False, use_maxout=False,\n",
        "          conv1_out_channels=16, conv2_out_channels=32)"
      ],
      "execution_count": 10,
      "outputs": [
        {
          "output_type": "stream",
          "text": [
            "CNN(\n",
            "  (conv1): Sequential(\n",
            "    (0): Conv2d(1, 16, kernel_size=(5, 5), stride=(1, 1), padding=(2, 2))\n",
            "    (1): ReLU()\n",
            "    (2): MaxPool2d(kernel_size=2, stride=2, padding=0, dilation=1, ceil_mode=False)\n",
            "  )\n",
            "  (conv2): Sequential(\n",
            "    (0): Conv2d(16, 32, kernel_size=(5, 5), stride=(1, 1), padding=(2, 2))\n",
            "    (1): ReLU()\n",
            "    (2): MaxPool2d(kernel_size=2, stride=2, padding=0, dilation=1, ceil_mode=False)\n",
            "  )\n",
            "  (out): Sequential(\n",
            "    (0): Linear(in_features=1568, out_features=10, bias=True)\n",
            "  )\n",
            ")\n",
            "Epoch:  0 | train loss: 0.5659 | test accuracy: 0.89\n",
            "Epoch:  0 | train loss: 0.3762 | test accuracy: 0.93\n",
            "Epoch:  0 | train loss: 0.1689 | test accuracy: 0.96\n",
            "Epoch:  0 | train loss: 0.1939 | test accuracy: 0.96\n",
            "Epoch:  0 | train loss: 0.1877 | test accuracy: 0.97\n",
            "Epoch:  1 | train loss: 0.6079 | test accuracy: 0.97\n",
            "Epoch:  1 | train loss: 0.1096 | test accuracy: 0.97\n",
            "Epoch:  1 | train loss: 0.1221 | test accuracy: 0.97\n",
            "Epoch:  1 | train loss: 0.1627 | test accuracy: 0.98\n",
            "Epoch:  1 | train loss: 0.1156 | test accuracy: 0.98\n",
            "Model saved to /content/gdrive/My Drive/Colab Notebooks/newlogic/output/cnn-mnist-relu.pkl\n",
            "CPU times: user 30.1 s, sys: 1.57 s, total: 31.7 s\n",
            "Wall time: 35.4 s\n"
          ],
          "name": "stdout"
        }
      ]
    },
    {
      "cell_type": "code",
      "metadata": {
        "id": "uVu1wzpLlb76",
        "colab_type": "code",
        "outputId": "5a102917-f824-4471-bab6-7385886f9798",
        "colab": {
          "base_uri": "https://localhost:8080/",
          "height": 523
        }
      },
      "source": [
        "%%time\n",
        "_ = train('cnn-mnist-relu-strictening_0.01', use_relog=False, use_maxout=False,\n",
        "          conv1_out_channels=16, conv2_out_channels=32, strictening=0.01)"
      ],
      "execution_count": 11,
      "outputs": [
        {
          "output_type": "stream",
          "text": [
            "CNN(\n",
            "  (conv1): Sequential(\n",
            "    (0): Conv2d(1, 16, kernel_size=(5, 5), stride=(1, 1), padding=(2, 2))\n",
            "    (1): ReLU()\n",
            "    (2): MaxPool2d(kernel_size=2, stride=2, padding=0, dilation=1, ceil_mode=False)\n",
            "  )\n",
            "  (conv2): Sequential(\n",
            "    (0): Conv2d(16, 32, kernel_size=(5, 5), stride=(1, 1), padding=(2, 2))\n",
            "    (1): ReLU()\n",
            "    (2): MaxPool2d(kernel_size=2, stride=2, padding=0, dilation=1, ceil_mode=False)\n",
            "  )\n",
            "  (out): Sequential(\n",
            "    (0): Linear(in_features=1568, out_features=10, bias=True)\n",
            "  )\n",
            ")\n",
            "Epoch:  0 | train loss: 0.7056 | test accuracy: 0.90\n",
            "Epoch:  0 | train loss: 0.5152 | test accuracy: 0.94\n",
            "Epoch:  0 | train loss: 0.2076 | test accuracy: 0.95\n",
            "Epoch:  0 | train loss: 0.1586 | test accuracy: 0.96\n",
            "Epoch:  0 | train loss: 0.2599 | test accuracy: 0.97\n",
            "Epoch:  1 | train loss: 0.2606 | test accuracy: 0.97\n",
            "Epoch:  1 | train loss: 0.1891 | test accuracy: 0.97\n",
            "Epoch:  1 | train loss: 0.1776 | test accuracy: 0.97\n",
            "Epoch:  1 | train loss: 0.2278 | test accuracy: 0.98\n",
            "Epoch:  1 | train loss: 0.0839 | test accuracy: 0.98\n",
            "Model saved to /content/gdrive/My Drive/Colab Notebooks/newlogic/output/cnn-mnist-relu-strictening_0.01.pkl\n",
            "CPU times: user 29.2 s, sys: 593 ms, total: 29.8 s\n",
            "Wall time: 30.3 s\n"
          ],
          "name": "stdout"
        }
      ]
    },
    {
      "cell_type": "code",
      "metadata": {
        "id": "5PKDuCKGlb8B",
        "colab_type": "code",
        "outputId": "4d8246fe-f20e-4449-fbea-c1dd7703692d",
        "colab": {
          "base_uri": "https://localhost:8080/",
          "height": 523
        }
      },
      "source": [
        "%%time\n",
        "_ = train('cnn-mnist-relu-strictening_0.1', use_relog=False, use_maxout=False,\n",
        "          conv1_out_channels=16, conv2_out_channels=32, strictening=0.1)"
      ],
      "execution_count": 12,
      "outputs": [
        {
          "output_type": "stream",
          "text": [
            "CNN(\n",
            "  (conv1): Sequential(\n",
            "    (0): Conv2d(1, 16, kernel_size=(5, 5), stride=(1, 1), padding=(2, 2))\n",
            "    (1): ReLU()\n",
            "    (2): MaxPool2d(kernel_size=2, stride=2, padding=0, dilation=1, ceil_mode=False)\n",
            "  )\n",
            "  (conv2): Sequential(\n",
            "    (0): Conv2d(16, 32, kernel_size=(5, 5), stride=(1, 1), padding=(2, 2))\n",
            "    (1): ReLU()\n",
            "    (2): MaxPool2d(kernel_size=2, stride=2, padding=0, dilation=1, ceil_mode=False)\n",
            "  )\n",
            "  (out): Sequential(\n",
            "    (0): Linear(in_features=1568, out_features=10, bias=True)\n",
            "  )\n",
            ")\n",
            "Epoch:  0 | train loss: 0.7101 | test accuracy: 0.89\n",
            "Epoch:  0 | train loss: 0.3180 | test accuracy: 0.93\n",
            "Epoch:  0 | train loss: 0.2197 | test accuracy: 0.95\n",
            "Epoch:  0 | train loss: 0.1462 | test accuracy: 0.96\n",
            "Epoch:  0 | train loss: 0.0880 | test accuracy: 0.97\n",
            "Epoch:  1 | train loss: 0.1925 | test accuracy: 0.97\n",
            "Epoch:  1 | train loss: 0.1340 | test accuracy: 0.97\n",
            "Epoch:  1 | train loss: 0.1483 | test accuracy: 0.97\n",
            "Epoch:  1 | train loss: 0.1820 | test accuracy: 0.98\n",
            "Epoch:  1 | train loss: 0.0120 | test accuracy: 0.98\n",
            "Model saved to /content/gdrive/My Drive/Colab Notebooks/newlogic/output/cnn-mnist-relu-strictening_0.1.pkl\n",
            "CPU times: user 29.3 s, sys: 726 ms, total: 30.1 s\n",
            "Wall time: 30.2 s\n"
          ],
          "name": "stdout"
        }
      ]
    },
    {
      "cell_type": "code",
      "metadata": {
        "id": "WdHx3cStlb8H",
        "colab_type": "code",
        "outputId": "f87925ba-ce82-4e9f-cb33-d0c8a4e25480",
        "colab": {
          "base_uri": "https://localhost:8080/",
          "height": 523
        }
      },
      "source": [
        "%%time\n",
        "_ = train('cnn-mnist-relu-strictening_5', use_relog=False, use_maxout=False,\n",
        "          conv1_out_channels=16, conv2_out_channels=32, strictening=5)"
      ],
      "execution_count": 13,
      "outputs": [
        {
          "output_type": "stream",
          "text": [
            "CNN(\n",
            "  (conv1): Sequential(\n",
            "    (0): Conv2d(1, 16, kernel_size=(5, 5), stride=(1, 1), padding=(2, 2))\n",
            "    (1): ReLU()\n",
            "    (2): MaxPool2d(kernel_size=2, stride=2, padding=0, dilation=1, ceil_mode=False)\n",
            "  )\n",
            "  (conv2): Sequential(\n",
            "    (0): Conv2d(16, 32, kernel_size=(5, 5), stride=(1, 1), padding=(2, 2))\n",
            "    (1): ReLU()\n",
            "    (2): MaxPool2d(kernel_size=2, stride=2, padding=0, dilation=1, ceil_mode=False)\n",
            "  )\n",
            "  (out): Sequential(\n",
            "    (0): Linear(in_features=1568, out_features=10, bias=True)\n",
            "  )\n",
            ")\n",
            "Epoch:  0 | train loss: -0.4644 | test accuracy: 0.88\n",
            "Epoch:  0 | train loss: -2.1540 | test accuracy: 0.91\n",
            "Epoch:  0 | train loss: -3.8630 | test accuracy: 0.94\n",
            "Epoch:  0 | train loss: -5.3628 | test accuracy: 0.94\n",
            "Epoch:  0 | train loss: -6.9092 | test accuracy: 0.95\n",
            "Epoch:  1 | train loss: -8.3125 | test accuracy: 0.96\n",
            "Epoch:  1 | train loss: -9.9544 | test accuracy: 0.96\n",
            "Epoch:  1 | train loss: -11.4203 | test accuracy: 0.96\n",
            "Epoch:  1 | train loss: -12.7795 | test accuracy: 0.96\n",
            "Epoch:  1 | train loss: -14.3458 | test accuracy: 0.96\n",
            "Model saved to /content/gdrive/My Drive/Colab Notebooks/newlogic/output/cnn-mnist-relu-strictening_5.pkl\n",
            "CPU times: user 29.4 s, sys: 662 ms, total: 30.1 s\n",
            "Wall time: 30.2 s\n"
          ],
          "name": "stdout"
        }
      ]
    },
    {
      "cell_type": "code",
      "metadata": {
        "id": "IVpq23f8lb8W",
        "colab_type": "code",
        "outputId": "ccc93096-35b7-4149-a35b-8b02dab92e9d",
        "colab": {
          "base_uri": "https://localhost:8080/",
          "height": 503
        }
      },
      "source": [
        "%%time\n",
        "_ = train('cnn-mnist-relog', use_relog=True, use_maxout=False,\n",
        "          conv1_out_channels=16, conv2_out_channels=32)"
      ],
      "execution_count": 10,
      "outputs": [
        {
          "output_type": "stream",
          "text": [
            "CNN(\n",
            "  (conv1): Sequential(\n",
            "    (0): Conv2d(1, 16, kernel_size=(5, 5), stride=(1, 1), padding=(2, 2))\n",
            "    (1): ReLog(n=100.00)\n",
            "    (2): MaxPool2d(kernel_size=2, stride=2, padding=0, dilation=1, ceil_mode=False)\n",
            "  )\n",
            "  (conv2): Sequential(\n",
            "    (0): Conv2d(16, 32, kernel_size=(5, 5), stride=(1, 1), padding=(2, 2))\n",
            "    (1): ReLog(n=100.00)\n",
            "    (2): MaxPool2d(kernel_size=2, stride=2, padding=0, dilation=1, ceil_mode=False)\n",
            "  )\n",
            "  (out): Sequential(\n",
            "    (0): Linear(in_features=1568, out_features=10, bias=True)\n",
            "  )\n",
            ")\n",
            "Epoch:  0 | train loss: 0.9238 | test accuracy: 0.85\n",
            "Epoch:  0 | train loss: 0.5512 | test accuracy: 0.91\n",
            "Epoch:  0 | train loss: 0.5100 | test accuracy: 0.93\n",
            "Epoch:  0 | train loss: 0.3649 | test accuracy: 0.94\n",
            "Epoch:  0 | train loss: 0.3154 | test accuracy: 0.95\n",
            "Epoch:  1 | train loss: 0.3615 | test accuracy: 0.96\n",
            "Epoch:  1 | train loss: 0.2893 | test accuracy: 0.96\n",
            "Epoch:  1 | train loss: 0.2153 | test accuracy: 0.96\n",
            "Epoch:  1 | train loss: 0.2709 | test accuracy: 0.96\n",
            "Epoch:  1 | train loss: 0.2107 | test accuracy: 0.96\n",
            "Model saved to /content/gdrive/My Drive/Colab Notebooks/newlogic/output/cnn-mnist-relog.pkl\n",
            "CPU times: user 31.9 s, sys: 1.6 s, total: 33.5 s\n",
            "Wall time: 33.7 s\n"
          ],
          "name": "stdout"
        }
      ]
    },
    {
      "cell_type": "code",
      "metadata": {
        "id": "buLFyV02lb8p",
        "colab_type": "code",
        "outputId": "cf9659d8-7a14-4aed-ab8b-54bf88727a41",
        "colab": {
          "base_uri": "https://localhost:8080/",
          "height": 523
        }
      },
      "source": [
        "%%time\n",
        "_ = train('cnn-mnist-relog-more-neurons', use_relog=True, use_maxout=False,\n",
        "          conv1_out_channels=64, conv2_out_channels=128)"
      ],
      "execution_count": 11,
      "outputs": [
        {
          "output_type": "stream",
          "text": [
            "CNN(\n",
            "  (conv1): Sequential(\n",
            "    (0): Conv2d(1, 64, kernel_size=(5, 5), stride=(1, 1), padding=(2, 2))\n",
            "    (1): ReLog(n=100.00)\n",
            "    (2): MaxPool2d(kernel_size=2, stride=2, padding=0, dilation=1, ceil_mode=False)\n",
            "  )\n",
            "  (conv2): Sequential(\n",
            "    (0): Conv2d(64, 128, kernel_size=(5, 5), stride=(1, 1), padding=(2, 2))\n",
            "    (1): ReLog(n=100.00)\n",
            "    (2): MaxPool2d(kernel_size=2, stride=2, padding=0, dilation=1, ceil_mode=False)\n",
            "  )\n",
            "  (out): Sequential(\n",
            "    (0): Linear(in_features=6272, out_features=10, bias=True)\n",
            "  )\n",
            ")\n",
            "Epoch:  0 | train loss: 0.8085 | test accuracy: 0.78\n",
            "Epoch:  0 | train loss: 0.5538 | test accuracy: 0.89\n",
            "Epoch:  0 | train loss: 0.3215 | test accuracy: 0.91\n",
            "Epoch:  0 | train loss: 0.3006 | test accuracy: 0.95\n",
            "Epoch:  0 | train loss: 0.4091 | test accuracy: 0.93\n",
            "Epoch:  1 | train loss: 0.3923 | test accuracy: 0.96\n",
            "Epoch:  1 | train loss: 0.3043 | test accuracy: 0.96\n",
            "Epoch:  1 | train loss: 0.2107 | test accuracy: 0.96\n",
            "Epoch:  1 | train loss: 0.2214 | test accuracy: 0.96\n",
            "Epoch:  1 | train loss: 0.1654 | test accuracy: 0.97\n",
            "Model saved to /content/gdrive/My Drive/Colab Notebooks/newlogic/output/cnn-mnist-relog-more-neurons.pkl\n",
            "CPU times: user 36.9 s, sys: 4.21 s, total: 41.1 s\n",
            "Wall time: 41.3 s\n"
          ],
          "name": "stdout"
        }
      ]
    },
    {
      "cell_type": "code",
      "metadata": {
        "id": "WKJDICIZlb9K",
        "colab_type": "code",
        "outputId": "9cc5400a-d619-46f4-9e91-fb8fbcc213da",
        "colab": {
          "base_uri": "https://localhost:8080/",
          "height": 555
        }
      },
      "source": [
        "%%time\n",
        "_ = train('cnn-mnist-relog-maxout', use_relog=True, use_maxout='max',\n",
        "          conv1_out_channels=16, conv2_out_channels=32, max_folding_factor=4)"
      ],
      "execution_count": 12,
      "outputs": [
        {
          "output_type": "stream",
          "text": [
            "CNN(\n",
            "  (conv1): Sequential(\n",
            "    (0): Conv2d(1, 64, kernel_size=(5, 5), stride=(1, 1), padding=(2, 2))\n",
            "    (1): FoldingMaxout(use_min=False, k=4)\n",
            "    (2): ReLog(n=100.00)\n",
            "    (3): MaxPool2d(kernel_size=2, stride=2, padding=0, dilation=1, ceil_mode=False)\n",
            "  )\n",
            "  (conv2): Sequential(\n",
            "    (0): Conv2d(16, 128, kernel_size=(5, 5), stride=(1, 1), padding=(2, 2))\n",
            "    (1): FoldingMaxout(use_min=False, k=4)\n",
            "    (2): ReLog(n=100.00)\n",
            "    (3): MaxPool2d(kernel_size=2, stride=2, padding=0, dilation=1, ceil_mode=False)\n",
            "  )\n",
            "  (out): Sequential(\n",
            "    (0): Linear(in_features=1568, out_features=40, bias=True)\n",
            "    (1): FoldingMaxout(use_min=False, k=4)\n",
            "  )\n",
            ")\n",
            "Epoch:  0 | train loss: 2.1842 | test accuracy: 0.47\n",
            "Epoch:  0 | train loss: 1.0843 | test accuracy: 0.82\n",
            "Epoch:  0 | train loss: 0.7169 | test accuracy: 0.88\n",
            "Epoch:  0 | train loss: 0.4304 | test accuracy: 0.92\n",
            "Epoch:  0 | train loss: 0.5399 | test accuracy: 0.92\n",
            "Epoch:  1 | train loss: 0.2052 | test accuracy: 0.93\n",
            "Epoch:  1 | train loss: 0.4023 | test accuracy: 0.94\n",
            "Epoch:  1 | train loss: 0.1956 | test accuracy: 0.95\n",
            "Epoch:  1 | train loss: 0.3957 | test accuracy: 0.96\n",
            "Epoch:  1 | train loss: 0.2563 | test accuracy: 0.96\n",
            "Model saved to /content/gdrive/My Drive/Colab Notebooks/newlogic/output/cnn-mnist-relog-maxout.pkl\n",
            "CPU times: user 33.5 s, sys: 2.38 s, total: 35.9 s\n",
            "Wall time: 36 s\n"
          ],
          "name": "stdout"
        }
      ]
    },
    {
      "cell_type": "code",
      "metadata": {
        "id": "cUTliBOQlb9Y",
        "colab_type": "code",
        "outputId": "ade28f90-65b6-4421-eef3-e943be6b8dc5",
        "colab": {
          "base_uri": "https://localhost:8080/",
          "height": 593
        }
      },
      "source": [
        "%%time\n",
        "_ = train('cnn-mnist-relog-maxout-sigmoid-out', use_relog=True, \n",
        "          conv1_out_channels=16, conv2_out_channels=32, \n",
        "          use_maxout='max', max_folding_factor=4, use_sigmoid_out=True,\n",
        "          timeout_sec=900)"
      ],
      "execution_count": 13,
      "outputs": [
        {
          "output_type": "stream",
          "text": [
            "CNN(\n",
            "  (conv1): Sequential(\n",
            "    (0): Conv2d(1, 64, kernel_size=(5, 5), stride=(1, 1), padding=(2, 2))\n",
            "    (1): FoldingMaxout(use_min=False, k=4)\n",
            "    (2): ReLog(n=100.00)\n",
            "    (3): MaxPool2d(kernel_size=2, stride=2, padding=0, dilation=1, ceil_mode=False)\n",
            "  )\n",
            "  (conv2): Sequential(\n",
            "    (0): Conv2d(16, 128, kernel_size=(5, 5), stride=(1, 1), padding=(2, 2))\n",
            "    (1): FoldingMaxout(use_min=False, k=4)\n",
            "    (2): ReLog(n=100.00)\n",
            "    (3): MaxPool2d(kernel_size=2, stride=2, padding=0, dilation=1, ceil_mode=False)\n",
            "  )\n",
            "  (out): Sequential(\n",
            "    (0): Linear(in_features=1568, out_features=40, bias=True)\n",
            "    (1): FoldingMaxout(use_min=False, k=4)\n",
            "    (2): Sigmoid()\n",
            "  )\n",
            ")\n",
            "Epoch:  0 | train loss: 0.0907 | test accuracy: 0.12\n",
            "Epoch:  0 | train loss: 0.0816 | test accuracy: 0.44\n",
            "Epoch:  0 | train loss: 0.0439 | test accuracy: 0.85\n",
            "Epoch:  0 | train loss: 0.0270 | test accuracy: 0.93\n",
            "Epoch:  0 | train loss: 0.0260 | test accuracy: 0.93\n",
            "Epoch:  1 | train loss: 0.0175 | test accuracy: 0.94\n",
            "Epoch:  1 | train loss: 0.0222 | test accuracy: 0.95\n",
            "Epoch:  1 | train loss: 0.0123 | test accuracy: 0.96\n",
            "Epoch:  1 | train loss: 0.0206 | test accuracy: 0.96\n",
            "Epoch:  1 | train loss: 0.0143 | test accuracy: 0.96\n",
            "Model saved to /content/gdrive/My Drive/Colab Notebooks/newlogic/output/cnn-mnist-relog-maxout-sigmoid-out.pkl\n",
            "CPU times: user 34.2 s, sys: 2.5 s, total: 36.7 s\n",
            "Wall time: 36.8 s\n"
          ],
          "name": "stdout"
        }
      ]
    },
    {
      "cell_type": "code",
      "metadata": {
        "id": "SN71FcuBlb98",
        "colab_type": "code",
        "outputId": "0341845b-449a-4755-88e7-437775e003e3",
        "colab": {
          "base_uri": "https://localhost:8080/",
          "height": 645
        }
      },
      "source": [
        "%%time\n",
        "_ = train('cnn-mnist-relog-minmaxout_4_2-sigmoid-out', use_relog=True, \n",
        "          conv1_out_channels=16, conv2_out_channels=32, \n",
        "          use_maxout='minmax', min_folding_factor=4, max_folding_factor=2, \n",
        "          use_sigmoid_out=True, timeout_sec=1200)"
      ],
      "execution_count": 14,
      "outputs": [
        {
          "output_type": "stream",
          "text": [
            "CNN(\n",
            "  (conv1): Sequential(\n",
            "    (0): Conv2d(1, 128, kernel_size=(5, 5), stride=(1, 1), padding=(2, 2))\n",
            "    (1): FoldingMaxout(use_min=True, k=4)\n",
            "    (2): FoldingMaxout(use_min=False, k=2)\n",
            "    (3): ReLog(n=100.00)\n",
            "    (4): MaxPool2d(kernel_size=2, stride=2, padding=0, dilation=1, ceil_mode=False)\n",
            "  )\n",
            "  (conv2): Sequential(\n",
            "    (0): Conv2d(16, 256, kernel_size=(5, 5), stride=(1, 1), padding=(2, 2))\n",
            "    (1): FoldingMaxout(use_min=True, k=4)\n",
            "    (2): FoldingMaxout(use_min=False, k=2)\n",
            "    (3): ReLog(n=100.00)\n",
            "    (4): MaxPool2d(kernel_size=2, stride=2, padding=0, dilation=1, ceil_mode=False)\n",
            "  )\n",
            "  (out): Sequential(\n",
            "    (0): Linear(in_features=1568, out_features=80, bias=True)\n",
            "    (1): FoldingMaxout(use_min=True, k=4)\n",
            "    (2): FoldingMaxout(use_min=False, k=2)\n",
            "    (3): Sigmoid()\n",
            "  )\n",
            ")\n",
            "Epoch:  0 | train loss: 0.0491 | test accuracy: 0.82\n",
            "Epoch:  0 | train loss: 0.0224 | test accuracy: 0.93\n",
            "Epoch:  0 | train loss: 0.0192 | test accuracy: 0.96\n",
            "Epoch:  0 | train loss: 0.0193 | test accuracy: 0.95\n",
            "Epoch:  0 | train loss: 0.0181 | test accuracy: 0.96\n",
            "Epoch:  1 | train loss: 0.0118 | test accuracy: 0.96\n",
            "Epoch:  1 | train loss: 0.0118 | test accuracy: 0.95\n",
            "Epoch:  1 | train loss: 0.0186 | test accuracy: 0.96\n",
            "Epoch:  1 | train loss: 0.0100 | test accuracy: 0.94\n",
            "Epoch:  1 | train loss: 0.0099 | test accuracy: 0.96\n",
            "Model saved to /content/gdrive/My Drive/Colab Notebooks/newlogic/output/cnn-mnist-relog-minmaxout_4_2-sigmoid-out.pkl\n",
            "CPU times: user 37.9 s, sys: 5.22 s, total: 43.2 s\n",
            "Wall time: 43.3 s\n"
          ],
          "name": "stdout"
        }
      ]
    },
    {
      "cell_type": "code",
      "metadata": {
        "id": "RDLN8v-Tlb-f",
        "colab_type": "code",
        "outputId": "7dd9cb64-b682-4097-c155-c0140a99b1af",
        "colab": {
          "base_uri": "https://localhost:8080/",
          "height": 645
        }
      },
      "source": [
        "%%time\n",
        "_ = train('cnn-mnist-relog-minmaxout_4_2-sigmoid-out-strictening_1', use_relog=True, \n",
        "          conv1_out_channels=16, conv2_out_channels=32, \n",
        "          use_maxout='minmax', min_folding_factor=4, max_folding_factor=2,\n",
        "          use_sigmoid_out=True, strictening=1, timeout_sec=1200)"
      ],
      "execution_count": 15,
      "outputs": [
        {
          "output_type": "stream",
          "text": [
            "CNN(\n",
            "  (conv1): Sequential(\n",
            "    (0): Conv2d(1, 128, kernel_size=(5, 5), stride=(1, 1), padding=(2, 2))\n",
            "    (1): FoldingMaxout(use_min=True, k=4)\n",
            "    (2): FoldingMaxout(use_min=False, k=2)\n",
            "    (3): ReLog(n=100.00)\n",
            "    (4): MaxPool2d(kernel_size=2, stride=2, padding=0, dilation=1, ceil_mode=False)\n",
            "  )\n",
            "  (conv2): Sequential(\n",
            "    (0): Conv2d(16, 256, kernel_size=(5, 5), stride=(1, 1), padding=(2, 2))\n",
            "    (1): FoldingMaxout(use_min=True, k=4)\n",
            "    (2): FoldingMaxout(use_min=False, k=2)\n",
            "    (3): ReLog(n=100.00)\n",
            "    (4): MaxPool2d(kernel_size=2, stride=2, padding=0, dilation=1, ceil_mode=False)\n",
            "  )\n",
            "  (out): Sequential(\n",
            "    (0): Linear(in_features=1568, out_features=80, bias=True)\n",
            "    (1): FoldingMaxout(use_min=True, k=4)\n",
            "    (2): FoldingMaxout(use_min=False, k=2)\n",
            "    (3): Sigmoid()\n",
            "  )\n",
            ")\n",
            "Epoch:  0 | train loss: -0.1687 | test accuracy: 0.84\n",
            "Epoch:  0 | train loss: -0.5089 | test accuracy: 0.92\n",
            "Epoch:  0 | train loss: -0.8096 | test accuracy: 0.94\n",
            "Epoch:  0 | train loss: -1.1045 | test accuracy: 0.93\n",
            "Epoch:  0 | train loss: -1.3978 | test accuracy: 0.94\n",
            "Epoch:  1 | train loss: -1.6976 | test accuracy: 0.95\n",
            "Epoch:  1 | train loss: -1.9858 | test accuracy: 0.93\n",
            "Epoch:  1 | train loss: -2.2767 | test accuracy: 0.93\n",
            "Epoch:  1 | train loss: -2.5729 | test accuracy: 0.93\n",
            "Epoch:  1 | train loss: -2.8622 | test accuracy: 0.93\n",
            "Model saved to /content/gdrive/My Drive/Colab Notebooks/newlogic/output/cnn-mnist-relog-minmaxout_4_2-sigmoid-out-strictening_1.pkl\n",
            "CPU times: user 39 s, sys: 5.19 s, total: 44.2 s\n",
            "Wall time: 44.5 s\n"
          ],
          "name": "stdout"
        }
      ]
    },
    {
      "cell_type": "code",
      "metadata": {
        "id": "1ARvBULvtbZ-",
        "colab_type": "code",
        "colab": {
          "base_uri": "https://localhost:8080/",
          "height": 645
        },
        "outputId": "84808706-681e-46ef-ea01-2a7c7a795392"
      },
      "source": [
        "%%time\n",
        "_ = train('cnn-mnist-relog-minmaxout_4_2-sigmoid-out-strictening_0.1', use_relog=True, \n",
        "          conv1_out_channels=16, conv2_out_channels=32, \n",
        "          use_maxout='minmax', min_folding_factor=4, max_folding_factor=2,\n",
        "          use_sigmoid_out=True, strictening=0.1, timeout_sec=1200)"
      ],
      "execution_count": 12,
      "outputs": [
        {
          "output_type": "stream",
          "text": [
            "CNN(\n",
            "  (conv1): Sequential(\n",
            "    (0): Conv2d(1, 128, kernel_size=(5, 5), stride=(1, 1), padding=(2, 2))\n",
            "    (1): FoldingMaxout(use_min=True, k=4)\n",
            "    (2): FoldingMaxout(use_min=False, k=2)\n",
            "    (3): ReLog(n=100.00)\n",
            "    (4): MaxPool2d(kernel_size=2, stride=2, padding=0, dilation=1, ceil_mode=False)\n",
            "  )\n",
            "  (conv2): Sequential(\n",
            "    (0): Conv2d(16, 256, kernel_size=(5, 5), stride=(1, 1), padding=(2, 2))\n",
            "    (1): FoldingMaxout(use_min=True, k=4)\n",
            "    (2): FoldingMaxout(use_min=False, k=2)\n",
            "    (3): ReLog(n=100.00)\n",
            "    (4): MaxPool2d(kernel_size=2, stride=2, padding=0, dilation=1, ceil_mode=False)\n",
            "  )\n",
            "  (out): Sequential(\n",
            "    (0): Linear(in_features=1568, out_features=80, bias=True)\n",
            "    (1): FoldingMaxout(use_min=True, k=4)\n",
            "    (2): FoldingMaxout(use_min=False, k=2)\n",
            "    (3): Sigmoid()\n",
            "  )\n",
            ")\n",
            "Epoch:  0 | train loss: 0.0459 | test accuracy: 0.78\n",
            "Epoch:  0 | train loss: -0.0071 | test accuracy: 0.92\n",
            "Epoch:  0 | train loss: -0.0311 | test accuracy: 0.95\n",
            "Epoch:  0 | train loss: -0.0647 | test accuracy: 0.95\n",
            "Epoch:  0 | train loss: -0.0850 | test accuracy: 0.96\n",
            "Epoch:  1 | train loss: -0.1201 | test accuracy: 0.97\n",
            "Epoch:  1 | train loss: -0.1436 | test accuracy: 0.97\n",
            "Epoch:  1 | train loss: -0.1608 | test accuracy: 0.96\n",
            "Epoch:  1 | train loss: -0.1910 | test accuracy: 0.96\n",
            "Epoch:  1 | train loss: -0.2163 | test accuracy: 0.97\n",
            "Model saved to /content/gdrive/My Drive/Colab Notebooks/newlogic/output/cnn-mnist-relog-minmaxout_4_2-sigmoid-out-strictening_0.1.pkl\n",
            "CPU times: user 43.3 s, sys: 5.71 s, total: 49 s\n",
            "Wall time: 52.8 s\n"
          ],
          "name": "stdout"
        }
      ]
    },
    {
      "cell_type": "code",
      "metadata": {
        "id": "Tw730aoIuXTP",
        "colab_type": "code",
        "colab": {
          "base_uri": "https://localhost:8080/",
          "height": 645
        },
        "outputId": "7a2eae64-134d-4655-ee0b-6daaf496247b"
      },
      "source": [
        "%%time\n",
        "_ = train('cnn-mnist-relog-minmaxout_4_2-sigmoid-out-strictening_0.01', \n",
        "          use_relog=True, conv1_out_channels=16, conv2_out_channels=32, \n",
        "          use_maxout='minmax', min_folding_factor=4, max_folding_factor=2,\n",
        "          use_sigmoid_out=True, strictening=0.01, timeout_sec=1200)"
      ],
      "execution_count": 13,
      "outputs": [
        {
          "output_type": "stream",
          "text": [
            "CNN(\n",
            "  (conv1): Sequential(\n",
            "    (0): Conv2d(1, 128, kernel_size=(5, 5), stride=(1, 1), padding=(2, 2))\n",
            "    (1): FoldingMaxout(use_min=True, k=4)\n",
            "    (2): FoldingMaxout(use_min=False, k=2)\n",
            "    (3): ReLog(n=100.00)\n",
            "    (4): MaxPool2d(kernel_size=2, stride=2, padding=0, dilation=1, ceil_mode=False)\n",
            "  )\n",
            "  (conv2): Sequential(\n",
            "    (0): Conv2d(16, 256, kernel_size=(5, 5), stride=(1, 1), padding=(2, 2))\n",
            "    (1): FoldingMaxout(use_min=True, k=4)\n",
            "    (2): FoldingMaxout(use_min=False, k=2)\n",
            "    (3): ReLog(n=100.00)\n",
            "    (4): MaxPool2d(kernel_size=2, stride=2, padding=0, dilation=1, ceil_mode=False)\n",
            "  )\n",
            "  (out): Sequential(\n",
            "    (0): Linear(in_features=1568, out_features=80, bias=True)\n",
            "    (1): FoldingMaxout(use_min=True, k=4)\n",
            "    (2): FoldingMaxout(use_min=False, k=2)\n",
            "    (3): Sigmoid()\n",
            "  )\n",
            ")\n",
            "Epoch:  0 | train loss: 0.0520 | test accuracy: 0.80\n",
            "Epoch:  0 | train loss: 0.0225 | test accuracy: 0.92\n",
            "Epoch:  0 | train loss: 0.0159 | test accuracy: 0.95\n",
            "Epoch:  0 | train loss: 0.0165 | test accuracy: 0.96\n",
            "Epoch:  0 | train loss: 0.0160 | test accuracy: 0.97\n",
            "Epoch:  1 | train loss: 0.0032 | test accuracy: 0.97\n",
            "Epoch:  1 | train loss: 0.0044 | test accuracy: 0.97\n",
            "Epoch:  1 | train loss: 0.0108 | test accuracy: 0.97\n",
            "Epoch:  1 | train loss: 0.0027 | test accuracy: 0.98\n",
            "Epoch:  1 | train loss: -0.0010 | test accuracy: 0.98\n",
            "Model saved to /content/gdrive/My Drive/Colab Notebooks/newlogic/output/cnn-mnist-relog-minmaxout_4_2-sigmoid-out-strictening_0.01.pkl\n",
            "CPU times: user 41.5 s, sys: 4.82 s, total: 46.3 s\n",
            "Wall time: 46.5 s\n"
          ],
          "name": "stdout"
        }
      ]
    },
    {
      "cell_type": "code",
      "metadata": {
        "id": "icrYdwP_uXF5",
        "colab_type": "code",
        "colab": {
          "base_uri": "https://localhost:8080/",
          "height": 645
        },
        "outputId": "035d2ad0-9111-45a0-f62a-a94867e0520d"
      },
      "source": [
        "%%time\n",
        "_ = train('cnn-mnist-relog-minmaxout_4_2-sigmoid-out-strictening_0.001', \n",
        "          use_relog=True, conv1_out_channels=16, conv2_out_channels=32, \n",
        "          use_maxout='minmax', min_folding_factor=4, max_folding_factor=2,\n",
        "          use_sigmoid_out=True, strictening=0.001, timeout_sec=1200)"
      ],
      "execution_count": 14,
      "outputs": [
        {
          "output_type": "stream",
          "text": [
            "CNN(\n",
            "  (conv1): Sequential(\n",
            "    (0): Conv2d(1, 128, kernel_size=(5, 5), stride=(1, 1), padding=(2, 2))\n",
            "    (1): FoldingMaxout(use_min=True, k=4)\n",
            "    (2): FoldingMaxout(use_min=False, k=2)\n",
            "    (3): ReLog(n=100.00)\n",
            "    (4): MaxPool2d(kernel_size=2, stride=2, padding=0, dilation=1, ceil_mode=False)\n",
            "  )\n",
            "  (conv2): Sequential(\n",
            "    (0): Conv2d(16, 256, kernel_size=(5, 5), stride=(1, 1), padding=(2, 2))\n",
            "    (1): FoldingMaxout(use_min=True, k=4)\n",
            "    (2): FoldingMaxout(use_min=False, k=2)\n",
            "    (3): ReLog(n=100.00)\n",
            "    (4): MaxPool2d(kernel_size=2, stride=2, padding=0, dilation=1, ceil_mode=False)\n",
            "  )\n",
            "  (out): Sequential(\n",
            "    (0): Linear(in_features=1568, out_features=80, bias=True)\n",
            "    (1): FoldingMaxout(use_min=True, k=4)\n",
            "    (2): FoldingMaxout(use_min=False, k=2)\n",
            "    (3): Sigmoid()\n",
            "  )\n",
            ")\n",
            "Epoch:  0 | train loss: 0.0497 | test accuracy: 0.84\n",
            "Epoch:  0 | train loss: 0.0217 | test accuracy: 0.93\n",
            "Epoch:  0 | train loss: 0.0194 | test accuracy: 0.96\n",
            "Epoch:  0 | train loss: 0.0186 | test accuracy: 0.96\n",
            "Epoch:  0 | train loss: 0.0210 | test accuracy: 0.97\n",
            "Epoch:  1 | train loss: 0.0126 | test accuracy: 0.97\n",
            "Epoch:  1 | train loss: 0.0081 | test accuracy: 0.97\n",
            "Epoch:  1 | train loss: 0.0136 | test accuracy: 0.97\n",
            "Epoch:  1 | train loss: 0.0090 | test accuracy: 0.96\n",
            "Epoch:  1 | train loss: 0.0091 | test accuracy: 0.98\n",
            "Model saved to /content/gdrive/My Drive/Colab Notebooks/newlogic/output/cnn-mnist-relog-minmaxout_4_2-sigmoid-out-strictening_0.001.pkl\n",
            "CPU times: user 40.9 s, sys: 4.95 s, total: 45.9 s\n",
            "Wall time: 46.1 s\n"
          ],
          "name": "stdout"
        }
      ]
    },
    {
      "cell_type": "markdown",
      "metadata": {
        "id": "NZMXxXdVlb-u",
        "colab_type": "text"
      },
      "source": [
        "**Unused snipets**"
      ]
    },
    {
      "cell_type": "code",
      "metadata": {
        "id": "i_Nu5W0elb-w",
        "colab_type": "code",
        "colab": {}
      },
      "source": [
        "# # following function (plot_with_labels) is for visualization, can be ignored if not interested\n",
        "# from matplotlib import cm\n",
        "# try: from sklearn.manifold import TSNE; HAS_SK = True\n",
        "# except: HAS_SK = False; print('Please install sklearn for layer visualization')\n",
        "# def plot_with_labels(lowDWeights, labels):\n",
        "#     plt.cla()\n",
        "#     X, Y = lowDWeights[:, 0], lowDWeights[:, 1]\n",
        "#     for x, y, s in zip(X, Y, labels):\n",
        "#         c = cm.rainbow(int(255 * s / 9)); plt.text(x, y, s, backgroundcolor=c, fontsize=9)\n",
        "#     plt.xlim(X.min(), X.max()); plt.ylim(Y.min(), Y.max()); plt.title('Visualize last layer'); plt.show(); plt.pause(0.01)\n",
        "\n",
        "# plt.ion()\n",
        "\n",
        "# ...\n",
        "#             if HAS_SK:\n",
        "#                 # Visualization of trained flatten layer (T-SNE)\n",
        "#                 tsne = TSNE(perplexity=30, n_components=2, init='pca', n_iter=5000)\n",
        "#                 plot_only = 500\n",
        "#                 low_dim_embs = tsne.fit_transform(last_layer.data.numpy()[:plot_only, :])\n",
        "#                 labels = test_y.numpy()[:plot_only]\n",
        "#                 plot_with_labels(low_dim_embs, labels)\n",
        "# plt.ioff()"
      ],
      "execution_count": 0,
      "outputs": []
    },
    {
      "cell_type": "code",
      "metadata": {
        "id": "ZpejNB0Flb-9",
        "colab_type": "code",
        "colab": {}
      },
      "source": [
        "# # print 10 predictions from test data\n",
        "# test_output, _ = cnn(test_x[:10])\n",
        "# pred_y = torch.max(test_output, 1)[1].data.numpy()\n",
        "# print(pred_y, 'prediction number')\n",
        "# print(test_y[:10].numpy(), 'real number')"
      ],
      "execution_count": 0,
      "outputs": []
    },
    {
      "cell_type": "code",
      "metadata": {
        "id": "_mxPCjXClb_K",
        "colab_type": "code",
        "colab": {}
      },
      "source": [
        ""
      ],
      "execution_count": 0,
      "outputs": []
    }
  ]
}