{
 "cells": [
  {
   "cell_type": "code",
   "execution_count": 1,
   "metadata": {},
   "outputs": [],
   "source": [
    "import os"
   ]
  },
  {
   "cell_type": "code",
   "execution_count": 2,
   "metadata": {},
   "outputs": [],
   "source": [
    "# third-party library\n",
    "import torch\n",
    "import torch.nn as nn\n",
    "from torch.nn.functional import one_hot\n",
    "import torch.utils.data as Data\n",
    "import torchvision\n",
    "import matplotlib.pyplot as plt\n",
    "from models import CNN\n",
    "from utils import grouper\n",
    "from time import time"
   ]
  },
  {
   "cell_type": "code",
   "execution_count": 3,
   "metadata": {},
   "outputs": [],
   "source": [
    "# Hyper Parameters\n",
    "EPOCH = 2               # train the training data n times, to save time, we just train 1 epoch\n",
    "BATCH_SIZE = 64\n",
    "TEST_FREQ = 100\n",
    "LR = 0.001              # learning rate\n",
    "DOWNLOAD_MNIST = not(os.path.exists('./mnist/')) or not os.listdir('./mnist/')"
   ]
  },
  {
   "cell_type": "code",
   "execution_count": 4,
   "metadata": {},
   "outputs": [],
   "source": [
    "gaussian_noise = torchvision.transforms.Lambda(lambda x : (x + torch.randn_like(x)*0.3)\n",
    "                                                           .clamp(min=0, max=1))\n",
    "train_transform = torchvision.transforms.Compose([\n",
    "    torchvision.transforms.RandomResizedCrop(size=(28, 28), scale=(0.9, 1.0)),\n",
    "    torchvision.transforms.RandomRotation(degrees=10),\n",
    "    torchvision.transforms.ToTensor(),\n",
    "    gaussian_noise,\n",
    "    torchvision.transforms.RandomErasing(scale=(0.01, 0.05))\n",
    "])\n",
    "train_data = torchvision.datasets.MNIST(\n",
    "    root='./mnist/',\n",
    "    train=True,\n",
    "    transform=train_transform, \n",
    "    download=DOWNLOAD_MNIST,\n",
    ")\n",
    "test_data = torchvision.datasets.MNIST(\n",
    "    root='./mnist/', \n",
    "    train=False, \n",
    "    transform=torchvision.transforms.ToTensor()\n",
    ")"
   ]
  },
  {
   "cell_type": "code",
   "execution_count": 5,
   "metadata": {},
   "outputs": [
    {
     "name": "stderr",
     "output_type": "stream",
     "text": [
      "/Users/cumeo/anaconda3/envs/newlogic/lib/python3.6/site-packages/torchvision/datasets/mnist.py:53: UserWarning: train_data has been renamed data\n",
      "  warnings.warn(\"train_data has been renamed data\")\n",
      "/Users/cumeo/anaconda3/envs/newlogic/lib/python3.6/site-packages/torchvision/datasets/mnist.py:43: UserWarning: train_labels has been renamed targets\n",
      "  warnings.warn(\"train_labels has been renamed targets\")\n"
     ]
    },
    {
     "name": "stdout",
     "output_type": "stream",
     "text": [
      "torch.Size([60000, 28, 28])\n",
      "torch.Size([60000])\n"
     ]
    },
    {
     "data": {
      "image/png": "[encoded data removed]",
      "text/plain": [
       "<Figure size 432x288 with 1 Axes>"
      ]
     },
     "metadata": {
      "needs_background": "light"
     },
     "output_type": "display_data"
    }
   ],
   "source": [
    "# plot one example\n",
    "print(train_data.train_data.size())                 # (60000, 28, 28)\n",
    "print(train_data.train_labels.size())               # (60000)\n",
    "plt.imshow(train_data.train_data[0].numpy(), cmap='gray')\n",
    "plt.title('%i' % train_data.train_labels[0])\n",
    "plt.show()"
   ]
  },
  {
   "cell_type": "code",
   "execution_count": 6,
   "metadata": {},
   "outputs": [],
   "source": [
    "def train(name, timeout_sec=120, strictening=None, **kwargs):\n",
    "    use_sigmoid_out = kwargs.get('use_sigmoid_out', False)\n",
    "    torch.manual_seed(3582)    # reproducible    \n",
    "    # Data Loader for easy mini-batch return in training, the image batch shape will be (BS, 1, 28, 28)\n",
    "    train_loader = Data.DataLoader(dataset=train_data, batch_size=BATCH_SIZE, shuffle=True)\n",
    "    test_loader = Data.DataLoader(dataset=test_data, batch_size=2000, shuffle=True)    \n",
    "    cnn = CNN(**kwargs)\n",
    "    print(cnn)  # net architecture\n",
    "    optimizer = torch.optim.Adam(cnn.parameters(), amsgrad=True, lr=LR)   # okwargsize all cnn parameters\n",
    "    loss_func = nn.MSELoss() if use_sigmoid_out else nn.CrossEntropyLoss()\n",
    "    train_loop_with_timeout(cnn, train_loader, test_loader, optimizer, \n",
    "                            loss_func, use_sigmoid_out, strictening, timeout_sec)\n",
    "    out_path = 'output/%s.pkl' % name\n",
    "    torch.save(cnn, out_path)\n",
    "    print('Model saved to %s' % out_path)\n",
    "    return cnn\n",
    "    \n",
    "def train_loop_with_timeout(cnn, train_loader, test_loader, optimizer, \n",
    "                            loss_func, use_sigmoid_out, strictening, timeout_sec):\n",
    "    started_sec = time()\n",
    "    for epoch in range(EPOCH):\n",
    "        batch_groups = grouper(train_loader, TEST_FREQ)\n",
    "        for batch_group, (test_x, test_y) in zip(batch_groups, test_loader): \n",
    "            for train_x, train_y in batch_group:\n",
    "                output, _ = cnn(train_x)\n",
    "                if use_sigmoid_out:\n",
    "                    train_y = one_hot(train_y, num_classes=10).float()\n",
    "                    loss = loss_func(output, train_y)\n",
    "                else:\n",
    "                    loss = loss_func(output, train_y)\n",
    "                if strictening is not None and strictening > 0:\n",
    "                    modules = [cnn.conv1[0], cnn.conv2[0], cnn.out[0]]\n",
    "                    weight_reg = sum(m.weight.abs().mean() for m in modules)\n",
    "                    bias_reg = sum(m.bias.mean() for m in modules) # notice: no abs()\n",
    "                    loss += strictening * (weight_reg + bias_reg)\n",
    "                optimizer.zero_grad()           # clear gradients for this training step\n",
    "                loss.backward()                 # backpropagation, compute gradients\n",
    "                optimizer.step()                # apply gradients\n",
    "\n",
    "            test_output, _ = cnn(test_x)\n",
    "            pred_y = torch.max(test_output, 1)[1].data.numpy()\n",
    "            accuracy = float((pred_y == test_y.data.numpy()).astype(int).sum()) / float(test_y.size(0))\n",
    "            print('Epoch: ', epoch, '| train loss: %.4f' % loss.data.numpy(), '| test accuracy: %.2f' % accuracy)\n",
    "            \n",
    "            elapsed_sec = time() - started_sec\n",
    "            if elapsed_sec > timeout_sec:\n",
    "                print('Timeout (%.2f sec), training is terminated' % elapsed_sec)\n",
    "                return"
   ]
  },
  {
   "cell_type": "code",
   "execution_count": 7,
   "metadata": {},
   "outputs": [
    {
     "name": "stdout",
     "output_type": "stream",
     "text": [
      "CNN(\n",
      "  (conv1): Sequential(\n",
      "    (0): Conv2d(1, 16, kernel_size=(5, 5), stride=(1, 1), padding=(2, 2))\n",
      "    (1): ReLU()\n",
      "    (2): MaxPool2d(kernel_size=2, stride=2, padding=0, dilation=1, ceil_mode=False)\n",
      "  )\n",
      "  (conv2): Sequential(\n",
      "    (0): Conv2d(16, 32, kernel_size=(5, 5), stride=(1, 1), padding=(2, 2))\n",
      "    (1): ReLU()\n",
      "    (2): MaxPool2d(kernel_size=2, stride=2, padding=0, dilation=1, ceil_mode=False)\n",
      "  )\n",
      "  (out): Sequential(\n",
      "    (0): Linear(in_features=1568, out_features=10, bias=True)\n",
      "  )\n",
      ")\n",
      "Epoch:  0 | train loss: 0.6561 | test accuracy: 0.90\n",
      "Epoch:  0 | train loss: 0.3835 | test accuracy: 0.93\n",
      "Epoch:  0 | train loss: 0.1844 | test accuracy: 0.96\n",
      "Epoch:  0 | train loss: 0.1075 | test accuracy: 0.96\n",
      "Epoch:  0 | train loss: 0.1885 | test accuracy: 0.97\n",
      "Epoch:  1 | train loss: 0.2757 | test accuracy: 0.97\n",
      "Epoch:  1 | train loss: 0.2248 | test accuracy: 0.97\n",
      "Epoch:  1 | train loss: 0.1498 | test accuracy: 0.98\n",
      "Epoch:  1 | train loss: 0.1781 | test accuracy: 0.98\n",
      "Epoch:  1 | train loss: 0.1874 | test accuracy: 0.98\n",
      "Model saved to output/cnn-mnist-relu.pkl\n",
      "CPU times: user 2min 28s, sys: 8.85 s, total: 2min 36s\n",
      "Wall time: 1min 51s\n"
     ]
    }
   ],
   "source": [
    "%%time\n",
    "_ = train('cnn-mnist-relu', use_relog=False, use_maxout=False,\n",
    "          conv1_out_channels=16, conv2_out_channels=32)"
   ]
  },
  {
   "cell_type": "code",
   "execution_count": 16,
   "metadata": {},
   "outputs": [
    {
     "name": "stdout",
     "output_type": "stream",
     "text": [
      "CNN(\n",
      "  (conv1): Sequential(\n",
      "    (0): Conv2d(1, 16, kernel_size=(5, 5), stride=(1, 1), padding=(2, 2))\n",
      "    (1): ReLU()\n",
      "    (2): MaxPool2d(kernel_size=2, stride=2, padding=0, dilation=1, ceil_mode=False)\n",
      "  )\n",
      "  (conv2): Sequential(\n",
      "    (0): Conv2d(16, 32, kernel_size=(5, 5), stride=(1, 1), padding=(2, 2))\n",
      "    (1): ReLU()\n",
      "    (2): MaxPool2d(kernel_size=2, stride=2, padding=0, dilation=1, ceil_mode=False)\n",
      "  )\n",
      "  (out): Sequential(\n",
      "    (0): Linear(in_features=1568, out_features=10, bias=True)\n",
      "  )\n",
      ")\n",
      "Epoch:  0 | train loss: 0.3527 | test accuracy: 0.92\n",
      "Epoch:  0 | train loss: -0.1152 | test accuracy: 0.94\n",
      "Epoch:  0 | train loss: -0.6351 | test accuracy: 0.97\n",
      "Epoch:  0 | train loss: -0.8585 | test accuracy: 0.96\n",
      "Epoch:  0 | train loss: -1.1358 | test accuracy: 0.97\n",
      "Epoch:  1 | train loss: -1.2598 | test accuracy: 0.97\n",
      "Epoch:  1 | train loss: -1.7414 | test accuracy: 0.98\n",
      "Epoch:  1 | train loss: -1.9860 | test accuracy: 0.97\n",
      "Epoch:  1 | train loss: -2.2139 | test accuracy: 0.98\n",
      "Epoch:  1 | train loss: -2.6027 | test accuracy: 0.98\n",
      "Model saved to output/cnn-mnist-relu-strictening_0.01.pkl\n",
      "CPU times: user 2min 36s, sys: 8.83 s, total: 2min 45s\n",
      "Wall time: 1min 41s\n"
     ]
    }
   ],
   "source": [
    "%%time\n",
    "_ = train('cnn-mnist-relu-strictening_0.01', use_relog=False, use_maxout=False,\n",
    "          conv1_out_channels=16, conv2_out_channels=32, strictening=0.01)"
   ]
  },
  {
   "cell_type": "code",
   "execution_count": 17,
   "metadata": {},
   "outputs": [
    {
     "name": "stdout",
     "output_type": "stream",
     "text": [
      "CNN(\n",
      "  (conv1): Sequential(\n",
      "    (0): Conv2d(1, 16, kernel_size=(5, 5), stride=(1, 1), padding=(2, 2))\n",
      "    (1): ReLU()\n",
      "    (2): MaxPool2d(kernel_size=2, stride=2, padding=0, dilation=1, ceil_mode=False)\n",
      "  )\n",
      "  (conv2): Sequential(\n",
      "    (0): Conv2d(16, 32, kernel_size=(5, 5), stride=(1, 1), padding=(2, 2))\n",
      "    (1): ReLU()\n",
      "    (2): MaxPool2d(kernel_size=2, stride=2, padding=0, dilation=1, ceil_mode=False)\n",
      "  )\n",
      "  (out): Sequential(\n",
      "    (0): Linear(in_features=1568, out_features=10, bias=True)\n",
      "  )\n",
      ")\n",
      "Epoch:  0 | train loss: 0.2523 | test accuracy: 0.92\n",
      "Epoch:  0 | train loss: -0.1632 | test accuracy: 0.95\n",
      "Epoch:  0 | train loss: -0.6006 | test accuracy: 0.96\n",
      "Epoch:  0 | train loss: -0.8396 | test accuracy: 0.96\n",
      "Epoch:  0 | train loss: -1.1419 | test accuracy: 0.96\n",
      "Epoch:  1 | train loss: -1.3535 | test accuracy: 0.97\n",
      "Epoch:  1 | train loss: -1.7100 | test accuracy: 0.97\n",
      "Epoch:  1 | train loss: -1.9951 | test accuracy: 0.97\n",
      "Epoch:  1 | train loss: -2.2644 | test accuracy: 0.97\n",
      "Epoch:  1 | train loss: -2.5808 | test accuracy: 0.98\n",
      "Model saved to output/cnn-mnist-relu-strictening_0.1.pkl\n",
      "CPU times: user 2min 33s, sys: 9.2 s, total: 2min 42s\n",
      "Wall time: 1min 41s\n"
     ]
    }
   ],
   "source": [
    "%%time\n",
    "_ = train('cnn-mnist-relu-strictening_0.1', use_relog=False, use_maxout=False,\n",
    "          conv1_out_channels=16, conv2_out_channels=32, strictening=0.1)"
   ]
  },
  {
   "cell_type": "code",
   "execution_count": 20,
   "metadata": {},
   "outputs": [
    {
     "name": "stdout",
     "output_type": "stream",
     "text": [
      "CNN(\n",
      "  (conv1): Sequential(\n",
      "    (0): Conv2d(1, 16, kernel_size=(5, 5), stride=(1, 1), padding=(2, 2))\n",
      "    (1): ReLU()\n",
      "    (2): MaxPool2d(kernel_size=2, stride=2, padding=0, dilation=1, ceil_mode=False)\n",
      "  )\n",
      "  (conv2): Sequential(\n",
      "    (0): Conv2d(16, 32, kernel_size=(5, 5), stride=(1, 1), padding=(2, 2))\n",
      "    (1): ReLU()\n",
      "    (2): MaxPool2d(kernel_size=2, stride=2, padding=0, dilation=1, ceil_mode=False)\n",
      "  )\n",
      "  (out): Sequential(\n",
      "    (0): Linear(in_features=1568, out_features=10, bias=True)\n",
      "  )\n",
      ")\n",
      "Epoch:  0 | train loss: -0.5855 | test accuracy: 0.91\n",
      "Epoch:  0 | train loss: -2.3500 | test accuracy: 0.93\n",
      "Epoch:  0 | train loss: -3.9929 | test accuracy: 0.95\n",
      "Epoch:  0 | train loss: -5.4988 | test accuracy: 0.95\n",
      "Epoch:  0 | train loss: -7.0087 | test accuracy: 0.96\n",
      "Epoch:  1 | train loss: -8.4874 | test accuracy: 0.96\n",
      "Epoch:  1 | train loss: -10.0799 | test accuracy: 0.97\n",
      "Epoch:  1 | train loss: -11.5099 | test accuracy: 0.95\n",
      "Epoch:  1 | train loss: -13.0681 | test accuracy: 0.97\n",
      "Epoch:  1 | train loss: -14.6516 | test accuracy: 0.98\n",
      "Model saved to output/cnn-mnist-relu-strictening_5.pkl\n",
      "CPU times: user 2min 33s, sys: 6.6 s, total: 2min 40s\n",
      "Wall time: 1min 23s\n"
     ]
    }
   ],
   "source": [
    "%%time\n",
    "_ = train('cnn-mnist-relu-strictening_5', use_relog=False, use_maxout=False,\n",
    "          conv1_out_channels=16, conv2_out_channels=32, strictening=5)"
   ]
  },
  {
   "cell_type": "code",
   "execution_count": 7,
   "metadata": {},
   "outputs": [
    {
     "name": "stdout",
     "output_type": "stream",
     "text": [
      "CNN(\n",
      "  (conv1): Sequential(\n",
      "    (0): Conv2d(1, 16, kernel_size=(5, 5), stride=(1, 1), padding=(2, 2))\n",
      "    (1): ReLog()\n",
      "    (2): MaxPool2d(kernel_size=2, stride=2, padding=0, dilation=1, ceil_mode=False)\n",
      "  )\n",
      "  (conv2): Sequential(\n",
      "    (0): Conv2d(16, 32, kernel_size=(5, 5), stride=(1, 1), padding=(2, 2))\n",
      "    (1): ReLog()\n",
      "    (2): MaxPool2d(kernel_size=2, stride=2, padding=0, dilation=1, ceil_mode=False)\n",
      "  )\n",
      "  (out): Sequential(\n",
      "    (0): Linear(in_features=1568, out_features=10, bias=True)\n",
      "  )\n",
      ")\n",
      "Epoch:  0 | train loss: 0.8526 | test accuracy: 0.86\n",
      "Epoch:  0 | train loss: 0.5189 | test accuracy: 0.90\n",
      "Epoch:  0 | train loss: 0.4425 | test accuracy: 0.92\n",
      "Epoch:  0 | train loss: 0.3145 | test accuracy: 0.94\n",
      "Epoch:  0 | train loss: 0.3025 | test accuracy: 0.95\n",
      "Epoch:  1 | train loss: 0.3456 | test accuracy: 0.95\n",
      "Epoch:  1 | train loss: 0.2387 | test accuracy: 0.95\n",
      "Epoch:  1 | train loss: 0.2593 | test accuracy: 0.96\n",
      "Epoch:  1 | train loss: 0.2044 | test accuracy: 0.97\n",
      "Timeout (133.03 sec), training is terminated\n",
      "Model saved to output/cnn-mnist-relog.pkl\n",
      "CPU times: user 2min 17s, sys: 14.4 s, total: 2min 32s\n",
      "Wall time: 2min 13s\n"
     ]
    }
   ],
   "source": [
    "%%time\n",
    "_ = train('cnn-mnist-relog', use_relog=True, use_maxout=False,\n",
    "          conv1_out_channels=16, conv2_out_channels=32)"
   ]
  },
  {
   "cell_type": "code",
   "execution_count": 8,
   "metadata": {},
   "outputs": [
    {
     "name": "stdout",
     "output_type": "stream",
     "text": [
      "CNN(\n",
      "  (conv1): Sequential(\n",
      "    (0): Conv2d(1, 64, kernel_size=(5, 5), stride=(1, 1), padding=(2, 2))\n",
      "    (1): ReLog()\n",
      "    (2): MaxPool2d(kernel_size=2, stride=2, padding=0, dilation=1, ceil_mode=False)\n",
      "  )\n",
      "  (conv2): Sequential(\n",
      "    (0): Conv2d(64, 128, kernel_size=(5, 5), stride=(1, 1), padding=(2, 2))\n",
      "    (1): ReLog()\n",
      "    (2): MaxPool2d(kernel_size=2, stride=2, padding=0, dilation=1, ceil_mode=False)\n",
      "  )\n",
      "  (out): Sequential(\n",
      "    (0): Linear(in_features=6272, out_features=10, bias=True)\n",
      "  )\n",
      ")\n",
      "Epoch:  0 | train loss: 0.9368 | test accuracy: 0.76\n",
      "Epoch:  0 | train loss: 0.8526 | test accuracy: 0.86\n",
      "Timeout (155.40 sec), training is terminated\n",
      "Model saved to output/cnn-mnist-relog-more-neurons.pkl\n",
      "CPU times: user 2min 18s, sys: 13.4 s, total: 2min 32s\n",
      "Wall time: 2min 35s\n"
     ]
    }
   ],
   "source": [
    "%%time\n",
    "_ = train('cnn-mnist-relog-more-neurons', use_relog=True, use_maxout=False,\n",
    "          conv1_out_channels=64, conv2_out_channels=128)"
   ]
  },
  {
   "cell_type": "code",
   "execution_count": 9,
   "metadata": {},
   "outputs": [
    {
     "name": "stdout",
     "output_type": "stream",
     "text": [
      "CNN(\n",
      "  (conv1): Sequential(\n",
      "    (0): Conv2d(1, 64, kernel_size=(5, 5), stride=(1, 1), padding=(2, 2))\n",
      "    (1): FoldingMaxout(use_min=False, k=4)\n",
      "    (2): ReLog()\n",
      "    (3): MaxPool2d(kernel_size=2, stride=2, padding=0, dilation=1, ceil_mode=False)\n",
      "  )\n",
      "  (conv2): Sequential(\n",
      "    (0): Conv2d(16, 128, kernel_size=(5, 5), stride=(1, 1), padding=(2, 2))\n",
      "    (1): FoldingMaxout(use_min=False, k=4)\n",
      "    (2): ReLog()\n",
      "    (3): MaxPool2d(kernel_size=2, stride=2, padding=0, dilation=1, ceil_mode=False)\n",
      "  )\n",
      "  (out): Sequential(\n",
      "    (0): Linear(in_features=1568, out_features=40, bias=True)\n",
      "    (1): FoldingMaxout(use_min=False, k=4)\n",
      "  )\n",
      ")\n",
      "Epoch:  0 | train loss: 2.1063 | test accuracy: 0.44\n",
      "Epoch:  0 | train loss: 0.8377 | test accuracy: 0.83\n",
      "Timeout (130.45 sec), training is terminated\n",
      "Model saved to output/cnn-mnist-relog-maxout.pkl\n",
      "CPU times: user 2min 18s, sys: 11.7 s, total: 2min 30s\n",
      "Wall time: 2min 10s\n"
     ]
    }
   ],
   "source": [
    "%%time\n",
    "_ = train('cnn-mnist-relog-maxout', use_relog=True, use_maxout='max',\n",
    "          conv1_out_channels=16, conv2_out_channels=32, max_folding_factor=4)"
   ]
  },
  {
   "cell_type": "code",
   "execution_count": 7,
   "metadata": {},
   "outputs": [
    {
     "name": "stdout",
     "output_type": "stream",
     "text": [
      "CNN(\n",
      "  (conv1): Sequential(\n",
      "    (0): Conv2d(1, 64, kernel_size=(5, 5), stride=(1, 1), padding=(2, 2))\n",
      "    (1): FoldingMaxout(use_min=False, k=4)\n",
      "    (2): ReLog()\n",
      "    (3): MaxPool2d(kernel_size=2, stride=2, padding=0, dilation=1, ceil_mode=False)\n",
      "  )\n",
      "  (conv2): Sequential(\n",
      "    (0): Conv2d(16, 128, kernel_size=(5, 5), stride=(1, 1), padding=(2, 2))\n",
      "    (1): FoldingMaxout(use_min=False, k=4)\n",
      "    (2): ReLog()\n",
      "    (3): MaxPool2d(kernel_size=2, stride=2, padding=0, dilation=1, ceil_mode=False)\n",
      "  )\n",
      "  (out): Sequential(\n",
      "    (0): Linear(in_features=1568, out_features=40, bias=True)\n",
      "    (1): FoldingMaxout(use_min=False, k=4)\n",
      "    (2): Sigmoid()\n",
      "  )\n",
      ")\n",
      "Epoch:  0 | train loss: 0.0759 | test accuracy: 0.57\n",
      "Epoch:  0 | train loss: 0.0339 | test accuracy: 0.87\n",
      "Epoch:  0 | train loss: 0.0266 | test accuracy: 0.91\n",
      "Epoch:  0 | train loss: 0.0200 | test accuracy: 0.95\n",
      "Epoch:  0 | train loss: 0.0145 | test accuracy: 0.94\n",
      "Epoch:  1 | train loss: 0.0114 | test accuracy: 0.95\n",
      "Epoch:  1 | train loss: 0.0151 | test accuracy: 0.95\n",
      "Epoch:  1 | train loss: 0.0075 | test accuracy: 0.97\n",
      "Epoch:  1 | train loss: 0.0133 | test accuracy: 0.97\n",
      "Epoch:  1 | train loss: 0.0088 | test accuracy: 0.97\n",
      "Model saved to output/cnn-mnist-relog-maxout-sigmoid-out.pkl\n"
     ]
    }
   ],
   "source": [
    "%%time\n",
    "_ = train('cnn-mnist-relog-maxout-sigmoid-out', use_relog=True, \n",
    "          conv1_out_channels=16, conv2_out_channels=32, \n",
    "          use_maxout='max', max_folding_factor=4, use_sigmoid_out=True,\n",
    "          timeout_sec=900)"
   ]
  },
  {
   "cell_type": "code",
   "execution_count": 8,
   "metadata": {},
   "outputs": [
    {
     "name": "stdout",
     "output_type": "stream",
     "text": [
      "CNN(\n",
      "  (conv1): Sequential(\n",
      "    (0): Conv2d(1, 128, kernel_size=(5, 5), stride=(1, 1), padding=(2, 2))\n",
      "    (1): FoldingMaxout(use_min=True, k=2)\n",
      "    (2): FoldingMaxout(use_min=False, k=4)\n",
      "    (3): ReLog()\n",
      "    (4): MaxPool2d(kernel_size=2, stride=2, padding=0, dilation=1, ceil_mode=False)\n",
      "  )\n",
      "  (conv2): Sequential(\n",
      "    (0): Conv2d(16, 256, kernel_size=(5, 5), stride=(1, 1), padding=(2, 2))\n",
      "    (1): FoldingMaxout(use_min=True, k=2)\n",
      "    (2): FoldingMaxout(use_min=False, k=4)\n",
      "    (3): ReLog()\n",
      "    (4): MaxPool2d(kernel_size=2, stride=2, padding=0, dilation=1, ceil_mode=False)\n",
      "  )\n",
      "  (out): Sequential(\n",
      "    (0): Linear(in_features=1568, out_features=80, bias=True)\n",
      "    (1): FoldingMaxout(use_min=True, k=2)\n",
      "    (2): FoldingMaxout(use_min=False, k=4)\n",
      "    (3): Sigmoid()\n",
      "  )\n",
      ")\n",
      "Epoch:  0 | train loss: 0.0542 | test accuracy: 0.71\n",
      "Epoch:  0 | train loss: 0.0281 | test accuracy: 0.88\n",
      "Epoch:  0 | train loss: 0.0223 | test accuracy: 0.92\n",
      "Epoch:  0 | train loss: 0.0172 | test accuracy: 0.95\n",
      "Epoch:  0 | train loss: 0.0222 | test accuracy: 0.96\n",
      "Epoch:  1 | train loss: 0.0113 | test accuracy: 0.97\n",
      "Epoch:  1 | train loss: 0.0142 | test accuracy: 0.96\n",
      "Epoch:  1 | train loss: 0.0142 | test accuracy: 0.97\n",
      "Epoch:  1 | train loss: 0.0080 | test accuracy: 0.97\n",
      "Epoch:  1 | train loss: 0.0067 | test accuracy: 0.98\n",
      "Timeout (1827.06 sec), training is terminated\n",
      "Model saved to output/cnn-mnist-relog-minmaxout-sigmoid-out.pkl\n"
     ]
    }
   ],
   "source": [
    "%%time\n",
    "_ = train('cnn-mnist-relog-minmaxout_4_2-sigmoid-out', use_relog=True, \n",
    "          conv1_out_channels=16, conv2_out_channels=32, \n",
    "          use_maxout='minmax', min_folding_factor=4, max_folding_factor=2, \n",
    "          use_sigmoid_out=True, timeout_sec=1200)"
   ]
  },
  {
   "cell_type": "code",
   "execution_count": 8,
   "metadata": {},
   "outputs": [
    {
     "name": "stdout",
     "output_type": "stream",
     "text": [
      "CNN(\n",
      "  (conv1): Sequential(\n",
      "    (0): Conv2d(1, 128, kernel_size=(5, 5), stride=(1, 1), padding=(2, 2))\n",
      "    (1): FoldingMaxout(use_min=True, k=4)\n",
      "    (2): FoldingMaxout(use_min=False, k=2)\n",
      "    (3): ReLog()\n",
      "    (4): MaxPool2d(kernel_size=2, stride=2, padding=0, dilation=1, ceil_mode=False)\n",
      "  )\n",
      "  (conv2): Sequential(\n",
      "    (0): Conv2d(16, 256, kernel_size=(5, 5), stride=(1, 1), padding=(2, 2))\n",
      "    (1): FoldingMaxout(use_min=True, k=4)\n",
      "    (2): FoldingMaxout(use_min=False, k=2)\n",
      "    (3): ReLog()\n",
      "    (4): MaxPool2d(kernel_size=2, stride=2, padding=0, dilation=1, ceil_mode=False)\n",
      "  )\n",
      "  (out): Sequential(\n",
      "    (0): Linear(in_features=1568, out_features=80, bias=True)\n",
      "    (1): FoldingMaxout(use_min=True, k=4)\n",
      "    (2): FoldingMaxout(use_min=False, k=2)\n",
      "    (3): Sigmoid()\n",
      "  )\n",
      ")\n",
      "Epoch:  0 | train loss: -0.1290 | test accuracy: 0.37\n",
      "Epoch:  0 | train loss: -0.4764 | test accuracy: 0.61\n",
      "Epoch:  0 | train loss: -0.7870 | test accuracy: 0.73\n",
      "Epoch:  0 | train loss: -1.0865 | test accuracy: 0.79\n",
      "Epoch:  0 | train loss: -1.3854 | test accuracy: 0.81\n",
      "Epoch:  1 | train loss: -1.7028 | test accuracy: 0.86\n",
      "Epoch:  1 | train loss: -1.9908 | test accuracy: 0.87\n",
      "Epoch:  1 | train loss: -2.2892 | test accuracy: 0.86\n",
      "Timeout (1373.24 sec), training is terminated\n",
      "Model saved to output/cnn-mnist-relog-minmaxout_4_2-sigmoid-out-strictening_1.pkl\n",
      "CPU times: user 21min 21s, sys: 1min 35s, total: 22min 56s\n",
      "Wall time: 22min 53s\n"
     ]
    }
   ],
   "source": [
    "%%time\n",
    "_ = train('cnn-mnist-relog-minmaxout_4_2-sigmoid-out-strictening_1', use_relog=True, \n",
    "          conv1_out_channels=16, conv2_out_channels=32, \n",
    "          use_maxout='minmax', min_folding_factor=4, max_folding_factor=2,\n",
    "          use_sigmoid_out=True, strictening=1, timeout_sec=1200)"
   ]
  },
  {
   "cell_type": "markdown",
   "metadata": {},
   "source": [
    "**Unused snipets**"
   ]
  },
  {
   "cell_type": "code",
   "execution_count": 12,
   "metadata": {},
   "outputs": [],
   "source": [
    "# # following function (plot_with_labels) is for visualization, can be ignored if not interested\n",
    "# from matplotlib import cm\n",
    "# try: from sklearn.manifold import TSNE; HAS_SK = True\n",
    "# except: HAS_SK = False; print('Please install sklearn for layer visualization')\n",
    "# def plot_with_labels(lowDWeights, labels):\n",
    "#     plt.cla()\n",
    "#     X, Y = lowDWeights[:, 0], lowDWeights[:, 1]\n",
    "#     for x, y, s in zip(X, Y, labels):\n",
    "#         c = cm.rainbow(int(255 * s / 9)); plt.text(x, y, s, backgroundcolor=c, fontsize=9)\n",
    "#     plt.xlim(X.min(), X.max()); plt.ylim(Y.min(), Y.max()); plt.title('Visualize last layer'); plt.show(); plt.pause(0.01)\n",
    "\n",
    "# plt.ion()\n",
    "\n",
    "# ...\n",
    "#             if HAS_SK:\n",
    "#                 # Visualization of trained flatten layer (T-SNE)\n",
    "#                 tsne = TSNE(perplexity=30, n_components=2, init='pca', n_iter=5000)\n",
    "#                 plot_only = 500\n",
    "#                 low_dim_embs = tsne.fit_transform(last_layer.data.numpy()[:plot_only, :])\n",
    "#                 labels = test_y.numpy()[:plot_only]\n",
    "#                 plot_with_labels(low_dim_embs, labels)\n",
    "# plt.ioff()"
   ]
  },
  {
   "cell_type": "code",
   "execution_count": 13,
   "metadata": {},
   "outputs": [],
   "source": [
    "# # print 10 predictions from test data\n",
    "# test_output, _ = cnn(test_x[:10])\n",
    "# pred_y = torch.max(test_output, 1)[1].data.numpy()\n",
    "# print(pred_y, 'prediction number')\n",
    "# print(test_y[:10].numpy(), 'real number')"
   ]
  },
  {
   "cell_type": "code",
   "execution_count": null,
   "metadata": {},
   "outputs": [],
   "source": []
  }
 ],
 "metadata": {
  "kernelspec": {
   "display_name": "conda-env-newlogic-py",
   "language": "python",
   "name": "conda-env-newlogic-py"
  },
  "language_info": {
   "codemirror_mode": {
    "name": "ipython",
    "version": 3
   },
   "file_extension": ".py",
   "mimetype": "text/x-python",
   "name": "python",
   "nbconvert_exporter": "python",
   "pygments_lexer": "ipython3",
   "version": "3.6.9"
  }
 },
 "nbformat": 4,
 "nbformat_minor": 4
}
